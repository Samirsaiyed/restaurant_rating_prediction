{
 "cells": [
  {
   "cell_type": "markdown",
   "id": "b7df2a6a",
   "metadata": {},
   "source": [
    "#                     Restaurant Rating Prediction"
   ]
  },
  {
   "cell_type": "markdown",
   "id": "38e7b5d8",
   "metadata": {},
   "source": [
    "### Problem Statement : "
   ]
  },
  {
   "cell_type": "markdown",
   "id": "3274552d",
   "metadata": {},
   "source": [
    "## Column list :"
   ]
  },
  {
   "cell_type": "markdown",
   "id": "3cb46225",
   "metadata": {},
   "source": [
    "url : url of zomato website                                \n",
    "address : address of restaurant                             \n",
    "name : name of the restaurant                           \n",
    "online_order : online order avilable or not in restaurant  \n",
    "book_table : table book option                    \n",
    "rate : rating of the restaurant out of 5                  \n",
    "votes : total number of rating for the restaurant as of the above mentioned date\n",
    "phone : phone number of the restaurant                       \n",
    "location : where restaurant located                 \n",
    "rest_type : restaurant type                         \n",
    "dish_type : people liked dish in restaurant       \n",
    "cuisines : food styles                              \n",
    "approx_item(for two people) : approximate cost for meal for two people                                 \n",
    "review_list : list of reviews for the restaurant      \n",
    "menu_item : menus available in the restaurant         \n",
    "list_in(type) : type of meal                          \n",
    "list_in(city) : the neighborhood in which the restaurant is listed"
   ]
  },
  {
   "cell_type": "markdown",
   "id": "8c0c4fe6",
   "metadata": {},
   "source": [
    "## Importing Section"
   ]
  },
  {
   "cell_type": "code",
   "execution_count": 1,
   "id": "0a4db09b",
   "metadata": {},
   "outputs": [],
   "source": [
    "\n",
    "import pandas as pd\n",
    "import numpy as np\n",
    "import matplotlib.pyplot as plt\n",
    "import seaborn as sns\n",
    "%matplotlib inline\n",
    "\n",
    "sns.set()"
   ]
  },
  {
   "cell_type": "markdown",
   "id": "0d1f4d86",
   "metadata": {},
   "source": [
    "### Loading Dataset"
   ]
  },
  {
   "cell_type": "code",
   "execution_count": 2,
   "id": "cf08d39a",
   "metadata": {},
   "outputs": [
    {
     "data": {
      "text/html": [
       "<div>\n",
       "<style scoped>\n",
       "    .dataframe tbody tr th:only-of-type {\n",
       "        vertical-align: middle;\n",
       "    }\n",
       "\n",
       "    .dataframe tbody tr th {\n",
       "        vertical-align: top;\n",
       "    }\n",
       "\n",
       "    .dataframe thead th {\n",
       "        text-align: right;\n",
       "    }\n",
       "</style>\n",
       "<table border=\"1\" class=\"dataframe\">\n",
       "  <thead>\n",
       "    <tr style=\"text-align: right;\">\n",
       "      <th></th>\n",
       "      <th>url</th>\n",
       "      <th>address</th>\n",
       "      <th>name</th>\n",
       "      <th>online_order</th>\n",
       "      <th>book_table</th>\n",
       "      <th>rate</th>\n",
       "      <th>votes</th>\n",
       "      <th>phone</th>\n",
       "      <th>location</th>\n",
       "      <th>rest_type</th>\n",
       "      <th>dish_liked</th>\n",
       "      <th>cuisines</th>\n",
       "      <th>approx_cost(for two people)</th>\n",
       "      <th>reviews_list</th>\n",
       "      <th>menu_item</th>\n",
       "      <th>listed_in(type)</th>\n",
       "      <th>listed_in(city)</th>\n",
       "    </tr>\n",
       "  </thead>\n",
       "  <tbody>\n",
       "    <tr>\n",
       "      <th>0</th>\n",
       "      <td>https://www.zomato.com/bangalore/jalsa-banasha...</td>\n",
       "      <td>942, 21st Main Road, 2nd Stage, Banashankari, ...</td>\n",
       "      <td>Jalsa</td>\n",
       "      <td>Yes</td>\n",
       "      <td>Yes</td>\n",
       "      <td>4.1/5</td>\n",
       "      <td>775</td>\n",
       "      <td>080 42297555\\r\\n+91 9743772233</td>\n",
       "      <td>Banashankari</td>\n",
       "      <td>Casual Dining</td>\n",
       "      <td>Pasta, Lunch Buffet, Masala Papad, Paneer Laja...</td>\n",
       "      <td>North Indian, Mughlai, Chinese</td>\n",
       "      <td>800</td>\n",
       "      <td>[('Rated 4.0', 'RATED\\n  A beautiful place to ...</td>\n",
       "      <td>[]</td>\n",
       "      <td>Buffet</td>\n",
       "      <td>Banashankari</td>\n",
       "    </tr>\n",
       "    <tr>\n",
       "      <th>1</th>\n",
       "      <td>https://www.zomato.com/bangalore/spice-elephan...</td>\n",
       "      <td>2nd Floor, 80 Feet Road, Near Big Bazaar, 6th ...</td>\n",
       "      <td>Spice Elephant</td>\n",
       "      <td>Yes</td>\n",
       "      <td>No</td>\n",
       "      <td>4.1/5</td>\n",
       "      <td>787</td>\n",
       "      <td>080 41714161</td>\n",
       "      <td>Banashankari</td>\n",
       "      <td>Casual Dining</td>\n",
       "      <td>Momos, Lunch Buffet, Chocolate Nirvana, Thai G...</td>\n",
       "      <td>Chinese, North Indian, Thai</td>\n",
       "      <td>800</td>\n",
       "      <td>[('Rated 4.0', 'RATED\\n  Had been here for din...</td>\n",
       "      <td>[]</td>\n",
       "      <td>Buffet</td>\n",
       "      <td>Banashankari</td>\n",
       "    </tr>\n",
       "    <tr>\n",
       "      <th>2</th>\n",
       "      <td>https://www.zomato.com/SanchurroBangalore?cont...</td>\n",
       "      <td>1112, Next to KIMS Medical College, 17th Cross...</td>\n",
       "      <td>San Churro Cafe</td>\n",
       "      <td>Yes</td>\n",
       "      <td>No</td>\n",
       "      <td>3.8/5</td>\n",
       "      <td>918</td>\n",
       "      <td>+91 9663487993</td>\n",
       "      <td>Banashankari</td>\n",
       "      <td>Cafe, Casual Dining</td>\n",
       "      <td>Churros, Cannelloni, Minestrone Soup, Hot Choc...</td>\n",
       "      <td>Cafe, Mexican, Italian</td>\n",
       "      <td>800</td>\n",
       "      <td>[('Rated 3.0', \"RATED\\n  Ambience is not that ...</td>\n",
       "      <td>[]</td>\n",
       "      <td>Buffet</td>\n",
       "      <td>Banashankari</td>\n",
       "    </tr>\n",
       "    <tr>\n",
       "      <th>3</th>\n",
       "      <td>https://www.zomato.com/bangalore/addhuri-udupi...</td>\n",
       "      <td>1st Floor, Annakuteera, 3rd Stage, Banashankar...</td>\n",
       "      <td>Addhuri Udupi Bhojana</td>\n",
       "      <td>No</td>\n",
       "      <td>No</td>\n",
       "      <td>3.7/5</td>\n",
       "      <td>88</td>\n",
       "      <td>+91 9620009302</td>\n",
       "      <td>Banashankari</td>\n",
       "      <td>Quick Bites</td>\n",
       "      <td>Masala Dosa</td>\n",
       "      <td>South Indian, North Indian</td>\n",
       "      <td>300</td>\n",
       "      <td>[('Rated 4.0', \"RATED\\n  Great food and proper...</td>\n",
       "      <td>[]</td>\n",
       "      <td>Buffet</td>\n",
       "      <td>Banashankari</td>\n",
       "    </tr>\n",
       "    <tr>\n",
       "      <th>4</th>\n",
       "      <td>https://www.zomato.com/bangalore/grand-village...</td>\n",
       "      <td>10, 3rd Floor, Lakshmi Associates, Gandhi Baza...</td>\n",
       "      <td>Grand Village</td>\n",
       "      <td>No</td>\n",
       "      <td>No</td>\n",
       "      <td>3.8/5</td>\n",
       "      <td>166</td>\n",
       "      <td>+91 8026612447\\r\\n+91 9901210005</td>\n",
       "      <td>Basavanagudi</td>\n",
       "      <td>Casual Dining</td>\n",
       "      <td>Panipuri, Gol Gappe</td>\n",
       "      <td>North Indian, Rajasthani</td>\n",
       "      <td>600</td>\n",
       "      <td>[('Rated 4.0', 'RATED\\n  Very good restaurant ...</td>\n",
       "      <td>[]</td>\n",
       "      <td>Buffet</td>\n",
       "      <td>Banashankari</td>\n",
       "    </tr>\n",
       "  </tbody>\n",
       "</table>\n",
       "</div>"
      ],
      "text/plain": [
       "                                                 url  \\\n",
       "0  https://www.zomato.com/bangalore/jalsa-banasha...   \n",
       "1  https://www.zomato.com/bangalore/spice-elephan...   \n",
       "2  https://www.zomato.com/SanchurroBangalore?cont...   \n",
       "3  https://www.zomato.com/bangalore/addhuri-udupi...   \n",
       "4  https://www.zomato.com/bangalore/grand-village...   \n",
       "\n",
       "                                             address                   name  \\\n",
       "0  942, 21st Main Road, 2nd Stage, Banashankari, ...                  Jalsa   \n",
       "1  2nd Floor, 80 Feet Road, Near Big Bazaar, 6th ...         Spice Elephant   \n",
       "2  1112, Next to KIMS Medical College, 17th Cross...        San Churro Cafe   \n",
       "3  1st Floor, Annakuteera, 3rd Stage, Banashankar...  Addhuri Udupi Bhojana   \n",
       "4  10, 3rd Floor, Lakshmi Associates, Gandhi Baza...          Grand Village   \n",
       "\n",
       "  online_order book_table   rate  votes                             phone  \\\n",
       "0          Yes        Yes  4.1/5    775    080 42297555\\r\\n+91 9743772233   \n",
       "1          Yes         No  4.1/5    787                      080 41714161   \n",
       "2          Yes         No  3.8/5    918                    +91 9663487993   \n",
       "3           No         No  3.7/5     88                    +91 9620009302   \n",
       "4           No         No  3.8/5    166  +91 8026612447\\r\\n+91 9901210005   \n",
       "\n",
       "       location            rest_type  \\\n",
       "0  Banashankari        Casual Dining   \n",
       "1  Banashankari        Casual Dining   \n",
       "2  Banashankari  Cafe, Casual Dining   \n",
       "3  Banashankari          Quick Bites   \n",
       "4  Basavanagudi        Casual Dining   \n",
       "\n",
       "                                          dish_liked  \\\n",
       "0  Pasta, Lunch Buffet, Masala Papad, Paneer Laja...   \n",
       "1  Momos, Lunch Buffet, Chocolate Nirvana, Thai G...   \n",
       "2  Churros, Cannelloni, Minestrone Soup, Hot Choc...   \n",
       "3                                        Masala Dosa   \n",
       "4                                Panipuri, Gol Gappe   \n",
       "\n",
       "                         cuisines approx_cost(for two people)  \\\n",
       "0  North Indian, Mughlai, Chinese                         800   \n",
       "1     Chinese, North Indian, Thai                         800   \n",
       "2          Cafe, Mexican, Italian                         800   \n",
       "3      South Indian, North Indian                         300   \n",
       "4        North Indian, Rajasthani                         600   \n",
       "\n",
       "                                        reviews_list menu_item  \\\n",
       "0  [('Rated 4.0', 'RATED\\n  A beautiful place to ...        []   \n",
       "1  [('Rated 4.0', 'RATED\\n  Had been here for din...        []   \n",
       "2  [('Rated 3.0', \"RATED\\n  Ambience is not that ...        []   \n",
       "3  [('Rated 4.0', \"RATED\\n  Great food and proper...        []   \n",
       "4  [('Rated 4.0', 'RATED\\n  Very good restaurant ...        []   \n",
       "\n",
       "  listed_in(type) listed_in(city)  \n",
       "0          Buffet    Banashankari  \n",
       "1          Buffet    Banashankari  \n",
       "2          Buffet    Banashankari  \n",
       "3          Buffet    Banashankari  \n",
       "4          Buffet    Banashankari  "
      ]
     },
     "execution_count": 2,
     "metadata": {},
     "output_type": "execute_result"
    }
   ],
   "source": [
    "df = pd.read_csv('zomato.csv')\n",
    "df.head()"
   ]
  },
  {
   "cell_type": "code",
   "execution_count": 3,
   "id": "204e16be",
   "metadata": {},
   "outputs": [
    {
     "data": {
      "text/plain": [
       "(51717, 17)"
      ]
     },
     "execution_count": 3,
     "metadata": {},
     "output_type": "execute_result"
    }
   ],
   "source": [
    "# size of the dataset\n",
    "df.shape"
   ]
  },
  {
   "cell_type": "code",
   "execution_count": 4,
   "id": "e8e3e5e8",
   "metadata": {},
   "outputs": [
    {
     "data": {
      "text/plain": [
       "['url',\n",
       " 'address',\n",
       " 'name',\n",
       " 'online_order',\n",
       " 'book_table',\n",
       " 'rate',\n",
       " 'votes',\n",
       " 'phone',\n",
       " 'location',\n",
       " 'rest_type',\n",
       " 'dish_liked',\n",
       " 'cuisines',\n",
       " 'approx_cost(for two people)',\n",
       " 'reviews_list',\n",
       " 'menu_item',\n",
       " 'listed_in(type)',\n",
       " 'listed_in(city)']"
      ]
     },
     "execution_count": 4,
     "metadata": {},
     "output_type": "execute_result"
    }
   ],
   "source": [
    "# Column list in Dataset\n",
    "df.columns.to_list()"
   ]
  },
  {
   "cell_type": "code",
   "execution_count": 5,
   "id": "d4f96c56",
   "metadata": {},
   "outputs": [],
   "source": [
    "# rename columns name\n",
    "df.rename(columns = {'approx_cost(for two people)' : 'approx_cost', 'listed_in(city)' : 'Place'}, inplace = True)"
   ]
  },
  {
   "cell_type": "code",
   "execution_count": 6,
   "id": "bbb0677b",
   "metadata": {},
   "outputs": [
    {
     "data": {
      "text/html": [
       "<div>\n",
       "<style scoped>\n",
       "    .dataframe tbody tr th:only-of-type {\n",
       "        vertical-align: middle;\n",
       "    }\n",
       "\n",
       "    .dataframe tbody tr th {\n",
       "        vertical-align: top;\n",
       "    }\n",
       "\n",
       "    .dataframe thead th {\n",
       "        text-align: right;\n",
       "    }\n",
       "</style>\n",
       "<table border=\"1\" class=\"dataframe\">\n",
       "  <thead>\n",
       "    <tr style=\"text-align: right;\">\n",
       "      <th></th>\n",
       "      <th>url</th>\n",
       "      <th>address</th>\n",
       "      <th>name</th>\n",
       "      <th>online_order</th>\n",
       "      <th>book_table</th>\n",
       "      <th>rate</th>\n",
       "      <th>votes</th>\n",
       "      <th>phone</th>\n",
       "      <th>location</th>\n",
       "      <th>rest_type</th>\n",
       "      <th>dish_liked</th>\n",
       "      <th>cuisines</th>\n",
       "      <th>approx_cost</th>\n",
       "      <th>reviews_list</th>\n",
       "      <th>menu_item</th>\n",
       "      <th>listed_in(type)</th>\n",
       "      <th>Place</th>\n",
       "    </tr>\n",
       "  </thead>\n",
       "  <tbody>\n",
       "    <tr>\n",
       "      <th>0</th>\n",
       "      <td>https://www.zomato.com/bangalore/jalsa-banasha...</td>\n",
       "      <td>942, 21st Main Road, 2nd Stage, Banashankari, ...</td>\n",
       "      <td>Jalsa</td>\n",
       "      <td>Yes</td>\n",
       "      <td>Yes</td>\n",
       "      <td>4.1/5</td>\n",
       "      <td>775</td>\n",
       "      <td>080 42297555\\r\\n+91 9743772233</td>\n",
       "      <td>Banashankari</td>\n",
       "      <td>Casual Dining</td>\n",
       "      <td>Pasta, Lunch Buffet, Masala Papad, Paneer Laja...</td>\n",
       "      <td>North Indian, Mughlai, Chinese</td>\n",
       "      <td>800</td>\n",
       "      <td>[('Rated 4.0', 'RATED\\n  A beautiful place to ...</td>\n",
       "      <td>[]</td>\n",
       "      <td>Buffet</td>\n",
       "      <td>Banashankari</td>\n",
       "    </tr>\n",
       "    <tr>\n",
       "      <th>1</th>\n",
       "      <td>https://www.zomato.com/bangalore/spice-elephan...</td>\n",
       "      <td>2nd Floor, 80 Feet Road, Near Big Bazaar, 6th ...</td>\n",
       "      <td>Spice Elephant</td>\n",
       "      <td>Yes</td>\n",
       "      <td>No</td>\n",
       "      <td>4.1/5</td>\n",
       "      <td>787</td>\n",
       "      <td>080 41714161</td>\n",
       "      <td>Banashankari</td>\n",
       "      <td>Casual Dining</td>\n",
       "      <td>Momos, Lunch Buffet, Chocolate Nirvana, Thai G...</td>\n",
       "      <td>Chinese, North Indian, Thai</td>\n",
       "      <td>800</td>\n",
       "      <td>[('Rated 4.0', 'RATED\\n  Had been here for din...</td>\n",
       "      <td>[]</td>\n",
       "      <td>Buffet</td>\n",
       "      <td>Banashankari</td>\n",
       "    </tr>\n",
       "    <tr>\n",
       "      <th>2</th>\n",
       "      <td>https://www.zomato.com/SanchurroBangalore?cont...</td>\n",
       "      <td>1112, Next to KIMS Medical College, 17th Cross...</td>\n",
       "      <td>San Churro Cafe</td>\n",
       "      <td>Yes</td>\n",
       "      <td>No</td>\n",
       "      <td>3.8/5</td>\n",
       "      <td>918</td>\n",
       "      <td>+91 9663487993</td>\n",
       "      <td>Banashankari</td>\n",
       "      <td>Cafe, Casual Dining</td>\n",
       "      <td>Churros, Cannelloni, Minestrone Soup, Hot Choc...</td>\n",
       "      <td>Cafe, Mexican, Italian</td>\n",
       "      <td>800</td>\n",
       "      <td>[('Rated 3.0', \"RATED\\n  Ambience is not that ...</td>\n",
       "      <td>[]</td>\n",
       "      <td>Buffet</td>\n",
       "      <td>Banashankari</td>\n",
       "    </tr>\n",
       "    <tr>\n",
       "      <th>3</th>\n",
       "      <td>https://www.zomato.com/bangalore/addhuri-udupi...</td>\n",
       "      <td>1st Floor, Annakuteera, 3rd Stage, Banashankar...</td>\n",
       "      <td>Addhuri Udupi Bhojana</td>\n",
       "      <td>No</td>\n",
       "      <td>No</td>\n",
       "      <td>3.7/5</td>\n",
       "      <td>88</td>\n",
       "      <td>+91 9620009302</td>\n",
       "      <td>Banashankari</td>\n",
       "      <td>Quick Bites</td>\n",
       "      <td>Masala Dosa</td>\n",
       "      <td>South Indian, North Indian</td>\n",
       "      <td>300</td>\n",
       "      <td>[('Rated 4.0', \"RATED\\n  Great food and proper...</td>\n",
       "      <td>[]</td>\n",
       "      <td>Buffet</td>\n",
       "      <td>Banashankari</td>\n",
       "    </tr>\n",
       "    <tr>\n",
       "      <th>4</th>\n",
       "      <td>https://www.zomato.com/bangalore/grand-village...</td>\n",
       "      <td>10, 3rd Floor, Lakshmi Associates, Gandhi Baza...</td>\n",
       "      <td>Grand Village</td>\n",
       "      <td>No</td>\n",
       "      <td>No</td>\n",
       "      <td>3.8/5</td>\n",
       "      <td>166</td>\n",
       "      <td>+91 8026612447\\r\\n+91 9901210005</td>\n",
       "      <td>Basavanagudi</td>\n",
       "      <td>Casual Dining</td>\n",
       "      <td>Panipuri, Gol Gappe</td>\n",
       "      <td>North Indian, Rajasthani</td>\n",
       "      <td>600</td>\n",
       "      <td>[('Rated 4.0', 'RATED\\n  Very good restaurant ...</td>\n",
       "      <td>[]</td>\n",
       "      <td>Buffet</td>\n",
       "      <td>Banashankari</td>\n",
       "    </tr>\n",
       "  </tbody>\n",
       "</table>\n",
       "</div>"
      ],
      "text/plain": [
       "                                                 url  \\\n",
       "0  https://www.zomato.com/bangalore/jalsa-banasha...   \n",
       "1  https://www.zomato.com/bangalore/spice-elephan...   \n",
       "2  https://www.zomato.com/SanchurroBangalore?cont...   \n",
       "3  https://www.zomato.com/bangalore/addhuri-udupi...   \n",
       "4  https://www.zomato.com/bangalore/grand-village...   \n",
       "\n",
       "                                             address                   name  \\\n",
       "0  942, 21st Main Road, 2nd Stage, Banashankari, ...                  Jalsa   \n",
       "1  2nd Floor, 80 Feet Road, Near Big Bazaar, 6th ...         Spice Elephant   \n",
       "2  1112, Next to KIMS Medical College, 17th Cross...        San Churro Cafe   \n",
       "3  1st Floor, Annakuteera, 3rd Stage, Banashankar...  Addhuri Udupi Bhojana   \n",
       "4  10, 3rd Floor, Lakshmi Associates, Gandhi Baza...          Grand Village   \n",
       "\n",
       "  online_order book_table   rate  votes                             phone  \\\n",
       "0          Yes        Yes  4.1/5    775    080 42297555\\r\\n+91 9743772233   \n",
       "1          Yes         No  4.1/5    787                      080 41714161   \n",
       "2          Yes         No  3.8/5    918                    +91 9663487993   \n",
       "3           No         No  3.7/5     88                    +91 9620009302   \n",
       "4           No         No  3.8/5    166  +91 8026612447\\r\\n+91 9901210005   \n",
       "\n",
       "       location            rest_type  \\\n",
       "0  Banashankari        Casual Dining   \n",
       "1  Banashankari        Casual Dining   \n",
       "2  Banashankari  Cafe, Casual Dining   \n",
       "3  Banashankari          Quick Bites   \n",
       "4  Basavanagudi        Casual Dining   \n",
       "\n",
       "                                          dish_liked  \\\n",
       "0  Pasta, Lunch Buffet, Masala Papad, Paneer Laja...   \n",
       "1  Momos, Lunch Buffet, Chocolate Nirvana, Thai G...   \n",
       "2  Churros, Cannelloni, Minestrone Soup, Hot Choc...   \n",
       "3                                        Masala Dosa   \n",
       "4                                Panipuri, Gol Gappe   \n",
       "\n",
       "                         cuisines approx_cost  \\\n",
       "0  North Indian, Mughlai, Chinese         800   \n",
       "1     Chinese, North Indian, Thai         800   \n",
       "2          Cafe, Mexican, Italian         800   \n",
       "3      South Indian, North Indian         300   \n",
       "4        North Indian, Rajasthani         600   \n",
       "\n",
       "                                        reviews_list menu_item  \\\n",
       "0  [('Rated 4.0', 'RATED\\n  A beautiful place to ...        []   \n",
       "1  [('Rated 4.0', 'RATED\\n  Had been here for din...        []   \n",
       "2  [('Rated 3.0', \"RATED\\n  Ambience is not that ...        []   \n",
       "3  [('Rated 4.0', \"RATED\\n  Great food and proper...        []   \n",
       "4  [('Rated 4.0', 'RATED\\n  Very good restaurant ...        []   \n",
       "\n",
       "  listed_in(type)         Place  \n",
       "0          Buffet  Banashankari  \n",
       "1          Buffet  Banashankari  \n",
       "2          Buffet  Banashankari  \n",
       "3          Buffet  Banashankari  \n",
       "4          Buffet  Banashankari  "
      ]
     },
     "execution_count": 6,
     "metadata": {},
     "output_type": "execute_result"
    }
   ],
   "source": [
    "df.head()"
   ]
  },
  {
   "cell_type": "markdown",
   "id": "af03250d",
   "metadata": {},
   "source": [
    "# Data Cleaning"
   ]
  },
  {
   "cell_type": "markdown",
   "id": "492bffb7",
   "metadata": {},
   "source": [
    "Now, we clean our data by dropping the irrelevant columns, handling the wrong datatypes, handling the null values and the outliers"
   ]
  },
  {
   "cell_type": "markdown",
   "id": "a03f2b7c",
   "metadata": {},
   "source": [
    "#### Dropping Irrelevant Columns"
   ]
  },
  {
   "cell_type": "code",
   "execution_count": 7,
   "id": "3bc460d6",
   "metadata": {},
   "outputs": [],
   "source": [
    "df.drop(['url','address','menu_item','reviews_list','dish_liked','phone','listed_in(type)'],inplace=True,axis=1)"
   ]
  },
  {
   "cell_type": "code",
   "execution_count": 8,
   "id": "ee19fdb7",
   "metadata": {},
   "outputs": [
    {
     "data": {
      "text/html": [
       "<div>\n",
       "<style scoped>\n",
       "    .dataframe tbody tr th:only-of-type {\n",
       "        vertical-align: middle;\n",
       "    }\n",
       "\n",
       "    .dataframe tbody tr th {\n",
       "        vertical-align: top;\n",
       "    }\n",
       "\n",
       "    .dataframe thead th {\n",
       "        text-align: right;\n",
       "    }\n",
       "</style>\n",
       "<table border=\"1\" class=\"dataframe\">\n",
       "  <thead>\n",
       "    <tr style=\"text-align: right;\">\n",
       "      <th></th>\n",
       "      <th>name</th>\n",
       "      <th>online_order</th>\n",
       "      <th>book_table</th>\n",
       "      <th>rate</th>\n",
       "      <th>votes</th>\n",
       "      <th>location</th>\n",
       "      <th>rest_type</th>\n",
       "      <th>cuisines</th>\n",
       "      <th>approx_cost</th>\n",
       "      <th>Place</th>\n",
       "    </tr>\n",
       "  </thead>\n",
       "  <tbody>\n",
       "    <tr>\n",
       "      <th>0</th>\n",
       "      <td>Jalsa</td>\n",
       "      <td>Yes</td>\n",
       "      <td>Yes</td>\n",
       "      <td>4.1/5</td>\n",
       "      <td>775</td>\n",
       "      <td>Banashankari</td>\n",
       "      <td>Casual Dining</td>\n",
       "      <td>North Indian, Mughlai, Chinese</td>\n",
       "      <td>800</td>\n",
       "      <td>Banashankari</td>\n",
       "    </tr>\n",
       "    <tr>\n",
       "      <th>1</th>\n",
       "      <td>Spice Elephant</td>\n",
       "      <td>Yes</td>\n",
       "      <td>No</td>\n",
       "      <td>4.1/5</td>\n",
       "      <td>787</td>\n",
       "      <td>Banashankari</td>\n",
       "      <td>Casual Dining</td>\n",
       "      <td>Chinese, North Indian, Thai</td>\n",
       "      <td>800</td>\n",
       "      <td>Banashankari</td>\n",
       "    </tr>\n",
       "    <tr>\n",
       "      <th>2</th>\n",
       "      <td>San Churro Cafe</td>\n",
       "      <td>Yes</td>\n",
       "      <td>No</td>\n",
       "      <td>3.8/5</td>\n",
       "      <td>918</td>\n",
       "      <td>Banashankari</td>\n",
       "      <td>Cafe, Casual Dining</td>\n",
       "      <td>Cafe, Mexican, Italian</td>\n",
       "      <td>800</td>\n",
       "      <td>Banashankari</td>\n",
       "    </tr>\n",
       "    <tr>\n",
       "      <th>3</th>\n",
       "      <td>Addhuri Udupi Bhojana</td>\n",
       "      <td>No</td>\n",
       "      <td>No</td>\n",
       "      <td>3.7/5</td>\n",
       "      <td>88</td>\n",
       "      <td>Banashankari</td>\n",
       "      <td>Quick Bites</td>\n",
       "      <td>South Indian, North Indian</td>\n",
       "      <td>300</td>\n",
       "      <td>Banashankari</td>\n",
       "    </tr>\n",
       "    <tr>\n",
       "      <th>4</th>\n",
       "      <td>Grand Village</td>\n",
       "      <td>No</td>\n",
       "      <td>No</td>\n",
       "      <td>3.8/5</td>\n",
       "      <td>166</td>\n",
       "      <td>Basavanagudi</td>\n",
       "      <td>Casual Dining</td>\n",
       "      <td>North Indian, Rajasthani</td>\n",
       "      <td>600</td>\n",
       "      <td>Banashankari</td>\n",
       "    </tr>\n",
       "  </tbody>\n",
       "</table>\n",
       "</div>"
      ],
      "text/plain": [
       "                    name online_order book_table   rate  votes      location  \\\n",
       "0                  Jalsa          Yes        Yes  4.1/5    775  Banashankari   \n",
       "1         Spice Elephant          Yes         No  4.1/5    787  Banashankari   \n",
       "2        San Churro Cafe          Yes         No  3.8/5    918  Banashankari   \n",
       "3  Addhuri Udupi Bhojana           No         No  3.7/5     88  Banashankari   \n",
       "4          Grand Village           No         No  3.8/5    166  Basavanagudi   \n",
       "\n",
       "             rest_type                        cuisines approx_cost  \\\n",
       "0        Casual Dining  North Indian, Mughlai, Chinese         800   \n",
       "1        Casual Dining     Chinese, North Indian, Thai         800   \n",
       "2  Cafe, Casual Dining          Cafe, Mexican, Italian         800   \n",
       "3          Quick Bites      South Indian, North Indian         300   \n",
       "4        Casual Dining        North Indian, Rajasthani         600   \n",
       "\n",
       "          Place  \n",
       "0  Banashankari  \n",
       "1  Banashankari  \n",
       "2  Banashankari  \n",
       "3  Banashankari  \n",
       "4  Banashankari  "
      ]
     },
     "execution_count": 8,
     "metadata": {},
     "output_type": "execute_result"
    }
   ],
   "source": [
    "df.head()"
   ]
  },
  {
   "cell_type": "code",
   "execution_count": 9,
   "id": "34c3f911",
   "metadata": {},
   "outputs": [
    {
     "name": "stdout",
     "output_type": "stream",
     "text": [
      "<class 'pandas.core.frame.DataFrame'>\n",
      "RangeIndex: 51717 entries, 0 to 51716\n",
      "Data columns (total 10 columns):\n",
      " #   Column        Non-Null Count  Dtype \n",
      "---  ------        --------------  ----- \n",
      " 0   name          51717 non-null  object\n",
      " 1   online_order  51717 non-null  object\n",
      " 2   book_table    51717 non-null  object\n",
      " 3   rate          43942 non-null  object\n",
      " 4   votes         51717 non-null  int64 \n",
      " 5   location      51696 non-null  object\n",
      " 6   rest_type     51490 non-null  object\n",
      " 7   cuisines      51672 non-null  object\n",
      " 8   approx_cost   51371 non-null  object\n",
      " 9   Place         51717 non-null  object\n",
      "dtypes: int64(1), object(9)\n",
      "memory usage: 3.9+ MB\n"
     ]
    }
   ],
   "source": [
    "# check information of dataset\n",
    "df.info()"
   ]
  },
  {
   "cell_type": "code",
   "execution_count": 10,
   "id": "ed4afab7",
   "metadata": {},
   "outputs": [
    {
     "data": {
      "text/plain": [
       "array(['4.1/5', '3.8/5', '3.7/5', '3.6/5', '4.6/5', '4.0/5', '4.2/5',\n",
       "       '3.9/5', '3.1/5', '3.0/5', '3.2/5', '3.3/5', '2.8/5', '4.4/5',\n",
       "       '4.3/5', 'NEW', '2.9/5', '3.5/5', nan, '2.6/5', '3.8 /5', '3.4/5',\n",
       "       '4.5/5', '2.5/5', '2.7/5', '4.7/5', '2.4/5', '2.2/5', '2.3/5',\n",
       "       '3.4 /5', '-', '3.6 /5', '4.8/5', '3.9 /5', '4.2 /5', '4.0 /5',\n",
       "       '4.1 /5', '3.7 /5', '3.1 /5', '2.9 /5', '3.3 /5', '2.8 /5',\n",
       "       '3.5 /5', '2.7 /5', '2.5 /5', '3.2 /5', '2.6 /5', '4.5 /5',\n",
       "       '4.3 /5', '4.4 /5', '4.9/5', '2.1/5', '2.0/5', '1.8/5', '4.6 /5',\n",
       "       '4.9 /5', '3.0 /5', '4.8 /5', '2.3 /5', '4.7 /5', '2.4 /5',\n",
       "       '2.1 /5', '2.2 /5', '2.0 /5', '1.8 /5'], dtype=object)"
      ]
     },
     "execution_count": 10,
     "metadata": {},
     "output_type": "execute_result"
    }
   ],
   "source": [
    "# checking unique values in rate column\n",
    "df['rate'].unique()"
   ]
  },
  {
   "cell_type": "markdown",
   "id": "e3447eac",
   "metadata": {},
   "source": [
    "#### Check null values, wrong datatypes or both"
   ]
  },
  {
   "cell_type": "markdown",
   "id": "f43962bc",
   "metadata": {},
   "source": [
    "#### Rate column"
   ]
  },
  {
   "cell_type": "code",
   "execution_count": 11,
   "id": "8f86bd57",
   "metadata": {},
   "outputs": [],
   "source": [
    "# Replacing the null values and garbage values & convert into number\n",
    "df['rate'] = df['rate'].str.replace(\"/5\", \"\")\n",
    "df['rate'] = df['rate'].str.replace(\"nan\", \"NaN\")\n",
    "df['rate'] = df['rate'].str.replace(\"NEW\", \"NaN\")\n",
    "df['rate'] = df['rate'].str.replace(\"-\", \"NaN\")\n",
    "df['rate'] = df['rate'].str.replace(\" /5\", \"\")\n",
    "df['rate'] = df['rate'].fillna(np.nan)\n",
    "df['rate'] = df['rate'].str.replace(\" \", \"\")"
   ]
  },
  {
   "cell_type": "code",
   "execution_count": 12,
   "id": "121eb612",
   "metadata": {},
   "outputs": [
    {
     "data": {
      "text/plain": [
       "array(['4.1', '3.8', '3.7', '3.6', '4.6', '4.0', '4.2', '3.9', '3.1',\n",
       "       '3.0', '3.2', '3.3', '2.8', '4.4', '4.3', 'NaN', '2.9', '3.5', nan,\n",
       "       '2.6', '3.4', '4.5', '2.5', '2.7', '4.7', '2.4', '2.2', '2.3',\n",
       "       '4.8', '4.9', '2.1', '2.0', '1.8'], dtype=object)"
      ]
     },
     "execution_count": 12,
     "metadata": {},
     "output_type": "execute_result"
    }
   ],
   "source": [
    "#Checking the Results\n",
    "df['rate'].unique()"
   ]
  },
  {
   "cell_type": "code",
   "execution_count": 13,
   "id": "d258caac",
   "metadata": {},
   "outputs": [],
   "source": [
    "#changing the datatypes in rate column from obj to float\n",
    "df['rate'] = df['rate'].astype(float)"
   ]
  },
  {
   "cell_type": "code",
   "execution_count": 14,
   "id": "0a1073d3",
   "metadata": {},
   "outputs": [
    {
     "name": "stdout",
     "output_type": "stream",
     "text": [
      "<class 'pandas.core.frame.DataFrame'>\n",
      "RangeIndex: 51717 entries, 0 to 51716\n",
      "Data columns (total 10 columns):\n",
      " #   Column        Non-Null Count  Dtype  \n",
      "---  ------        --------------  -----  \n",
      " 0   name          51717 non-null  object \n",
      " 1   online_order  51717 non-null  object \n",
      " 2   book_table    51717 non-null  object \n",
      " 3   rate          41665 non-null  float64\n",
      " 4   votes         51717 non-null  int64  \n",
      " 5   location      51696 non-null  object \n",
      " 6   rest_type     51490 non-null  object \n",
      " 7   cuisines      51672 non-null  object \n",
      " 8   approx_cost   51371 non-null  object \n",
      " 9   Place         51717 non-null  object \n",
      "dtypes: float64(1), int64(1), object(8)\n",
      "memory usage: 3.9+ MB\n"
     ]
    }
   ],
   "source": [
    "# check rate column \n",
    "df.info('rate')"
   ]
  },
  {
   "cell_type": "markdown",
   "id": "729e05a6",
   "metadata": {},
   "source": [
    "#### Approx Cost Column"
   ]
  },
  {
   "cell_type": "code",
   "execution_count": 15,
   "id": "007ed66a",
   "metadata": {},
   "outputs": [
    {
     "data": {
      "text/plain": [
       "array(['800', '300', '600', '700', '550', '500', '450', '650', '400',\n",
       "       '900', '200', '750', '150', '850', '100', '1,200', '350', '250',\n",
       "       '950', '1,000', '1,500', '1,300', '199', '80', '1,100', '160',\n",
       "       '1,600', '230', '130', '50', '190', '1,700', nan, '1,400', '180',\n",
       "       '1,350', '2,200', '2,000', '1,800', '1,900', '330', '2,500',\n",
       "       '2,100', '3,000', '2,800', '3,400', '40', '1,250', '3,500',\n",
       "       '4,000', '2,400', '2,600', '120', '1,450', '469', '70', '3,200',\n",
       "       '60', '560', '240', '360', '6,000', '1,050', '2,300', '4,100',\n",
       "       '5,000', '3,700', '1,650', '2,700', '4,500', '140'], dtype=object)"
      ]
     },
     "execution_count": 15,
     "metadata": {},
     "output_type": "execute_result"
    }
   ],
   "source": [
    "# checking the unique values in the approx cost column in Data\n",
    "df['approx_cost'].unique()"
   ]
  },
  {
   "cell_type": "code",
   "execution_count": 16,
   "id": "00e8a248",
   "metadata": {},
   "outputs": [],
   "source": [
    "# Replacing the null values and convert\n",
    "df['approx_cost'] = df['approx_cost'].str.replace(\"nan\", \"NaN\")\n",
    "df[\"approx_cost\"] = df[\"approx_cost\"].fillna(\"NaN\")\n",
    "df[\"approx_cost\"] = df[\"approx_cost\"].str.replace(\",\", \"\")"
   ]
  },
  {
   "cell_type": "code",
   "execution_count": 17,
   "id": "35b55f93",
   "metadata": {},
   "outputs": [
    {
     "data": {
      "text/plain": [
       "array(['800', '300', '600', '700', '550', '500', '450', '650', '400',\n",
       "       '900', '200', '750', '150', '850', '100', '1200', '350', '250',\n",
       "       '950', '1000', '1500', '1300', '199', '80', '1100', '160', '1600',\n",
       "       '230', '130', '50', '190', '1700', 'NaN', '1400', '180', '1350',\n",
       "       '2200', '2000', '1800', '1900', '330', '2500', '2100', '3000',\n",
       "       '2800', '3400', '40', '1250', '3500', '4000', '2400', '2600',\n",
       "       '120', '1450', '469', '70', '3200', '60', '560', '240', '360',\n",
       "       '6000', '1050', '2300', '4100', '5000', '3700', '1650', '2700',\n",
       "       '4500', '140'], dtype=object)"
      ]
     },
     "execution_count": 17,
     "metadata": {},
     "output_type": "execute_result"
    }
   ],
   "source": [
    "# check unique value in dataset\n",
    "df[\"approx_cost\"].unique()"
   ]
  },
  {
   "cell_type": "code",
   "execution_count": 18,
   "id": "053cef5b",
   "metadata": {},
   "outputs": [],
   "source": [
    "# change the datatype of columns from object to float\n",
    "df[\"approx_cost\"] = df[\"approx_cost\"].astype(float)"
   ]
  },
  {
   "cell_type": "code",
   "execution_count": 19,
   "id": "2d42ce1f",
   "metadata": {},
   "outputs": [
    {
     "name": "stdout",
     "output_type": "stream",
     "text": [
      "<class 'pandas.core.frame.DataFrame'>\n",
      "RangeIndex: 51717 entries, 0 to 51716\n",
      "Data columns (total 10 columns):\n",
      " #   Column        Non-Null Count  Dtype  \n",
      "---  ------        --------------  -----  \n",
      " 0   name          51717 non-null  object \n",
      " 1   online_order  51717 non-null  object \n",
      " 2   book_table    51717 non-null  object \n",
      " 3   rate          41665 non-null  float64\n",
      " 4   votes         51717 non-null  int64  \n",
      " 5   location      51696 non-null  object \n",
      " 6   rest_type     51490 non-null  object \n",
      " 7   cuisines      51672 non-null  object \n",
      " 8   approx_cost   51371 non-null  float64\n",
      " 9   Place         51717 non-null  object \n",
      "dtypes: float64(2), int64(1), object(7)\n",
      "memory usage: 3.9+ MB\n"
     ]
    }
   ],
   "source": [
    "# check dtype of column\n",
    "df.info()"
   ]
  },
  {
   "cell_type": "markdown",
   "id": "19be2536",
   "metadata": {},
   "source": [
    "## Checking Null values "
   ]
  },
  {
   "cell_type": "code",
   "execution_count": 20,
   "id": "95421c97",
   "metadata": {},
   "outputs": [
    {
     "data": {
      "text/plain": [
       "name                0\n",
       "online_order        0\n",
       "book_table          0\n",
       "rate            10052\n",
       "votes               0\n",
       "location           21\n",
       "rest_type         227\n",
       "cuisines           45\n",
       "approx_cost       346\n",
       "Place               0\n",
       "dtype: int64"
      ]
     },
     "execution_count": 20,
     "metadata": {},
     "output_type": "execute_result"
    }
   ],
   "source": [
    "df.isna().sum()"
   ]
  },
  {
   "cell_type": "code",
   "execution_count": 21,
   "id": "e150ce99",
   "metadata": {},
   "outputs": [
    {
     "data": {
      "text/plain": [
       "name             0.000000\n",
       "online_order     0.000000\n",
       "book_table       0.000000\n",
       "rate            19.436549\n",
       "votes            0.000000\n",
       "location         0.040606\n",
       "rest_type        0.438927\n",
       "cuisines         0.087012\n",
       "approx_cost      0.669026\n",
       "Place            0.000000\n",
       "dtype: float64"
      ]
     },
     "execution_count": 21,
     "metadata": {},
     "output_type": "execute_result"
    }
   ],
   "source": [
    "# Null value percentage check\n",
    "(df.isna().sum() / df.shape[0])*100"
   ]
  },
  {
   "cell_type": "markdown",
   "id": "78fe17fd",
   "metadata": {},
   "source": [
    "in this dataset -> location, rest_type, cuisines, approx_cost is less number of null values as compare to rate column"
   ]
  },
  {
   "cell_type": "code",
   "execution_count": 22,
   "id": "86c384a1",
   "metadata": {},
   "outputs": [],
   "source": [
    "\n",
    "# Droping a null values from columns having less number of null values\n",
    "df = df[df['location'].notna()]\n",
    "df = df[df['rest_type'].notna()]\n",
    "df = df[df['cuisines'].notna()]\n",
    "df = df[df['approx_cost'].notna()]\n"
   ]
  },
  {
   "cell_type": "code",
   "execution_count": 23,
   "id": "b47c8ce6",
   "metadata": {},
   "outputs": [
    {
     "data": {
      "text/plain": [
       "name               0\n",
       "online_order       0\n",
       "book_table         0\n",
       "rate            9885\n",
       "votes              0\n",
       "location           0\n",
       "rest_type          0\n",
       "cuisines           0\n",
       "approx_cost        0\n",
       "Place              0\n",
       "dtype: int64"
      ]
     },
     "execution_count": 23,
     "metadata": {},
     "output_type": "execute_result"
    }
   ],
   "source": [
    "#check the result\n",
    "df.isna().sum()"
   ]
  },
  {
   "cell_type": "markdown",
   "id": "50dcb032",
   "metadata": {},
   "source": [
    "Handling Null values in rate column"
   ]
  },
  {
   "cell_type": "code",
   "execution_count": 24,
   "id": "23624137",
   "metadata": {},
   "outputs": [
    {
     "data": {
      "text/plain": [
       "count    41263.000000\n",
       "mean         3.702011\n",
       "std          0.439985\n",
       "min          1.800000\n",
       "25%          3.400000\n",
       "50%          3.700000\n",
       "75%          4.000000\n",
       "max          4.900000\n",
       "Name: rate, dtype: float64"
      ]
     },
     "execution_count": 24,
     "metadata": {},
     "output_type": "execute_result"
    }
   ],
   "source": [
    "#check the mean, median, mode and statistics etc.\n",
    "df['rate'].describe()"
   ]
  },
  {
   "cell_type": "code",
   "execution_count": 25,
   "id": "45405539",
   "metadata": {},
   "outputs": [
    {
     "name": "stdout",
     "output_type": "stream",
     "text": [
      "Num of rows in outliers is 183\n"
     ]
    }
   ],
   "source": [
    "# imputing the values, we can check for the outliers\n",
    "q1 = df['rate'].quantile(0.25)\n",
    "q3 = df['rate'].quantile(0.75)\n",
    "qr = q3-q1\n",
    "low_rng = q1 - (1.5 * qr)\n",
    "upr_rng = q3 + (1.5 * qr)\n",
    "\n",
    "outliers = len(df[(df['rate'] < low_rng) | (df['rate'] > upr_rng)])\n",
    "\n",
    "print(\"Num of rows in outliers is\",outliers)"
   ]
  },
  {
   "cell_type": "markdown",
   "id": "7e1a734d",
   "metadata": {},
   "source": [
    "Here we have 183 rows in outliers , but rating are always in the range from 1.0 to 5.0, so using mean is not appropriate. that's why , we can impute with median."
   ]
  },
  {
   "cell_type": "code",
   "execution_count": 26,
   "id": "a26c12eb",
   "metadata": {},
   "outputs": [],
   "source": [
    "#impute the null values with rate column\n",
    "df['rate'] = df['rate'].fillna(df['rate'].median())"
   ]
  },
  {
   "cell_type": "code",
   "execution_count": 27,
   "id": "d38d6119",
   "metadata": {},
   "outputs": [
    {
     "data": {
      "text/plain": [
       "name            0\n",
       "online_order    0\n",
       "book_table      0\n",
       "rate            0\n",
       "votes           0\n",
       "location        0\n",
       "rest_type       0\n",
       "cuisines        0\n",
       "approx_cost     0\n",
       "Place           0\n",
       "dtype: int64"
      ]
     },
     "execution_count": 27,
     "metadata": {},
     "output_type": "execute_result"
    }
   ],
   "source": [
    "#check the result\n",
    "df.isna().sum()"
   ]
  },
  {
   "cell_type": "code",
   "execution_count": 28,
   "id": "3a6d5c89",
   "metadata": {},
   "outputs": [],
   "source": [
    "# completed that part dropping values, then we will reset the index\n",
    "df.reset_index(inplace=True)\n",
    "\n",
    "df.drop(['index'],axis=1,inplace=True)"
   ]
  },
  {
   "cell_type": "markdown",
   "id": "4c4c61c0",
   "metadata": {},
   "source": [
    "# Data Visualization"
   ]
  },
  {
   "cell_type": "markdown",
   "id": "101cbdf8",
   "metadata": {},
   "source": [
    "First of all we will visualize our data \n",
    "Based on different parameters "
   ]
  },
  {
   "cell_type": "markdown",
   "id": "ff7207f2",
   "metadata": {},
   "source": [
    "#### 1. Number of orders vs Restaurants"
   ]
  },
  {
   "cell_type": "code",
   "execution_count": 29,
   "id": "99beeffc",
   "metadata": {},
   "outputs": [
    {
     "data": {
      "image/png": "[encoded data removed]",
      "text/plain": [
       "<Figure size 864x360 with 1 Axes>"
      ]
     },
     "metadata": {},
     "output_type": "display_data"
    }
   ],
   "source": [
    "# checking the restraurants have higer number of orders\n",
    "\n",
    "plt.figure(figsize= (12,5))\n",
    "data = df['name'].value_counts()[:25]\n",
    "data.plot(kind = 'bar')\n",
    "\n",
    "plt.xlabel('Name of Restaurents', size=15)\n",
    "plt.ylabel('Number of orders', size=15)\n",
    "plt.title('Maximum Number of Orders in Restuarents',fontsize=20)\n",
    "plt.show()"
   ]
  },
  {
   "cell_type": "markdown",
   "id": "73388326",
   "metadata": {},
   "source": [
    "#### 2. Number of Resaurents having online order facilites"
   ]
  },
  {
   "cell_type": "code",
   "execution_count": 30,
   "id": "f64962f6",
   "metadata": {},
   "outputs": [
    {
     "data": {
      "image/png": "[encoded data removed]",
      "text/plain": [
       "<Figure size 576x360 with 1 Axes>"
      ]
     },
     "metadata": {},
     "output_type": "display_data"
    }
   ],
   "source": [
    "# checking online order facility \n",
    "data = df[['name', 'online_order']].drop_duplicates()\n",
    "\n",
    "plt.figure(figsize=(8,5))\n",
    "xyz = sns.countplot(x='online_order',data = data).set_title('Online rder facility',fontsize = 20)\n",
    "\n",
    "plt.show()"
   ]
  },
  {
   "cell_type": "markdown",
   "id": "7a888d8f",
   "metadata": {},
   "source": [
    " we can see that only 4397 restaurants in Banglore have Online Order Facility which less than the half of the restaurants."
   ]
  },
  {
   "cell_type": "markdown",
   "id": "1d6b8217",
   "metadata": {},
   "source": [
    "#### 3. Number of restaurants having Prebooking table facility"
   ]
  },
  {
   "cell_type": "code",
   "execution_count": 31,
   "id": "10b3da4a",
   "metadata": {},
   "outputs": [
    {
     "data": {
      "image/png": "[encoded data removed]",
      "text/plain": [
       "<Figure size 576x432 with 1 Axes>"
      ]
     },
     "metadata": {},
     "output_type": "display_data"
    }
   ],
   "source": [
    "# prebooking table facility\n",
    "data = df[['name', 'book_table']].drop_duplicates()\n",
    "\n",
    "plt.figure(figsize=(8,6))\n",
    "xyz = sns.countplot(x = 'book_table',data=data).set_title('Prebooking table facility',fontsize = 20)\n",
    "plt.show()"
   ]
  },
  {
   "cell_type": "markdown",
   "id": "a37632f3",
   "metadata": {},
   "source": [
    "we can see in this chart most of the rastaurents in banglore doesn't have prebooking facility which is about 8011 restaurents and only 820 restauarants having these facility."
   ]
  },
  {
   "cell_type": "markdown",
   "id": "206363ee",
   "metadata": {},
   "source": [
    "#### 4. Most Common Rating for orders"
   ]
  },
  {
   "cell_type": "code",
   "execution_count": 32,
   "id": "887aca37",
   "metadata": {},
   "outputs": [
    {
     "data": {
      "image/png": "[encoded data removed]",
      "text/plain": [
       "<Figure size 1080x432 with 1 Axes>"
      ]
     },
     "metadata": {},
     "output_type": "display_data"
    }
   ],
   "source": [
    "# checking the most common rating for orders\n",
    "data = df.rate.value_counts().reset_index()[:20]\n",
    "\n",
    "plt.figure(figsize=(15,6))\n",
    "sns.barplot(x = data['index'], y = data['rate'])\n",
    "\n",
    "plt.xlabel('Ratings')\n",
    "plt.ylabel('Number of orders')\n",
    "plt.title('Most common ratings',size=15)\n",
    "\n",
    "plt.show()\n"
   ]
  },
  {
   "cell_type": "markdown",
   "id": "8f585f8a",
   "metadata": {},
   "source": [
    " we can see number of order got good 3.7 rating for the restaurants."
   ]
  },
  {
   "cell_type": "markdown",
   "id": "90255dc8",
   "metadata": {},
   "source": [
    "#### 5. Top locations got Higher number of orders"
   ]
  },
  {
   "cell_type": "code",
   "execution_count": 33,
   "id": "e55cc139",
   "metadata": {},
   "outputs": [
    {
     "data": {
      "image/png": "[encoded data removed]",
      "text/plain": [
       "<Figure size 864x360 with 1 Axes>"
      ]
     },
     "metadata": {},
     "output_type": "display_data"
    }
   ],
   "source": [
    "# checking top locations for higher number of order\n",
    "plt.figure(figsize=(12,5))\n",
    "data = df.location.value_counts()[:10]\n",
    "data.plot(kind='bar')\n",
    "plt.xlabel('Locations',fontsize=15)\n",
    "plt.ylabel('Number of orders',fontsize=15)\n",
    "plt.title('Top Locations got higher number of orders', size=20)\n",
    "\n",
    "plt.show()"
   ]
  },
  {
   "cell_type": "markdown",
   "id": "8444deee",
   "metadata": {},
   "source": [
    "In this chart , Location BTM got higer number of order amoung all other locations. Also HSR and Koramangala 5th Block Location got good number of order."
   ]
  },
  {
   "cell_type": "markdown",
   "id": "9c3d65b5",
   "metadata": {},
   "source": [
    "### Common Approximate Costs for  meal of two people"
   ]
  },
  {
   "cell_type": "code",
   "execution_count": 34,
   "id": "02f12518",
   "metadata": {},
   "outputs": [],
   "source": [
    "data = pd.DataFrame(df[\"approx_cost\"].value_counts().reset_index()[:20])\n",
    "data.columns = ['approx_cost','count']\n",
    "data = data.set_index('approx_cost')"
   ]
  },
  {
   "cell_type": "code",
   "execution_count": 35,
   "id": "0e4614dc",
   "metadata": {},
   "outputs": [
    {
     "data": {
      "image/png": "[encoded data removed]",
      "text/plain": [
       "<Figure size 1080x360 with 1 Axes>"
      ]
     },
     "metadata": {},
     "output_type": "display_data"
    }
   ],
   "source": [
    "plt.figure(figsize=(15,5))\n",
    "sns.barplot(x = data.index, y = data['count'])\n",
    "plt.xlabel('Rate for Two people',size=15)\n",
    "plt.ylabel('Number of orders', size=15)\n",
    "plt.xticks(size=13)\n",
    "plt.yticks(size=13)\n",
    "plt.title('Top preferred costs for two people',size =20)\n",
    "plt.show()"
   ]
  },
  {
   "cell_type": "markdown",
   "id": "f00b74da",
   "metadata": {},
   "source": [
    "### Restaurent Type Vs Number of orders"
   ]
  },
  {
   "cell_type": "code",
   "execution_count": 36,
   "id": "113ef9d0",
   "metadata": {},
   "outputs": [
    {
     "data": {
      "image/png": "[encoded data removed]",
      "text/plain": [
       "<Figure size 864x360 with 1 Axes>"
      ]
     },
     "metadata": {},
     "output_type": "display_data"
    }
   ],
   "source": [
    "plt.figure(figsize=(12,5))\n",
    "xyz = df.rest_type.value_counts()[:20]\n",
    "xyz.plot(kind='bar')\n",
    "plt.title(\"Most famous restaurant types\", fontsize=20)\n",
    "plt.xlabel(\"Type of restaurants\",fontsize=15)\n",
    "plt.ylabel(\"Number of orders\", fontsize=15)\n",
    "\n",
    "plt.show()"
   ]
  },
  {
   "cell_type": "markdown",
   "id": "107e4075",
   "metadata": {},
   "source": [
    "### Top locations with most number of restaurants"
   ]
  },
  {
   "cell_type": "code",
   "execution_count": 37,
   "id": "e0df395b",
   "metadata": {},
   "outputs": [],
   "source": [
    "tops_areas = pd.DataFrame(df.groupby(by='location')['name'].nunique())\n",
    "tops_areas.columns=['count']\n",
    "tops_areas.sort_values(by='count', ascending= False, inplace=True)"
   ]
  },
  {
   "cell_type": "code",
   "execution_count": 38,
   "id": "0ffabe71",
   "metadata": {},
   "outputs": [
    {
     "data": {
      "text/html": [
       "<div>\n",
       "<style scoped>\n",
       "    .dataframe tbody tr th:only-of-type {\n",
       "        vertical-align: middle;\n",
       "    }\n",
       "\n",
       "    .dataframe tbody tr th {\n",
       "        vertical-align: top;\n",
       "    }\n",
       "\n",
       "    .dataframe thead th {\n",
       "        text-align: right;\n",
       "    }\n",
       "</style>\n",
       "<table border=\"1\" class=\"dataframe\">\n",
       "  <thead>\n",
       "    <tr style=\"text-align: right;\">\n",
       "      <th></th>\n",
       "      <th>count</th>\n",
       "    </tr>\n",
       "    <tr>\n",
       "      <th>location</th>\n",
       "      <th></th>\n",
       "    </tr>\n",
       "  </thead>\n",
       "  <tbody>\n",
       "    <tr>\n",
       "      <th>Whitefield</th>\n",
       "      <td>812</td>\n",
       "    </tr>\n",
       "    <tr>\n",
       "      <th>BTM</th>\n",
       "      <td>695</td>\n",
       "    </tr>\n",
       "    <tr>\n",
       "      <th>Electronic City</th>\n",
       "      <td>691</td>\n",
       "    </tr>\n",
       "    <tr>\n",
       "      <th>HSR</th>\n",
       "      <td>678</td>\n",
       "    </tr>\n",
       "    <tr>\n",
       "      <th>Marathahalli</th>\n",
       "      <td>651</td>\n",
       "    </tr>\n",
       "    <tr>\n",
       "      <th>...</th>\n",
       "      <td>...</td>\n",
       "    </tr>\n",
       "    <tr>\n",
       "      <th>Langford Town</th>\n",
       "      <td>2</td>\n",
       "    </tr>\n",
       "    <tr>\n",
       "      <th>Rajarajeshwari Nagar</th>\n",
       "      <td>2</td>\n",
       "    </tr>\n",
       "    <tr>\n",
       "      <th>Jakkur</th>\n",
       "      <td>1</td>\n",
       "    </tr>\n",
       "    <tr>\n",
       "      <th>Peenya</th>\n",
       "      <td>1</td>\n",
       "    </tr>\n",
       "    <tr>\n",
       "      <th>Kengeri</th>\n",
       "      <td>1</td>\n",
       "    </tr>\n",
       "  </tbody>\n",
       "</table>\n",
       "<p>93 rows × 1 columns</p>\n",
       "</div>"
      ],
      "text/plain": [
       "                      count\n",
       "location                   \n",
       "Whitefield              812\n",
       "BTM                     695\n",
       "Electronic City         691\n",
       "HSR                     678\n",
       "Marathahalli            651\n",
       "...                     ...\n",
       "Langford Town             2\n",
       "Rajarajeshwari Nagar      2\n",
       "Jakkur                    1\n",
       "Peenya                    1\n",
       "Kengeri                   1\n",
       "\n",
       "[93 rows x 1 columns]"
      ]
     },
     "execution_count": 38,
     "metadata": {},
     "output_type": "execute_result"
    }
   ],
   "source": [
    "tops_areas"
   ]
  },
  {
   "cell_type": "code",
   "execution_count": 39,
   "id": "ef5c3817",
   "metadata": {},
   "outputs": [
    {
     "data": {
      "image/png": "[encoded data removed]",
      "text/plain": [
       "<Figure size 864x432 with 1 Axes>"
      ]
     },
     "metadata": {},
     "output_type": "display_data"
    }
   ],
   "source": [
    "plt.rcParams['figure.figsize'] = (12,6)\n",
    "xyz = tops_areas[:30].plot(kind='bar')\n",
    "plt.xlabel('Location', size=12)\n",
    "plt.ylabel('Number of Restaurants', size=12)\n",
    "plt.title('Top Loctions with Most Number of Restaurants', size=15)\n",
    "plt.show()\n",
    "\n"
   ]
  },
  {
   "cell_type": "markdown",
   "id": "889df955",
   "metadata": {},
   "source": [
    "### Most famous Cuisines among people"
   ]
  },
  {
   "cell_type": "code",
   "execution_count": 40,
   "id": "361e5410",
   "metadata": {},
   "outputs": [
    {
     "data": {
      "image/png": "[encoded data removed]",
      "text/plain": [
       "<Figure size 864x360 with 1 Axes>"
      ]
     },
     "metadata": {},
     "output_type": "display_data"
    }
   ],
   "source": [
    "plt.figure(figsize=(12,5))\n",
    "xyz = df.cuisines.value_counts()[:20].plot(kind='bar')\n",
    "plt.title(\"Most famous Cuisines among people\", fontsize=15)\n",
    "plt.xlabel(\"Cuisines\")\n",
    "plt.ylabel(\"Number of orders\")\n",
    "plt.show()"
   ]
  },
  {
   "cell_type": "markdown",
   "id": "accd650d",
   "metadata": {},
   "source": [
    "#### Top Areas with most number of restaurants"
   ]
  },
  {
   "cell_type": "code",
   "execution_count": 41,
   "id": "9c9049e5",
   "metadata": {},
   "outputs": [],
   "source": [
    "tops_areas = pd.DataFrame(df.groupby(by='Place')['name'].nunique())\n",
    "tops_areas.columns = ['count']\n",
    "tops_areas.sort_values(by='count',ascending=False, inplace=True)"
   ]
  },
  {
   "cell_type": "code",
   "execution_count": 42,
   "id": "2f52b9a4",
   "metadata": {},
   "outputs": [
    {
     "data": {
      "text/html": [
       "<div>\n",
       "<style scoped>\n",
       "    .dataframe tbody tr th:only-of-type {\n",
       "        vertical-align: middle;\n",
       "    }\n",
       "\n",
       "    .dataframe tbody tr th {\n",
       "        vertical-align: top;\n",
       "    }\n",
       "\n",
       "    .dataframe thead th {\n",
       "        text-align: right;\n",
       "    }\n",
       "</style>\n",
       "<table border=\"1\" class=\"dataframe\">\n",
       "  <thead>\n",
       "    <tr style=\"text-align: right;\">\n",
       "      <th></th>\n",
       "      <th>count</th>\n",
       "    </tr>\n",
       "    <tr>\n",
       "      <th>Place</th>\n",
       "      <th></th>\n",
       "    </tr>\n",
       "  </thead>\n",
       "  <tbody>\n",
       "    <tr>\n",
       "      <th>BTM</th>\n",
       "      <td>2012</td>\n",
       "    </tr>\n",
       "    <tr>\n",
       "      <th>Koramangala 7th Block</th>\n",
       "      <td>1775</td>\n",
       "    </tr>\n",
       "    <tr>\n",
       "      <th>Koramangala 5th Block</th>\n",
       "      <td>1738</td>\n",
       "    </tr>\n",
       "    <tr>\n",
       "      <th>Koramangala 4th Block</th>\n",
       "      <td>1703</td>\n",
       "    </tr>\n",
       "    <tr>\n",
       "      <th>Koramangala 6th Block</th>\n",
       "      <td>1603</td>\n",
       "    </tr>\n",
       "  </tbody>\n",
       "</table>\n",
       "</div>"
      ],
      "text/plain": [
       "                       count\n",
       "Place                       \n",
       "BTM                     2012\n",
       "Koramangala 7th Block   1775\n",
       "Koramangala 5th Block   1738\n",
       "Koramangala 4th Block   1703\n",
       "Koramangala 6th Block   1603"
      ]
     },
     "execution_count": 42,
     "metadata": {},
     "output_type": "execute_result"
    }
   ],
   "source": [
    "tops_areas.head()"
   ]
  },
  {
   "cell_type": "code",
   "execution_count": 43,
   "id": "59801a7c",
   "metadata": {},
   "outputs": [
    {
     "data": {
      "image/png": "[encoded data removed]",
      "text/plain": [
       "<Figure size 864x432 with 1 Axes>"
      ]
     },
     "metadata": {},
     "output_type": "display_data"
    }
   ],
   "source": [
    "plt.rcParams['figure.figsize']=(12,6)\n",
    "xyz = tops_areas[0:25].plot(kind='bar')\n",
    "plt.xlabel('Areas',size=12)\n",
    "plt.ylabel('Top areas with nost number of restaurants', size=15)\n",
    "plt.show()"
   ]
  },
  {
   "cell_type": "markdown",
   "id": "b2d90dea",
   "metadata": {},
   "source": [
    "# Encoding Columns"
   ]
  },
  {
   "cell_type": "markdown",
   "id": "dba221b6",
   "metadata": {},
   "source": [
    "### Online order column"
   ]
  },
  {
   "cell_type": "code",
   "execution_count": 44,
   "id": "b8cf424a",
   "metadata": {},
   "outputs": [
    {
     "data": {
      "text/html": [
       "<div>\n",
       "<style scoped>\n",
       "    .dataframe tbody tr th:only-of-type {\n",
       "        vertical-align: middle;\n",
       "    }\n",
       "\n",
       "    .dataframe tbody tr th {\n",
       "        vertical-align: top;\n",
       "    }\n",
       "\n",
       "    .dataframe thead th {\n",
       "        text-align: right;\n",
       "    }\n",
       "</style>\n",
       "<table border=\"1\" class=\"dataframe\">\n",
       "  <thead>\n",
       "    <tr style=\"text-align: right;\">\n",
       "      <th></th>\n",
       "      <th>name</th>\n",
       "      <th>online_order</th>\n",
       "      <th>book_table</th>\n",
       "      <th>rate</th>\n",
       "      <th>votes</th>\n",
       "      <th>location</th>\n",
       "      <th>rest_type</th>\n",
       "      <th>cuisines</th>\n",
       "      <th>approx_cost</th>\n",
       "      <th>Place</th>\n",
       "    </tr>\n",
       "  </thead>\n",
       "  <tbody>\n",
       "    <tr>\n",
       "      <th>0</th>\n",
       "      <td>Jalsa</td>\n",
       "      <td>Yes</td>\n",
       "      <td>Yes</td>\n",
       "      <td>4.1</td>\n",
       "      <td>775</td>\n",
       "      <td>Banashankari</td>\n",
       "      <td>Casual Dining</td>\n",
       "      <td>North Indian, Mughlai, Chinese</td>\n",
       "      <td>800.0</td>\n",
       "      <td>Banashankari</td>\n",
       "    </tr>\n",
       "    <tr>\n",
       "      <th>1</th>\n",
       "      <td>Spice Elephant</td>\n",
       "      <td>Yes</td>\n",
       "      <td>No</td>\n",
       "      <td>4.1</td>\n",
       "      <td>787</td>\n",
       "      <td>Banashankari</td>\n",
       "      <td>Casual Dining</td>\n",
       "      <td>Chinese, North Indian, Thai</td>\n",
       "      <td>800.0</td>\n",
       "      <td>Banashankari</td>\n",
       "    </tr>\n",
       "    <tr>\n",
       "      <th>2</th>\n",
       "      <td>San Churro Cafe</td>\n",
       "      <td>Yes</td>\n",
       "      <td>No</td>\n",
       "      <td>3.8</td>\n",
       "      <td>918</td>\n",
       "      <td>Banashankari</td>\n",
       "      <td>Cafe, Casual Dining</td>\n",
       "      <td>Cafe, Mexican, Italian</td>\n",
       "      <td>800.0</td>\n",
       "      <td>Banashankari</td>\n",
       "    </tr>\n",
       "    <tr>\n",
       "      <th>3</th>\n",
       "      <td>Addhuri Udupi Bhojana</td>\n",
       "      <td>0</td>\n",
       "      <td>No</td>\n",
       "      <td>3.7</td>\n",
       "      <td>88</td>\n",
       "      <td>Banashankari</td>\n",
       "      <td>Quick Bites</td>\n",
       "      <td>South Indian, North Indian</td>\n",
       "      <td>300.0</td>\n",
       "      <td>Banashankari</td>\n",
       "    </tr>\n",
       "    <tr>\n",
       "      <th>4</th>\n",
       "      <td>Grand Village</td>\n",
       "      <td>0</td>\n",
       "      <td>No</td>\n",
       "      <td>3.8</td>\n",
       "      <td>166</td>\n",
       "      <td>Basavanagudi</td>\n",
       "      <td>Casual Dining</td>\n",
       "      <td>North Indian, Rajasthani</td>\n",
       "      <td>600.0</td>\n",
       "      <td>Banashankari</td>\n",
       "    </tr>\n",
       "  </tbody>\n",
       "</table>\n",
       "</div>"
      ],
      "text/plain": [
       "                    name online_order book_table  rate  votes      location  \\\n",
       "0                  Jalsa          Yes        Yes   4.1    775  Banashankari   \n",
       "1         Spice Elephant          Yes         No   4.1    787  Banashankari   \n",
       "2        San Churro Cafe          Yes         No   3.8    918  Banashankari   \n",
       "3  Addhuri Udupi Bhojana            0         No   3.7     88  Banashankari   \n",
       "4          Grand Village            0         No   3.8    166  Basavanagudi   \n",
       "\n",
       "             rest_type                        cuisines  approx_cost  \\\n",
       "0        Casual Dining  North Indian, Mughlai, Chinese        800.0   \n",
       "1        Casual Dining     Chinese, North Indian, Thai        800.0   \n",
       "2  Cafe, Casual Dining          Cafe, Mexican, Italian        800.0   \n",
       "3          Quick Bites      South Indian, North Indian        300.0   \n",
       "4        Casual Dining        North Indian, Rajasthani        600.0   \n",
       "\n",
       "          Place  \n",
       "0  Banashankari  \n",
       "1  Banashankari  \n",
       "2  Banashankari  \n",
       "3  Banashankari  \n",
       "4  Banashankari  "
      ]
     },
     "execution_count": 44,
     "metadata": {},
     "output_type": "execute_result"
    }
   ],
   "source": [
    "df['online_order'] = df['online_order'].replace({\"yes\":1, \"No\":0})\n",
    "df.head()"
   ]
  },
  {
   "cell_type": "markdown",
   "id": "bd84305f",
   "metadata": {},
   "source": [
    "### Book Table Column"
   ]
  },
  {
   "cell_type": "code",
   "execution_count": 45,
   "id": "80019a52",
   "metadata": {},
   "outputs": [
    {
     "data": {
      "text/html": [
       "<div>\n",
       "<style scoped>\n",
       "    .dataframe tbody tr th:only-of-type {\n",
       "        vertical-align: middle;\n",
       "    }\n",
       "\n",
       "    .dataframe tbody tr th {\n",
       "        vertical-align: top;\n",
       "    }\n",
       "\n",
       "    .dataframe thead th {\n",
       "        text-align: right;\n",
       "    }\n",
       "</style>\n",
       "<table border=\"1\" class=\"dataframe\">\n",
       "  <thead>\n",
       "    <tr style=\"text-align: right;\">\n",
       "      <th></th>\n",
       "      <th>name</th>\n",
       "      <th>online_order</th>\n",
       "      <th>book_table</th>\n",
       "      <th>rate</th>\n",
       "      <th>votes</th>\n",
       "      <th>location</th>\n",
       "      <th>rest_type</th>\n",
       "      <th>cuisines</th>\n",
       "      <th>approx_cost</th>\n",
       "      <th>Place</th>\n",
       "    </tr>\n",
       "  </thead>\n",
       "  <tbody>\n",
       "    <tr>\n",
       "      <th>0</th>\n",
       "      <td>Jalsa</td>\n",
       "      <td>Yes</td>\n",
       "      <td>1</td>\n",
       "      <td>4.1</td>\n",
       "      <td>775</td>\n",
       "      <td>Banashankari</td>\n",
       "      <td>Casual Dining</td>\n",
       "      <td>North Indian, Mughlai, Chinese</td>\n",
       "      <td>800.0</td>\n",
       "      <td>Banashankari</td>\n",
       "    </tr>\n",
       "    <tr>\n",
       "      <th>1</th>\n",
       "      <td>Spice Elephant</td>\n",
       "      <td>Yes</td>\n",
       "      <td>0</td>\n",
       "      <td>4.1</td>\n",
       "      <td>787</td>\n",
       "      <td>Banashankari</td>\n",
       "      <td>Casual Dining</td>\n",
       "      <td>Chinese, North Indian, Thai</td>\n",
       "      <td>800.0</td>\n",
       "      <td>Banashankari</td>\n",
       "    </tr>\n",
       "    <tr>\n",
       "      <th>2</th>\n",
       "      <td>San Churro Cafe</td>\n",
       "      <td>Yes</td>\n",
       "      <td>0</td>\n",
       "      <td>3.8</td>\n",
       "      <td>918</td>\n",
       "      <td>Banashankari</td>\n",
       "      <td>Cafe, Casual Dining</td>\n",
       "      <td>Cafe, Mexican, Italian</td>\n",
       "      <td>800.0</td>\n",
       "      <td>Banashankari</td>\n",
       "    </tr>\n",
       "    <tr>\n",
       "      <th>3</th>\n",
       "      <td>Addhuri Udupi Bhojana</td>\n",
       "      <td>0</td>\n",
       "      <td>0</td>\n",
       "      <td>3.7</td>\n",
       "      <td>88</td>\n",
       "      <td>Banashankari</td>\n",
       "      <td>Quick Bites</td>\n",
       "      <td>South Indian, North Indian</td>\n",
       "      <td>300.0</td>\n",
       "      <td>Banashankari</td>\n",
       "    </tr>\n",
       "    <tr>\n",
       "      <th>4</th>\n",
       "      <td>Grand Village</td>\n",
       "      <td>0</td>\n",
       "      <td>0</td>\n",
       "      <td>3.8</td>\n",
       "      <td>166</td>\n",
       "      <td>Basavanagudi</td>\n",
       "      <td>Casual Dining</td>\n",
       "      <td>North Indian, Rajasthani</td>\n",
       "      <td>600.0</td>\n",
       "      <td>Banashankari</td>\n",
       "    </tr>\n",
       "  </tbody>\n",
       "</table>\n",
       "</div>"
      ],
      "text/plain": [
       "                    name online_order  book_table  rate  votes      location  \\\n",
       "0                  Jalsa          Yes           1   4.1    775  Banashankari   \n",
       "1         Spice Elephant          Yes           0   4.1    787  Banashankari   \n",
       "2        San Churro Cafe          Yes           0   3.8    918  Banashankari   \n",
       "3  Addhuri Udupi Bhojana            0           0   3.7     88  Banashankari   \n",
       "4          Grand Village            0           0   3.8    166  Basavanagudi   \n",
       "\n",
       "             rest_type                        cuisines  approx_cost  \\\n",
       "0        Casual Dining  North Indian, Mughlai, Chinese        800.0   \n",
       "1        Casual Dining     Chinese, North Indian, Thai        800.0   \n",
       "2  Cafe, Casual Dining          Cafe, Mexican, Italian        800.0   \n",
       "3          Quick Bites      South Indian, North Indian        300.0   \n",
       "4        Casual Dining        North Indian, Rajasthani        600.0   \n",
       "\n",
       "          Place  \n",
       "0  Banashankari  \n",
       "1  Banashankari  \n",
       "2  Banashankari  \n",
       "3  Banashankari  \n",
       "4  Banashankari  "
      ]
     },
     "execution_count": 45,
     "metadata": {},
     "output_type": "execute_result"
    }
   ],
   "source": [
    "df['book_table'] = df['book_table'].replace({\"Yes\":1,\"No\":0})\n",
    "df.head()"
   ]
  },
  {
   "cell_type": "markdown",
   "id": "eb53ed73",
   "metadata": {},
   "source": [
    "### Rest Type Column"
   ]
  },
  {
   "cell_type": "code",
   "execution_count": 46,
   "id": "a4ec78ce",
   "metadata": {},
   "outputs": [],
   "source": [
    "rest_df = pd.DataFrame(df['rest_type'])\n",
    "x = list(rest_df.rest_type.str.split(\", \"))\n",
    "unique_x = list(set([i for sub_list in x for i in sub_list]))\n",
    "\n",
    "for i in unique_x:\n",
    "    rest_df[i] = int(0)"
   ]
  },
  {
   "cell_type": "code",
   "execution_count": 47,
   "id": "8e3ecc9c",
   "metadata": {},
   "outputs": [
    {
     "data": {
      "text/html": [
       "<div>\n",
       "<style scoped>\n",
       "    .dataframe tbody tr th:only-of-type {\n",
       "        vertical-align: middle;\n",
       "    }\n",
       "\n",
       "    .dataframe tbody tr th {\n",
       "        vertical-align: top;\n",
       "    }\n",
       "\n",
       "    .dataframe thead th {\n",
       "        text-align: right;\n",
       "    }\n",
       "</style>\n",
       "<table border=\"1\" class=\"dataframe\">\n",
       "  <thead>\n",
       "    <tr style=\"text-align: right;\">\n",
       "      <th></th>\n",
       "      <th>rest_type</th>\n",
       "      <th>Pub</th>\n",
       "      <th>Pop Up</th>\n",
       "      <th>Confectionery</th>\n",
       "      <th>Irani Cafee</th>\n",
       "      <th>Food Court</th>\n",
       "      <th>Kiosk</th>\n",
       "      <th>Lounge</th>\n",
       "      <th>Cafe</th>\n",
       "      <th>Dessert Parlor</th>\n",
       "      <th>...</th>\n",
       "      <th>Takeaway</th>\n",
       "      <th>Bhojanalya</th>\n",
       "      <th>Meat Shop</th>\n",
       "      <th>Sweet Shop</th>\n",
       "      <th>Bakery</th>\n",
       "      <th>Food Truck</th>\n",
       "      <th>Dhaba</th>\n",
       "      <th>Delivery</th>\n",
       "      <th>Quick Bites</th>\n",
       "      <th>Bar</th>\n",
       "    </tr>\n",
       "  </thead>\n",
       "  <tbody>\n",
       "    <tr>\n",
       "      <th>0</th>\n",
       "      <td>Casual Dining</td>\n",
       "      <td>0</td>\n",
       "      <td>0</td>\n",
       "      <td>0</td>\n",
       "      <td>0</td>\n",
       "      <td>0</td>\n",
       "      <td>0</td>\n",
       "      <td>0</td>\n",
       "      <td>0</td>\n",
       "      <td>0</td>\n",
       "      <td>...</td>\n",
       "      <td>0</td>\n",
       "      <td>0</td>\n",
       "      <td>0</td>\n",
       "      <td>0</td>\n",
       "      <td>0</td>\n",
       "      <td>0</td>\n",
       "      <td>0</td>\n",
       "      <td>0</td>\n",
       "      <td>0</td>\n",
       "      <td>0</td>\n",
       "    </tr>\n",
       "    <tr>\n",
       "      <th>1</th>\n",
       "      <td>Casual Dining</td>\n",
       "      <td>0</td>\n",
       "      <td>0</td>\n",
       "      <td>0</td>\n",
       "      <td>0</td>\n",
       "      <td>0</td>\n",
       "      <td>0</td>\n",
       "      <td>0</td>\n",
       "      <td>0</td>\n",
       "      <td>0</td>\n",
       "      <td>...</td>\n",
       "      <td>0</td>\n",
       "      <td>0</td>\n",
       "      <td>0</td>\n",
       "      <td>0</td>\n",
       "      <td>0</td>\n",
       "      <td>0</td>\n",
       "      <td>0</td>\n",
       "      <td>0</td>\n",
       "      <td>0</td>\n",
       "      <td>0</td>\n",
       "    </tr>\n",
       "    <tr>\n",
       "      <th>2</th>\n",
       "      <td>Cafe, Casual Dining</td>\n",
       "      <td>0</td>\n",
       "      <td>0</td>\n",
       "      <td>0</td>\n",
       "      <td>0</td>\n",
       "      <td>0</td>\n",
       "      <td>0</td>\n",
       "      <td>0</td>\n",
       "      <td>0</td>\n",
       "      <td>0</td>\n",
       "      <td>...</td>\n",
       "      <td>0</td>\n",
       "      <td>0</td>\n",
       "      <td>0</td>\n",
       "      <td>0</td>\n",
       "      <td>0</td>\n",
       "      <td>0</td>\n",
       "      <td>0</td>\n",
       "      <td>0</td>\n",
       "      <td>0</td>\n",
       "      <td>0</td>\n",
       "    </tr>\n",
       "    <tr>\n",
       "      <th>3</th>\n",
       "      <td>Quick Bites</td>\n",
       "      <td>0</td>\n",
       "      <td>0</td>\n",
       "      <td>0</td>\n",
       "      <td>0</td>\n",
       "      <td>0</td>\n",
       "      <td>0</td>\n",
       "      <td>0</td>\n",
       "      <td>0</td>\n",
       "      <td>0</td>\n",
       "      <td>...</td>\n",
       "      <td>0</td>\n",
       "      <td>0</td>\n",
       "      <td>0</td>\n",
       "      <td>0</td>\n",
       "      <td>0</td>\n",
       "      <td>0</td>\n",
       "      <td>0</td>\n",
       "      <td>0</td>\n",
       "      <td>0</td>\n",
       "      <td>0</td>\n",
       "    </tr>\n",
       "    <tr>\n",
       "      <th>4</th>\n",
       "      <td>Casual Dining</td>\n",
       "      <td>0</td>\n",
       "      <td>0</td>\n",
       "      <td>0</td>\n",
       "      <td>0</td>\n",
       "      <td>0</td>\n",
       "      <td>0</td>\n",
       "      <td>0</td>\n",
       "      <td>0</td>\n",
       "      <td>0</td>\n",
       "      <td>...</td>\n",
       "      <td>0</td>\n",
       "      <td>0</td>\n",
       "      <td>0</td>\n",
       "      <td>0</td>\n",
       "      <td>0</td>\n",
       "      <td>0</td>\n",
       "      <td>0</td>\n",
       "      <td>0</td>\n",
       "      <td>0</td>\n",
       "      <td>0</td>\n",
       "    </tr>\n",
       "  </tbody>\n",
       "</table>\n",
       "<p>5 rows × 26 columns</p>\n",
       "</div>"
      ],
      "text/plain": [
       "             rest_type  Pub  Pop Up  Confectionery  Irani Cafee  Food Court  \\\n",
       "0        Casual Dining    0       0              0            0           0   \n",
       "1        Casual Dining    0       0              0            0           0   \n",
       "2  Cafe, Casual Dining    0       0              0            0           0   \n",
       "3          Quick Bites    0       0              0            0           0   \n",
       "4        Casual Dining    0       0              0            0           0   \n",
       "\n",
       "   Kiosk  Lounge  Cafe  Dessert Parlor  ...  Takeaway  Bhojanalya  Meat Shop  \\\n",
       "0      0       0     0               0  ...         0           0          0   \n",
       "1      0       0     0               0  ...         0           0          0   \n",
       "2      0       0     0               0  ...         0           0          0   \n",
       "3      0       0     0               0  ...         0           0          0   \n",
       "4      0       0     0               0  ...         0           0          0   \n",
       "\n",
       "   Sweet Shop  Bakery  Food Truck  Dhaba  Delivery  Quick Bites  Bar  \n",
       "0           0       0           0      0         0            0    0  \n",
       "1           0       0           0      0         0            0    0  \n",
       "2           0       0           0      0         0            0    0  \n",
       "3           0       0           0      0         0            0    0  \n",
       "4           0       0           0      0         0            0    0  \n",
       "\n",
       "[5 rows x 26 columns]"
      ]
     },
     "execution_count": 47,
     "metadata": {},
     "output_type": "execute_result"
    }
   ],
   "source": [
    "rest_df.head()"
   ]
  },
  {
   "cell_type": "code",
   "execution_count": 48,
   "id": "b2907fc3",
   "metadata": {},
   "outputs": [],
   "source": [
    "count=0\n",
    "for y in x:\n",
    "    rest_df.loc[count,y] = int(1)\n",
    "    count+=1 "
   ]
  },
  {
   "cell_type": "code",
   "execution_count": 49,
   "id": "239fe0e0",
   "metadata": {},
   "outputs": [
    {
     "data": {
      "text/html": [
       "<div>\n",
       "<style scoped>\n",
       "    .dataframe tbody tr th:only-of-type {\n",
       "        vertical-align: middle;\n",
       "    }\n",
       "\n",
       "    .dataframe tbody tr th {\n",
       "        vertical-align: top;\n",
       "    }\n",
       "\n",
       "    .dataframe thead th {\n",
       "        text-align: right;\n",
       "    }\n",
       "</style>\n",
       "<table border=\"1\" class=\"dataframe\">\n",
       "  <thead>\n",
       "    <tr style=\"text-align: right;\">\n",
       "      <th></th>\n",
       "      <th>rest_type</th>\n",
       "      <th>Pub</th>\n",
       "      <th>Pop Up</th>\n",
       "      <th>Confectionery</th>\n",
       "      <th>Irani Cafee</th>\n",
       "      <th>Food Court</th>\n",
       "      <th>Kiosk</th>\n",
       "      <th>Lounge</th>\n",
       "      <th>Cafe</th>\n",
       "      <th>Dessert Parlor</th>\n",
       "      <th>...</th>\n",
       "      <th>Takeaway</th>\n",
       "      <th>Bhojanalya</th>\n",
       "      <th>Meat Shop</th>\n",
       "      <th>Sweet Shop</th>\n",
       "      <th>Bakery</th>\n",
       "      <th>Food Truck</th>\n",
       "      <th>Dhaba</th>\n",
       "      <th>Delivery</th>\n",
       "      <th>Quick Bites</th>\n",
       "      <th>Bar</th>\n",
       "    </tr>\n",
       "  </thead>\n",
       "  <tbody>\n",
       "    <tr>\n",
       "      <th>0</th>\n",
       "      <td>Casual Dining</td>\n",
       "      <td>0</td>\n",
       "      <td>0</td>\n",
       "      <td>0</td>\n",
       "      <td>0</td>\n",
       "      <td>0</td>\n",
       "      <td>0</td>\n",
       "      <td>0</td>\n",
       "      <td>0</td>\n",
       "      <td>0</td>\n",
       "      <td>...</td>\n",
       "      <td>0</td>\n",
       "      <td>0</td>\n",
       "      <td>0</td>\n",
       "      <td>0</td>\n",
       "      <td>0</td>\n",
       "      <td>0</td>\n",
       "      <td>0</td>\n",
       "      <td>0</td>\n",
       "      <td>0</td>\n",
       "      <td>0</td>\n",
       "    </tr>\n",
       "    <tr>\n",
       "      <th>1</th>\n",
       "      <td>Casual Dining</td>\n",
       "      <td>0</td>\n",
       "      <td>0</td>\n",
       "      <td>0</td>\n",
       "      <td>0</td>\n",
       "      <td>0</td>\n",
       "      <td>0</td>\n",
       "      <td>0</td>\n",
       "      <td>0</td>\n",
       "      <td>0</td>\n",
       "      <td>...</td>\n",
       "      <td>0</td>\n",
       "      <td>0</td>\n",
       "      <td>0</td>\n",
       "      <td>0</td>\n",
       "      <td>0</td>\n",
       "      <td>0</td>\n",
       "      <td>0</td>\n",
       "      <td>0</td>\n",
       "      <td>0</td>\n",
       "      <td>0</td>\n",
       "    </tr>\n",
       "    <tr>\n",
       "      <th>2</th>\n",
       "      <td>Cafe, Casual Dining</td>\n",
       "      <td>0</td>\n",
       "      <td>0</td>\n",
       "      <td>0</td>\n",
       "      <td>0</td>\n",
       "      <td>0</td>\n",
       "      <td>0</td>\n",
       "      <td>0</td>\n",
       "      <td>1</td>\n",
       "      <td>0</td>\n",
       "      <td>...</td>\n",
       "      <td>0</td>\n",
       "      <td>0</td>\n",
       "      <td>0</td>\n",
       "      <td>0</td>\n",
       "      <td>0</td>\n",
       "      <td>0</td>\n",
       "      <td>0</td>\n",
       "      <td>0</td>\n",
       "      <td>0</td>\n",
       "      <td>0</td>\n",
       "    </tr>\n",
       "    <tr>\n",
       "      <th>3</th>\n",
       "      <td>Quick Bites</td>\n",
       "      <td>0</td>\n",
       "      <td>0</td>\n",
       "      <td>0</td>\n",
       "      <td>0</td>\n",
       "      <td>0</td>\n",
       "      <td>0</td>\n",
       "      <td>0</td>\n",
       "      <td>0</td>\n",
       "      <td>0</td>\n",
       "      <td>...</td>\n",
       "      <td>0</td>\n",
       "      <td>0</td>\n",
       "      <td>0</td>\n",
       "      <td>0</td>\n",
       "      <td>0</td>\n",
       "      <td>0</td>\n",
       "      <td>0</td>\n",
       "      <td>0</td>\n",
       "      <td>1</td>\n",
       "      <td>0</td>\n",
       "    </tr>\n",
       "    <tr>\n",
       "      <th>4</th>\n",
       "      <td>Casual Dining</td>\n",
       "      <td>0</td>\n",
       "      <td>0</td>\n",
       "      <td>0</td>\n",
       "      <td>0</td>\n",
       "      <td>0</td>\n",
       "      <td>0</td>\n",
       "      <td>0</td>\n",
       "      <td>0</td>\n",
       "      <td>0</td>\n",
       "      <td>...</td>\n",
       "      <td>0</td>\n",
       "      <td>0</td>\n",
       "      <td>0</td>\n",
       "      <td>0</td>\n",
       "      <td>0</td>\n",
       "      <td>0</td>\n",
       "      <td>0</td>\n",
       "      <td>0</td>\n",
       "      <td>0</td>\n",
       "      <td>0</td>\n",
       "    </tr>\n",
       "  </tbody>\n",
       "</table>\n",
       "<p>5 rows × 26 columns</p>\n",
       "</div>"
      ],
      "text/plain": [
       "             rest_type  Pub  Pop Up  Confectionery  Irani Cafee  Food Court  \\\n",
       "0        Casual Dining    0       0              0            0           0   \n",
       "1        Casual Dining    0       0              0            0           0   \n",
       "2  Cafe, Casual Dining    0       0              0            0           0   \n",
       "3          Quick Bites    0       0              0            0           0   \n",
       "4        Casual Dining    0       0              0            0           0   \n",
       "\n",
       "   Kiosk  Lounge  Cafe  Dessert Parlor  ...  Takeaway  Bhojanalya  Meat Shop  \\\n",
       "0      0       0     0               0  ...         0           0          0   \n",
       "1      0       0     0               0  ...         0           0          0   \n",
       "2      0       0     1               0  ...         0           0          0   \n",
       "3      0       0     0               0  ...         0           0          0   \n",
       "4      0       0     0               0  ...         0           0          0   \n",
       "\n",
       "   Sweet Shop  Bakery  Food Truck  Dhaba  Delivery  Quick Bites  Bar  \n",
       "0           0       0           0      0         0            0    0  \n",
       "1           0       0           0      0         0            0    0  \n",
       "2           0       0           0      0         0            0    0  \n",
       "3           0       0           0      0         0            1    0  \n",
       "4           0       0           0      0         0            0    0  \n",
       "\n",
       "[5 rows x 26 columns]"
      ]
     },
     "execution_count": 49,
     "metadata": {},
     "output_type": "execute_result"
    }
   ],
   "source": [
    "rest_df.head()"
   ]
  },
  {
   "cell_type": "code",
   "execution_count": 50,
   "id": "a8fa59cd",
   "metadata": {},
   "outputs": [
    {
     "data": {
      "text/html": [
       "<div>\n",
       "<style scoped>\n",
       "    .dataframe tbody tr th:only-of-type {\n",
       "        vertical-align: middle;\n",
       "    }\n",
       "\n",
       "    .dataframe tbody tr th {\n",
       "        vertical-align: top;\n",
       "    }\n",
       "\n",
       "    .dataframe thead th {\n",
       "        text-align: right;\n",
       "    }\n",
       "</style>\n",
       "<table border=\"1\" class=\"dataframe\">\n",
       "  <thead>\n",
       "    <tr style=\"text-align: right;\">\n",
       "      <th></th>\n",
       "      <th>Pub</th>\n",
       "      <th>Pop Up</th>\n",
       "      <th>Confectionery</th>\n",
       "      <th>Irani Cafee</th>\n",
       "      <th>Food Court</th>\n",
       "      <th>Kiosk</th>\n",
       "      <th>Lounge</th>\n",
       "      <th>Cafe</th>\n",
       "      <th>Dessert Parlor</th>\n",
       "      <th>Beverage Shop</th>\n",
       "      <th>...</th>\n",
       "      <th>Takeaway</th>\n",
       "      <th>Bhojanalya</th>\n",
       "      <th>Meat Shop</th>\n",
       "      <th>Sweet Shop</th>\n",
       "      <th>Bakery</th>\n",
       "      <th>Food Truck</th>\n",
       "      <th>Dhaba</th>\n",
       "      <th>Delivery</th>\n",
       "      <th>Quick Bites</th>\n",
       "      <th>Bar</th>\n",
       "    </tr>\n",
       "  </thead>\n",
       "  <tbody>\n",
       "    <tr>\n",
       "      <th>0</th>\n",
       "      <td>0</td>\n",
       "      <td>0</td>\n",
       "      <td>0</td>\n",
       "      <td>0</td>\n",
       "      <td>0</td>\n",
       "      <td>0</td>\n",
       "      <td>0</td>\n",
       "      <td>0</td>\n",
       "      <td>0</td>\n",
       "      <td>0</td>\n",
       "      <td>...</td>\n",
       "      <td>0</td>\n",
       "      <td>0</td>\n",
       "      <td>0</td>\n",
       "      <td>0</td>\n",
       "      <td>0</td>\n",
       "      <td>0</td>\n",
       "      <td>0</td>\n",
       "      <td>0</td>\n",
       "      <td>0</td>\n",
       "      <td>0</td>\n",
       "    </tr>\n",
       "    <tr>\n",
       "      <th>1</th>\n",
       "      <td>0</td>\n",
       "      <td>0</td>\n",
       "      <td>0</td>\n",
       "      <td>0</td>\n",
       "      <td>0</td>\n",
       "      <td>0</td>\n",
       "      <td>0</td>\n",
       "      <td>0</td>\n",
       "      <td>0</td>\n",
       "      <td>0</td>\n",
       "      <td>...</td>\n",
       "      <td>0</td>\n",
       "      <td>0</td>\n",
       "      <td>0</td>\n",
       "      <td>0</td>\n",
       "      <td>0</td>\n",
       "      <td>0</td>\n",
       "      <td>0</td>\n",
       "      <td>0</td>\n",
       "      <td>0</td>\n",
       "      <td>0</td>\n",
       "    </tr>\n",
       "    <tr>\n",
       "      <th>2</th>\n",
       "      <td>0</td>\n",
       "      <td>0</td>\n",
       "      <td>0</td>\n",
       "      <td>0</td>\n",
       "      <td>0</td>\n",
       "      <td>0</td>\n",
       "      <td>0</td>\n",
       "      <td>1</td>\n",
       "      <td>0</td>\n",
       "      <td>0</td>\n",
       "      <td>...</td>\n",
       "      <td>0</td>\n",
       "      <td>0</td>\n",
       "      <td>0</td>\n",
       "      <td>0</td>\n",
       "      <td>0</td>\n",
       "      <td>0</td>\n",
       "      <td>0</td>\n",
       "      <td>0</td>\n",
       "      <td>0</td>\n",
       "      <td>0</td>\n",
       "    </tr>\n",
       "    <tr>\n",
       "      <th>3</th>\n",
       "      <td>0</td>\n",
       "      <td>0</td>\n",
       "      <td>0</td>\n",
       "      <td>0</td>\n",
       "      <td>0</td>\n",
       "      <td>0</td>\n",
       "      <td>0</td>\n",
       "      <td>0</td>\n",
       "      <td>0</td>\n",
       "      <td>0</td>\n",
       "      <td>...</td>\n",
       "      <td>0</td>\n",
       "      <td>0</td>\n",
       "      <td>0</td>\n",
       "      <td>0</td>\n",
       "      <td>0</td>\n",
       "      <td>0</td>\n",
       "      <td>0</td>\n",
       "      <td>0</td>\n",
       "      <td>1</td>\n",
       "      <td>0</td>\n",
       "    </tr>\n",
       "    <tr>\n",
       "      <th>4</th>\n",
       "      <td>0</td>\n",
       "      <td>0</td>\n",
       "      <td>0</td>\n",
       "      <td>0</td>\n",
       "      <td>0</td>\n",
       "      <td>0</td>\n",
       "      <td>0</td>\n",
       "      <td>0</td>\n",
       "      <td>0</td>\n",
       "      <td>0</td>\n",
       "      <td>...</td>\n",
       "      <td>0</td>\n",
       "      <td>0</td>\n",
       "      <td>0</td>\n",
       "      <td>0</td>\n",
       "      <td>0</td>\n",
       "      <td>0</td>\n",
       "      <td>0</td>\n",
       "      <td>0</td>\n",
       "      <td>0</td>\n",
       "      <td>0</td>\n",
       "    </tr>\n",
       "  </tbody>\n",
       "</table>\n",
       "<p>5 rows × 25 columns</p>\n",
       "</div>"
      ],
      "text/plain": [
       "   Pub  Pop Up  Confectionery  Irani Cafee  Food Court  Kiosk  Lounge  Cafe  \\\n",
       "0    0       0              0            0           0      0       0     0   \n",
       "1    0       0              0            0           0      0       0     0   \n",
       "2    0       0              0            0           0      0       0     1   \n",
       "3    0       0              0            0           0      0       0     0   \n",
       "4    0       0              0            0           0      0       0     0   \n",
       "\n",
       "   Dessert Parlor  Beverage Shop  ...  Takeaway  Bhojanalya  Meat Shop  \\\n",
       "0               0              0  ...         0           0          0   \n",
       "1               0              0  ...         0           0          0   \n",
       "2               0              0  ...         0           0          0   \n",
       "3               0              0  ...         0           0          0   \n",
       "4               0              0  ...         0           0          0   \n",
       "\n",
       "   Sweet Shop  Bakery  Food Truck  Dhaba  Delivery  Quick Bites  Bar  \n",
       "0           0       0           0      0         0            0    0  \n",
       "1           0       0           0      0         0            0    0  \n",
       "2           0       0           0      0         0            0    0  \n",
       "3           0       0           0      0         0            1    0  \n",
       "4           0       0           0      0         0            0    0  \n",
       "\n",
       "[5 rows x 25 columns]"
      ]
     },
     "execution_count": 50,
     "metadata": {},
     "output_type": "execute_result"
    }
   ],
   "source": [
    "rest_df.drop(['rest_type'], axis=1, inplace=True)\n",
    "rest_df.head()"
   ]
  },
  {
   "cell_type": "markdown",
   "id": "2b19ef57",
   "metadata": {},
   "source": [
    "### Cuisines column"
   ]
  },
  {
   "cell_type": "code",
   "execution_count": 51,
   "id": "fc690a69",
   "metadata": {},
   "outputs": [
    {
     "name": "stderr",
     "output_type": "stream",
     "text": [
      "C:\\Users\\samir saiyed\\AppData\\Local\\Temp\\ipykernel_2796\\3710925419.py:8: PerformanceWarning: DataFrame is highly fragmented.  This is usually the result of calling `frame.insert` many times, which has poor performance.  Consider joining all columns at once using pd.concat(axis=1) instead. To get a de-fragmented frame, use `newframe = frame.copy()`\n",
      "  df1[cs] = 0\n",
      "C:\\Users\\samir saiyed\\AppData\\Local\\Temp\\ipykernel_2796\\3710925419.py:8: PerformanceWarning: DataFrame is highly fragmented.  This is usually the result of calling `frame.insert` many times, which has poor performance.  Consider joining all columns at once using pd.concat(axis=1) instead. To get a de-fragmented frame, use `newframe = frame.copy()`\n",
      "  df1[cs] = 0\n",
      "C:\\Users\\samir saiyed\\AppData\\Local\\Temp\\ipykernel_2796\\3710925419.py:8: PerformanceWarning: DataFrame is highly fragmented.  This is usually the result of calling `frame.insert` many times, which has poor performance.  Consider joining all columns at once using pd.concat(axis=1) instead. To get a de-fragmented frame, use `newframe = frame.copy()`\n",
      "  df1[cs] = 0\n",
      "C:\\Users\\samir saiyed\\AppData\\Local\\Temp\\ipykernel_2796\\3710925419.py:8: PerformanceWarning: DataFrame is highly fragmented.  This is usually the result of calling `frame.insert` many times, which has poor performance.  Consider joining all columns at once using pd.concat(axis=1) instead. To get a de-fragmented frame, use `newframe = frame.copy()`\n",
      "  df1[cs] = 0\n",
      "C:\\Users\\samir saiyed\\AppData\\Local\\Temp\\ipykernel_2796\\3710925419.py:8: PerformanceWarning: DataFrame is highly fragmented.  This is usually the result of calling `frame.insert` many times, which has poor performance.  Consider joining all columns at once using pd.concat(axis=1) instead. To get a de-fragmented frame, use `newframe = frame.copy()`\n",
      "  df1[cs] = 0\n",
      "C:\\Users\\samir saiyed\\AppData\\Local\\Temp\\ipykernel_2796\\3710925419.py:8: PerformanceWarning: DataFrame is highly fragmented.  This is usually the result of calling `frame.insert` many times, which has poor performance.  Consider joining all columns at once using pd.concat(axis=1) instead. To get a de-fragmented frame, use `newframe = frame.copy()`\n",
      "  df1[cs] = 0\n"
     ]
    },
    {
     "data": {
      "text/html": [
       "<div>\n",
       "<style scoped>\n",
       "    .dataframe tbody tr th:only-of-type {\n",
       "        vertical-align: middle;\n",
       "    }\n",
       "\n",
       "    .dataframe tbody tr th {\n",
       "        vertical-align: top;\n",
       "    }\n",
       "\n",
       "    .dataframe thead th {\n",
       "        text-align: right;\n",
       "    }\n",
       "</style>\n",
       "<table border=\"1\" class=\"dataframe\">\n",
       "  <thead>\n",
       "    <tr style=\"text-align: right;\">\n",
       "      <th></th>\n",
       "      <th>cuisines</th>\n",
       "      <th>Burmese</th>\n",
       "      <th>Mangalorean</th>\n",
       "      <th>Sushi</th>\n",
       "      <th>Bihari</th>\n",
       "      <th>Bubble Tea</th>\n",
       "      <th>Kerala</th>\n",
       "      <th>Vegan</th>\n",
       "      <th>Korean</th>\n",
       "      <th>Singaporean</th>\n",
       "      <th>...</th>\n",
       "      <th>Bar Food</th>\n",
       "      <th>Portuguese</th>\n",
       "      <th>Chettinad</th>\n",
       "      <th>Pan Asian</th>\n",
       "      <th>Spanish</th>\n",
       "      <th>Mongolian</th>\n",
       "      <th>Gujarati</th>\n",
       "      <th>Afghani</th>\n",
       "      <th>Grill</th>\n",
       "      <th>Tamil</th>\n",
       "    </tr>\n",
       "  </thead>\n",
       "  <tbody>\n",
       "    <tr>\n",
       "      <th>0</th>\n",
       "      <td>North Indian, Mughlai, Chinese</td>\n",
       "      <td>0</td>\n",
       "      <td>0</td>\n",
       "      <td>0</td>\n",
       "      <td>0</td>\n",
       "      <td>0</td>\n",
       "      <td>0</td>\n",
       "      <td>0</td>\n",
       "      <td>0</td>\n",
       "      <td>0</td>\n",
       "      <td>...</td>\n",
       "      <td>0</td>\n",
       "      <td>0</td>\n",
       "      <td>0</td>\n",
       "      <td>0</td>\n",
       "      <td>0</td>\n",
       "      <td>0</td>\n",
       "      <td>0</td>\n",
       "      <td>0</td>\n",
       "      <td>0</td>\n",
       "      <td>0</td>\n",
       "    </tr>\n",
       "    <tr>\n",
       "      <th>1</th>\n",
       "      <td>Chinese, North Indian, Thai</td>\n",
       "      <td>0</td>\n",
       "      <td>0</td>\n",
       "      <td>0</td>\n",
       "      <td>0</td>\n",
       "      <td>0</td>\n",
       "      <td>0</td>\n",
       "      <td>0</td>\n",
       "      <td>0</td>\n",
       "      <td>0</td>\n",
       "      <td>...</td>\n",
       "      <td>0</td>\n",
       "      <td>0</td>\n",
       "      <td>0</td>\n",
       "      <td>0</td>\n",
       "      <td>0</td>\n",
       "      <td>0</td>\n",
       "      <td>0</td>\n",
       "      <td>0</td>\n",
       "      <td>0</td>\n",
       "      <td>0</td>\n",
       "    </tr>\n",
       "    <tr>\n",
       "      <th>2</th>\n",
       "      <td>Cafe, Mexican, Italian</td>\n",
       "      <td>0</td>\n",
       "      <td>0</td>\n",
       "      <td>0</td>\n",
       "      <td>0</td>\n",
       "      <td>0</td>\n",
       "      <td>0</td>\n",
       "      <td>0</td>\n",
       "      <td>0</td>\n",
       "      <td>0</td>\n",
       "      <td>...</td>\n",
       "      <td>0</td>\n",
       "      <td>0</td>\n",
       "      <td>0</td>\n",
       "      <td>0</td>\n",
       "      <td>0</td>\n",
       "      <td>0</td>\n",
       "      <td>0</td>\n",
       "      <td>0</td>\n",
       "      <td>0</td>\n",
       "      <td>0</td>\n",
       "    </tr>\n",
       "    <tr>\n",
       "      <th>3</th>\n",
       "      <td>South Indian, North Indian</td>\n",
       "      <td>0</td>\n",
       "      <td>0</td>\n",
       "      <td>0</td>\n",
       "      <td>0</td>\n",
       "      <td>0</td>\n",
       "      <td>0</td>\n",
       "      <td>0</td>\n",
       "      <td>0</td>\n",
       "      <td>0</td>\n",
       "      <td>...</td>\n",
       "      <td>0</td>\n",
       "      <td>0</td>\n",
       "      <td>0</td>\n",
       "      <td>0</td>\n",
       "      <td>0</td>\n",
       "      <td>0</td>\n",
       "      <td>0</td>\n",
       "      <td>0</td>\n",
       "      <td>0</td>\n",
       "      <td>0</td>\n",
       "    </tr>\n",
       "    <tr>\n",
       "      <th>4</th>\n",
       "      <td>North Indian, Rajasthani</td>\n",
       "      <td>0</td>\n",
       "      <td>0</td>\n",
       "      <td>0</td>\n",
       "      <td>0</td>\n",
       "      <td>0</td>\n",
       "      <td>0</td>\n",
       "      <td>0</td>\n",
       "      <td>0</td>\n",
       "      <td>0</td>\n",
       "      <td>...</td>\n",
       "      <td>0</td>\n",
       "      <td>0</td>\n",
       "      <td>0</td>\n",
       "      <td>0</td>\n",
       "      <td>0</td>\n",
       "      <td>0</td>\n",
       "      <td>0</td>\n",
       "      <td>0</td>\n",
       "      <td>0</td>\n",
       "      <td>0</td>\n",
       "    </tr>\n",
       "  </tbody>\n",
       "</table>\n",
       "<p>5 rows × 106 columns</p>\n",
       "</div>"
      ],
      "text/plain": [
       "                         cuisines  Burmese  Mangalorean  Sushi  Bihari  \\\n",
       "0  North Indian, Mughlai, Chinese        0            0      0       0   \n",
       "1     Chinese, North Indian, Thai        0            0      0       0   \n",
       "2          Cafe, Mexican, Italian        0            0      0       0   \n",
       "3      South Indian, North Indian        0            0      0       0   \n",
       "4        North Indian, Rajasthani        0            0      0       0   \n",
       "\n",
       "   Bubble Tea  Kerala  Vegan  Korean  Singaporean  ...  Bar Food  Portuguese  \\\n",
       "0           0       0      0       0            0  ...         0           0   \n",
       "1           0       0      0       0            0  ...         0           0   \n",
       "2           0       0      0       0            0  ...         0           0   \n",
       "3           0       0      0       0            0  ...         0           0   \n",
       "4           0       0      0       0            0  ...         0           0   \n",
       "\n",
       "   Chettinad  Pan Asian  Spanish  Mongolian  Gujarati  Afghani  Grill  Tamil  \n",
       "0          0          0        0          0         0        0      0      0  \n",
       "1          0          0        0          0         0        0      0      0  \n",
       "2          0          0        0          0         0        0      0      0  \n",
       "3          0          0        0          0         0        0      0      0  \n",
       "4          0          0        0          0         0        0      0      0  \n",
       "\n",
       "[5 rows x 106 columns]"
      ]
     },
     "execution_count": 51,
     "metadata": {},
     "output_type": "execute_result"
    }
   ],
   "source": [
    "df1 = pd.DataFrame(df['cuisines'])\n",
    "cuisines = list(df1.cuisines.str.split(\", \"))\n",
    "unique_c = list(set([cs for sub_list in cuisines for cs in sub_list]))\n",
    "unique_c.remove(\"Cafe\")\n",
    "unique_c.remove(\"Bakery\")\n",
    "\n",
    "for cs in unique_c:\n",
    "    df1[cs] = 0\n",
    "\n",
    "df1.head()"
   ]
  },
  {
   "cell_type": "code",
   "execution_count": 52,
   "id": "3232ab88",
   "metadata": {},
   "outputs": [],
   "source": [
    "corrected_cuisines = []\n",
    "for i in cuisines:\n",
    "    if \"Cafe\" in i:\n",
    "        i.remove(\"Cafe\")\n",
    "    \n",
    "    if \"Bakery\" in i:\n",
    "        i.remove(\"Bakery\")\n",
    "\n",
    "    corrected_cuisines.append(list(set(i)))"
   ]
  },
  {
   "cell_type": "code",
   "execution_count": 53,
   "id": "1b27cab3",
   "metadata": {},
   "outputs": [],
   "source": [
    "count = 0\n",
    "for i in corrected_cuisines:\n",
    "    df1.loc[count, i] = int(1)\n",
    "    count+=1"
   ]
  },
  {
   "cell_type": "code",
   "execution_count": 54,
   "id": "24c2b80a",
   "metadata": {},
   "outputs": [
    {
     "data": {
      "text/html": [
       "<div>\n",
       "<style scoped>\n",
       "    .dataframe tbody tr th:only-of-type {\n",
       "        vertical-align: middle;\n",
       "    }\n",
       "\n",
       "    .dataframe tbody tr th {\n",
       "        vertical-align: top;\n",
       "    }\n",
       "\n",
       "    .dataframe thead th {\n",
       "        text-align: right;\n",
       "    }\n",
       "</style>\n",
       "<table border=\"1\" class=\"dataframe\">\n",
       "  <thead>\n",
       "    <tr style=\"text-align: right;\">\n",
       "      <th></th>\n",
       "      <th>cuisines</th>\n",
       "      <th>Burmese</th>\n",
       "      <th>Mangalorean</th>\n",
       "      <th>Sushi</th>\n",
       "      <th>Bihari</th>\n",
       "      <th>Bubble Tea</th>\n",
       "      <th>Kerala</th>\n",
       "      <th>Vegan</th>\n",
       "      <th>Korean</th>\n",
       "      <th>Singaporean</th>\n",
       "      <th>...</th>\n",
       "      <th>Bar Food</th>\n",
       "      <th>Portuguese</th>\n",
       "      <th>Chettinad</th>\n",
       "      <th>Pan Asian</th>\n",
       "      <th>Spanish</th>\n",
       "      <th>Mongolian</th>\n",
       "      <th>Gujarati</th>\n",
       "      <th>Afghani</th>\n",
       "      <th>Grill</th>\n",
       "      <th>Tamil</th>\n",
       "    </tr>\n",
       "  </thead>\n",
       "  <tbody>\n",
       "    <tr>\n",
       "      <th>0</th>\n",
       "      <td>North Indian, Mughlai, Chinese</td>\n",
       "      <td>0</td>\n",
       "      <td>0</td>\n",
       "      <td>0</td>\n",
       "      <td>0</td>\n",
       "      <td>0</td>\n",
       "      <td>0</td>\n",
       "      <td>0</td>\n",
       "      <td>0</td>\n",
       "      <td>0</td>\n",
       "      <td>...</td>\n",
       "      <td>0</td>\n",
       "      <td>0</td>\n",
       "      <td>0</td>\n",
       "      <td>0</td>\n",
       "      <td>0</td>\n",
       "      <td>0</td>\n",
       "      <td>0</td>\n",
       "      <td>0</td>\n",
       "      <td>0</td>\n",
       "      <td>0</td>\n",
       "    </tr>\n",
       "    <tr>\n",
       "      <th>1</th>\n",
       "      <td>Chinese, North Indian, Thai</td>\n",
       "      <td>0</td>\n",
       "      <td>0</td>\n",
       "      <td>0</td>\n",
       "      <td>0</td>\n",
       "      <td>0</td>\n",
       "      <td>0</td>\n",
       "      <td>0</td>\n",
       "      <td>0</td>\n",
       "      <td>0</td>\n",
       "      <td>...</td>\n",
       "      <td>0</td>\n",
       "      <td>0</td>\n",
       "      <td>0</td>\n",
       "      <td>0</td>\n",
       "      <td>0</td>\n",
       "      <td>0</td>\n",
       "      <td>0</td>\n",
       "      <td>0</td>\n",
       "      <td>0</td>\n",
       "      <td>0</td>\n",
       "    </tr>\n",
       "    <tr>\n",
       "      <th>2</th>\n",
       "      <td>Cafe, Mexican, Italian</td>\n",
       "      <td>0</td>\n",
       "      <td>0</td>\n",
       "      <td>0</td>\n",
       "      <td>0</td>\n",
       "      <td>0</td>\n",
       "      <td>0</td>\n",
       "      <td>0</td>\n",
       "      <td>0</td>\n",
       "      <td>0</td>\n",
       "      <td>...</td>\n",
       "      <td>0</td>\n",
       "      <td>0</td>\n",
       "      <td>0</td>\n",
       "      <td>0</td>\n",
       "      <td>0</td>\n",
       "      <td>0</td>\n",
       "      <td>0</td>\n",
       "      <td>0</td>\n",
       "      <td>0</td>\n",
       "      <td>0</td>\n",
       "    </tr>\n",
       "    <tr>\n",
       "      <th>3</th>\n",
       "      <td>South Indian, North Indian</td>\n",
       "      <td>0</td>\n",
       "      <td>0</td>\n",
       "      <td>0</td>\n",
       "      <td>0</td>\n",
       "      <td>0</td>\n",
       "      <td>0</td>\n",
       "      <td>0</td>\n",
       "      <td>0</td>\n",
       "      <td>0</td>\n",
       "      <td>...</td>\n",
       "      <td>0</td>\n",
       "      <td>0</td>\n",
       "      <td>0</td>\n",
       "      <td>0</td>\n",
       "      <td>0</td>\n",
       "      <td>0</td>\n",
       "      <td>0</td>\n",
       "      <td>0</td>\n",
       "      <td>0</td>\n",
       "      <td>0</td>\n",
       "    </tr>\n",
       "    <tr>\n",
       "      <th>4</th>\n",
       "      <td>North Indian, Rajasthani</td>\n",
       "      <td>0</td>\n",
       "      <td>0</td>\n",
       "      <td>0</td>\n",
       "      <td>0</td>\n",
       "      <td>0</td>\n",
       "      <td>0</td>\n",
       "      <td>0</td>\n",
       "      <td>0</td>\n",
       "      <td>0</td>\n",
       "      <td>...</td>\n",
       "      <td>0</td>\n",
       "      <td>0</td>\n",
       "      <td>0</td>\n",
       "      <td>0</td>\n",
       "      <td>0</td>\n",
       "      <td>0</td>\n",
       "      <td>0</td>\n",
       "      <td>0</td>\n",
       "      <td>0</td>\n",
       "      <td>0</td>\n",
       "    </tr>\n",
       "  </tbody>\n",
       "</table>\n",
       "<p>5 rows × 106 columns</p>\n",
       "</div>"
      ],
      "text/plain": [
       "                         cuisines  Burmese  Mangalorean  Sushi  Bihari  \\\n",
       "0  North Indian, Mughlai, Chinese        0            0      0       0   \n",
       "1     Chinese, North Indian, Thai        0            0      0       0   \n",
       "2          Cafe, Mexican, Italian        0            0      0       0   \n",
       "3      South Indian, North Indian        0            0      0       0   \n",
       "4        North Indian, Rajasthani        0            0      0       0   \n",
       "\n",
       "   Bubble Tea  Kerala  Vegan  Korean  Singaporean  ...  Bar Food  Portuguese  \\\n",
       "0           0       0      0       0            0  ...         0           0   \n",
       "1           0       0      0       0            0  ...         0           0   \n",
       "2           0       0      0       0            0  ...         0           0   \n",
       "3           0       0      0       0            0  ...         0           0   \n",
       "4           0       0      0       0            0  ...         0           0   \n",
       "\n",
       "   Chettinad  Pan Asian  Spanish  Mongolian  Gujarati  Afghani  Grill  Tamil  \n",
       "0          0          0        0          0         0        0      0      0  \n",
       "1          0          0        0          0         0        0      0      0  \n",
       "2          0          0        0          0         0        0      0      0  \n",
       "3          0          0        0          0         0        0      0      0  \n",
       "4          0          0        0          0         0        0      0      0  \n",
       "\n",
       "[5 rows x 106 columns]"
      ]
     },
     "execution_count": 54,
     "metadata": {},
     "output_type": "execute_result"
    }
   ],
   "source": [
    "df1.head()"
   ]
  },
  {
   "cell_type": "code",
   "execution_count": 55,
   "id": "e9f277c4",
   "metadata": {},
   "outputs": [
    {
     "data": {
      "text/html": [
       "<div>\n",
       "<style scoped>\n",
       "    .dataframe tbody tr th:only-of-type {\n",
       "        vertical-align: middle;\n",
       "    }\n",
       "\n",
       "    .dataframe tbody tr th {\n",
       "        vertical-align: top;\n",
       "    }\n",
       "\n",
       "    .dataframe thead th {\n",
       "        text-align: right;\n",
       "    }\n",
       "</style>\n",
       "<table border=\"1\" class=\"dataframe\">\n",
       "  <thead>\n",
       "    <tr style=\"text-align: right;\">\n",
       "      <th></th>\n",
       "      <th>Burmese</th>\n",
       "      <th>Mangalorean</th>\n",
       "      <th>Sushi</th>\n",
       "      <th>Bihari</th>\n",
       "      <th>Bubble Tea</th>\n",
       "      <th>Kerala</th>\n",
       "      <th>Vegan</th>\n",
       "      <th>Korean</th>\n",
       "      <th>Singaporean</th>\n",
       "      <th>Mughlai</th>\n",
       "      <th>...</th>\n",
       "      <th>Bar Food</th>\n",
       "      <th>Portuguese</th>\n",
       "      <th>Chettinad</th>\n",
       "      <th>Pan Asian</th>\n",
       "      <th>Spanish</th>\n",
       "      <th>Mongolian</th>\n",
       "      <th>Gujarati</th>\n",
       "      <th>Afghani</th>\n",
       "      <th>Grill</th>\n",
       "      <th>Tamil</th>\n",
       "    </tr>\n",
       "  </thead>\n",
       "  <tbody>\n",
       "    <tr>\n",
       "      <th>0</th>\n",
       "      <td>0</td>\n",
       "      <td>0</td>\n",
       "      <td>0</td>\n",
       "      <td>0</td>\n",
       "      <td>0</td>\n",
       "      <td>0</td>\n",
       "      <td>0</td>\n",
       "      <td>0</td>\n",
       "      <td>0</td>\n",
       "      <td>1</td>\n",
       "      <td>...</td>\n",
       "      <td>0</td>\n",
       "      <td>0</td>\n",
       "      <td>0</td>\n",
       "      <td>0</td>\n",
       "      <td>0</td>\n",
       "      <td>0</td>\n",
       "      <td>0</td>\n",
       "      <td>0</td>\n",
       "      <td>0</td>\n",
       "      <td>0</td>\n",
       "    </tr>\n",
       "    <tr>\n",
       "      <th>1</th>\n",
       "      <td>0</td>\n",
       "      <td>0</td>\n",
       "      <td>0</td>\n",
       "      <td>0</td>\n",
       "      <td>0</td>\n",
       "      <td>0</td>\n",
       "      <td>0</td>\n",
       "      <td>0</td>\n",
       "      <td>0</td>\n",
       "      <td>0</td>\n",
       "      <td>...</td>\n",
       "      <td>0</td>\n",
       "      <td>0</td>\n",
       "      <td>0</td>\n",
       "      <td>0</td>\n",
       "      <td>0</td>\n",
       "      <td>0</td>\n",
       "      <td>0</td>\n",
       "      <td>0</td>\n",
       "      <td>0</td>\n",
       "      <td>0</td>\n",
       "    </tr>\n",
       "    <tr>\n",
       "      <th>2</th>\n",
       "      <td>0</td>\n",
       "      <td>0</td>\n",
       "      <td>0</td>\n",
       "      <td>0</td>\n",
       "      <td>0</td>\n",
       "      <td>0</td>\n",
       "      <td>0</td>\n",
       "      <td>0</td>\n",
       "      <td>0</td>\n",
       "      <td>0</td>\n",
       "      <td>...</td>\n",
       "      <td>0</td>\n",
       "      <td>0</td>\n",
       "      <td>0</td>\n",
       "      <td>0</td>\n",
       "      <td>0</td>\n",
       "      <td>0</td>\n",
       "      <td>0</td>\n",
       "      <td>0</td>\n",
       "      <td>0</td>\n",
       "      <td>0</td>\n",
       "    </tr>\n",
       "    <tr>\n",
       "      <th>3</th>\n",
       "      <td>0</td>\n",
       "      <td>0</td>\n",
       "      <td>0</td>\n",
       "      <td>0</td>\n",
       "      <td>0</td>\n",
       "      <td>0</td>\n",
       "      <td>0</td>\n",
       "      <td>0</td>\n",
       "      <td>0</td>\n",
       "      <td>0</td>\n",
       "      <td>...</td>\n",
       "      <td>0</td>\n",
       "      <td>0</td>\n",
       "      <td>0</td>\n",
       "      <td>0</td>\n",
       "      <td>0</td>\n",
       "      <td>0</td>\n",
       "      <td>0</td>\n",
       "      <td>0</td>\n",
       "      <td>0</td>\n",
       "      <td>0</td>\n",
       "    </tr>\n",
       "    <tr>\n",
       "      <th>4</th>\n",
       "      <td>0</td>\n",
       "      <td>0</td>\n",
       "      <td>0</td>\n",
       "      <td>0</td>\n",
       "      <td>0</td>\n",
       "      <td>0</td>\n",
       "      <td>0</td>\n",
       "      <td>0</td>\n",
       "      <td>0</td>\n",
       "      <td>0</td>\n",
       "      <td>...</td>\n",
       "      <td>0</td>\n",
       "      <td>0</td>\n",
       "      <td>0</td>\n",
       "      <td>0</td>\n",
       "      <td>0</td>\n",
       "      <td>0</td>\n",
       "      <td>0</td>\n",
       "      <td>0</td>\n",
       "      <td>0</td>\n",
       "      <td>0</td>\n",
       "    </tr>\n",
       "  </tbody>\n",
       "</table>\n",
       "<p>5 rows × 105 columns</p>\n",
       "</div>"
      ],
      "text/plain": [
       "   Burmese  Mangalorean  Sushi  Bihari  Bubble Tea  Kerala  Vegan  Korean  \\\n",
       "0        0            0      0       0           0       0      0       0   \n",
       "1        0            0      0       0           0       0      0       0   \n",
       "2        0            0      0       0           0       0      0       0   \n",
       "3        0            0      0       0           0       0      0       0   \n",
       "4        0            0      0       0           0       0      0       0   \n",
       "\n",
       "   Singaporean  Mughlai  ...  Bar Food  Portuguese  Chettinad  Pan Asian  \\\n",
       "0            0        1  ...         0           0          0          0   \n",
       "1            0        0  ...         0           0          0          0   \n",
       "2            0        0  ...         0           0          0          0   \n",
       "3            0        0  ...         0           0          0          0   \n",
       "4            0        0  ...         0           0          0          0   \n",
       "\n",
       "   Spanish  Mongolian  Gujarati  Afghani  Grill  Tamil  \n",
       "0        0          0         0        0      0      0  \n",
       "1        0          0         0        0      0      0  \n",
       "2        0          0         0        0      0      0  \n",
       "3        0          0         0        0      0      0  \n",
       "4        0          0         0        0      0      0  \n",
       "\n",
       "[5 rows x 105 columns]"
      ]
     },
     "execution_count": 55,
     "metadata": {},
     "output_type": "execute_result"
    }
   ],
   "source": [
    "df1.drop(['cuisines'], axis = 1, inplace=True)\n",
    "df1.head()"
   ]
  },
  {
   "cell_type": "markdown",
   "id": "1c910e64",
   "metadata": {},
   "source": [
    "### Location Column"
   ]
  },
  {
   "cell_type": "code",
   "execution_count": 56,
   "id": "f66d6d9d",
   "metadata": {},
   "outputs": [],
   "source": [
    "loc_df = df['location']\n",
    "loc_df = pd.get_dummies(loc_df)"
   ]
  },
  {
   "cell_type": "code",
   "execution_count": 57,
   "id": "03804705",
   "metadata": {},
   "outputs": [
    {
     "data": {
      "text/html": [
       "<div>\n",
       "<style scoped>\n",
       "    .dataframe tbody tr th:only-of-type {\n",
       "        vertical-align: middle;\n",
       "    }\n",
       "\n",
       "    .dataframe tbody tr th {\n",
       "        vertical-align: top;\n",
       "    }\n",
       "\n",
       "    .dataframe thead th {\n",
       "        text-align: right;\n",
       "    }\n",
       "</style>\n",
       "<table border=\"1\" class=\"dataframe\">\n",
       "  <thead>\n",
       "    <tr style=\"text-align: right;\">\n",
       "      <th></th>\n",
       "      <th>BTM</th>\n",
       "      <th>Banashankari</th>\n",
       "      <th>Banaswadi</th>\n",
       "      <th>Bannerghatta Road</th>\n",
       "      <th>Basavanagudi</th>\n",
       "      <th>Basaveshwara Nagar</th>\n",
       "      <th>Bellandur</th>\n",
       "      <th>Bommanahalli</th>\n",
       "      <th>Brigade Road</th>\n",
       "      <th>Brookefield</th>\n",
       "      <th>...</th>\n",
       "      <th>Ulsoor</th>\n",
       "      <th>Uttarahalli</th>\n",
       "      <th>Varthur Main Road, Whitefield</th>\n",
       "      <th>Vasanth Nagar</th>\n",
       "      <th>Vijay Nagar</th>\n",
       "      <th>West Bangalore</th>\n",
       "      <th>Whitefield</th>\n",
       "      <th>Wilson Garden</th>\n",
       "      <th>Yelahanka</th>\n",
       "      <th>Yeshwantpur</th>\n",
       "    </tr>\n",
       "  </thead>\n",
       "  <tbody>\n",
       "    <tr>\n",
       "      <th>0</th>\n",
       "      <td>0</td>\n",
       "      <td>1</td>\n",
       "      <td>0</td>\n",
       "      <td>0</td>\n",
       "      <td>0</td>\n",
       "      <td>0</td>\n",
       "      <td>0</td>\n",
       "      <td>0</td>\n",
       "      <td>0</td>\n",
       "      <td>0</td>\n",
       "      <td>...</td>\n",
       "      <td>0</td>\n",
       "      <td>0</td>\n",
       "      <td>0</td>\n",
       "      <td>0</td>\n",
       "      <td>0</td>\n",
       "      <td>0</td>\n",
       "      <td>0</td>\n",
       "      <td>0</td>\n",
       "      <td>0</td>\n",
       "      <td>0</td>\n",
       "    </tr>\n",
       "    <tr>\n",
       "      <th>1</th>\n",
       "      <td>0</td>\n",
       "      <td>1</td>\n",
       "      <td>0</td>\n",
       "      <td>0</td>\n",
       "      <td>0</td>\n",
       "      <td>0</td>\n",
       "      <td>0</td>\n",
       "      <td>0</td>\n",
       "      <td>0</td>\n",
       "      <td>0</td>\n",
       "      <td>...</td>\n",
       "      <td>0</td>\n",
       "      <td>0</td>\n",
       "      <td>0</td>\n",
       "      <td>0</td>\n",
       "      <td>0</td>\n",
       "      <td>0</td>\n",
       "      <td>0</td>\n",
       "      <td>0</td>\n",
       "      <td>0</td>\n",
       "      <td>0</td>\n",
       "    </tr>\n",
       "    <tr>\n",
       "      <th>2</th>\n",
       "      <td>0</td>\n",
       "      <td>1</td>\n",
       "      <td>0</td>\n",
       "      <td>0</td>\n",
       "      <td>0</td>\n",
       "      <td>0</td>\n",
       "      <td>0</td>\n",
       "      <td>0</td>\n",
       "      <td>0</td>\n",
       "      <td>0</td>\n",
       "      <td>...</td>\n",
       "      <td>0</td>\n",
       "      <td>0</td>\n",
       "      <td>0</td>\n",
       "      <td>0</td>\n",
       "      <td>0</td>\n",
       "      <td>0</td>\n",
       "      <td>0</td>\n",
       "      <td>0</td>\n",
       "      <td>0</td>\n",
       "      <td>0</td>\n",
       "    </tr>\n",
       "    <tr>\n",
       "      <th>3</th>\n",
       "      <td>0</td>\n",
       "      <td>1</td>\n",
       "      <td>0</td>\n",
       "      <td>0</td>\n",
       "      <td>0</td>\n",
       "      <td>0</td>\n",
       "      <td>0</td>\n",
       "      <td>0</td>\n",
       "      <td>0</td>\n",
       "      <td>0</td>\n",
       "      <td>...</td>\n",
       "      <td>0</td>\n",
       "      <td>0</td>\n",
       "      <td>0</td>\n",
       "      <td>0</td>\n",
       "      <td>0</td>\n",
       "      <td>0</td>\n",
       "      <td>0</td>\n",
       "      <td>0</td>\n",
       "      <td>0</td>\n",
       "      <td>0</td>\n",
       "    </tr>\n",
       "    <tr>\n",
       "      <th>4</th>\n",
       "      <td>0</td>\n",
       "      <td>0</td>\n",
       "      <td>0</td>\n",
       "      <td>0</td>\n",
       "      <td>1</td>\n",
       "      <td>0</td>\n",
       "      <td>0</td>\n",
       "      <td>0</td>\n",
       "      <td>0</td>\n",
       "      <td>0</td>\n",
       "      <td>...</td>\n",
       "      <td>0</td>\n",
       "      <td>0</td>\n",
       "      <td>0</td>\n",
       "      <td>0</td>\n",
       "      <td>0</td>\n",
       "      <td>0</td>\n",
       "      <td>0</td>\n",
       "      <td>0</td>\n",
       "      <td>0</td>\n",
       "      <td>0</td>\n",
       "    </tr>\n",
       "  </tbody>\n",
       "</table>\n",
       "<p>5 rows × 93 columns</p>\n",
       "</div>"
      ],
      "text/plain": [
       "   BTM  Banashankari  Banaswadi  Bannerghatta Road  Basavanagudi  \\\n",
       "0    0             1          0                  0             0   \n",
       "1    0             1          0                  0             0   \n",
       "2    0             1          0                  0             0   \n",
       "3    0             1          0                  0             0   \n",
       "4    0             0          0                  0             1   \n",
       "\n",
       "   Basaveshwara Nagar  Bellandur  Bommanahalli  Brigade Road  Brookefield  \\\n",
       "0                   0          0             0             0            0   \n",
       "1                   0          0             0             0            0   \n",
       "2                   0          0             0             0            0   \n",
       "3                   0          0             0             0            0   \n",
       "4                   0          0             0             0            0   \n",
       "\n",
       "   ...  Ulsoor  Uttarahalli  Varthur Main Road, Whitefield  Vasanth Nagar  \\\n",
       "0  ...       0            0                              0              0   \n",
       "1  ...       0            0                              0              0   \n",
       "2  ...       0            0                              0              0   \n",
       "3  ...       0            0                              0              0   \n",
       "4  ...       0            0                              0              0   \n",
       "\n",
       "   Vijay Nagar  West Bangalore  Whitefield  Wilson Garden  Yelahanka  \\\n",
       "0            0               0           0              0          0   \n",
       "1            0               0           0              0          0   \n",
       "2            0               0           0              0          0   \n",
       "3            0               0           0              0          0   \n",
       "4            0               0           0              0          0   \n",
       "\n",
       "   Yeshwantpur  \n",
       "0            0  \n",
       "1            0  \n",
       "2            0  \n",
       "3            0  \n",
       "4            0  \n",
       "\n",
       "[5 rows x 93 columns]"
      ]
     },
     "execution_count": 57,
     "metadata": {},
     "output_type": "execute_result"
    }
   ],
   "source": [
    "loc_df.head()"
   ]
  },
  {
   "cell_type": "markdown",
   "id": "83dadbf6",
   "metadata": {},
   "source": [
    "### Place Column"
   ]
  },
  {
   "cell_type": "code",
   "execution_count": 58,
   "id": "b69708b9",
   "metadata": {},
   "outputs": [
    {
     "data": {
      "text/html": [
       "<div>\n",
       "<style scoped>\n",
       "    .dataframe tbody tr th:only-of-type {\n",
       "        vertical-align: middle;\n",
       "    }\n",
       "\n",
       "    .dataframe tbody tr th {\n",
       "        vertical-align: top;\n",
       "    }\n",
       "\n",
       "    .dataframe thead th {\n",
       "        text-align: right;\n",
       "    }\n",
       "</style>\n",
       "<table border=\"1\" class=\"dataframe\">\n",
       "  <thead>\n",
       "    <tr style=\"text-align: right;\">\n",
       "      <th></th>\n",
       "      <th>BTM</th>\n",
       "      <th>Banashankari</th>\n",
       "      <th>Bannerghatta Road</th>\n",
       "      <th>Basavanagudi</th>\n",
       "      <th>Bellandur</th>\n",
       "      <th>Brigade Road</th>\n",
       "      <th>Brookefield</th>\n",
       "      <th>Church Street</th>\n",
       "      <th>Electronic City</th>\n",
       "      <th>Frazer Town</th>\n",
       "      <th>...</th>\n",
       "      <th>Lavelle Road</th>\n",
       "      <th>MG Road</th>\n",
       "      <th>Malleshwaram</th>\n",
       "      <th>Marathahalli</th>\n",
       "      <th>New BEL Road</th>\n",
       "      <th>Old Airport Road</th>\n",
       "      <th>Rajajinagar</th>\n",
       "      <th>Residency Road</th>\n",
       "      <th>Sarjapur Road</th>\n",
       "      <th>Whitefield</th>\n",
       "    </tr>\n",
       "  </thead>\n",
       "  <tbody>\n",
       "    <tr>\n",
       "      <th>0</th>\n",
       "      <td>0</td>\n",
       "      <td>1</td>\n",
       "      <td>0</td>\n",
       "      <td>0</td>\n",
       "      <td>0</td>\n",
       "      <td>0</td>\n",
       "      <td>0</td>\n",
       "      <td>0</td>\n",
       "      <td>0</td>\n",
       "      <td>0</td>\n",
       "      <td>...</td>\n",
       "      <td>0</td>\n",
       "      <td>0</td>\n",
       "      <td>0</td>\n",
       "      <td>0</td>\n",
       "      <td>0</td>\n",
       "      <td>0</td>\n",
       "      <td>0</td>\n",
       "      <td>0</td>\n",
       "      <td>0</td>\n",
       "      <td>0</td>\n",
       "    </tr>\n",
       "    <tr>\n",
       "      <th>1</th>\n",
       "      <td>0</td>\n",
       "      <td>1</td>\n",
       "      <td>0</td>\n",
       "      <td>0</td>\n",
       "      <td>0</td>\n",
       "      <td>0</td>\n",
       "      <td>0</td>\n",
       "      <td>0</td>\n",
       "      <td>0</td>\n",
       "      <td>0</td>\n",
       "      <td>...</td>\n",
       "      <td>0</td>\n",
       "      <td>0</td>\n",
       "      <td>0</td>\n",
       "      <td>0</td>\n",
       "      <td>0</td>\n",
       "      <td>0</td>\n",
       "      <td>0</td>\n",
       "      <td>0</td>\n",
       "      <td>0</td>\n",
       "      <td>0</td>\n",
       "    </tr>\n",
       "    <tr>\n",
       "      <th>2</th>\n",
       "      <td>0</td>\n",
       "      <td>1</td>\n",
       "      <td>0</td>\n",
       "      <td>0</td>\n",
       "      <td>0</td>\n",
       "      <td>0</td>\n",
       "      <td>0</td>\n",
       "      <td>0</td>\n",
       "      <td>0</td>\n",
       "      <td>0</td>\n",
       "      <td>...</td>\n",
       "      <td>0</td>\n",
       "      <td>0</td>\n",
       "      <td>0</td>\n",
       "      <td>0</td>\n",
       "      <td>0</td>\n",
       "      <td>0</td>\n",
       "      <td>0</td>\n",
       "      <td>0</td>\n",
       "      <td>0</td>\n",
       "      <td>0</td>\n",
       "    </tr>\n",
       "    <tr>\n",
       "      <th>3</th>\n",
       "      <td>0</td>\n",
       "      <td>1</td>\n",
       "      <td>0</td>\n",
       "      <td>0</td>\n",
       "      <td>0</td>\n",
       "      <td>0</td>\n",
       "      <td>0</td>\n",
       "      <td>0</td>\n",
       "      <td>0</td>\n",
       "      <td>0</td>\n",
       "      <td>...</td>\n",
       "      <td>0</td>\n",
       "      <td>0</td>\n",
       "      <td>0</td>\n",
       "      <td>0</td>\n",
       "      <td>0</td>\n",
       "      <td>0</td>\n",
       "      <td>0</td>\n",
       "      <td>0</td>\n",
       "      <td>0</td>\n",
       "      <td>0</td>\n",
       "    </tr>\n",
       "    <tr>\n",
       "      <th>4</th>\n",
       "      <td>0</td>\n",
       "      <td>1</td>\n",
       "      <td>0</td>\n",
       "      <td>0</td>\n",
       "      <td>0</td>\n",
       "      <td>0</td>\n",
       "      <td>0</td>\n",
       "      <td>0</td>\n",
       "      <td>0</td>\n",
       "      <td>0</td>\n",
       "      <td>...</td>\n",
       "      <td>0</td>\n",
       "      <td>0</td>\n",
       "      <td>0</td>\n",
       "      <td>0</td>\n",
       "      <td>0</td>\n",
       "      <td>0</td>\n",
       "      <td>0</td>\n",
       "      <td>0</td>\n",
       "      <td>0</td>\n",
       "      <td>0</td>\n",
       "    </tr>\n",
       "  </tbody>\n",
       "</table>\n",
       "<p>5 rows × 30 columns</p>\n",
       "</div>"
      ],
      "text/plain": [
       "   BTM  Banashankari  Bannerghatta Road  Basavanagudi  Bellandur  \\\n",
       "0    0             1                  0             0          0   \n",
       "1    0             1                  0             0          0   \n",
       "2    0             1                  0             0          0   \n",
       "3    0             1                  0             0          0   \n",
       "4    0             1                  0             0          0   \n",
       "\n",
       "   Brigade Road  Brookefield  Church Street  Electronic City  Frazer Town  \\\n",
       "0             0            0              0                0            0   \n",
       "1             0            0              0                0            0   \n",
       "2             0            0              0                0            0   \n",
       "3             0            0              0                0            0   \n",
       "4             0            0              0                0            0   \n",
       "\n",
       "   ...  Lavelle Road  MG Road  Malleshwaram  Marathahalli  New BEL Road  \\\n",
       "0  ...             0        0             0             0             0   \n",
       "1  ...             0        0             0             0             0   \n",
       "2  ...             0        0             0             0             0   \n",
       "3  ...             0        0             0             0             0   \n",
       "4  ...             0        0             0             0             0   \n",
       "\n",
       "   Old Airport Road  Rajajinagar  Residency Road  Sarjapur Road  Whitefield  \n",
       "0                 0            0               0              0           0  \n",
       "1                 0            0               0              0           0  \n",
       "2                 0            0               0              0           0  \n",
       "3                 0            0               0              0           0  \n",
       "4                 0            0               0              0           0  \n",
       "\n",
       "[5 rows x 30 columns]"
      ]
     },
     "execution_count": 58,
     "metadata": {},
     "output_type": "execute_result"
    }
   ],
   "source": [
    "place_df = df['Place']\n",
    "place_df = pd.get_dummies(place_df)\n",
    "place_df.head()"
   ]
  },
  {
   "cell_type": "code",
   "execution_count": 59,
   "id": "72de2c8c",
   "metadata": {},
   "outputs": [
    {
     "data": {
      "text/html": [
       "<div>\n",
       "<style scoped>\n",
       "    .dataframe tbody tr th:only-of-type {\n",
       "        vertical-align: middle;\n",
       "    }\n",
       "\n",
       "    .dataframe tbody tr th {\n",
       "        vertical-align: top;\n",
       "    }\n",
       "\n",
       "    .dataframe thead th {\n",
       "        text-align: right;\n",
       "    }\n",
       "</style>\n",
       "<table border=\"1\" class=\"dataframe\">\n",
       "  <thead>\n",
       "    <tr style=\"text-align: right;\">\n",
       "      <th></th>\n",
       "      <th>name</th>\n",
       "      <th>online_order</th>\n",
       "      <th>book_table</th>\n",
       "      <th>rate</th>\n",
       "      <th>votes</th>\n",
       "      <th>location</th>\n",
       "      <th>rest_type</th>\n",
       "      <th>cuisines</th>\n",
       "      <th>approx_cost</th>\n",
       "      <th>Place</th>\n",
       "      <th>...</th>\n",
       "      <th>Ulsoor</th>\n",
       "      <th>Uttarahalli</th>\n",
       "      <th>Varthur Main Road, Whitefield</th>\n",
       "      <th>Vasanth Nagar</th>\n",
       "      <th>Vijay Nagar</th>\n",
       "      <th>West Bangalore</th>\n",
       "      <th>Whitefield</th>\n",
       "      <th>Wilson Garden</th>\n",
       "      <th>Yelahanka</th>\n",
       "      <th>Yeshwantpur</th>\n",
       "    </tr>\n",
       "  </thead>\n",
       "  <tbody>\n",
       "    <tr>\n",
       "      <th>0</th>\n",
       "      <td>Jalsa</td>\n",
       "      <td>Yes</td>\n",
       "      <td>1</td>\n",
       "      <td>4.1</td>\n",
       "      <td>775</td>\n",
       "      <td>Banashankari</td>\n",
       "      <td>Casual Dining</td>\n",
       "      <td>North Indian, Mughlai, Chinese</td>\n",
       "      <td>800.0</td>\n",
       "      <td>Banashankari</td>\n",
       "      <td>...</td>\n",
       "      <td>0</td>\n",
       "      <td>0</td>\n",
       "      <td>0</td>\n",
       "      <td>0</td>\n",
       "      <td>0</td>\n",
       "      <td>0</td>\n",
       "      <td>0</td>\n",
       "      <td>0</td>\n",
       "      <td>0</td>\n",
       "      <td>0</td>\n",
       "    </tr>\n",
       "    <tr>\n",
       "      <th>1</th>\n",
       "      <td>Spice Elephant</td>\n",
       "      <td>Yes</td>\n",
       "      <td>0</td>\n",
       "      <td>4.1</td>\n",
       "      <td>787</td>\n",
       "      <td>Banashankari</td>\n",
       "      <td>Casual Dining</td>\n",
       "      <td>Chinese, North Indian, Thai</td>\n",
       "      <td>800.0</td>\n",
       "      <td>Banashankari</td>\n",
       "      <td>...</td>\n",
       "      <td>0</td>\n",
       "      <td>0</td>\n",
       "      <td>0</td>\n",
       "      <td>0</td>\n",
       "      <td>0</td>\n",
       "      <td>0</td>\n",
       "      <td>0</td>\n",
       "      <td>0</td>\n",
       "      <td>0</td>\n",
       "      <td>0</td>\n",
       "    </tr>\n",
       "    <tr>\n",
       "      <th>2</th>\n",
       "      <td>San Churro Cafe</td>\n",
       "      <td>Yes</td>\n",
       "      <td>0</td>\n",
       "      <td>3.8</td>\n",
       "      <td>918</td>\n",
       "      <td>Banashankari</td>\n",
       "      <td>Cafe, Casual Dining</td>\n",
       "      <td>Cafe, Mexican, Italian</td>\n",
       "      <td>800.0</td>\n",
       "      <td>Banashankari</td>\n",
       "      <td>...</td>\n",
       "      <td>0</td>\n",
       "      <td>0</td>\n",
       "      <td>0</td>\n",
       "      <td>0</td>\n",
       "      <td>0</td>\n",
       "      <td>0</td>\n",
       "      <td>0</td>\n",
       "      <td>0</td>\n",
       "      <td>0</td>\n",
       "      <td>0</td>\n",
       "    </tr>\n",
       "    <tr>\n",
       "      <th>3</th>\n",
       "      <td>Addhuri Udupi Bhojana</td>\n",
       "      <td>0</td>\n",
       "      <td>0</td>\n",
       "      <td>3.7</td>\n",
       "      <td>88</td>\n",
       "      <td>Banashankari</td>\n",
       "      <td>Quick Bites</td>\n",
       "      <td>South Indian, North Indian</td>\n",
       "      <td>300.0</td>\n",
       "      <td>Banashankari</td>\n",
       "      <td>...</td>\n",
       "      <td>0</td>\n",
       "      <td>0</td>\n",
       "      <td>0</td>\n",
       "      <td>0</td>\n",
       "      <td>0</td>\n",
       "      <td>0</td>\n",
       "      <td>0</td>\n",
       "      <td>0</td>\n",
       "      <td>0</td>\n",
       "      <td>0</td>\n",
       "    </tr>\n",
       "    <tr>\n",
       "      <th>4</th>\n",
       "      <td>Grand Village</td>\n",
       "      <td>0</td>\n",
       "      <td>0</td>\n",
       "      <td>3.8</td>\n",
       "      <td>166</td>\n",
       "      <td>Basavanagudi</td>\n",
       "      <td>Casual Dining</td>\n",
       "      <td>North Indian, Rajasthani</td>\n",
       "      <td>600.0</td>\n",
       "      <td>Banashankari</td>\n",
       "      <td>...</td>\n",
       "      <td>0</td>\n",
       "      <td>0</td>\n",
       "      <td>0</td>\n",
       "      <td>0</td>\n",
       "      <td>0</td>\n",
       "      <td>0</td>\n",
       "      <td>0</td>\n",
       "      <td>0</td>\n",
       "      <td>0</td>\n",
       "      <td>0</td>\n",
       "    </tr>\n",
       "  </tbody>\n",
       "</table>\n",
       "<p>5 rows × 233 columns</p>\n",
       "</div>"
      ],
      "text/plain": [
       "                    name online_order  book_table  rate  votes      location  \\\n",
       "0                  Jalsa          Yes           1   4.1    775  Banashankari   \n",
       "1         Spice Elephant          Yes           0   4.1    787  Banashankari   \n",
       "2        San Churro Cafe          Yes           0   3.8    918  Banashankari   \n",
       "3  Addhuri Udupi Bhojana            0           0   3.7     88  Banashankari   \n",
       "4          Grand Village            0           0   3.8    166  Basavanagudi   \n",
       "\n",
       "             rest_type                        cuisines  approx_cost  \\\n",
       "0        Casual Dining  North Indian, Mughlai, Chinese        800.0   \n",
       "1        Casual Dining     Chinese, North Indian, Thai        800.0   \n",
       "2  Cafe, Casual Dining          Cafe, Mexican, Italian        800.0   \n",
       "3          Quick Bites      South Indian, North Indian        300.0   \n",
       "4        Casual Dining        North Indian, Rajasthani        600.0   \n",
       "\n",
       "          Place  ...  Ulsoor  Uttarahalli  Varthur Main Road, Whitefield  \\\n",
       "0  Banashankari  ...       0            0                              0   \n",
       "1  Banashankari  ...       0            0                              0   \n",
       "2  Banashankari  ...       0            0                              0   \n",
       "3  Banashankari  ...       0            0                              0   \n",
       "4  Banashankari  ...       0            0                              0   \n",
       "\n",
       "   Vasanth Nagar  Vijay Nagar  West Bangalore  Whitefield  Wilson Garden  \\\n",
       "0              0            0               0           0              0   \n",
       "1              0            0               0           0              0   \n",
       "2              0            0               0           0              0   \n",
       "3              0            0               0           0              0   \n",
       "4              0            0               0           0              0   \n",
       "\n",
       "   Yelahanka  Yeshwantpur  \n",
       "0          0            0  \n",
       "1          0            0  \n",
       "2          0            0  \n",
       "3          0            0  \n",
       "4          0            0  \n",
       "\n",
       "[5 rows x 233 columns]"
      ]
     },
     "execution_count": 59,
     "metadata": {},
     "output_type": "execute_result"
    }
   ],
   "source": [
    "#Data with Location\n",
    "data_with_location = pd.concat([df, rest_df, df1, loc_df], axis = 1)\n",
    "data_with_location.head()"
   ]
  },
  {
   "cell_type": "code",
   "execution_count": 60,
   "id": "e5da2a53",
   "metadata": {},
   "outputs": [
    {
     "data": {
      "text/html": [
       "<div>\n",
       "<style scoped>\n",
       "    .dataframe tbody tr th:only-of-type {\n",
       "        vertical-align: middle;\n",
       "    }\n",
       "\n",
       "    .dataframe tbody tr th {\n",
       "        vertical-align: top;\n",
       "    }\n",
       "\n",
       "    .dataframe thead th {\n",
       "        text-align: right;\n",
       "    }\n",
       "</style>\n",
       "<table border=\"1\" class=\"dataframe\">\n",
       "  <thead>\n",
       "    <tr style=\"text-align: right;\">\n",
       "      <th></th>\n",
       "      <th>name</th>\n",
       "      <th>online_order</th>\n",
       "      <th>book_table</th>\n",
       "      <th>rate</th>\n",
       "      <th>votes</th>\n",
       "      <th>location</th>\n",
       "      <th>rest_type</th>\n",
       "      <th>cuisines</th>\n",
       "      <th>approx_cost</th>\n",
       "      <th>Place</th>\n",
       "      <th>...</th>\n",
       "      <th>Lavelle Road</th>\n",
       "      <th>MG Road</th>\n",
       "      <th>Malleshwaram</th>\n",
       "      <th>Marathahalli</th>\n",
       "      <th>New BEL Road</th>\n",
       "      <th>Old Airport Road</th>\n",
       "      <th>Rajajinagar</th>\n",
       "      <th>Residency Road</th>\n",
       "      <th>Sarjapur Road</th>\n",
       "      <th>Whitefield</th>\n",
       "    </tr>\n",
       "  </thead>\n",
       "  <tbody>\n",
       "    <tr>\n",
       "      <th>0</th>\n",
       "      <td>Jalsa</td>\n",
       "      <td>Yes</td>\n",
       "      <td>1</td>\n",
       "      <td>4.1</td>\n",
       "      <td>775</td>\n",
       "      <td>Banashankari</td>\n",
       "      <td>Casual Dining</td>\n",
       "      <td>North Indian, Mughlai, Chinese</td>\n",
       "      <td>800.0</td>\n",
       "      <td>Banashankari</td>\n",
       "      <td>...</td>\n",
       "      <td>0</td>\n",
       "      <td>0</td>\n",
       "      <td>0</td>\n",
       "      <td>0</td>\n",
       "      <td>0</td>\n",
       "      <td>0</td>\n",
       "      <td>0</td>\n",
       "      <td>0</td>\n",
       "      <td>0</td>\n",
       "      <td>0</td>\n",
       "    </tr>\n",
       "    <tr>\n",
       "      <th>1</th>\n",
       "      <td>Spice Elephant</td>\n",
       "      <td>Yes</td>\n",
       "      <td>0</td>\n",
       "      <td>4.1</td>\n",
       "      <td>787</td>\n",
       "      <td>Banashankari</td>\n",
       "      <td>Casual Dining</td>\n",
       "      <td>Chinese, North Indian, Thai</td>\n",
       "      <td>800.0</td>\n",
       "      <td>Banashankari</td>\n",
       "      <td>...</td>\n",
       "      <td>0</td>\n",
       "      <td>0</td>\n",
       "      <td>0</td>\n",
       "      <td>0</td>\n",
       "      <td>0</td>\n",
       "      <td>0</td>\n",
       "      <td>0</td>\n",
       "      <td>0</td>\n",
       "      <td>0</td>\n",
       "      <td>0</td>\n",
       "    </tr>\n",
       "    <tr>\n",
       "      <th>2</th>\n",
       "      <td>San Churro Cafe</td>\n",
       "      <td>Yes</td>\n",
       "      <td>0</td>\n",
       "      <td>3.8</td>\n",
       "      <td>918</td>\n",
       "      <td>Banashankari</td>\n",
       "      <td>Cafe, Casual Dining</td>\n",
       "      <td>Cafe, Mexican, Italian</td>\n",
       "      <td>800.0</td>\n",
       "      <td>Banashankari</td>\n",
       "      <td>...</td>\n",
       "      <td>0</td>\n",
       "      <td>0</td>\n",
       "      <td>0</td>\n",
       "      <td>0</td>\n",
       "      <td>0</td>\n",
       "      <td>0</td>\n",
       "      <td>0</td>\n",
       "      <td>0</td>\n",
       "      <td>0</td>\n",
       "      <td>0</td>\n",
       "    </tr>\n",
       "    <tr>\n",
       "      <th>3</th>\n",
       "      <td>Addhuri Udupi Bhojana</td>\n",
       "      <td>0</td>\n",
       "      <td>0</td>\n",
       "      <td>3.7</td>\n",
       "      <td>88</td>\n",
       "      <td>Banashankari</td>\n",
       "      <td>Quick Bites</td>\n",
       "      <td>South Indian, North Indian</td>\n",
       "      <td>300.0</td>\n",
       "      <td>Banashankari</td>\n",
       "      <td>...</td>\n",
       "      <td>0</td>\n",
       "      <td>0</td>\n",
       "      <td>0</td>\n",
       "      <td>0</td>\n",
       "      <td>0</td>\n",
       "      <td>0</td>\n",
       "      <td>0</td>\n",
       "      <td>0</td>\n",
       "      <td>0</td>\n",
       "      <td>0</td>\n",
       "    </tr>\n",
       "    <tr>\n",
       "      <th>4</th>\n",
       "      <td>Grand Village</td>\n",
       "      <td>0</td>\n",
       "      <td>0</td>\n",
       "      <td>3.8</td>\n",
       "      <td>166</td>\n",
       "      <td>Basavanagudi</td>\n",
       "      <td>Casual Dining</td>\n",
       "      <td>North Indian, Rajasthani</td>\n",
       "      <td>600.0</td>\n",
       "      <td>Banashankari</td>\n",
       "      <td>...</td>\n",
       "      <td>0</td>\n",
       "      <td>0</td>\n",
       "      <td>0</td>\n",
       "      <td>0</td>\n",
       "      <td>0</td>\n",
       "      <td>0</td>\n",
       "      <td>0</td>\n",
       "      <td>0</td>\n",
       "      <td>0</td>\n",
       "      <td>0</td>\n",
       "    </tr>\n",
       "  </tbody>\n",
       "</table>\n",
       "<p>5 rows × 170 columns</p>\n",
       "</div>"
      ],
      "text/plain": [
       "                    name online_order  book_table  rate  votes      location  \\\n",
       "0                  Jalsa          Yes           1   4.1    775  Banashankari   \n",
       "1         Spice Elephant          Yes           0   4.1    787  Banashankari   \n",
       "2        San Churro Cafe          Yes           0   3.8    918  Banashankari   \n",
       "3  Addhuri Udupi Bhojana            0           0   3.7     88  Banashankari   \n",
       "4          Grand Village            0           0   3.8    166  Basavanagudi   \n",
       "\n",
       "             rest_type                        cuisines  approx_cost  \\\n",
       "0        Casual Dining  North Indian, Mughlai, Chinese        800.0   \n",
       "1        Casual Dining     Chinese, North Indian, Thai        800.0   \n",
       "2  Cafe, Casual Dining          Cafe, Mexican, Italian        800.0   \n",
       "3          Quick Bites      South Indian, North Indian        300.0   \n",
       "4        Casual Dining        North Indian, Rajasthani        600.0   \n",
       "\n",
       "          Place  ...  Lavelle Road  MG Road  Malleshwaram  Marathahalli  \\\n",
       "0  Banashankari  ...             0        0             0             0   \n",
       "1  Banashankari  ...             0        0             0             0   \n",
       "2  Banashankari  ...             0        0             0             0   \n",
       "3  Banashankari  ...             0        0             0             0   \n",
       "4  Banashankari  ...             0        0             0             0   \n",
       "\n",
       "   New BEL Road  Old Airport Road  Rajajinagar  Residency Road  Sarjapur Road  \\\n",
       "0             0                 0            0               0              0   \n",
       "1             0                 0            0               0              0   \n",
       "2             0                 0            0               0              0   \n",
       "3             0                 0            0               0              0   \n",
       "4             0                 0            0               0              0   \n",
       "\n",
       "   Whitefield  \n",
       "0           0  \n",
       "1           0  \n",
       "2           0  \n",
       "3           0  \n",
       "4           0  \n",
       "\n",
       "[5 rows x 170 columns]"
      ]
     },
     "execution_count": 60,
     "metadata": {},
     "output_type": "execute_result"
    }
   ],
   "source": [
    "#Data with Places\n",
    "data_with_place = pd.concat([df, rest_df, df1, place_df], axis=1)\n",
    "data_with_place.head()"
   ]
  },
  {
   "cell_type": "code",
   "execution_count": 61,
   "id": "4574de73",
   "metadata": {},
   "outputs": [],
   "source": [
    "#data_with_location.drop(columns=['name', 'location', 'rest_type', 'cuisines', 'Place', 'online_order'], axis = 1, inplace=True)\n",
    "#data_with_place.drop(columns=['name', 'location', 'rest_type', 'cuisines', 'Place','online_order'], axis=1, inplace=True)"
   ]
  },
  {
   "cell_type": "code",
   "execution_count": 62,
   "id": "e07bb73f",
   "metadata": {},
   "outputs": [
    {
     "name": "stdout",
     "output_type": "stream",
     "text": [
      "Index(['Race Course Road', 'Rajajinagar', 'Rajarajeshwari Nagar',\n",
      "       'Rammurthy Nagar', 'Residency Road', 'Richmond Road', 'Sadashiv Nagar',\n",
      "       'Sahakara Nagar', 'Sanjay Nagar', 'Sankey Road', 'Sarjapur Road',\n",
      "       'Seshadripuram', 'Shanti Nagar', 'Shivajinagar', 'South Bangalore',\n",
      "       'St. Marks Road', 'Thippasandra', 'Ulsoor', 'Uttarahalli',\n",
      "       'Varthur Main Road, Whitefield', 'Vasanth Nagar', 'Vijay Nagar',\n",
      "       'West Bangalore', 'Whitefield', 'Wilson Garden', 'Yelahanka',\n",
      "       'Yeshwantpur'],\n",
      "      dtype='object')\n"
     ]
    }
   ],
   "source": [
    "print(data_with_location.columns[200:])"
   ]
  },
  {
   "cell_type": "markdown",
   "id": "67814094",
   "metadata": {},
   "source": [
    "## Feature Selection"
   ]
  },
  {
   "cell_type": "code",
   "execution_count": 63,
   "id": "10fdd331",
   "metadata": {},
   "outputs": [
    {
     "name": "stdout",
     "output_type": "stream",
     "text": [
      "X =  [[1.00e+00 7.75e+02 8.00e+02 ... 0.00e+00 0.00e+00 0.00e+00]\n",
      " [0.00e+00 7.87e+02 8.00e+02 ... 0.00e+00 0.00e+00 0.00e+00]\n",
      " [0.00e+00 9.18e+02 8.00e+02 ... 0.00e+00 0.00e+00 0.00e+00]\n",
      " ...\n",
      " [0.00e+00 0.00e+00 2.00e+03 ... 0.00e+00 0.00e+00 0.00e+00]\n",
      " [1.00e+00 2.36e+02 2.50e+03 ... 0.00e+00 0.00e+00 0.00e+00]\n",
      " [0.00e+00 1.30e+01 1.50e+03 ... 0.00e+00 0.00e+00 0.00e+00]]\n",
      "Y =  [4.1 4.1 3.8 ... 3.7 4.3 3.4]\n"
     ]
    }
   ],
   "source": [
    "x1 = data_with_location.drop(\"rate\",axis=1).values\n",
    "y1 = data_with_location[\"rate\"].values\n",
    "\n",
    "print(\"X = \",x1)\n",
    "print(\"Y = \",y1)"
   ]
  },
  {
   "cell_type": "code",
   "execution_count": 64,
   "id": "63e3db76",
   "metadata": {},
   "outputs": [
    {
     "name": "stdout",
     "output_type": "stream",
     "text": [
      "X =  [[1.00e+00 7.75e+02 8.00e+02 ... 0.00e+00 0.00e+00 0.00e+00]\n",
      " [0.00e+00 7.87e+02 8.00e+02 ... 0.00e+00 0.00e+00 0.00e+00]\n",
      " [0.00e+00 9.18e+02 8.00e+02 ... 0.00e+00 0.00e+00 0.00e+00]\n",
      " ...\n",
      " [0.00e+00 0.00e+00 2.00e+03 ... 0.00e+00 0.00e+00 1.00e+00]\n",
      " [1.00e+00 2.36e+02 2.50e+03 ... 0.00e+00 0.00e+00 1.00e+00]\n",
      " [0.00e+00 1.30e+01 1.50e+03 ... 0.00e+00 0.00e+00 1.00e+00]]\n",
      "Y =  [4.1 4.1 3.8 ... 3.7 4.3 3.4]\n"
     ]
    }
   ],
   "source": [
    "x2 = data_with_place.drop(\"rate\",axis=1).values\n",
    "y2 = data_with_place[\"rate\"].values\n",
    "print(\"X = \",x2)\n",
    "\n",
    "print(\"Y = \",y2)"
   ]
  },
  {
   "cell_type": "code",
   "execution_count": 65,
   "id": "63c3392f",
   "metadata": {},
   "outputs": [],
   "source": [
    "from sklearn.ensemble import ExtraTreesRegressor"
   ]
  },
  {
   "cell_type": "code",
   "execution_count": 66,
   "id": "16b5940c",
   "metadata": {},
   "outputs": [
    {
     "name": "stdout",
     "output_type": "stream",
     "text": [
      "[1.66134748e-01 2.96506248e-01 5.07005124e-02 1.82597652e-03\n",
      " 1.26108358e-16 1.14970709e-05 9.72164264e-07 3.50180521e-03\n",
      " 3.82335566e-04 3.35747931e-03 1.26400597e-02 3.50848567e-03\n",
      " 1.14392712e-03 7.69635505e-04 5.92954709e-04 8.80188273e-04\n",
      " 9.17034953e-05 1.07909730e-02 3.08510002e-03 1.13597553e-06\n",
      " 8.17985410e-06 7.36582770e-04 2.83066903e-03 9.91121536e-05\n",
      " 1.72273459e-04 5.79336378e-03 1.05605635e-02 2.72773228e-03\n",
      " 2.29545710e-04 2.04177429e-03 1.39365027e-04 2.39706175e-04\n",
      " 5.56321769e-06 3.91211219e-03 6.16428544e-06 2.13842868e-04\n",
      " 4.18245463e-05 4.68425162e-03 2.91566739e-04 3.84216390e-03\n",
      " 4.58579518e-04 6.26105018e-06 6.50399322e-03 1.51488015e-05\n",
      " 1.09919714e-05 1.59882566e-03 1.10226133e-04 2.80184368e-04\n",
      " 5.39658497e-03 1.57711851e-02 2.34444032e-04 1.74914766e-03\n",
      " 0.00000000e+00 2.42045348e-03 1.12706562e-06 3.74245118e-03\n",
      " 2.11927316e-02 3.69631025e-03 1.40289842e-05 1.62966570e-03\n",
      " 1.25089307e-05 9.69070030e-06 1.57776587e-04 3.27201723e-04\n",
      " 3.16099010e-03 1.12201465e-02 5.60936227e-04 9.21943315e-04\n",
      " 1.48224580e-03 9.07904874e-04 1.22547226e-05 6.28992275e-05\n",
      " 9.77033415e-05 4.57325530e-06 1.21187788e-06 1.92341752e-03\n",
      " 4.12246604e-03 8.29488441e-05 1.93055237e-04 9.12434525e-04\n",
      " 1.45524170e-03 2.77431843e-06 2.62168719e-06 1.31025894e-02\n",
      " 7.91405380e-05 4.84516636e-04 2.18151454e-05 1.26155058e-03\n",
      " 6.42426409e-04 3.54174037e-04 1.09870963e-03 2.06110568e-06\n",
      " 1.97085605e-06 6.42399278e-03 2.32022961e-03 2.07494824e-03\n",
      " 1.91101155e-03 2.60615888e-03 5.16524426e-05 4.02224212e-03\n",
      " 5.84110402e-04 3.38686111e-05 2.83405855e-03 3.31053924e-04\n",
      " 5.31966229e-05 7.53351739e-05 1.03018164e-02 8.55487079e-04\n",
      " 2.62021390e-03 1.91548876e-16 8.17337203e-06 1.80902012e-03\n",
      " 3.11804138e-03 1.06615473e-06 6.92325355e-03 5.57859059e-03\n",
      " 6.43458996e-03 2.08871615e-06 3.85760403e-04 5.94528268e-03\n",
      " 1.28512126e-02 1.26430841e-04 1.56650062e-03 1.52228973e-04\n",
      " 1.21808640e-05 1.36615802e-03 1.11382971e-05 2.17292067e-05\n",
      " 1.61046027e-05 3.71099346e-04 2.09178972e-06 2.90818220e-05\n",
      " 6.49305790e-05 1.04244697e-02 3.68286436e-03 2.59774579e-03\n",
      " 7.48649551e-03 2.38138866e-03 9.48136753e-04 5.89879907e-03\n",
      " 3.30987019e-03 6.37757858e-03 4.93997655e-03 2.89060391e-04\n",
      " 1.04002291e-05 3.63440507e-03 4.17954209e-04 2.68715290e-03\n",
      " 2.81205800e-03 3.46841665e-03 1.96589454e-04 1.12843480e-03\n",
      " 5.64848953e-03 3.33874090e-03 4.54503769e-04 7.46017024e-03\n",
      " 1.18699291e-04 1.16912953e-03 2.55745588e-04 1.02496833e-03\n",
      " 9.56743865e-03 8.50627788e-04 7.43760897e-03 6.85376353e-18\n",
      " 1.45185720e-04 5.55696798e-03 2.13911384e-03 1.40632672e-05\n",
      " 9.65107235e-04 3.58348089e-03 2.15719243e-03 8.41602846e-05\n",
      " 3.08184862e-06 2.49392599e-04 4.40585199e-03 2.10887708e-04\n",
      " 3.36625079e-04 4.29076368e-03 7.34629224e-03 5.90674596e-03\n",
      " 4.95367027e-03 1.06630850e-03 1.10293370e-03 2.59713119e-05\n",
      " 1.75560639e-03 7.80001799e-03 1.14195080e-04 3.81268341e-04\n",
      " 3.28926842e-03 8.77879478e-03 4.26645228e-05 1.48761592e-06\n",
      " 1.66749650e-03 3.02100060e-03 6.83833231e-05 2.24107219e-03\n",
      " 5.69105492e-04 4.79147642e-07 3.62238668e-04 2.68299876e-04\n",
      " 2.14548832e-03 4.76817092e-06 5.04096728e-04 2.59774440e-03\n",
      " 3.03592445e-03 5.18269263e-04 3.42190910e-04 3.59836373e-04\n",
      " 1.97226722e-05 5.37865044e-03 9.58223583e-04 3.06338388e-03\n",
      " 8.09423157e-04 3.01880329e-04 1.59643601e-03 5.66038572e-04\n",
      " 4.13691723e-03 5.77061084e-05 7.50760537e-04 1.05902297e-03\n",
      " 2.64915438e-04 2.04129740e-05 7.15493598e-03 6.21288263e-04\n",
      " 5.22981310e-07 8.93877194e-04]\n"
     ]
    }
   ],
   "source": [
    "# Extracting Imp. Features from data with location Dataframe\n",
    "imp_features1 = ExtraTreesRegressor()\n",
    "imp_features1.fit(x1, y1)\n",
    "print(imp_features1.feature_importances_)"
   ]
  },
  {
   "cell_type": "code",
   "execution_count": 67,
   "id": "ca68e921",
   "metadata": {},
   "outputs": [
    {
     "data": {
      "text/plain": [
       "<AxesSubplot: >"
      ]
     },
     "execution_count": 67,
     "metadata": {},
     "output_type": "execute_result"
    },
    {
     "data": {
      "image/png": "[encoded data removed]",
      "text/plain": [
       "<Figure size 864x576 with 1 Axes>"
      ]
     },
     "metadata": {},
     "output_type": "display_data"
    }
   ],
   "source": [
    "plt.figure(figsize=(12,8))\n",
    "columns = data_with_location.drop(\"rate\",axis=1).columns\n",
    "fseries = pd.Series(imp_features1.feature_importances_, index=columns)\n",
    "fseries.nlargest(30).plot(kind=\"bar\")"
   ]
  },
  {
   "cell_type": "code",
   "execution_count": 68,
   "id": "c654a932",
   "metadata": {},
   "outputs": [
    {
     "name": "stdout",
     "output_type": "stream",
     "text": [
      "[1.66194589e-01 3.30100370e-01 7.57877762e-02 3.02207454e-03\n",
      " 5.05357706e-17 2.25709909e-05 2.10265435e-06 3.77411452e-03\n",
      " 5.17940833e-04 4.07711463e-03 1.37371124e-02 3.80935490e-03\n",
      " 1.75980830e-03 9.54706591e-04 7.93133915e-04 1.10881942e-03\n",
      " 8.88922119e-05 1.19186842e-02 4.01141885e-03 6.42893024e-07\n",
      " 8.83640414e-06 9.00924765e-04 4.18310373e-03 2.38264752e-04\n",
      " 1.88754962e-04 6.39458481e-03 1.22547318e-02 3.52631238e-03\n",
      " 2.42447864e-04 2.98244092e-03 2.04906379e-04 3.82157979e-04\n",
      " 2.76545273e-05 5.24519607e-03 1.38257111e-05 2.12986069e-04\n",
      " 4.90974400e-05 6.80578595e-03 3.19041565e-04 5.57537484e-03\n",
      " 4.68922207e-04 2.06162524e-05 9.38071841e-03 4.88507417e-05\n",
      " 1.48821289e-05 2.76209172e-03 1.10623150e-04 3.96822512e-04\n",
      " 6.91817982e-03 1.82523736e-02 3.38970698e-04 2.65820378e-03\n",
      " 0.00000000e+00 2.87255410e-03 9.15824975e-07 4.91915307e-03\n",
      " 2.08306279e-02 3.62588403e-03 2.25086768e-05 1.90226928e-03\n",
      " 1.98807359e-05 2.99237557e-05 2.26875544e-04 3.76819338e-04\n",
      " 4.07648456e-03 1.35346284e-02 8.35177560e-04 1.29674808e-03\n",
      " 1.91990510e-03 9.48790490e-04 2.09980704e-05 8.44605159e-05\n",
      " 1.38327470e-04 1.15957497e-05 3.73397919e-07 2.64870434e-03\n",
      " 5.28223722e-03 1.48467028e-04 1.99906765e-04 8.33954606e-04\n",
      " 2.29543376e-03 5.95691310e-06 3.35044956e-06 1.52663314e-02\n",
      " 1.51451735e-04 6.70104468e-04 5.36912538e-05 1.85673508e-03\n",
      " 7.15656068e-04 3.20451189e-04 1.39786612e-03 3.68476215e-06\n",
      " 2.10284370e-06 8.07809893e-03 3.21819956e-03 2.68922802e-03\n",
      " 3.07533166e-03 3.53512383e-03 9.47740948e-05 5.51258404e-03\n",
      " 7.08195177e-04 4.89765929e-05 3.12166325e-03 5.22431993e-04\n",
      " 1.28654680e-04 5.80831991e-05 1.28480079e-02 1.08057416e-03\n",
      " 3.14427923e-03 0.00000000e+00 6.46084617e-06 2.28559784e-03\n",
      " 3.74534044e-03 1.07588808e-06 9.46906738e-03 6.36054910e-03\n",
      " 7.95131379e-03 6.38887297e-06 4.76989885e-04 1.08479125e-02\n",
      " 1.65855911e-02 1.74844424e-04 1.64535351e-03 2.69762009e-04\n",
      " 1.32140636e-05 1.54645924e-03 4.23193855e-06 2.64810044e-05\n",
      " 2.73852542e-05 4.10467345e-04 5.11660896e-06 5.77422456e-05\n",
      " 6.37162277e-05 2.19300782e-03 1.98368467e-03 3.69434980e-03\n",
      " 2.01145765e-03 4.30179357e-03 1.05218635e-03 6.47318278e-03\n",
      " 7.56156708e-04 5.76799390e-03 1.76587689e-03 4.10949047e-03\n",
      " 4.49371978e-03 2.80772088e-03 2.41772898e-03 2.94338018e-03\n",
      " 3.22011738e-03 1.11004495e-03 7.89620675e-04 7.78543473e-04\n",
      " 9.90878692e-04 1.34221327e-03 1.54818345e-03 3.15820535e-03\n",
      " 6.61850463e-03 3.27945825e-03 4.05726545e-03 2.78136604e-03\n",
      " 1.16709499e-03 4.64515807e-03 5.53644845e-03]\n"
     ]
    }
   ],
   "source": [
    "imp_features2 = ExtraTreesRegressor()\n",
    "imp_features2.fit(x2,y2)\n",
    "print(imp_features2.feature_importances_)"
   ]
  },
  {
   "cell_type": "code",
   "execution_count": 69,
   "id": "234ce842",
   "metadata": {},
   "outputs": [
    {
     "data": {
      "text/plain": [
       "<AxesSubplot: >"
      ]
     },
     "execution_count": 69,
     "metadata": {},
     "output_type": "execute_result"
    },
    {
     "data": {
      "image/png": "[encoded data removed]",
      "text/plain": [
       "<Figure size 864x576 with 1 Axes>"
      ]
     },
     "metadata": {},
     "output_type": "display_data"
    }
   ],
   "source": [
    "plt.figure(figsize=(12,8))\n",
    "columns = data_with_place.drop(\"rate\",axis=1).columns\n",
    "fseries=pd.Series(imp_features2.feature_importances_,index = columns)\n",
    "fseries.nlargest(30).plot(kind=\"bar\")"
   ]
  },
  {
   "cell_type": "markdown",
   "id": "2ac8ff9e",
   "metadata": {},
   "source": [
    "## Train Test Splitting of Data"
   ]
  },
  {
   "cell_type": "code",
   "execution_count": 70,
   "id": "117c6228",
   "metadata": {},
   "outputs": [],
   "source": [
    "from sklearn.model_selection import train_test_split"
   ]
  },
  {
   "cell_type": "code",
   "execution_count": 71,
   "id": "479b831a",
   "metadata": {},
   "outputs": [],
   "source": [
    "X1_train, X1_test, Y1_train, Y1_test = train_test_split(x1, y1, test_size=0.2, random_state=42)"
   ]
  },
  {
   "cell_type": "code",
   "execution_count": 72,
   "id": "a505750c",
   "metadata": {},
   "outputs": [],
   "source": [
    "X2_train, X2_test, Y2_train, Y2_test = train_test_split(x2, y2, test_size=0.2, random_state=45)"
   ]
  },
  {
   "cell_type": "markdown",
   "id": "6441e769",
   "metadata": {},
   "source": [
    "## Importing Machine Learning Modules"
   ]
  },
  {
   "cell_type": "code",
   "execution_count": 73,
   "id": "6c4ac8c3",
   "metadata": {},
   "outputs": [],
   "source": [
    "from sklearn.linear_model import LinearRegression\n",
    "from sklearn.ensemble import RandomForestRegressor\n",
    "from sklearn.tree import DecisionTreeRegressor"
   ]
  },
  {
   "cell_type": "markdown",
   "id": "b14b6b3e",
   "metadata": {},
   "source": [
    "### Linear Regression"
   ]
  },
  {
   "cell_type": "markdown",
   "id": "2b9dcb81",
   "metadata": {},
   "source": [
    "### For data_with_location"
   ]
  },
  {
   "cell_type": "code",
   "execution_count": 74,
   "id": "3a897060",
   "metadata": {},
   "outputs": [
    {
     "data": {
      "text/html": [
       "<style>#sk-container-id-1 {color: black;background-color: white;}#sk-container-id-1 pre{padding: 0;}#sk-container-id-1 div.sk-toggleable {background-color: white;}#sk-container-id-1 label.sk-toggleable__label {cursor: pointer;display: block;width: 100%;margin-bottom: 0;padding: 0.3em;box-sizing: border-box;text-align: center;}#sk-container-id-1 label.sk-toggleable__label-arrow:before {content: \"▸\";float: left;margin-right: 0.25em;color: #696969;}#sk-container-id-1 label.sk-toggleable__label-arrow:hover:before {color: black;}#sk-container-id-1 div.sk-estimator:hover label.sk-toggleable__label-arrow:before {color: black;}#sk-container-id-1 div.sk-toggleable__content {max-height: 0;max-width: 0;overflow: hidden;text-align: left;background-color: #f0f8ff;}#sk-container-id-1 div.sk-toggleable__content pre {margin: 0.2em;color: black;border-radius: 0.25em;background-color: #f0f8ff;}#sk-container-id-1 input.sk-toggleable__control:checked~div.sk-toggleable__content {max-height: 200px;max-width: 100%;overflow: auto;}#sk-container-id-1 input.sk-toggleable__control:checked~label.sk-toggleable__label-arrow:before {content: \"▾\";}#sk-container-id-1 div.sk-estimator input.sk-toggleable__control:checked~label.sk-toggleable__label {background-color: #d4ebff;}#sk-container-id-1 div.sk-label input.sk-toggleable__control:checked~label.sk-toggleable__label {background-color: #d4ebff;}#sk-container-id-1 input.sk-hidden--visually {border: 0;clip: rect(1px 1px 1px 1px);clip: rect(1px, 1px, 1px, 1px);height: 1px;margin: -1px;overflow: hidden;padding: 0;position: absolute;width: 1px;}#sk-container-id-1 div.sk-estimator {font-family: monospace;background-color: #f0f8ff;border: 1px dotted black;border-radius: 0.25em;box-sizing: border-box;margin-bottom: 0.5em;}#sk-container-id-1 div.sk-estimator:hover {background-color: #d4ebff;}#sk-container-id-1 div.sk-parallel-item::after {content: \"\";width: 100%;border-bottom: 1px solid gray;flex-grow: 1;}#sk-container-id-1 div.sk-label:hover label.sk-toggleable__label {background-color: #d4ebff;}#sk-container-id-1 div.sk-serial::before {content: \"\";position: absolute;border-left: 1px solid gray;box-sizing: border-box;top: 0;bottom: 0;left: 50%;z-index: 0;}#sk-container-id-1 div.sk-serial {display: flex;flex-direction: column;align-items: center;background-color: white;padding-right: 0.2em;padding-left: 0.2em;position: relative;}#sk-container-id-1 div.sk-item {position: relative;z-index: 1;}#sk-container-id-1 div.sk-parallel {display: flex;align-items: stretch;justify-content: center;background-color: white;position: relative;}#sk-container-id-1 div.sk-item::before, #sk-container-id-1 div.sk-parallel-item::before {content: \"\";position: absolute;border-left: 1px solid gray;box-sizing: border-box;top: 0;bottom: 0;left: 50%;z-index: -1;}#sk-container-id-1 div.sk-parallel-item {display: flex;flex-direction: column;z-index: 1;position: relative;background-color: white;}#sk-container-id-1 div.sk-parallel-item:first-child::after {align-self: flex-end;width: 50%;}#sk-container-id-1 div.sk-parallel-item:last-child::after {align-self: flex-start;width: 50%;}#sk-container-id-1 div.sk-parallel-item:only-child::after {width: 0;}#sk-container-id-1 div.sk-dashed-wrapped {border: 1px dashed gray;margin: 0 0.4em 0.5em 0.4em;box-sizing: border-box;padding-bottom: 0.4em;background-color: white;}#sk-container-id-1 div.sk-label label {font-family: monospace;font-weight: bold;display: inline-block;line-height: 1.2em;}#sk-container-id-1 div.sk-label-container {text-align: center;}#sk-container-id-1 div.sk-container {/* jupyter's `normalize.less` sets `[hidden] { display: none; }` but bootstrap.min.css set `[hidden] { display: none !important; }` so we also need the `!important` here to be able to override the default hidden behavior on the sphinx rendered scikit-learn.org. See: https://github.com/scikit-learn/scikit-learn/issues/21755 */display: inline-block !important;position: relative;}#sk-container-id-1 div.sk-text-repr-fallback {display: none;}</style><div id=\"sk-container-id-1\" class=\"sk-top-container\"><div class=\"sk-text-repr-fallback\"><pre>LinearRegression()</pre><b>In a Jupyter environment, please rerun this cell to show the HTML representation or trust the notebook. <br />On GitHub, the HTML representation is unable to render, please try loading this page with nbviewer.org.</b></div><div class=\"sk-container\" hidden><div class=\"sk-item\"><div class=\"sk-estimator sk-toggleable\"><input class=\"sk-toggleable__control sk-hidden--visually\" id=\"sk-estimator-id-1\" type=\"checkbox\" checked><label for=\"sk-estimator-id-1\" class=\"sk-toggleable__label sk-toggleable__label-arrow\">LinearRegression</label><div class=\"sk-toggleable__content\"><pre>LinearRegression()</pre></div></div></div></div></div>"
      ],
      "text/plain": [
       "LinearRegression()"
      ]
     },
     "execution_count": 74,
     "metadata": {},
     "output_type": "execute_result"
    }
   ],
   "source": [
    "lr = LinearRegression()\n",
    "lr.fit(X1_train, Y1_train)"
   ]
  },
  {
   "cell_type": "code",
   "execution_count": 75,
   "id": "ecc6196b",
   "metadata": {},
   "outputs": [
    {
     "data": {
      "text/plain": [
       "array([3.62103851, 3.78182328, 3.59596661, 3.4982865 , 3.56418189,\n",
       "       3.87919258, 3.55592136, 3.51452067, 3.8968427 , 3.52791692,\n",
       "       3.56095236, 3.66182308, 3.5530573 , 3.60097046, 4.12487391,\n",
       "       3.36138461, 3.82003988, 4.33887983, 3.48289524, 3.41375959,\n",
       "       3.47597991, 3.49732438, 3.82648947, 3.60159016, 3.50047988,\n",
       "       3.52413558, 3.85530294, 3.76841354, 3.62705742, 3.53109729,\n",
       "       3.64866718, 3.67670869, 3.93559405, 3.73289028, 3.49500776,\n",
       "       3.48081002, 4.4912882 , 3.56297927, 3.464735  , 3.77702641,\n",
       "       3.59583641, 3.79785749, 3.54537625, 3.76557041, 3.47147371,\n",
       "       3.63195759, 3.61459783, 3.47616169, 4.44851723, 4.16117319,\n",
       "       3.52909959, 4.45434421, 3.66039098, 3.45071476, 3.59973825,\n",
       "       3.71064881, 3.60216175, 3.57303097, 3.60714912, 3.54092843,\n",
       "       3.76051243, 3.84662173, 3.46980843, 3.64114682, 4.04009576,\n",
       "       4.29470309, 3.50146603, 3.63769538, 3.75288476, 3.49920761,\n",
       "       3.66226776, 3.46778657, 3.59257961, 3.51530216, 3.46132991,\n",
       "       3.77793798, 3.77038078, 3.71860082, 3.50721899, 3.6427257 ,\n",
       "       3.73722048, 3.68577626, 3.46992043, 3.47017104, 3.67998141,\n",
       "       4.06105188, 3.62705742, 4.07293688, 3.62812365, 3.65915219,\n",
       "       3.58820505, 3.59301151, 3.96701585, 3.77387991, 3.76290062,\n",
       "       3.81587858, 3.82727116, 3.5411593 , 3.69908581, 4.02268234])"
      ]
     },
     "execution_count": 75,
     "metadata": {},
     "output_type": "execute_result"
    }
   ],
   "source": [
    "Y_lr = lr.predict(X1_test)\n",
    "Y_lr[:100]"
   ]
  },
  {
   "cell_type": "code",
   "execution_count": 76,
   "id": "087193f5",
   "metadata": {},
   "outputs": [
    {
     "data": {
      "image/png": "[encoded data removed]",
      "text/plain": [
       "<Figure size 864x576 with 1 Axes>"
      ]
     },
     "metadata": {},
     "output_type": "display_data"
    }
   ],
   "source": [
    "plt.figure(figsize=(12,8))\n",
    "sns.histplot(Y1_test - Y_lr, kde=True)\n",
    "plt.show()"
   ]
  },
  {
   "cell_type": "markdown",
   "id": "57a850e7",
   "metadata": {},
   "source": [
    "#### For data_with_place"
   ]
  },
  {
   "cell_type": "code",
   "execution_count": 77,
   "id": "7848fd42",
   "metadata": {},
   "outputs": [
    {
     "data": {
      "text/html": [
       "<style>#sk-container-id-2 {color: black;background-color: white;}#sk-container-id-2 pre{padding: 0;}#sk-container-id-2 div.sk-toggleable {background-color: white;}#sk-container-id-2 label.sk-toggleable__label {cursor: pointer;display: block;width: 100%;margin-bottom: 0;padding: 0.3em;box-sizing: border-box;text-align: center;}#sk-container-id-2 label.sk-toggleable__label-arrow:before {content: \"▸\";float: left;margin-right: 0.25em;color: #696969;}#sk-container-id-2 label.sk-toggleable__label-arrow:hover:before {color: black;}#sk-container-id-2 div.sk-estimator:hover label.sk-toggleable__label-arrow:before {color: black;}#sk-container-id-2 div.sk-toggleable__content {max-height: 0;max-width: 0;overflow: hidden;text-align: left;background-color: #f0f8ff;}#sk-container-id-2 div.sk-toggleable__content pre {margin: 0.2em;color: black;border-radius: 0.25em;background-color: #f0f8ff;}#sk-container-id-2 input.sk-toggleable__control:checked~div.sk-toggleable__content {max-height: 200px;max-width: 100%;overflow: auto;}#sk-container-id-2 input.sk-toggleable__control:checked~label.sk-toggleable__label-arrow:before {content: \"▾\";}#sk-container-id-2 div.sk-estimator input.sk-toggleable__control:checked~label.sk-toggleable__label {background-color: #d4ebff;}#sk-container-id-2 div.sk-label input.sk-toggleable__control:checked~label.sk-toggleable__label {background-color: #d4ebff;}#sk-container-id-2 input.sk-hidden--visually {border: 0;clip: rect(1px 1px 1px 1px);clip: rect(1px, 1px, 1px, 1px);height: 1px;margin: -1px;overflow: hidden;padding: 0;position: absolute;width: 1px;}#sk-container-id-2 div.sk-estimator {font-family: monospace;background-color: #f0f8ff;border: 1px dotted black;border-radius: 0.25em;box-sizing: border-box;margin-bottom: 0.5em;}#sk-container-id-2 div.sk-estimator:hover {background-color: #d4ebff;}#sk-container-id-2 div.sk-parallel-item::after {content: \"\";width: 100%;border-bottom: 1px solid gray;flex-grow: 1;}#sk-container-id-2 div.sk-label:hover label.sk-toggleable__label {background-color: #d4ebff;}#sk-container-id-2 div.sk-serial::before {content: \"\";position: absolute;border-left: 1px solid gray;box-sizing: border-box;top: 0;bottom: 0;left: 50%;z-index: 0;}#sk-container-id-2 div.sk-serial {display: flex;flex-direction: column;align-items: center;background-color: white;padding-right: 0.2em;padding-left: 0.2em;position: relative;}#sk-container-id-2 div.sk-item {position: relative;z-index: 1;}#sk-container-id-2 div.sk-parallel {display: flex;align-items: stretch;justify-content: center;background-color: white;position: relative;}#sk-container-id-2 div.sk-item::before, #sk-container-id-2 div.sk-parallel-item::before {content: \"\";position: absolute;border-left: 1px solid gray;box-sizing: border-box;top: 0;bottom: 0;left: 50%;z-index: -1;}#sk-container-id-2 div.sk-parallel-item {display: flex;flex-direction: column;z-index: 1;position: relative;background-color: white;}#sk-container-id-2 div.sk-parallel-item:first-child::after {align-self: flex-end;width: 50%;}#sk-container-id-2 div.sk-parallel-item:last-child::after {align-self: flex-start;width: 50%;}#sk-container-id-2 div.sk-parallel-item:only-child::after {width: 0;}#sk-container-id-2 div.sk-dashed-wrapped {border: 1px dashed gray;margin: 0 0.4em 0.5em 0.4em;box-sizing: border-box;padding-bottom: 0.4em;background-color: white;}#sk-container-id-2 div.sk-label label {font-family: monospace;font-weight: bold;display: inline-block;line-height: 1.2em;}#sk-container-id-2 div.sk-label-container {text-align: center;}#sk-container-id-2 div.sk-container {/* jupyter's `normalize.less` sets `[hidden] { display: none; }` but bootstrap.min.css set `[hidden] { display: none !important; }` so we also need the `!important` here to be able to override the default hidden behavior on the sphinx rendered scikit-learn.org. See: https://github.com/scikit-learn/scikit-learn/issues/21755 */display: inline-block !important;position: relative;}#sk-container-id-2 div.sk-text-repr-fallback {display: none;}</style><div id=\"sk-container-id-2\" class=\"sk-top-container\"><div class=\"sk-text-repr-fallback\"><pre>LinearRegression()</pre><b>In a Jupyter environment, please rerun this cell to show the HTML representation or trust the notebook. <br />On GitHub, the HTML representation is unable to render, please try loading this page with nbviewer.org.</b></div><div class=\"sk-container\" hidden><div class=\"sk-item\"><div class=\"sk-estimator sk-toggleable\"><input class=\"sk-toggleable__control sk-hidden--visually\" id=\"sk-estimator-id-2\" type=\"checkbox\" checked><label for=\"sk-estimator-id-2\" class=\"sk-toggleable__label sk-toggleable__label-arrow\">LinearRegression</label><div class=\"sk-toggleable__content\"><pre>LinearRegression()</pre></div></div></div></div></div>"
      ],
      "text/plain": [
       "LinearRegression()"
      ]
     },
     "execution_count": 77,
     "metadata": {},
     "output_type": "execute_result"
    }
   ],
   "source": [
    "lr2 = LinearRegression()\n",
    "lr2.fit(X2_train, Y2_train)"
   ]
  },
  {
   "cell_type": "code",
   "execution_count": 78,
   "id": "980cae49",
   "metadata": {},
   "outputs": [
    {
     "data": {
      "text/plain": [
       "array([3.49415811, 3.62549628, 3.89308445, 3.55347087, 3.62088352,\n",
       "       3.53180375, 4.13746822, 3.79529391, 3.65512601, 3.48331907,\n",
       "       3.62494637, 3.70245665, 3.65189325, 4.08679569, 3.6371463 ,\n",
       "       3.6772698 , 4.03320887, 3.56837311, 4.16658148, 3.56558448,\n",
       "       3.674403  , 3.82030076, 3.49010302, 3.69204449, 3.73224167,\n",
       "       3.97021389, 4.12755743, 3.4497874 , 3.50793171, 3.65205211,\n",
       "       3.71068362, 3.67648111, 3.79250107, 3.75546361, 3.55802945,\n",
       "       3.50976577, 4.32659964, 3.52754508, 3.74183702, 3.69763269,\n",
       "       3.69193634, 3.58878544, 4.09875663, 3.62353222, 3.58487812,\n",
       "       3.80087128, 3.80011164, 3.53118783, 3.45855578, 3.53424101,\n",
       "       3.53277992, 3.8064762 , 3.82916497, 3.51586794, 3.86884814,\n",
       "       3.84472714, 3.55623766, 3.66285788, 3.54194567, 3.56684155,\n",
       "       3.61003003, 4.09916655, 3.58230434, 3.46196024, 4.18829128,\n",
       "       3.78250124, 3.96421292, 3.61580904, 3.61485879, 3.80775517,\n",
       "       3.648004  , 3.86600784, 3.55215499, 3.78690686, 3.48630315,\n",
       "       4.36610095, 3.5024111 , 3.78839803, 3.89647156, 3.51804624,\n",
       "       3.5722087 , 4.01145292, 4.04223884, 3.76621442, 4.00346903,\n",
       "       3.74246268, 3.52667065, 4.03610259, 4.07240771, 3.53378813,\n",
       "       3.55053937, 3.52858004, 3.99640907, 3.66999685, 3.47582017,\n",
       "       3.86876623, 3.53142871, 3.56693839, 3.57582511, 3.57745897])"
      ]
     },
     "execution_count": 78,
     "metadata": {},
     "output_type": "execute_result"
    }
   ],
   "source": [
    "Y_lr2 = lr2.predict(X2_test)\n",
    "Y_lr2[:100]"
   ]
  },
  {
   "cell_type": "code",
   "execution_count": 79,
   "id": "af3eee92",
   "metadata": {},
   "outputs": [
    {
     "data": {
      "image/png": "[encoded data removed]",
      "text/plain": [
       "<Figure size 864x576 with 1 Axes>"
      ]
     },
     "metadata": {},
     "output_type": "display_data"
    }
   ],
   "source": [
    "plt.figure(figsize=(12,8))\n",
    "sns.histplot(Y2_test - Y_lr2, kde=True)\n",
    "plt.show()"
   ]
  },
  {
   "cell_type": "markdown",
   "id": "a136454d",
   "metadata": {},
   "source": [
    "### Random Forest Regression"
   ]
  },
  {
   "cell_type": "markdown",
   "id": "1f679ffa",
   "metadata": {},
   "source": [
    "#### For data_with_location"
   ]
  },
  {
   "cell_type": "code",
   "execution_count": 80,
   "id": "9a0dfeaa",
   "metadata": {},
   "outputs": [
    {
     "data": {
      "text/html": [
       "<style>#sk-container-id-3 {color: black;background-color: white;}#sk-container-id-3 pre{padding: 0;}#sk-container-id-3 div.sk-toggleable {background-color: white;}#sk-container-id-3 label.sk-toggleable__label {cursor: pointer;display: block;width: 100%;margin-bottom: 0;padding: 0.3em;box-sizing: border-box;text-align: center;}#sk-container-id-3 label.sk-toggleable__label-arrow:before {content: \"▸\";float: left;margin-right: 0.25em;color: #696969;}#sk-container-id-3 label.sk-toggleable__label-arrow:hover:before {color: black;}#sk-container-id-3 div.sk-estimator:hover label.sk-toggleable__label-arrow:before {color: black;}#sk-container-id-3 div.sk-toggleable__content {max-height: 0;max-width: 0;overflow: hidden;text-align: left;background-color: #f0f8ff;}#sk-container-id-3 div.sk-toggleable__content pre {margin: 0.2em;color: black;border-radius: 0.25em;background-color: #f0f8ff;}#sk-container-id-3 input.sk-toggleable__control:checked~div.sk-toggleable__content {max-height: 200px;max-width: 100%;overflow: auto;}#sk-container-id-3 input.sk-toggleable__control:checked~label.sk-toggleable__label-arrow:before {content: \"▾\";}#sk-container-id-3 div.sk-estimator input.sk-toggleable__control:checked~label.sk-toggleable__label {background-color: #d4ebff;}#sk-container-id-3 div.sk-label input.sk-toggleable__control:checked~label.sk-toggleable__label {background-color: #d4ebff;}#sk-container-id-3 input.sk-hidden--visually {border: 0;clip: rect(1px 1px 1px 1px);clip: rect(1px, 1px, 1px, 1px);height: 1px;margin: -1px;overflow: hidden;padding: 0;position: absolute;width: 1px;}#sk-container-id-3 div.sk-estimator {font-family: monospace;background-color: #f0f8ff;border: 1px dotted black;border-radius: 0.25em;box-sizing: border-box;margin-bottom: 0.5em;}#sk-container-id-3 div.sk-estimator:hover {background-color: #d4ebff;}#sk-container-id-3 div.sk-parallel-item::after {content: \"\";width: 100%;border-bottom: 1px solid gray;flex-grow: 1;}#sk-container-id-3 div.sk-label:hover label.sk-toggleable__label {background-color: #d4ebff;}#sk-container-id-3 div.sk-serial::before {content: \"\";position: absolute;border-left: 1px solid gray;box-sizing: border-box;top: 0;bottom: 0;left: 50%;z-index: 0;}#sk-container-id-3 div.sk-serial {display: flex;flex-direction: column;align-items: center;background-color: white;padding-right: 0.2em;padding-left: 0.2em;position: relative;}#sk-container-id-3 div.sk-item {position: relative;z-index: 1;}#sk-container-id-3 div.sk-parallel {display: flex;align-items: stretch;justify-content: center;background-color: white;position: relative;}#sk-container-id-3 div.sk-item::before, #sk-container-id-3 div.sk-parallel-item::before {content: \"\";position: absolute;border-left: 1px solid gray;box-sizing: border-box;top: 0;bottom: 0;left: 50%;z-index: -1;}#sk-container-id-3 div.sk-parallel-item {display: flex;flex-direction: column;z-index: 1;position: relative;background-color: white;}#sk-container-id-3 div.sk-parallel-item:first-child::after {align-self: flex-end;width: 50%;}#sk-container-id-3 div.sk-parallel-item:last-child::after {align-self: flex-start;width: 50%;}#sk-container-id-3 div.sk-parallel-item:only-child::after {width: 0;}#sk-container-id-3 div.sk-dashed-wrapped {border: 1px dashed gray;margin: 0 0.4em 0.5em 0.4em;box-sizing: border-box;padding-bottom: 0.4em;background-color: white;}#sk-container-id-3 div.sk-label label {font-family: monospace;font-weight: bold;display: inline-block;line-height: 1.2em;}#sk-container-id-3 div.sk-label-container {text-align: center;}#sk-container-id-3 div.sk-container {/* jupyter's `normalize.less` sets `[hidden] { display: none; }` but bootstrap.min.css set `[hidden] { display: none !important; }` so we also need the `!important` here to be able to override the default hidden behavior on the sphinx rendered scikit-learn.org. See: https://github.com/scikit-learn/scikit-learn/issues/21755 */display: inline-block !important;position: relative;}#sk-container-id-3 div.sk-text-repr-fallback {display: none;}</style><div id=\"sk-container-id-3\" class=\"sk-top-container\"><div class=\"sk-text-repr-fallback\"><pre>RandomForestRegressor()</pre><b>In a Jupyter environment, please rerun this cell to show the HTML representation or trust the notebook. <br />On GitHub, the HTML representation is unable to render, please try loading this page with nbviewer.org.</b></div><div class=\"sk-container\" hidden><div class=\"sk-item\"><div class=\"sk-estimator sk-toggleable\"><input class=\"sk-toggleable__control sk-hidden--visually\" id=\"sk-estimator-id-3\" type=\"checkbox\" checked><label for=\"sk-estimator-id-3\" class=\"sk-toggleable__label sk-toggleable__label-arrow\">RandomForestRegressor</label><div class=\"sk-toggleable__content\"><pre>RandomForestRegressor()</pre></div></div></div></div></div>"
      ],
      "text/plain": [
       "RandomForestRegressor()"
      ]
     },
     "execution_count": 80,
     "metadata": {},
     "output_type": "execute_result"
    }
   ],
   "source": [
    "rf = RandomForestRegressor()\n",
    "rf.fit(X1_train, Y1_train)"
   ]
  },
  {
   "cell_type": "code",
   "execution_count": 81,
   "id": "b551550a",
   "metadata": {},
   "outputs": [
    {
     "data": {
      "text/plain": [
       "array([3.226     , 3.50925   , 3.7       , 3.20288889, 3.24366667,\n",
       "       4.1       , 3.594     , 3.7       , 4.2       , 3.7       ,\n",
       "       3.5       , 3.7       , 3.7       , 3.7       , 4.357     ,\n",
       "       3.27325   , 3.93156667, 4.2       , 3.7       , 3.2       ,\n",
       "       3.163     , 3.7       , 3.7       , 3.73341667, 3.611     ,\n",
       "       3.84336667, 3.7       , 4.3       , 3.5       , 3.352     ,\n",
       "       3.503     , 3.35125556, 4.2       , 4.4       , 4.        ,\n",
       "       3.20825   , 4.41      , 3.468     , 3.7       , 4.109     ,\n",
       "       3.782     , 3.7       , 3.639     , 4.12      , 3.5425    ,\n",
       "       3.581     , 4.005     , 3.265     , 4.4       , 4.204     ,\n",
       "       3.8       , 4.2       , 3.7       , 3.011     , 3.7       ,\n",
       "       3.89      , 3.3       , 3.865     , 3.7       , 3.7       ,\n",
       "       3.7       , 3.902     , 2.896     , 3.635     , 4.        ,\n",
       "       4.1081    , 3.29266667, 3.109     , 3.967     , 3.313     ,\n",
       "       3.7       , 3.692     , 3.604     , 3.372375  , 3.54744444,\n",
       "       3.496     , 3.9       , 3.7       , 3.61622224, 3.7       ,\n",
       "       3.7       , 4.218     , 3.39027273, 3.4185    , 3.3       ,\n",
       "       3.9       , 3.5       , 4.374     , 3.478425  , 4.187     ,\n",
       "       3.7       , 3.        , 3.8       , 3.801     , 3.565     ,\n",
       "       4.10666667, 4.        , 3.8       , 4.087     , 4.2       ])"
      ]
     },
     "execution_count": 81,
     "metadata": {},
     "output_type": "execute_result"
    }
   ],
   "source": [
    "Y_rf = rf.predict(X1_test)\n",
    "Y_rf[:100]"
   ]
  },
  {
   "cell_type": "code",
   "execution_count": 82,
   "id": "a5dbc581",
   "metadata": {},
   "outputs": [
    {
     "data": {
      "image/png": "[encoded data removed]",
      "text/plain": [
       "<Figure size 864x576 with 1 Axes>"
      ]
     },
     "metadata": {},
     "output_type": "display_data"
    }
   ],
   "source": [
    "plt.figure(figsize=(12,8))\n",
    "sns.histplot(Y1_test - Y_rf, kde=True, bins=100)\n",
    "plt.show()"
   ]
  },
  {
   "cell_type": "markdown",
   "id": "508926be",
   "metadata": {},
   "source": [
    "#### For data_with_place"
   ]
  },
  {
   "cell_type": "code",
   "execution_count": 83,
   "id": "a9c503bd",
   "metadata": {},
   "outputs": [
    {
     "data": {
      "text/html": [
       "<style>#sk-container-id-4 {color: black;background-color: white;}#sk-container-id-4 pre{padding: 0;}#sk-container-id-4 div.sk-toggleable {background-color: white;}#sk-container-id-4 label.sk-toggleable__label {cursor: pointer;display: block;width: 100%;margin-bottom: 0;padding: 0.3em;box-sizing: border-box;text-align: center;}#sk-container-id-4 label.sk-toggleable__label-arrow:before {content: \"▸\";float: left;margin-right: 0.25em;color: #696969;}#sk-container-id-4 label.sk-toggleable__label-arrow:hover:before {color: black;}#sk-container-id-4 div.sk-estimator:hover label.sk-toggleable__label-arrow:before {color: black;}#sk-container-id-4 div.sk-toggleable__content {max-height: 0;max-width: 0;overflow: hidden;text-align: left;background-color: #f0f8ff;}#sk-container-id-4 div.sk-toggleable__content pre {margin: 0.2em;color: black;border-radius: 0.25em;background-color: #f0f8ff;}#sk-container-id-4 input.sk-toggleable__control:checked~div.sk-toggleable__content {max-height: 200px;max-width: 100%;overflow: auto;}#sk-container-id-4 input.sk-toggleable__control:checked~label.sk-toggleable__label-arrow:before {content: \"▾\";}#sk-container-id-4 div.sk-estimator input.sk-toggleable__control:checked~label.sk-toggleable__label {background-color: #d4ebff;}#sk-container-id-4 div.sk-label input.sk-toggleable__control:checked~label.sk-toggleable__label {background-color: #d4ebff;}#sk-container-id-4 input.sk-hidden--visually {border: 0;clip: rect(1px 1px 1px 1px);clip: rect(1px, 1px, 1px, 1px);height: 1px;margin: -1px;overflow: hidden;padding: 0;position: absolute;width: 1px;}#sk-container-id-4 div.sk-estimator {font-family: monospace;background-color: #f0f8ff;border: 1px dotted black;border-radius: 0.25em;box-sizing: border-box;margin-bottom: 0.5em;}#sk-container-id-4 div.sk-estimator:hover {background-color: #d4ebff;}#sk-container-id-4 div.sk-parallel-item::after {content: \"\";width: 100%;border-bottom: 1px solid gray;flex-grow: 1;}#sk-container-id-4 div.sk-label:hover label.sk-toggleable__label {background-color: #d4ebff;}#sk-container-id-4 div.sk-serial::before {content: \"\";position: absolute;border-left: 1px solid gray;box-sizing: border-box;top: 0;bottom: 0;left: 50%;z-index: 0;}#sk-container-id-4 div.sk-serial {display: flex;flex-direction: column;align-items: center;background-color: white;padding-right: 0.2em;padding-left: 0.2em;position: relative;}#sk-container-id-4 div.sk-item {position: relative;z-index: 1;}#sk-container-id-4 div.sk-parallel {display: flex;align-items: stretch;justify-content: center;background-color: white;position: relative;}#sk-container-id-4 div.sk-item::before, #sk-container-id-4 div.sk-parallel-item::before {content: \"\";position: absolute;border-left: 1px solid gray;box-sizing: border-box;top: 0;bottom: 0;left: 50%;z-index: -1;}#sk-container-id-4 div.sk-parallel-item {display: flex;flex-direction: column;z-index: 1;position: relative;background-color: white;}#sk-container-id-4 div.sk-parallel-item:first-child::after {align-self: flex-end;width: 50%;}#sk-container-id-4 div.sk-parallel-item:last-child::after {align-self: flex-start;width: 50%;}#sk-container-id-4 div.sk-parallel-item:only-child::after {width: 0;}#sk-container-id-4 div.sk-dashed-wrapped {border: 1px dashed gray;margin: 0 0.4em 0.5em 0.4em;box-sizing: border-box;padding-bottom: 0.4em;background-color: white;}#sk-container-id-4 div.sk-label label {font-family: monospace;font-weight: bold;display: inline-block;line-height: 1.2em;}#sk-container-id-4 div.sk-label-container {text-align: center;}#sk-container-id-4 div.sk-container {/* jupyter's `normalize.less` sets `[hidden] { display: none; }` but bootstrap.min.css set `[hidden] { display: none !important; }` so we also need the `!important` here to be able to override the default hidden behavior on the sphinx rendered scikit-learn.org. See: https://github.com/scikit-learn/scikit-learn/issues/21755 */display: inline-block !important;position: relative;}#sk-container-id-4 div.sk-text-repr-fallback {display: none;}</style><div id=\"sk-container-id-4\" class=\"sk-top-container\"><div class=\"sk-text-repr-fallback\"><pre>RandomForestRegressor()</pre><b>In a Jupyter environment, please rerun this cell to show the HTML representation or trust the notebook. <br />On GitHub, the HTML representation is unable to render, please try loading this page with nbviewer.org.</b></div><div class=\"sk-container\" hidden><div class=\"sk-item\"><div class=\"sk-estimator sk-toggleable\"><input class=\"sk-toggleable__control sk-hidden--visually\" id=\"sk-estimator-id-4\" type=\"checkbox\" checked><label for=\"sk-estimator-id-4\" class=\"sk-toggleable__label sk-toggleable__label-arrow\">RandomForestRegressor</label><div class=\"sk-toggleable__content\"><pre>RandomForestRegressor()</pre></div></div></div></div></div>"
      ],
      "text/plain": [
       "RandomForestRegressor()"
      ]
     },
     "execution_count": 83,
     "metadata": {},
     "output_type": "execute_result"
    }
   ],
   "source": [
    "rf2 = RandomForestRegressor()\n",
    "rf2.fit(X2_train, Y2_train)"
   ]
  },
  {
   "cell_type": "code",
   "execution_count": 84,
   "id": "34451296",
   "metadata": {},
   "outputs": [
    {
     "data": {
      "text/plain": [
       "array([3.7       , 4.087     , 4.3       , 3.301     , 3.397     ,\n",
       "       3.7       , 4.2       , 4.19357143, 3.119     , 3.808     ,\n",
       "       3.418     , 3.7       , 3.7       , 4.193     , 3.69      ,\n",
       "       3.3       , 4.418     , 3.791     , 4.263     , 3.7       ,\n",
       "       4.179     , 4.002     , 3.315     , 3.902     , 3.7       ,\n",
       "       4.295     , 4.108     , 3.41592857, 3.7       , 3.7       ,\n",
       "       3.6       , 3.9       , 4.08      , 3.893     , 3.7       ,\n",
       "       3.222     , 4.494     , 3.163     , 3.14      , 3.505     ,\n",
       "       2.838     , 3.976     , 4.526     , 3.7       , 3.7       ,\n",
       "       4.037     , 3.922     , 2.942     , 3.614     , 3.532     ,\n",
       "       3.012     , 4.045     , 3.7       , 3.02066667, 3.697     ,\n",
       "       3.9       , 3.584     , 3.776     , 3.7       , 3.405     ,\n",
       "       3.437     , 4.2       , 3.906     , 3.7       , 4.4       ,\n",
       "       4.        , 4.029     , 3.721     , 3.427     , 3.864     ,\n",
       "       3.1859    , 4.102     , 3.7       , 3.696     , 3.728     ,\n",
       "       4.74      , 3.4985    , 3.918     , 4.1       , 3.688     ,\n",
       "       3.6       , 3.703     , 4.476     , 3.7       , 3.84      ,\n",
       "       3.771     , 3.47693333, 4.297     , 4.468     , 3.2564    ,\n",
       "       3.7       , 3.264     , 3.8901    , 3.886     , 3.197     ,\n",
       "       4.026     , 3.7       , 3.7       , 3.303     , 3.897     ])"
      ]
     },
     "execution_count": 84,
     "metadata": {},
     "output_type": "execute_result"
    }
   ],
   "source": [
    "Y_rf2 = rf2.predict(X2_test)\n",
    "Y_rf2[:100]"
   ]
  },
  {
   "cell_type": "code",
   "execution_count": 85,
   "id": "3ef9976a",
   "metadata": {},
   "outputs": [
    {
     "data": {
      "image/png": "[encoded data removed]",
      "text/plain": [
       "<Figure size 864x576 with 1 Axes>"
      ]
     },
     "metadata": {},
     "output_type": "display_data"
    }
   ],
   "source": [
    "plt.figure(figsize=(12,8))\n",
    "sns.histplot(Y2_test - Y_rf2, kde=True, bins=100)\n",
    "plt.show()"
   ]
  },
  {
   "cell_type": "markdown",
   "id": "1598fdbf",
   "metadata": {},
   "source": [
    "### Decision Tree Regressor"
   ]
  },
  {
   "cell_type": "markdown",
   "id": "980263b0",
   "metadata": {},
   "source": [
    "#### for data_with_location"
   ]
  },
  {
   "cell_type": "code",
   "execution_count": 86,
   "id": "c5fb9634",
   "metadata": {},
   "outputs": [
    {
     "data": {
      "text/html": [
       "<style>#sk-container-id-5 {color: black;background-color: white;}#sk-container-id-5 pre{padding: 0;}#sk-container-id-5 div.sk-toggleable {background-color: white;}#sk-container-id-5 label.sk-toggleable__label {cursor: pointer;display: block;width: 100%;margin-bottom: 0;padding: 0.3em;box-sizing: border-box;text-align: center;}#sk-container-id-5 label.sk-toggleable__label-arrow:before {content: \"▸\";float: left;margin-right: 0.25em;color: #696969;}#sk-container-id-5 label.sk-toggleable__label-arrow:hover:before {color: black;}#sk-container-id-5 div.sk-estimator:hover label.sk-toggleable__label-arrow:before {color: black;}#sk-container-id-5 div.sk-toggleable__content {max-height: 0;max-width: 0;overflow: hidden;text-align: left;background-color: #f0f8ff;}#sk-container-id-5 div.sk-toggleable__content pre {margin: 0.2em;color: black;border-radius: 0.25em;background-color: #f0f8ff;}#sk-container-id-5 input.sk-toggleable__control:checked~div.sk-toggleable__content {max-height: 200px;max-width: 100%;overflow: auto;}#sk-container-id-5 input.sk-toggleable__control:checked~label.sk-toggleable__label-arrow:before {content: \"▾\";}#sk-container-id-5 div.sk-estimator input.sk-toggleable__control:checked~label.sk-toggleable__label {background-color: #d4ebff;}#sk-container-id-5 div.sk-label input.sk-toggleable__control:checked~label.sk-toggleable__label {background-color: #d4ebff;}#sk-container-id-5 input.sk-hidden--visually {border: 0;clip: rect(1px 1px 1px 1px);clip: rect(1px, 1px, 1px, 1px);height: 1px;margin: -1px;overflow: hidden;padding: 0;position: absolute;width: 1px;}#sk-container-id-5 div.sk-estimator {font-family: monospace;background-color: #f0f8ff;border: 1px dotted black;border-radius: 0.25em;box-sizing: border-box;margin-bottom: 0.5em;}#sk-container-id-5 div.sk-estimator:hover {background-color: #d4ebff;}#sk-container-id-5 div.sk-parallel-item::after {content: \"\";width: 100%;border-bottom: 1px solid gray;flex-grow: 1;}#sk-container-id-5 div.sk-label:hover label.sk-toggleable__label {background-color: #d4ebff;}#sk-container-id-5 div.sk-serial::before {content: \"\";position: absolute;border-left: 1px solid gray;box-sizing: border-box;top: 0;bottom: 0;left: 50%;z-index: 0;}#sk-container-id-5 div.sk-serial {display: flex;flex-direction: column;align-items: center;background-color: white;padding-right: 0.2em;padding-left: 0.2em;position: relative;}#sk-container-id-5 div.sk-item {position: relative;z-index: 1;}#sk-container-id-5 div.sk-parallel {display: flex;align-items: stretch;justify-content: center;background-color: white;position: relative;}#sk-container-id-5 div.sk-item::before, #sk-container-id-5 div.sk-parallel-item::before {content: \"\";position: absolute;border-left: 1px solid gray;box-sizing: border-box;top: 0;bottom: 0;left: 50%;z-index: -1;}#sk-container-id-5 div.sk-parallel-item {display: flex;flex-direction: column;z-index: 1;position: relative;background-color: white;}#sk-container-id-5 div.sk-parallel-item:first-child::after {align-self: flex-end;width: 50%;}#sk-container-id-5 div.sk-parallel-item:last-child::after {align-self: flex-start;width: 50%;}#sk-container-id-5 div.sk-parallel-item:only-child::after {width: 0;}#sk-container-id-5 div.sk-dashed-wrapped {border: 1px dashed gray;margin: 0 0.4em 0.5em 0.4em;box-sizing: border-box;padding-bottom: 0.4em;background-color: white;}#sk-container-id-5 div.sk-label label {font-family: monospace;font-weight: bold;display: inline-block;line-height: 1.2em;}#sk-container-id-5 div.sk-label-container {text-align: center;}#sk-container-id-5 div.sk-container {/* jupyter's `normalize.less` sets `[hidden] { display: none; }` but bootstrap.min.css set `[hidden] { display: none !important; }` so we also need the `!important` here to be able to override the default hidden behavior on the sphinx rendered scikit-learn.org. See: https://github.com/scikit-learn/scikit-learn/issues/21755 */display: inline-block !important;position: relative;}#sk-container-id-5 div.sk-text-repr-fallback {display: none;}</style><div id=\"sk-container-id-5\" class=\"sk-top-container\"><div class=\"sk-text-repr-fallback\"><pre>DecisionTreeRegressor()</pre><b>In a Jupyter environment, please rerun this cell to show the HTML representation or trust the notebook. <br />On GitHub, the HTML representation is unable to render, please try loading this page with nbviewer.org.</b></div><div class=\"sk-container\" hidden><div class=\"sk-item\"><div class=\"sk-estimator sk-toggleable\"><input class=\"sk-toggleable__control sk-hidden--visually\" id=\"sk-estimator-id-5\" type=\"checkbox\" checked><label for=\"sk-estimator-id-5\" class=\"sk-toggleable__label sk-toggleable__label-arrow\">DecisionTreeRegressor</label><div class=\"sk-toggleable__content\"><pre>DecisionTreeRegressor()</pre></div></div></div></div></div>"
      ],
      "text/plain": [
       "DecisionTreeRegressor()"
      ]
     },
     "execution_count": 86,
     "metadata": {},
     "output_type": "execute_result"
    }
   ],
   "source": [
    "dt1 = DecisionTreeRegressor()\n",
    "dt1.fit(X1_train,Y1_train)"
   ]
  },
  {
   "cell_type": "code",
   "execution_count": 87,
   "id": "283d6d4c",
   "metadata": {},
   "outputs": [
    {
     "data": {
      "text/plain": [
       "array([3.2       , 2.9       , 3.7       , 3.2       , 3.2       ,\n",
       "       4.1       , 3.6       , 3.7       , 4.2       , 3.7       ,\n",
       "       3.5       , 3.7       , 3.7       , 3.7       , 4.4       ,\n",
       "       3.2       , 3.9       , 4.2       , 3.7       , 3.2       ,\n",
       "       3.1       , 3.7       , 3.7       , 3.75      , 3.6       ,\n",
       "       3.85      , 3.7       , 4.3       , 3.5       , 3.4       ,\n",
       "       3.5       , 3.3       , 4.2       , 4.4       , 4.        ,\n",
       "       3.2       , 4.4       , 3.5       , 3.7       , 4.1       ,\n",
       "       3.8       , 3.7       , 3.5       , 3.9       , 2.9       ,\n",
       "       3.6       , 4.        , 3.3       , 4.4       , 4.2       ,\n",
       "       3.8       , 4.2       , 3.7       , 3.        , 3.7       ,\n",
       "       3.9       , 3.3       , 3.9       , 3.7       , 3.7       ,\n",
       "       3.7       , 3.9       , 2.9       , 3.7       , 4.        ,\n",
       "       4.1       , 3.3       , 3.1       , 4.        , 3.3       ,\n",
       "       3.7       , 3.7       , 3.6       , 3.5       , 3.6       ,\n",
       "       3.5       , 3.9       , 3.7       , 3.61428571, 3.7       ,\n",
       "       3.7       , 4.2       , 3.5       , 3.5       , 3.3       ,\n",
       "       3.9       , 3.5       , 4.4       , 3.475     , 4.2       ,\n",
       "       3.7       , 3.        , 3.8       , 3.8       , 3.6       ,\n",
       "       4.1       , 4.        , 3.8       , 4.1       , 4.2       ])"
      ]
     },
     "execution_count": 87,
     "metadata": {},
     "output_type": "execute_result"
    }
   ],
   "source": [
    "Y_dt1 = dt1.predict(X1_test)\n",
    "Y_dt1[:100]"
   ]
  },
  {
   "cell_type": "code",
   "execution_count": 88,
   "id": "6ca43682",
   "metadata": {},
   "outputs": [
    {
     "data": {
      "image/png": "[encoded data removed]",
      "text/plain": [
       "<Figure size 864x576 with 1 Axes>"
      ]
     },
     "metadata": {},
     "output_type": "display_data"
    }
   ],
   "source": [
    "plt.figure(figsize=(12,8))\n",
    "plt.hist(Y1_test - Y_dt1, bins=100, alpha=0.7)\n",
    "plt.show()"
   ]
  },
  {
   "cell_type": "markdown",
   "id": "4dd9c0a5",
   "metadata": {},
   "source": [
    "#### for data_with_place"
   ]
  },
  {
   "cell_type": "code",
   "execution_count": 89,
   "id": "836c64f3",
   "metadata": {},
   "outputs": [
    {
     "data": {
      "text/html": [
       "<style>#sk-container-id-6 {color: black;background-color: white;}#sk-container-id-6 pre{padding: 0;}#sk-container-id-6 div.sk-toggleable {background-color: white;}#sk-container-id-6 label.sk-toggleable__label {cursor: pointer;display: block;width: 100%;margin-bottom: 0;padding: 0.3em;box-sizing: border-box;text-align: center;}#sk-container-id-6 label.sk-toggleable__label-arrow:before {content: \"▸\";float: left;margin-right: 0.25em;color: #696969;}#sk-container-id-6 label.sk-toggleable__label-arrow:hover:before {color: black;}#sk-container-id-6 div.sk-estimator:hover label.sk-toggleable__label-arrow:before {color: black;}#sk-container-id-6 div.sk-toggleable__content {max-height: 0;max-width: 0;overflow: hidden;text-align: left;background-color: #f0f8ff;}#sk-container-id-6 div.sk-toggleable__content pre {margin: 0.2em;color: black;border-radius: 0.25em;background-color: #f0f8ff;}#sk-container-id-6 input.sk-toggleable__control:checked~div.sk-toggleable__content {max-height: 200px;max-width: 100%;overflow: auto;}#sk-container-id-6 input.sk-toggleable__control:checked~label.sk-toggleable__label-arrow:before {content: \"▾\";}#sk-container-id-6 div.sk-estimator input.sk-toggleable__control:checked~label.sk-toggleable__label {background-color: #d4ebff;}#sk-container-id-6 div.sk-label input.sk-toggleable__control:checked~label.sk-toggleable__label {background-color: #d4ebff;}#sk-container-id-6 input.sk-hidden--visually {border: 0;clip: rect(1px 1px 1px 1px);clip: rect(1px, 1px, 1px, 1px);height: 1px;margin: -1px;overflow: hidden;padding: 0;position: absolute;width: 1px;}#sk-container-id-6 div.sk-estimator {font-family: monospace;background-color: #f0f8ff;border: 1px dotted black;border-radius: 0.25em;box-sizing: border-box;margin-bottom: 0.5em;}#sk-container-id-6 div.sk-estimator:hover {background-color: #d4ebff;}#sk-container-id-6 div.sk-parallel-item::after {content: \"\";width: 100%;border-bottom: 1px solid gray;flex-grow: 1;}#sk-container-id-6 div.sk-label:hover label.sk-toggleable__label {background-color: #d4ebff;}#sk-container-id-6 div.sk-serial::before {content: \"\";position: absolute;border-left: 1px solid gray;box-sizing: border-box;top: 0;bottom: 0;left: 50%;z-index: 0;}#sk-container-id-6 div.sk-serial {display: flex;flex-direction: column;align-items: center;background-color: white;padding-right: 0.2em;padding-left: 0.2em;position: relative;}#sk-container-id-6 div.sk-item {position: relative;z-index: 1;}#sk-container-id-6 div.sk-parallel {display: flex;align-items: stretch;justify-content: center;background-color: white;position: relative;}#sk-container-id-6 div.sk-item::before, #sk-container-id-6 div.sk-parallel-item::before {content: \"\";position: absolute;border-left: 1px solid gray;box-sizing: border-box;top: 0;bottom: 0;left: 50%;z-index: -1;}#sk-container-id-6 div.sk-parallel-item {display: flex;flex-direction: column;z-index: 1;position: relative;background-color: white;}#sk-container-id-6 div.sk-parallel-item:first-child::after {align-self: flex-end;width: 50%;}#sk-container-id-6 div.sk-parallel-item:last-child::after {align-self: flex-start;width: 50%;}#sk-container-id-6 div.sk-parallel-item:only-child::after {width: 0;}#sk-container-id-6 div.sk-dashed-wrapped {border: 1px dashed gray;margin: 0 0.4em 0.5em 0.4em;box-sizing: border-box;padding-bottom: 0.4em;background-color: white;}#sk-container-id-6 div.sk-label label {font-family: monospace;font-weight: bold;display: inline-block;line-height: 1.2em;}#sk-container-id-6 div.sk-label-container {text-align: center;}#sk-container-id-6 div.sk-container {/* jupyter's `normalize.less` sets `[hidden] { display: none; }` but bootstrap.min.css set `[hidden] { display: none !important; }` so we also need the `!important` here to be able to override the default hidden behavior on the sphinx rendered scikit-learn.org. See: https://github.com/scikit-learn/scikit-learn/issues/21755 */display: inline-block !important;position: relative;}#sk-container-id-6 div.sk-text-repr-fallback {display: none;}</style><div id=\"sk-container-id-6\" class=\"sk-top-container\"><div class=\"sk-text-repr-fallback\"><pre>DecisionTreeRegressor()</pre><b>In a Jupyter environment, please rerun this cell to show the HTML representation or trust the notebook. <br />On GitHub, the HTML representation is unable to render, please try loading this page with nbviewer.org.</b></div><div class=\"sk-container\" hidden><div class=\"sk-item\"><div class=\"sk-estimator sk-toggleable\"><input class=\"sk-toggleable__control sk-hidden--visually\" id=\"sk-estimator-id-6\" type=\"checkbox\" checked><label for=\"sk-estimator-id-6\" class=\"sk-toggleable__label sk-toggleable__label-arrow\">DecisionTreeRegressor</label><div class=\"sk-toggleable__content\"><pre>DecisionTreeRegressor()</pre></div></div></div></div></div>"
      ],
      "text/plain": [
       "DecisionTreeRegressor()"
      ]
     },
     "execution_count": 89,
     "metadata": {},
     "output_type": "execute_result"
    }
   ],
   "source": [
    "dt2 = DecisionTreeRegressor()\n",
    "dt2.fit(X2_train, Y2_train)"
   ]
  },
  {
   "cell_type": "code",
   "execution_count": 90,
   "id": "8d5283dd",
   "metadata": {},
   "outputs": [
    {
     "data": {
      "text/plain": [
       "array([3.7 , 4.1 , 4.3 , 3.  , 3.5 , 3.7 , 4.2 , 4.2 , 3.1 , 3.9 , 3.7 ,\n",
       "       3.7 , 3.7 , 4.2 , 3.7 , 3.3 , 4.4 , 2.8 , 4.3 , 3.7 , 4.2 , 4.  ,\n",
       "       3.2 , 3.9 , 3.7 , 4.3 , 4.1 , 3.5 , 3.7 , 3.7 , 3.6 , 3.9 , 4.1 ,\n",
       "       3.9 , 3.7 , 3.3 , 4.5 , 3.1 , 2.8 , 3.5 , 2.8 , 3.8 , 4.6 , 3.7 ,\n",
       "       3.7 , 4.2 , 3.9 , 2.7 , 3.7 , 3.5 , 3.1 , 4.1 , 3.7 , 3.  , 3.6 ,\n",
       "       3.9 , 3.6 , 3.9 , 3.7 , 3.4 , 3.4 , 4.2 , 4.  , 3.7 , 4.4 , 4.  ,\n",
       "       4.  , 3.7 , 3.4 , 4.1 , 3.1 , 4.1 , 3.7 , 3.7 , 3.9 , 4.8 , 3.3 ,\n",
       "       3.9 , 4.1 , 4.  , 3.6 , 3.7 , 4.5 , 3.7 , 3.8 , 4.1 , 3.5 , 4.3 ,\n",
       "       4.5 , 3.25, 3.7 , 3.3 , 3.85, 3.9 , 3.2 , 4.  , 3.7 , 3.7 , 3.3 ,\n",
       "       3.9 ])"
      ]
     },
     "execution_count": 90,
     "metadata": {},
     "output_type": "execute_result"
    }
   ],
   "source": [
    "Y_dt2 = dt2.predict(X2_test)\n",
    "Y_dt2[:100]"
   ]
  },
  {
   "cell_type": "code",
   "execution_count": 91,
   "id": "c45007f7",
   "metadata": {},
   "outputs": [
    {
     "data": {
      "image/png": "[encoded data removed]",
      "text/plain": [
       "<Figure size 864x576 with 1 Axes>"
      ]
     },
     "metadata": {},
     "output_type": "display_data"
    }
   ],
   "source": [
    "plt.figure(figsize=(12,8))\n",
    "plt.hist(Y2_test - Y_dt2, bins=100, alpha=0.7)\n",
    "plt.show()"
   ]
  },
  {
   "cell_type": "markdown",
   "id": "9e5a4c77",
   "metadata": {},
   "source": [
    "## Model Evalution"
   ]
  },
  {
   "cell_type": "markdown",
   "id": "7b7642f1",
   "metadata": {},
   "source": [
    "### Linear Regression Model"
   ]
  },
  {
   "cell_type": "markdown",
   "id": "e259f219",
   "metadata": {},
   "source": [
    "#### For data_with_location"
   ]
  },
  {
   "cell_type": "code",
   "execution_count": 95,
   "id": "f1c41246",
   "metadata": {},
   "outputs": [],
   "source": [
    "from sklearn.metrics import mean_absolute_error, mean_squared_error, r2_score"
   ]
  },
  {
   "cell_type": "code",
   "execution_count": 93,
   "id": "1945e192",
   "metadata": {},
   "outputs": [
    {
     "name": "stdout",
     "output_type": "stream",
     "text": [
      "Coefficient of Determination for train data :  0.3553317410636403\n",
      "Coefficient of Determination for test data :  0.3560819651744257\n",
      "Mean Absolute Error :  0.24039094570802402\n",
      "Mean Squared Error :  0.10154007751357595\n",
      "Root Mean Squared Error :  0.3186535383666341\n",
      "R2 Score :  0.3560819651744257\n"
     ]
    }
   ],
   "source": [
    "mae = mean_absolute_error(Y1_test, Y_lr)\n",
    "mse = mean_squared_error(Y1_test, Y_lr)\n",
    "r2_score = r2_score(Y1_test, Y_lr)\n",
    "\n",
    "print(\"Coefficient of Determination for train data : \",lr.score(X1_train, Y1_train))\n",
    "print(\"Coefficient of Determination for test data : \",lr.score(X1_test, Y1_test))\n",
    "print(\"Mean Absolute Error : \", mae)\n",
    "print(\"Mean Squared Error : \", mse)\n",
    "print(\"Root Mean Squared Error : \",np.sqrt(mse))\n",
    "print(\"R2 Score : \",r2_score)"
   ]
  },
  {
   "cell_type": "markdown",
   "id": "833bd48b",
   "metadata": {},
   "source": [
    "#### For data_with_place"
   ]
  },
  {
   "cell_type": "code",
   "execution_count": 96,
   "id": "4cb4810c",
   "metadata": {},
   "outputs": [
    {
     "name": "stdout",
     "output_type": "stream",
     "text": [
      "Coefficient of Determination for train data :  0.3417461199303463\n",
      "Coefficient of Determination for test data :  0.34406022199661956\n",
      "Mean Absolute Error :  0.24255711374436162\n",
      "Mean Squared Error :  0.1028051848856539\n",
      "Root Mean Squared Error :  0.32063247634270287\n",
      "R2 Score :  0.34406022199661956\n"
     ]
    }
   ],
   "source": [
    "mae = mean_absolute_error(Y2_test, Y_lr2)\n",
    "mse = mean_squared_error(Y2_test, Y_lr2)\n",
    "r2score = r2_score(Y2_test, Y_lr2)\n",
    "\n",
    "print(\"Coefficient of Determination for train data : \",lr2.score(X2_train, Y2_train))\n",
    "print(\"Coefficient of Determination for test data : \",lr2.score(X2_test, Y2_test))\n",
    "print(\"Mean Absolute Error : \", mae)\n",
    "print(\"Mean Squared Error : \", mse) \n",
    "print(\"Root Mean Squared Error : \", np.sqrt(mse))\n",
    "print(\"R2 Score : \", r2score) "
   ]
  },
  {
   "cell_type": "markdown",
   "id": "c6ded145",
   "metadata": {},
   "source": [
    "### Random Forest Regression Model"
   ]
  },
  {
   "cell_type": "markdown",
   "id": "d7c88b53",
   "metadata": {},
   "source": [
    "#### For data_with_location"
   ]
  },
  {
   "cell_type": "code",
   "execution_count": 97,
   "id": "d1c50529",
   "metadata": {},
   "outputs": [
    {
     "name": "stdout",
     "output_type": "stream",
     "text": [
      "Coefficient of Determination for train data :  0.9896180970523931\n",
      "Coefficient of Determination for test data :  0.9435916476771264\n",
      "Mean Absolute Error :  0.03586356409725907\n",
      "Mean Squared Error :  0.00889508937085325\n",
      "Root Mean Squared Error :  0.0943137814471101\n",
      "R2 Score :  0.9435916476771264\n"
     ]
    }
   ],
   "source": [
    "mae = mean_absolute_error(Y1_test,Y_rf)\n",
    "mse = mean_squared_error(Y1_test, Y_rf)\n",
    "r2score = r2_score(Y1_test, Y_rf)\n",
    "\n",
    "print(\"Coefficient of Determination for train data : \",rf.score(X1_train, Y1_train))\n",
    "print(\"Coefficient of Determination for test data : \",rf.score(X1_test, Y1_test))\n",
    "print(\"Mean Absolute Error : \", mae)\n",
    "print(\"Mean Squared Error : \", mse) \n",
    "print(\"Root Mean Squared Error : \", np.sqrt(mse))\n",
    "print(\"R2 Score : \", r2score) "
   ]
  },
  {
   "cell_type": "markdown",
   "id": "da003189",
   "metadata": {},
   "source": [
    "#### for data_with_place"
   ]
  },
  {
   "cell_type": "code",
   "execution_count": 98,
   "id": "fccfe814",
   "metadata": {},
   "outputs": [
    {
     "name": "stdout",
     "output_type": "stream",
     "text": [
      "Coefficent of Determination for train data :  0.9829393678766608\n",
      "Coefficient of Determination for test data :  0.9829393678766608\n",
      "Mean Absolute Error :  0.018418322024816865\n",
      "mean_squared_error :  0.018418322024816865\n",
      "Root Mean Squared Error :  0.13571411873794437\n",
      "R2 Score :  0.8824834557362967\n"
     ]
    }
   ],
   "source": [
    "mae = mean_absolute_error(Y2_test, Y_rf2)\n",
    "mse = mean_squared_error(Y2_test, Y_rf2)\n",
    "r2score = r2_score(Y2_test, Y_rf2)\n",
    "\n",
    "print(\"Coefficent of Determination for train data : \", rf2.score(X2_train, Y2_train))\n",
    "print(\"Coefficient of Determination for test data : \",rf2.score(X2_train, Y2_train))\n",
    "print(\"Mean Absolute Error : \",mse)\n",
    "print(\"mean_squared_error : \",mse)\n",
    "print(\"Root Mean Squared Error : \", np.sqrt(mse))\n",
    "print(\"R2 Score : \", r2score)"
   ]
  },
  {
   "cell_type": "markdown",
   "id": "f7b7e0e0",
   "metadata": {},
   "source": [
    "## Conclusion :"
   ]
  },
  {
   "cell_type": "markdown",
   "id": "93670a1a",
   "metadata": {},
   "source": [
    "- There are Three Model are treained, name as Multiple Linear Regression, random Forest Regression, and Decision Tree Regression respectively.\n",
    "- Based on the analysis, the best model dor prediction is \"Random Forest Regression Model\".\n",
    "- The Accuracy of the Selected model is 91% that is good !\n"
   ]
  },
  {
   "cell_type": "markdown",
   "id": "47427c62",
   "metadata": {},
   "source": [
    "## Saving the Model"
   ]
  },
  {
   "cell_type": "code",
   "execution_count": 99,
   "id": "6b36db8b",
   "metadata": {},
   "outputs": [],
   "source": [
    "import pickle\n",
    "with open('rate_prediction.pkl', 'wb') as file:\n",
    "    pickle.dump(rf, file)"
   ]
  }
 ],
 "metadata": {
  "kernelspec": {
   "display_name": "Python 3.10.1 64-bit",
   "language": "python",
   "name": "python3"
  },
  "language_info": {
   "codemirror_mode": {
    "name": "ipython",
    "version": 3
   },
   "file_extension": ".py",
   "mimetype": "text/x-python",
   "name": "python",
   "nbconvert_exporter": "python",
   "pygments_lexer": "ipython3",
   "version": "3.10.1"
  },
  "vscode": {
   "interpreter": {
    "hash": "8136f4aac9e7911b3675e6600decaf5eec66244d92909d2a4bfe671362b31c42"
   }
  }
 },
 "nbformat": 4,
 "nbformat_minor": 5
}
