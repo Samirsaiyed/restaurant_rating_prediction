{
 "cells": [
  {
   "cell_type": "markdown",
   "id": "demonstrated-browse",
   "metadata": {},
   "source": [
    "# Restaurant Rating Prediction"
   ]
  },
  {
   "cell_type": "markdown",
   "id": "cooperative-wellington",
   "metadata": {},
   "source": [
    "#### Problem Statement\n",
    "- The main goal of this project is to perform extensive Exploratory Data Analysis(EDA) on\n",
    "the Zomato Dataset and build an appropriate Machine Learning Model that will help\n",
    "various Zomato Restaurants to predict their respective Ratings based on certain\n",
    "features."
   ]
  },
  {
   "cell_type": "markdown",
   "id": "65dfd2de",
   "metadata": {},
   "source": [
    "#### Column Description"
   ]
  },
  {
   "cell_type": "markdown",
   "id": "a22f8698",
   "metadata": {},
   "source": [
    "<ul>\n",
    "<li>url: contains the url of the restaurant in the zomato website\n",
    "\n",
    "<li>address: contains the address of the restaurant in Bengaluru\n",
    "\n",
    "<li>name: contains the name of the restaurant\n",
    "\n",
    "<li>online_order: whether online ordering is available in the restaurant or not\n",
    "\n",
    "<li>book_table: table book option available or not\n",
    "\n",
    "<li>rate: contains the overall rating of the restaurant out of 5\n",
    "\n",
    "<li>votes: contains total number of rating for the restaurant as of the above mentioned date\n",
    "\n",
    "<li>phone: contains the phone number of the restaurant\n",
    "\n",
    "<li>location: contains the neighborhood in which the restaurant is located\n",
    "\n",
    "<li>rest_type: restaurant type\n",
    "\n",
    "<li>dish_liked: dishes people liked in the restaurant\n",
    "\n",
    "<li>cuisines: food styles, separated by comma\n",
    "\n",
    "<li>approx_cost(for two people): contains the approximate cost for meal for two people\n",
    "\n",
    "<li>reviews_list: list of tuples containing reviews for the restaurant, each tuple\n",
    "\n",
    "<li>menu_item: contains list of menus available in the restaurant\n",
    "\n",
    "<li>listed_in(type): type of meal\n",
    "\n",
    "<li>listed_in(city): contains the neighborhood in which the restaurant is listed\n",
    "    </ul>"
   ]
  },
  {
   "cell_type": "markdown",
   "id": "impaired-maine",
   "metadata": {},
   "source": [
    "## Importing Required Libraries"
   ]
  },
  {
   "cell_type": "code",
   "execution_count": 1,
   "id": "spiritual-kingdom",
   "metadata": {},
   "outputs": [],
   "source": [
    "import numpy as np                              \n",
    "import pandas as pd                \n",
    "import matplotlib.pyplot as plt    \n",
    "import seaborn as sns              \n",
    "%matplotlib inline\n",
    "sns.set()"
   ]
  },
  {
   "cell_type": "code",
   "execution_count": 3,
   "id": "killing-impossible",
   "metadata": {},
   "outputs": [],
   "source": [
    "import warnings\n",
    "warnings.filterwarnings('ignore')"
   ]
  },
  {
   "cell_type": "markdown",
   "id": "african-begin",
   "metadata": {},
   "source": [
    "## Loading the Dataset"
   ]
  },
  {
   "cell_type": "code",
   "execution_count": 5,
   "id": "trying-spirituality",
   "metadata": {},
   "outputs": [
    {
     "data": {
      "text/html": [
       "<div>\n",
       "<style scoped>\n",
       "    .dataframe tbody tr th:only-of-type {\n",
       "        vertical-align: middle;\n",
       "    }\n",
       "\n",
       "    .dataframe tbody tr th {\n",
       "        vertical-align: top;\n",
       "    }\n",
       "\n",
       "    .dataframe thead th {\n",
       "        text-align: right;\n",
       "    }\n",
       "</style>\n",
       "<table border=\"1\" class=\"dataframe\">\n",
       "  <thead>\n",
       "    <tr style=\"text-align: right;\">\n",
       "      <th></th>\n",
       "      <th>url</th>\n",
       "      <th>address</th>\n",
       "      <th>name</th>\n",
       "      <th>online_order</th>\n",
       "      <th>book_table</th>\n",
       "      <th>rate</th>\n",
       "      <th>votes</th>\n",
       "      <th>phone</th>\n",
       "      <th>location</th>\n",
       "      <th>rest_type</th>\n",
       "      <th>dish_liked</th>\n",
       "      <th>cuisines</th>\n",
       "      <th>approx_cost(for two people)</th>\n",
       "      <th>reviews_list</th>\n",
       "      <th>menu_item</th>\n",
       "      <th>listed_in(type)</th>\n",
       "      <th>listed_in(city)</th>\n",
       "    </tr>\n",
       "  </thead>\n",
       "  <tbody>\n",
       "    <tr>\n",
       "      <th>0</th>\n",
       "      <td>https://www.zomato.com/bangalore/jalsa-banasha...</td>\n",
       "      <td>942, 21st Main Road, 2nd Stage, Banashankari, ...</td>\n",
       "      <td>Jalsa</td>\n",
       "      <td>Yes</td>\n",
       "      <td>Yes</td>\n",
       "      <td>4.1/5</td>\n",
       "      <td>775</td>\n",
       "      <td>080 42297555\\r\\n+91 9743772233</td>\n",
       "      <td>Banashankari</td>\n",
       "      <td>Casual Dining</td>\n",
       "      <td>Pasta, Lunch Buffet, Masala Papad, Paneer Laja...</td>\n",
       "      <td>North Indian, Mughlai, Chinese</td>\n",
       "      <td>800</td>\n",
       "      <td>[('Rated 4.0', 'RATED\\n  A beautiful place to ...</td>\n",
       "      <td>[]</td>\n",
       "      <td>Buffet</td>\n",
       "      <td>Banashankari</td>\n",
       "    </tr>\n",
       "    <tr>\n",
       "      <th>1</th>\n",
       "      <td>https://www.zomato.com/bangalore/spice-elephan...</td>\n",
       "      <td>2nd Floor, 80 Feet Road, Near Big Bazaar, 6th ...</td>\n",
       "      <td>Spice Elephant</td>\n",
       "      <td>Yes</td>\n",
       "      <td>No</td>\n",
       "      <td>4.1/5</td>\n",
       "      <td>787</td>\n",
       "      <td>080 41714161</td>\n",
       "      <td>Banashankari</td>\n",
       "      <td>Casual Dining</td>\n",
       "      <td>Momos, Lunch Buffet, Chocolate Nirvana, Thai G...</td>\n",
       "      <td>Chinese, North Indian, Thai</td>\n",
       "      <td>800</td>\n",
       "      <td>[('Rated 4.0', 'RATED\\n  Had been here for din...</td>\n",
       "      <td>[]</td>\n",
       "      <td>Buffet</td>\n",
       "      <td>Banashankari</td>\n",
       "    </tr>\n",
       "    <tr>\n",
       "      <th>2</th>\n",
       "      <td>https://www.zomato.com/SanchurroBangalore?cont...</td>\n",
       "      <td>1112, Next to KIMS Medical College, 17th Cross...</td>\n",
       "      <td>San Churro Cafe</td>\n",
       "      <td>Yes</td>\n",
       "      <td>No</td>\n",
       "      <td>3.8/5</td>\n",
       "      <td>918</td>\n",
       "      <td>+91 9663487993</td>\n",
       "      <td>Banashankari</td>\n",
       "      <td>Cafe, Casual Dining</td>\n",
       "      <td>Churros, Cannelloni, Minestrone Soup, Hot Choc...</td>\n",
       "      <td>Cafe, Mexican, Italian</td>\n",
       "      <td>800</td>\n",
       "      <td>[('Rated 3.0', \"RATED\\n  Ambience is not that ...</td>\n",
       "      <td>[]</td>\n",
       "      <td>Buffet</td>\n",
       "      <td>Banashankari</td>\n",
       "    </tr>\n",
       "    <tr>\n",
       "      <th>3</th>\n",
       "      <td>https://www.zomato.com/bangalore/addhuri-udupi...</td>\n",
       "      <td>1st Floor, Annakuteera, 3rd Stage, Banashankar...</td>\n",
       "      <td>Addhuri Udupi Bhojana</td>\n",
       "      <td>No</td>\n",
       "      <td>No</td>\n",
       "      <td>3.7/5</td>\n",
       "      <td>88</td>\n",
       "      <td>+91 9620009302</td>\n",
       "      <td>Banashankari</td>\n",
       "      <td>Quick Bites</td>\n",
       "      <td>Masala Dosa</td>\n",
       "      <td>South Indian, North Indian</td>\n",
       "      <td>300</td>\n",
       "      <td>[('Rated 4.0', \"RATED\\n  Great food and proper...</td>\n",
       "      <td>[]</td>\n",
       "      <td>Buffet</td>\n",
       "      <td>Banashankari</td>\n",
       "    </tr>\n",
       "    <tr>\n",
       "      <th>4</th>\n",
       "      <td>https://www.zomato.com/bangalore/grand-village...</td>\n",
       "      <td>10, 3rd Floor, Lakshmi Associates, Gandhi Baza...</td>\n",
       "      <td>Grand Village</td>\n",
       "      <td>No</td>\n",
       "      <td>No</td>\n",
       "      <td>3.8/5</td>\n",
       "      <td>166</td>\n",
       "      <td>+91 8026612447\\r\\n+91 9901210005</td>\n",
       "      <td>Basavanagudi</td>\n",
       "      <td>Casual Dining</td>\n",
       "      <td>Panipuri, Gol Gappe</td>\n",
       "      <td>North Indian, Rajasthani</td>\n",
       "      <td>600</td>\n",
       "      <td>[('Rated 4.0', 'RATED\\n  Very good restaurant ...</td>\n",
       "      <td>[]</td>\n",
       "      <td>Buffet</td>\n",
       "      <td>Banashankari</td>\n",
       "    </tr>\n",
       "  </tbody>\n",
       "</table>\n",
       "</div>"
      ],
      "text/plain": [
       "                                                 url  \\\n",
       "0  https://www.zomato.com/bangalore/jalsa-banasha...   \n",
       "1  https://www.zomato.com/bangalore/spice-elephan...   \n",
       "2  https://www.zomato.com/SanchurroBangalore?cont...   \n",
       "3  https://www.zomato.com/bangalore/addhuri-udupi...   \n",
       "4  https://www.zomato.com/bangalore/grand-village...   \n",
       "\n",
       "                                             address                   name  \\\n",
       "0  942, 21st Main Road, 2nd Stage, Banashankari, ...                  Jalsa   \n",
       "1  2nd Floor, 80 Feet Road, Near Big Bazaar, 6th ...         Spice Elephant   \n",
       "2  1112, Next to KIMS Medical College, 17th Cross...        San Churro Cafe   \n",
       "3  1st Floor, Annakuteera, 3rd Stage, Banashankar...  Addhuri Udupi Bhojana   \n",
       "4  10, 3rd Floor, Lakshmi Associates, Gandhi Baza...          Grand Village   \n",
       "\n",
       "  online_order book_table   rate  votes                             phone  \\\n",
       "0          Yes        Yes  4.1/5    775    080 42297555\\r\\n+91 9743772233   \n",
       "1          Yes         No  4.1/5    787                      080 41714161   \n",
       "2          Yes         No  3.8/5    918                    +91 9663487993   \n",
       "3           No         No  3.7/5     88                    +91 9620009302   \n",
       "4           No         No  3.8/5    166  +91 8026612447\\r\\n+91 9901210005   \n",
       "\n",
       "       location            rest_type  \\\n",
       "0  Banashankari        Casual Dining   \n",
       "1  Banashankari        Casual Dining   \n",
       "2  Banashankari  Cafe, Casual Dining   \n",
       "3  Banashankari          Quick Bites   \n",
       "4  Basavanagudi        Casual Dining   \n",
       "\n",
       "                                          dish_liked  \\\n",
       "0  Pasta, Lunch Buffet, Masala Papad, Paneer Laja...   \n",
       "1  Momos, Lunch Buffet, Chocolate Nirvana, Thai G...   \n",
       "2  Churros, Cannelloni, Minestrone Soup, Hot Choc...   \n",
       "3                                        Masala Dosa   \n",
       "4                                Panipuri, Gol Gappe   \n",
       "\n",
       "                         cuisines approx_cost(for two people)  \\\n",
       "0  North Indian, Mughlai, Chinese                         800   \n",
       "1     Chinese, North Indian, Thai                         800   \n",
       "2          Cafe, Mexican, Italian                         800   \n",
       "3      South Indian, North Indian                         300   \n",
       "4        North Indian, Rajasthani                         600   \n",
       "\n",
       "                                        reviews_list menu_item  \\\n",
       "0  [('Rated 4.0', 'RATED\\n  A beautiful place to ...        []   \n",
       "1  [('Rated 4.0', 'RATED\\n  Had been here for din...        []   \n",
       "2  [('Rated 3.0', \"RATED\\n  Ambience is not that ...        []   \n",
       "3  [('Rated 4.0', \"RATED\\n  Great food and proper...        []   \n",
       "4  [('Rated 4.0', 'RATED\\n  Very good restaurant ...        []   \n",
       "\n",
       "  listed_in(type) listed_in(city)  \n",
       "0          Buffet    Banashankari  \n",
       "1          Buffet    Banashankari  \n",
       "2          Buffet    Banashankari  \n",
       "3          Buffet    Banashankari  \n",
       "4          Buffet    Banashankari  "
      ]
     },
     "execution_count": 5,
     "metadata": {},
     "output_type": "execute_result"
    }
   ],
   "source": [
    "df = pd.read_csv(\"zomato.csv\")\n",
    "df.head()"
   ]
  },
  {
   "cell_type": "markdown",
   "id": "serial-fashion",
   "metadata": {},
   "source": [
    "#### Checking the Size of the Dataset"
   ]
  },
  {
   "cell_type": "code",
   "execution_count": 6,
   "id": "sustainable-qualification",
   "metadata": {},
   "outputs": [
    {
     "data": {
      "text/plain": [
       "(51717, 17)"
      ]
     },
     "execution_count": 6,
     "metadata": {},
     "output_type": "execute_result"
    }
   ],
   "source": [
    "df.shape"
   ]
  },
  {
   "cell_type": "markdown",
   "id": "governmental-quantum",
   "metadata": {},
   "source": [
    "51717 rows and 17 columns in our Dataset."
   ]
  },
  {
   "cell_type": "markdown",
   "id": "wireless-kitty",
   "metadata": {},
   "source": [
    "#### Checking the columns in the Dataset"
   ]
  },
  {
   "cell_type": "code",
   "execution_count": 7,
   "id": "numeric-audit",
   "metadata": {},
   "outputs": [
    {
     "data": {
      "text/plain": [
       "['url',\n",
       " 'address',\n",
       " 'name',\n",
       " 'online_order',\n",
       " 'book_table',\n",
       " 'rate',\n",
       " 'votes',\n",
       " 'phone',\n",
       " 'location',\n",
       " 'rest_type',\n",
       " 'dish_liked',\n",
       " 'cuisines',\n",
       " 'approx_cost(for two people)',\n",
       " 'reviews_list',\n",
       " 'menu_item',\n",
       " 'listed_in(type)',\n",
       " 'listed_in(city)']"
      ]
     },
     "execution_count": 7,
     "metadata": {},
     "output_type": "execute_result"
    }
   ],
   "source": [
    "df.columns.to_list()"
   ]
  },
  {
   "cell_type": "markdown",
   "id": "exposed-paper",
   "metadata": {},
   "source": [
    "Here, We have columns list, which is not required column so remove it and which is required column then work it."
   ]
  },
  {
   "cell_type": "markdown",
   "id": "laughing-banks",
   "metadata": {},
   "source": [
    "#### Renaming Columns"
   ]
  },
  {
   "cell_type": "code",
   "execution_count": 8,
   "id": "expanded-norway",
   "metadata": {},
   "outputs": [],
   "source": [
    "# Rename the column name \n",
    "df.rename(columns = {'approx_cost(for two people)' : 'approx_cost', 'listed_in(city)' : 'area'}, inplace = True)"
   ]
  },
  {
   "cell_type": "markdown",
   "id": "tamil-boring",
   "metadata": {},
   "source": [
    "### Data Cleaning\n",
    "In Data cleaning we clean our data for wrong dtypes, handling null values, irrelevant columns, outliers etc."
   ]
  },
  {
   "cell_type": "markdown",
   "id": "round-directive",
   "metadata": {},
   "source": [
    "#### Dropping Irrelevant Columns"
   ]
  },
  {
   "cell_type": "code",
   "execution_count": 9,
   "id": "institutional-richmond",
   "metadata": {},
   "outputs": [
    {
     "data": {
      "text/html": [
       "<div>\n",
       "<style scoped>\n",
       "    .dataframe tbody tr th:only-of-type {\n",
       "        vertical-align: middle;\n",
       "    }\n",
       "\n",
       "    .dataframe tbody tr th {\n",
       "        vertical-align: top;\n",
       "    }\n",
       "\n",
       "    .dataframe thead th {\n",
       "        text-align: right;\n",
       "    }\n",
       "</style>\n",
       "<table border=\"1\" class=\"dataframe\">\n",
       "  <thead>\n",
       "    <tr style=\"text-align: right;\">\n",
       "      <th></th>\n",
       "      <th>name</th>\n",
       "      <th>online_order</th>\n",
       "      <th>book_table</th>\n",
       "      <th>rate</th>\n",
       "      <th>votes</th>\n",
       "      <th>location</th>\n",
       "      <th>rest_type</th>\n",
       "      <th>cuisines</th>\n",
       "      <th>approx_cost</th>\n",
       "      <th>area</th>\n",
       "    </tr>\n",
       "  </thead>\n",
       "  <tbody>\n",
       "    <tr>\n",
       "      <th>0</th>\n",
       "      <td>Jalsa</td>\n",
       "      <td>Yes</td>\n",
       "      <td>Yes</td>\n",
       "      <td>4.1/5</td>\n",
       "      <td>775</td>\n",
       "      <td>Banashankari</td>\n",
       "      <td>Casual Dining</td>\n",
       "      <td>North Indian, Mughlai, Chinese</td>\n",
       "      <td>800</td>\n",
       "      <td>Banashankari</td>\n",
       "    </tr>\n",
       "    <tr>\n",
       "      <th>1</th>\n",
       "      <td>Spice Elephant</td>\n",
       "      <td>Yes</td>\n",
       "      <td>No</td>\n",
       "      <td>4.1/5</td>\n",
       "      <td>787</td>\n",
       "      <td>Banashankari</td>\n",
       "      <td>Casual Dining</td>\n",
       "      <td>Chinese, North Indian, Thai</td>\n",
       "      <td>800</td>\n",
       "      <td>Banashankari</td>\n",
       "    </tr>\n",
       "    <tr>\n",
       "      <th>2</th>\n",
       "      <td>San Churro Cafe</td>\n",
       "      <td>Yes</td>\n",
       "      <td>No</td>\n",
       "      <td>3.8/5</td>\n",
       "      <td>918</td>\n",
       "      <td>Banashankari</td>\n",
       "      <td>Cafe, Casual Dining</td>\n",
       "      <td>Cafe, Mexican, Italian</td>\n",
       "      <td>800</td>\n",
       "      <td>Banashankari</td>\n",
       "    </tr>\n",
       "    <tr>\n",
       "      <th>3</th>\n",
       "      <td>Addhuri Udupi Bhojana</td>\n",
       "      <td>No</td>\n",
       "      <td>No</td>\n",
       "      <td>3.7/5</td>\n",
       "      <td>88</td>\n",
       "      <td>Banashankari</td>\n",
       "      <td>Quick Bites</td>\n",
       "      <td>South Indian, North Indian</td>\n",
       "      <td>300</td>\n",
       "      <td>Banashankari</td>\n",
       "    </tr>\n",
       "    <tr>\n",
       "      <th>4</th>\n",
       "      <td>Grand Village</td>\n",
       "      <td>No</td>\n",
       "      <td>No</td>\n",
       "      <td>3.8/5</td>\n",
       "      <td>166</td>\n",
       "      <td>Basavanagudi</td>\n",
       "      <td>Casual Dining</td>\n",
       "      <td>North Indian, Rajasthani</td>\n",
       "      <td>600</td>\n",
       "      <td>Banashankari</td>\n",
       "    </tr>\n",
       "  </tbody>\n",
       "</table>\n",
       "</div>"
      ],
      "text/plain": [
       "                    name online_order book_table   rate  votes      location  \\\n",
       "0                  Jalsa          Yes        Yes  4.1/5    775  Banashankari   \n",
       "1         Spice Elephant          Yes         No  4.1/5    787  Banashankari   \n",
       "2        San Churro Cafe          Yes         No  3.8/5    918  Banashankari   \n",
       "3  Addhuri Udupi Bhojana           No         No  3.7/5     88  Banashankari   \n",
       "4          Grand Village           No         No  3.8/5    166  Basavanagudi   \n",
       "\n",
       "             rest_type                        cuisines approx_cost  \\\n",
       "0        Casual Dining  North Indian, Mughlai, Chinese         800   \n",
       "1        Casual Dining     Chinese, North Indian, Thai         800   \n",
       "2  Cafe, Casual Dining          Cafe, Mexican, Italian         800   \n",
       "3          Quick Bites      South Indian, North Indian         300   \n",
       "4        Casual Dining        North Indian, Rajasthani         600   \n",
       "\n",
       "           area  \n",
       "0  Banashankari  \n",
       "1  Banashankari  \n",
       "2  Banashankari  \n",
       "3  Banashankari  \n",
       "4  Banashankari  "
      ]
     },
     "execution_count": 9,
     "metadata": {},
     "output_type": "execute_result"
    }
   ],
   "source": [
    "df.drop(['url', 'address','menu_item', 'reviews_list', 'dish_liked', 'phone', 'listed_in(type)'], axis = 1, inplace=True)\n",
    "df.head()"
   ]
  },
  {
   "cell_type": "markdown",
   "id": "turkish-bowling",
   "metadata": {},
   "source": [
    "#### Checking and Handling the Datatypes"
   ]
  },
  {
   "cell_type": "code",
   "execution_count": 10,
   "id": "existing-princess",
   "metadata": {},
   "outputs": [
    {
     "name": "stdout",
     "output_type": "stream",
     "text": [
      "<class 'pandas.core.frame.DataFrame'>\n",
      "RangeIndex: 51717 entries, 0 to 51716\n",
      "Data columns (total 10 columns):\n",
      " #   Column        Non-Null Count  Dtype \n",
      "---  ------        --------------  ----- \n",
      " 0   name          51717 non-null  object\n",
      " 1   online_order  51717 non-null  object\n",
      " 2   book_table    51717 non-null  object\n",
      " 3   rate          43942 non-null  object\n",
      " 4   votes         51717 non-null  int64 \n",
      " 5   location      51696 non-null  object\n",
      " 6   rest_type     51490 non-null  object\n",
      " 7   cuisines      51672 non-null  object\n",
      " 8   approx_cost   51371 non-null  object\n",
      " 9   area          51717 non-null  object\n",
      "dtypes: int64(1), object(9)\n",
      "memory usage: 3.9+ MB\n"
     ]
    }
   ],
   "source": [
    "# checking the information of Data\n",
    "df.info()"
   ]
  },
  {
   "cell_type": "markdown",
   "id": "fleet-arcade",
   "metadata": {},
   "source": [
    "In this Inforamtion we can see that the columns\n",
    "rate, location, rest_type, approx_cost, cuisines \n",
    "we have null values and worng dtypes or both."
   ]
  },
  {
   "cell_type": "markdown",
   "id": "random-vanilla",
   "metadata": {},
   "source": [
    "#### Rate Column"
   ]
  },
  {
   "cell_type": "code",
   "execution_count": 11,
   "id": "moderate-filter",
   "metadata": {
    "scrolled": true
   },
   "outputs": [
    {
     "data": {
      "text/plain": [
       "array(['4.1/5', '3.8/5', '3.7/5', '3.6/5', '4.6/5', '4.0/5', '4.2/5',\n",
       "       '3.9/5', '3.1/5', '3.0/5', '3.2/5', '3.3/5', '2.8/5', '4.4/5',\n",
       "       '4.3/5', 'NEW', '2.9/5', '3.5/5', nan, '2.6/5', '3.8 /5', '3.4/5',\n",
       "       '4.5/5', '2.5/5', '2.7/5', '4.7/5', '2.4/5', '2.2/5', '2.3/5',\n",
       "       '3.4 /5', '-', '3.6 /5', '4.8/5', '3.9 /5', '4.2 /5', '4.0 /5',\n",
       "       '4.1 /5', '3.7 /5', '3.1 /5', '2.9 /5', '3.3 /5', '2.8 /5',\n",
       "       '3.5 /5', '2.7 /5', '2.5 /5', '3.2 /5', '2.6 /5', '4.5 /5',\n",
       "       '4.3 /5', '4.4 /5', '4.9/5', '2.1/5', '2.0/5', '1.8/5', '4.6 /5',\n",
       "       '4.9 /5', '3.0 /5', '4.8 /5', '2.3 /5', '4.7 /5', '2.4 /5',\n",
       "       '2.1 /5', '2.2 /5', '2.0 /5', '1.8 /5'], dtype=object)"
      ]
     },
     "execution_count": 11,
     "metadata": {},
     "output_type": "execute_result"
    }
   ],
   "source": [
    "# Checking the unique values in rate column\n",
    "df['rate'].unique()"
   ]
  },
  {
   "cell_type": "markdown",
   "id": "electric-humanitarian",
   "metadata": {},
   "source": [
    "\n",
    "above output shows that there are many null values and garbage values."
   ]
  },
  {
   "cell_type": "code",
   "execution_count": 12,
   "id": "shaped-chosen",
   "metadata": {},
   "outputs": [],
   "source": [
    "# Replace the all null values and garbage values and then covert into numbers\n",
    "df['rate'] =  df['rate'].str.replace(\"/5\", \"\")\n",
    "df['rate'] =  df['rate'].str.replace(\"nan\", \"NaN\")\n",
    "df['rate'] =  df['rate'].str.replace(\"NEW\", \"NaN\")\n",
    "df['rate'] =  df['rate'].str.replace(\"-\", \"NaN\")\n",
    "df['rate'] =  df['rate'].str.replace(\" /5\", \"\")\n",
    "df['rate'] =  df['rate'].fillna(np.nan)\n",
    "df['rate'] =  df['rate'].str.replace(\" \", \"\")"
   ]
  },
  {
   "cell_type": "code",
   "execution_count": 13,
   "id": "moved-malawi",
   "metadata": {
    "scrolled": true
   },
   "outputs": [
    {
     "data": {
      "text/plain": [
       "array(['4.1', '3.8', '3.7', '3.6', '4.6', '4.0', '4.2', '3.9', '3.1',\n",
       "       '3.0', '3.2', '3.3', '2.8', '4.4', '4.3', 'NaN', '2.9', '3.5', nan,\n",
       "       '2.6', '3.4', '4.5', '2.5', '2.7', '4.7', '2.4', '2.2', '2.3',\n",
       "       '4.8', '4.9', '2.1', '2.0', '1.8'], dtype=object)"
      ]
     },
     "execution_count": 13,
     "metadata": {},
     "output_type": "execute_result"
    }
   ],
   "source": [
    "df['rate'].unique()"
   ]
  },
  {
   "cell_type": "code",
   "execution_count": 14,
   "id": "accessible-maple",
   "metadata": {},
   "outputs": [],
   "source": [
    "# In rate column datatyep changing object to float\n",
    "df['rate'] = df['rate'].astype(float)"
   ]
  },
  {
   "cell_type": "markdown",
   "id": "celtic-netscape",
   "metadata": {},
   "source": [
    "#### Approx Cost Column"
   ]
  },
  {
   "cell_type": "code",
   "execution_count": 15,
   "id": "disturbed-telling",
   "metadata": {},
   "outputs": [
    {
     "data": {
      "text/plain": [
       "array(['800', '300', '600', '700', '550', '500', '450', '650', '400',\n",
       "       '900', '200', '750', '150', '850', '100', '1,200', '350', '250',\n",
       "       '950', '1,000', '1,500', '1,300', '199', '80', '1,100', '160',\n",
       "       '1,600', '230', '130', '50', '190', '1,700', nan, '1,400', '180',\n",
       "       '1,350', '2,200', '2,000', '1,800', '1,900', '330', '2,500',\n",
       "       '2,100', '3,000', '2,800', '3,400', '40', '1,250', '3,500',\n",
       "       '4,000', '2,400', '2,600', '120', '1,450', '469', '70', '3,200',\n",
       "       '60', '560', '240', '360', '6,000', '1,050', '2,300', '4,100',\n",
       "       '5,000', '3,700', '1,650', '2,700', '4,500', '140'], dtype=object)"
      ]
     },
     "execution_count": 15,
     "metadata": {},
     "output_type": "execute_result"
    }
   ],
   "source": [
    "# Checking the unique values in approx column \n",
    "df['approx_cost'].unique()"
   ]
  },
  {
   "cell_type": "code",
   "execution_count": 16,
   "id": "representative-update",
   "metadata": {},
   "outputs": [],
   "source": [
    "# Replacing thr null values and convert\n",
    "df['approx_cost'] =  df['approx_cost'].str.replace(\"nan\", \"NaN\")\n",
    "df['approx_cost'] =  df['approx_cost'].fillna('NaN')\n",
    "df['approx_cost'] =  df['approx_cost'].str.replace(\",\", \"\")"
   ]
  },
  {
   "cell_type": "code",
   "execution_count": 17,
   "id": "alert-poverty",
   "metadata": {},
   "outputs": [
    {
     "data": {
      "text/plain": [
       "array(['800', '300', '600', '700', '550', '500', '450', '650', '400',\n",
       "       '900', '200', '750', '150', '850', '100', '1200', '350', '250',\n",
       "       '950', '1000', '1500', '1300', '199', '80', '1100', '160', '1600',\n",
       "       '230', '130', '50', '190', '1700', 'NaN', '1400', '180', '1350',\n",
       "       '2200', '2000', '1800', '1900', '330', '2500', '2100', '3000',\n",
       "       '2800', '3400', '40', '1250', '3500', '4000', '2400', '2600',\n",
       "       '120', '1450', '469', '70', '3200', '60', '560', '240', '360',\n",
       "       '6000', '1050', '2300', '4100', '5000', '3700', '1650', '2700',\n",
       "       '4500', '140'], dtype=object)"
      ]
     },
     "execution_count": 17,
     "metadata": {},
     "output_type": "execute_result"
    }
   ],
   "source": [
    "df['approx_cost'].unique()"
   ]
  },
  {
   "cell_type": "code",
   "execution_count": 18,
   "id": "developmental-daniel",
   "metadata": {},
   "outputs": [],
   "source": [
    "# chaning the dtype of the column from object to float\n",
    "df['approx_cost'] = df['approx_cost'].astype(float)"
   ]
  },
  {
   "cell_type": "code",
   "execution_count": 19,
   "id": "musical-struggle",
   "metadata": {},
   "outputs": [
    {
     "name": "stdout",
     "output_type": "stream",
     "text": [
      "<class 'pandas.core.frame.DataFrame'>\n",
      "RangeIndex: 51717 entries, 0 to 51716\n",
      "Data columns (total 10 columns):\n",
      " #   Column        Non-Null Count  Dtype  \n",
      "---  ------        --------------  -----  \n",
      " 0   name          51717 non-null  object \n",
      " 1   online_order  51717 non-null  object \n",
      " 2   book_table    51717 non-null  object \n",
      " 3   rate          41665 non-null  float64\n",
      " 4   votes         51717 non-null  int64  \n",
      " 5   location      51696 non-null  object \n",
      " 6   rest_type     51490 non-null  object \n",
      " 7   cuisines      51672 non-null  object \n",
      " 8   approx_cost   51371 non-null  float64\n",
      " 9   area          51717 non-null  object \n",
      "dtypes: float64(2), int64(1), object(7)\n",
      "memory usage: 3.9+ MB\n"
     ]
    }
   ],
   "source": [
    "df.info()"
   ]
  },
  {
   "cell_type": "markdown",
   "id": "annoying-history",
   "metadata": {},
   "source": [
    "#### Checking for Null Values"
   ]
  },
  {
   "cell_type": "code",
   "execution_count": 20,
   "id": "respected-video",
   "metadata": {},
   "outputs": [
    {
     "data": {
      "text/plain": [
       "name                0\n",
       "online_order        0\n",
       "book_table          0\n",
       "rate            10052\n",
       "votes               0\n",
       "location           21\n",
       "rest_type         227\n",
       "cuisines           45\n",
       "approx_cost       346\n",
       "area                0\n",
       "dtype: int64"
      ]
     },
     "execution_count": 20,
     "metadata": {},
     "output_type": "execute_result"
    }
   ],
   "source": [
    "# Checking the number of null values \n",
    "df.isna().sum()"
   ]
  },
  {
   "cell_type": "code",
   "execution_count": 21,
   "id": "completed-dinner",
   "metadata": {},
   "outputs": [
    {
     "data": {
      "text/plain": [
       "name             0.000000\n",
       "online_order     0.000000\n",
       "book_table       0.000000\n",
       "rate            19.436549\n",
       "votes            0.000000\n",
       "location         0.040606\n",
       "rest_type        0.438927\n",
       "cuisines         0.087012\n",
       "approx_cost      0.669026\n",
       "area             0.000000\n",
       "dtype: float64"
      ]
     },
     "execution_count": 21,
     "metadata": {},
     "output_type": "execute_result"
    }
   ],
   "source": [
    "# Checking of Percentage of null values in Column\n",
    "(df.isna().sum() / df.shape[0]) * 100"
   ]
  },
  {
   "cell_type": "markdown",
   "id": "danish-taste",
   "metadata": {},
   "source": [
    "Here, the column is location, rest_type, cuisines, approx_cost have less number of null values as compared to rate column. So, we can drop a null values."
   ]
  },
  {
   "cell_type": "code",
   "execution_count": 22,
   "id": "perfect-thunder",
   "metadata": {},
   "outputs": [
    {
     "data": {
      "text/plain": [
       "name               0\n",
       "online_order       0\n",
       "book_table         0\n",
       "rate            9885\n",
       "votes              0\n",
       "location           0\n",
       "rest_type          0\n",
       "cuisines           0\n",
       "approx_cost        0\n",
       "area               0\n",
       "dtype: int64"
      ]
     },
     "execution_count": 22,
     "metadata": {},
     "output_type": "execute_result"
    }
   ],
   "source": [
    "# we droping the null values from which columns have less number of null values.\n",
    "df = df[df[\"location\"].notna()]\n",
    "df = df[df[\"rest_type\"].notna()]\n",
    "df = df[df[\"cuisines\"].notna()]\n",
    "df = df[df[\"approx_cost\"].notna()]\n",
    "\n",
    "df.isna().sum()"
   ]
  },
  {
   "cell_type": "markdown",
   "id": "earlier-electricity",
   "metadata": {},
   "source": [
    "#### Handling Null values in Rate Column\n",
    "\n",
    "in this rate column has greater number of null values, so we can droping them, and than we will impute with mean,median and mode."
   ]
  },
  {
   "cell_type": "code",
   "execution_count": 23,
   "id": "hidden-virtue",
   "metadata": {},
   "outputs": [
    {
     "data": {
      "text/plain": [
       "count    41263.000000\n",
       "mean         3.702011\n",
       "std          0.439985\n",
       "min          1.800000\n",
       "25%          3.400000\n",
       "50%          3.700000\n",
       "75%          4.000000\n",
       "max          4.900000\n",
       "Name: rate, dtype: float64"
      ]
     },
     "execution_count": 23,
     "metadata": {},
     "output_type": "execute_result"
    }
   ],
   "source": [
    "# statistics method\n",
    "df['rate'].describe()"
   ]
  },
  {
   "cell_type": "code",
   "execution_count": 25,
   "id": "pretty-ranch",
   "metadata": {},
   "outputs": [
    {
     "name": "stdout",
     "output_type": "stream",
     "text": [
      "Number of Rows having Outliers :  183\n"
     ]
    }
   ],
   "source": [
    "# For imputing the values, we will check for outliers\n",
    "q1 = df['rate'].quantile(0.25)\n",
    "q3 = df['rate'].quantile(0.75)\n",
    "\n",
    "xyz = q3 - q1\n",
    "\n",
    "lower_range = q1 - (1.5 * xyz)\n",
    "upper_range = q3 + (1.5 * xyz)\n",
    "\n",
    "outliers = len(df[(df['rate'] < lower_range) | (df['rate'] > upper_range)])\n",
    "print(\"Number of Rows having Outliers : \", outliers)"
   ]
  },
  {
   "cell_type": "markdown",
   "id": "independent-pakistan",
   "metadata": {},
   "source": [
    "above the output , we can see that 183 rows having outliers, but we are all know rating is always in the range from 1 to 5, so we will impute with meadin."
   ]
  },
  {
   "cell_type": "code",
   "execution_count": 26,
   "id": "reserved-liberal",
   "metadata": {},
   "outputs": [
    {
     "data": {
      "text/plain": [
       "name            0\n",
       "online_order    0\n",
       "book_table      0\n",
       "rate            0\n",
       "votes           0\n",
       "location        0\n",
       "rest_type       0\n",
       "cuisines        0\n",
       "approx_cost     0\n",
       "area            0\n",
       "dtype: int64"
      ]
     },
     "execution_count": 26,
     "metadata": {},
     "output_type": "execute_result"
    }
   ],
   "source": [
    "# Imputing the null values with median\n",
    "df['rate'] = df['rate'].fillna(df['rate'].median())\n",
    "\n",
    "df.isna().sum()"
   ]
  },
  {
   "cell_type": "code",
   "execution_count": 27,
   "id": "large-pointer",
   "metadata": {},
   "outputs": [],
   "source": [
    "# Reset the index\n",
    "df.reset_index(inplace=True)\n",
    "df.drop(['index'], axis=1, inplace=True)"
   ]
  },
  {
   "cell_type": "markdown",
   "id": "e52fb50d",
   "metadata": {},
   "source": [
    "## Data Visualization"
   ]
  },
  {
   "cell_type": "markdown",
   "id": "313eeb5e",
   "metadata": {},
   "source": [
    "#### No. of orders vs Restaurants"
   ]
  },
  {
   "cell_type": "code",
   "execution_count": 28,
   "id": "3a1e1f29",
   "metadata": {},
   "outputs": [
    {
     "data": {
      "image/png": "[encoded data removed]",
      "text/plain": [
       "<Figure size 864x360 with 1 Axes>"
      ]
     },
     "metadata": {},
     "output_type": "display_data"
    }
   ],
   "source": [
    "# Checking for the Restaurants got higher number of orders\n",
    "plt.figure(figsize = (12,5))\n",
    "data = df['name'].value_counts()[:30]\n",
    "data.plot(kind = 'bar')\n",
    "plt.xlabel('Name of Restaurants', size = 14)\n",
    "plt.ylabel('No. of Orders', size = 14)\n",
    "plt.title(\"Restaurants with Maximum No. of Orders\", fontsize=15)\n",
    "plt.show()"
   ]
  },
  {
   "cell_type": "markdown",
   "id": "educated-comfort",
   "metadata": {},
   "source": [
    "Above chart we can see comparision between Restaurant name and number of orders, which restaurant have a highest number of orders. "
   ]
  },
  {
   "cell_type": "markdown",
   "id": "95e06dcd",
   "metadata": {},
   "source": [
    "#### Number of Restaurants having Online Order Facility"
   ]
  },
  {
   "cell_type": "code",
   "execution_count": 29,
   "id": "073e2599",
   "metadata": {
    "scrolled": true
   },
   "outputs": [
    {
     "data": {
      "image/png": "[encoded data removed]",
      "text/plain": [
       "<Figure size 576x504 with 1 Axes>"
      ]
     },
     "metadata": {},
     "output_type": "display_data"
    }
   ],
   "source": [
    "# Checking the number of restaurants having Online Order Facility\n",
    "data = df[['name', 'online_order']].drop_duplicates()\n",
    "\n",
    "plt.figure(figsize = (8,7))\n",
    "fx = sns.countplot(x=\"online_order\", data=data).set_title('Online Order Facility',fontsize = 15)\n",
    "plt.show()"
   ]
  },
  {
   "cell_type": "markdown",
   "id": "moved-monte",
   "metadata": {},
   "source": [
    "From above chart, we can see that only 4397 restaurants have Order Facility."
   ]
  },
  {
   "cell_type": "markdown",
   "id": "70b71ae3",
   "metadata": {},
   "source": [
    "#### Number of restaurants having Prebooking Table Facility"
   ]
  },
  {
   "cell_type": "code",
   "execution_count": 30,
   "id": "505bd8c5",
   "metadata": {},
   "outputs": [
    {
     "data": {
      "image/png": "[encoded data removed]",
      "text/plain": [
       "<Figure size 576x504 with 1 Axes>"
      ]
     },
     "metadata": {},
     "output_type": "display_data"
    }
   ],
   "source": [
    "# Checking the number of restaurants having Prebooking Table Facility\n",
    "data = df[['name', 'book_table']].drop_duplicates()\n",
    "\n",
    "plt.figure(figsize = (8,7))\n",
    "fx = sns.countplot(x=\"book_table\", data=data).set_title('Pre Booking Facility', fontsize = 18)\n",
    "plt.show()"
   ]
  },
  {
   "cell_type": "markdown",
   "id": "valued-scoop",
   "metadata": {},
   "source": [
    "From above chart, we can see the most of the restauratns doesn't have Booking table facility, only 820 restauranth having table booking facility."
   ]
  },
  {
   "cell_type": "markdown",
   "id": "b630b0fe",
   "metadata": {},
   "source": [
    "#### Top Locations got Higher Number of Orders"
   ]
  },
  {
   "cell_type": "code",
   "execution_count": 34,
   "id": "420ae7ee",
   "metadata": {},
   "outputs": [
    {
     "data": {
      "image/png": "[encoded data removed]",
      "text/plain": [
       "<Figure size 864x432 with 1 Axes>"
      ]
     },
     "metadata": {},
     "output_type": "display_data"
    }
   ],
   "source": [
    "# Checking top Locations got Higher Number of Orders\n",
    "plt.figure(figsize = (12,6))\n",
    "data = df.location.value_counts()[0:25]\n",
    "data.plot(kind='bar')\n",
    "plt.xlabel('Locations')\n",
    "plt.ylabel('No. of orders')\n",
    "plt.title ('Top Locations get higher number of orders', size = 20)\n",
    "plt.show()"
   ]
  },
  {
   "cell_type": "markdown",
   "id": "cleared-girlfriend",
   "metadata": {},
   "source": [
    "Above chart we can see Location BTM get higher number of orders amoung all others locations.  "
   ]
  },
  {
   "cell_type": "markdown",
   "id": "368cb68b",
   "metadata": {},
   "source": [
    "#### Most Common Ratings for orders"
   ]
  },
  {
   "cell_type": "code",
   "execution_count": 41,
   "id": "5a78886d",
   "metadata": {},
   "outputs": [
    {
     "data": {
      "image/png": "[encoded data removed]",
      "text/plain": [
       "<Figure size 864x504 with 1 Axes>"
      ]
     },
     "metadata": {},
     "output_type": "display_data"
    }
   ],
   "source": [
    "# Checking the most Common ratings for orders\n",
    "data = df.rate.value_counts().reset_index()[0:25]\n",
    "\n",
    "plt.figure(figsize = (12,7))\n",
    "sns.barplot(x = data['index'], y = data['rate'])\n",
    "plt.xlabel('Ratings')\n",
    "plt.ylabel('No. of orders')\n",
    "plt.title ('Most Common Ratings', size = 25)\n",
    "plt.show()"
   ]
  },
  {
   "cell_type": "markdown",
   "id": "gentle-wallace",
   "metadata": {},
   "source": [
    "We can see that maximum number of orders got 3.7 rating for their restaurants."
   ]
  },
  {
   "cell_type": "markdown",
   "id": "ee40f0d5",
   "metadata": {},
   "source": [
    "#### Common Approximate Costs for meal of two people "
   ]
  },
  {
   "cell_type": "code",
   "execution_count": 42,
   "id": "26fd0ece",
   "metadata": {},
   "outputs": [],
   "source": [
    "# Here Approximate costs for meal\n",
    "data = pd.DataFrame(df[\"approx_cost\"].value_counts().reset_index()[:25])\n",
    "data.columns = ['approx_cost', 'count']\n",
    "data = data.set_index('approx_cost')"
   ]
  },
  {
   "cell_type": "code",
   "execution_count": 43,
   "id": "2711053f",
   "metadata": {},
   "outputs": [
    {
     "data": {
      "image/png": "[encoded data removed]",
      "text/plain": [
       "<Figure size 1080x504 with 1 Axes>"
      ]
     },
     "metadata": {},
     "output_type": "display_data"
    }
   ],
   "source": [
    "plt.figure(figsize = (15, 7))\n",
    "sns.barplot(x = data.index, y=data['count'])\n",
    "plt.xlabel('Rate for Two People', size=20)\n",
    "plt.ylabel('No. of orders', size=20)\n",
    "plt.xticks(size=10)\n",
    "plt.yticks(size=10)\n",
    "plt.title('Top preferred costs for two people', size = 25)\n",
    "plt.show()"
   ]
  },
  {
   "cell_type": "markdown",
   "id": "886839f0",
   "metadata": {},
   "source": [
    "### Restaurant Type vs No. of orders"
   ]
  },
  {
   "cell_type": "code",
   "execution_count": 52,
   "id": "7fcf4005",
   "metadata": {},
   "outputs": [
    {
     "data": {
      "image/png": "[encoded data removed]",
      "text/plain": [
       "<Figure size 864x360 with 1 Axes>"
      ]
     },
     "metadata": {},
     "output_type": "display_data"
    }
   ],
   "source": [
    "plt.figure(figsize=(12,5))\n",
    "abc = df.rest_type.value_counts()[:25]\n",
    "abc.plot(kind='barh')\n",
    "plt.title(\"Most Famous Restaurant Types\",fontsize=15)\n",
    "plt.xlabel(\"Type of Restaurants\")\n",
    "plt.ylabel(\"No. of Orders\")\n",
    "plt.show()"
   ]
  },
  {
   "cell_type": "markdown",
   "id": "1c0537e4",
   "metadata": {},
   "source": [
    "#### Most famous Cusines among People"
   ]
  },
  {
   "cell_type": "code",
   "execution_count": 53,
   "id": "235e774a",
   "metadata": {},
   "outputs": [
    {
     "data": {
      "image/png": "[encoded data removed]",
      "text/plain": [
       "<Figure size 864x360 with 1 Axes>"
      ]
     },
     "metadata": {},
     "output_type": "display_data"
    }
   ],
   "source": [
    "plt.figure(figsize=(12,5))\n",
    "xyz = df.cuisines.value_counts()[:20].plot(kind='bar')\n",
    "plt.title(\"Most famous Cusines among People\",fontsize=15)\n",
    "plt.xlabel(\"Cuisines\")\n",
    "plt.ylabel (\"No. of Orders\")\n",
    "plt.show()"
   ]
  },
  {
   "cell_type": "markdown",
   "id": "1c5b80a3",
   "metadata": {},
   "source": [
    "#### Top Locations with Most Number of Restaurants"
   ]
  },
  {
   "cell_type": "code",
   "execution_count": 54,
   "id": "seeing-delta",
   "metadata": {},
   "outputs": [],
   "source": [
    "loc = pd.DataFrame(df.groupby(by='location')['name'].nunique())\n",
    "loc.columns = ['count']\n",
    "loc.sort_values(by='count', ascending= False, inplace=True)"
   ]
  },
  {
   "cell_type": "code",
   "execution_count": 55,
   "id": "active-hunter",
   "metadata": {},
   "outputs": [
    {
     "data": {
      "image/png": "[encoded data removed]",
      "text/plain": [
       "<Figure size 864x432 with 1 Axes>"
      ]
     },
     "metadata": {},
     "output_type": "display_data"
    }
   ],
   "source": [
    "plt.rcParams['figure.figsize'] = (12,6)\n",
    "ax = loc[0:30].plot(kind='bar')\n",
    "plt.xlabel('Location', size = 12)\n",
    "plt.ylabel('No. of Restaurants', size = 12)\n",
    "plt.title('Top Locations with Most Number of Restaurants', size = 15)\n",
    "plt.show()"
   ]
  },
  {
   "cell_type": "markdown",
   "id": "realistic-reminder",
   "metadata": {},
   "source": [
    "## Encoding Columns"
   ]
  },
  {
   "cell_type": "markdown",
   "id": "decent-journalist",
   "metadata": {},
   "source": [
    "#### Online Order Column"
   ]
  },
  {
   "cell_type": "code",
   "execution_count": 56,
   "id": "closing-tyler",
   "metadata": {},
   "outputs": [
    {
     "data": {
      "text/html": [
       "<div>\n",
       "<style scoped>\n",
       "    .dataframe tbody tr th:only-of-type {\n",
       "        vertical-align: middle;\n",
       "    }\n",
       "\n",
       "    .dataframe tbody tr th {\n",
       "        vertical-align: top;\n",
       "    }\n",
       "\n",
       "    .dataframe thead th {\n",
       "        text-align: right;\n",
       "    }\n",
       "</style>\n",
       "<table border=\"1\" class=\"dataframe\">\n",
       "  <thead>\n",
       "    <tr style=\"text-align: right;\">\n",
       "      <th></th>\n",
       "      <th>name</th>\n",
       "      <th>online_order</th>\n",
       "      <th>book_table</th>\n",
       "      <th>rate</th>\n",
       "      <th>votes</th>\n",
       "      <th>location</th>\n",
       "      <th>rest_type</th>\n",
       "      <th>cuisines</th>\n",
       "      <th>approx_cost</th>\n",
       "      <th>area</th>\n",
       "    </tr>\n",
       "  </thead>\n",
       "  <tbody>\n",
       "    <tr>\n",
       "      <th>0</th>\n",
       "      <td>Jalsa</td>\n",
       "      <td>1</td>\n",
       "      <td>Yes</td>\n",
       "      <td>4.1</td>\n",
       "      <td>775</td>\n",
       "      <td>Banashankari</td>\n",
       "      <td>Casual Dining</td>\n",
       "      <td>North Indian, Mughlai, Chinese</td>\n",
       "      <td>800.0</td>\n",
       "      <td>Banashankari</td>\n",
       "    </tr>\n",
       "    <tr>\n",
       "      <th>1</th>\n",
       "      <td>Spice Elephant</td>\n",
       "      <td>1</td>\n",
       "      <td>No</td>\n",
       "      <td>4.1</td>\n",
       "      <td>787</td>\n",
       "      <td>Banashankari</td>\n",
       "      <td>Casual Dining</td>\n",
       "      <td>Chinese, North Indian, Thai</td>\n",
       "      <td>800.0</td>\n",
       "      <td>Banashankari</td>\n",
       "    </tr>\n",
       "    <tr>\n",
       "      <th>2</th>\n",
       "      <td>San Churro Cafe</td>\n",
       "      <td>1</td>\n",
       "      <td>No</td>\n",
       "      <td>3.8</td>\n",
       "      <td>918</td>\n",
       "      <td>Banashankari</td>\n",
       "      <td>Cafe, Casual Dining</td>\n",
       "      <td>Cafe, Mexican, Italian</td>\n",
       "      <td>800.0</td>\n",
       "      <td>Banashankari</td>\n",
       "    </tr>\n",
       "    <tr>\n",
       "      <th>3</th>\n",
       "      <td>Addhuri Udupi Bhojana</td>\n",
       "      <td>0</td>\n",
       "      <td>No</td>\n",
       "      <td>3.7</td>\n",
       "      <td>88</td>\n",
       "      <td>Banashankari</td>\n",
       "      <td>Quick Bites</td>\n",
       "      <td>South Indian, North Indian</td>\n",
       "      <td>300.0</td>\n",
       "      <td>Banashankari</td>\n",
       "    </tr>\n",
       "    <tr>\n",
       "      <th>4</th>\n",
       "      <td>Grand Village</td>\n",
       "      <td>0</td>\n",
       "      <td>No</td>\n",
       "      <td>3.8</td>\n",
       "      <td>166</td>\n",
       "      <td>Basavanagudi</td>\n",
       "      <td>Casual Dining</td>\n",
       "      <td>North Indian, Rajasthani</td>\n",
       "      <td>600.0</td>\n",
       "      <td>Banashankari</td>\n",
       "    </tr>\n",
       "  </tbody>\n",
       "</table>\n",
       "</div>"
      ],
      "text/plain": [
       "                    name  online_order book_table  rate  votes      location  \\\n",
       "0                  Jalsa             1        Yes   4.1    775  Banashankari   \n",
       "1         Spice Elephant             1         No   4.1    787  Banashankari   \n",
       "2        San Churro Cafe             1         No   3.8    918  Banashankari   \n",
       "3  Addhuri Udupi Bhojana             0         No   3.7     88  Banashankari   \n",
       "4          Grand Village             0         No   3.8    166  Basavanagudi   \n",
       "\n",
       "             rest_type                        cuisines  approx_cost  \\\n",
       "0        Casual Dining  North Indian, Mughlai, Chinese        800.0   \n",
       "1        Casual Dining     Chinese, North Indian, Thai        800.0   \n",
       "2  Cafe, Casual Dining          Cafe, Mexican, Italian        800.0   \n",
       "3          Quick Bites      South Indian, North Indian        300.0   \n",
       "4        Casual Dining        North Indian, Rajasthani        600.0   \n",
       "\n",
       "           area  \n",
       "0  Banashankari  \n",
       "1  Banashankari  \n",
       "2  Banashankari  \n",
       "3  Banashankari  \n",
       "4  Banashankari  "
      ]
     },
     "execution_count": 56,
     "metadata": {},
     "output_type": "execute_result"
    }
   ],
   "source": [
    "df['online_order'] = df['online_order'].replace({\"Yes\": 1, \"No\" : 0})\n",
    "df.head()"
   ]
  },
  {
   "cell_type": "markdown",
   "id": "certified-productivity",
   "metadata": {},
   "source": [
    "#### Book Table Column"
   ]
  },
  {
   "cell_type": "code",
   "execution_count": 58,
   "id": "lesser-guinea",
   "metadata": {},
   "outputs": [
    {
     "data": {
      "text/html": [
       "<div>\n",
       "<style scoped>\n",
       "    .dataframe tbody tr th:only-of-type {\n",
       "        vertical-align: middle;\n",
       "    }\n",
       "\n",
       "    .dataframe tbody tr th {\n",
       "        vertical-align: top;\n",
       "    }\n",
       "\n",
       "    .dataframe thead th {\n",
       "        text-align: right;\n",
       "    }\n",
       "</style>\n",
       "<table border=\"1\" class=\"dataframe\">\n",
       "  <thead>\n",
       "    <tr style=\"text-align: right;\">\n",
       "      <th></th>\n",
       "      <th>name</th>\n",
       "      <th>online_order</th>\n",
       "      <th>book_table</th>\n",
       "      <th>rate</th>\n",
       "      <th>votes</th>\n",
       "      <th>location</th>\n",
       "      <th>rest_type</th>\n",
       "      <th>cuisines</th>\n",
       "      <th>approx_cost</th>\n",
       "      <th>area</th>\n",
       "    </tr>\n",
       "  </thead>\n",
       "  <tbody>\n",
       "    <tr>\n",
       "      <th>0</th>\n",
       "      <td>Jalsa</td>\n",
       "      <td>1</td>\n",
       "      <td>1</td>\n",
       "      <td>4.1</td>\n",
       "      <td>775</td>\n",
       "      <td>Banashankari</td>\n",
       "      <td>Casual Dining</td>\n",
       "      <td>North Indian, Mughlai, Chinese</td>\n",
       "      <td>800.0</td>\n",
       "      <td>Banashankari</td>\n",
       "    </tr>\n",
       "    <tr>\n",
       "      <th>1</th>\n",
       "      <td>Spice Elephant</td>\n",
       "      <td>1</td>\n",
       "      <td>0</td>\n",
       "      <td>4.1</td>\n",
       "      <td>787</td>\n",
       "      <td>Banashankari</td>\n",
       "      <td>Casual Dining</td>\n",
       "      <td>Chinese, North Indian, Thai</td>\n",
       "      <td>800.0</td>\n",
       "      <td>Banashankari</td>\n",
       "    </tr>\n",
       "    <tr>\n",
       "      <th>2</th>\n",
       "      <td>San Churro Cafe</td>\n",
       "      <td>1</td>\n",
       "      <td>0</td>\n",
       "      <td>3.8</td>\n",
       "      <td>918</td>\n",
       "      <td>Banashankari</td>\n",
       "      <td>Cafe, Casual Dining</td>\n",
       "      <td>Cafe, Mexican, Italian</td>\n",
       "      <td>800.0</td>\n",
       "      <td>Banashankari</td>\n",
       "    </tr>\n",
       "    <tr>\n",
       "      <th>3</th>\n",
       "      <td>Addhuri Udupi Bhojana</td>\n",
       "      <td>0</td>\n",
       "      <td>0</td>\n",
       "      <td>3.7</td>\n",
       "      <td>88</td>\n",
       "      <td>Banashankari</td>\n",
       "      <td>Quick Bites</td>\n",
       "      <td>South Indian, North Indian</td>\n",
       "      <td>300.0</td>\n",
       "      <td>Banashankari</td>\n",
       "    </tr>\n",
       "    <tr>\n",
       "      <th>4</th>\n",
       "      <td>Grand Village</td>\n",
       "      <td>0</td>\n",
       "      <td>0</td>\n",
       "      <td>3.8</td>\n",
       "      <td>166</td>\n",
       "      <td>Basavanagudi</td>\n",
       "      <td>Casual Dining</td>\n",
       "      <td>North Indian, Rajasthani</td>\n",
       "      <td>600.0</td>\n",
       "      <td>Banashankari</td>\n",
       "    </tr>\n",
       "  </tbody>\n",
       "</table>\n",
       "</div>"
      ],
      "text/plain": [
       "                    name  online_order  book_table  rate  votes      location  \\\n",
       "0                  Jalsa             1           1   4.1    775  Banashankari   \n",
       "1         Spice Elephant             1           0   4.1    787  Banashankari   \n",
       "2        San Churro Cafe             1           0   3.8    918  Banashankari   \n",
       "3  Addhuri Udupi Bhojana             0           0   3.7     88  Banashankari   \n",
       "4          Grand Village             0           0   3.8    166  Basavanagudi   \n",
       "\n",
       "             rest_type                        cuisines  approx_cost  \\\n",
       "0        Casual Dining  North Indian, Mughlai, Chinese        800.0   \n",
       "1        Casual Dining     Chinese, North Indian, Thai        800.0   \n",
       "2  Cafe, Casual Dining          Cafe, Mexican, Italian        800.0   \n",
       "3          Quick Bites      South Indian, North Indian        300.0   \n",
       "4        Casual Dining        North Indian, Rajasthani        600.0   \n",
       "\n",
       "           area  \n",
       "0  Banashankari  \n",
       "1  Banashankari  \n",
       "2  Banashankari  \n",
       "3  Banashankari  \n",
       "4  Banashankari  "
      ]
     },
     "execution_count": 58,
     "metadata": {},
     "output_type": "execute_result"
    }
   ],
   "source": [
    "df['book_table'] = df['book_table'].replace({\"Yes\": 1, \"No\" : 0})\n",
    "df.head()"
   ]
  },
  {
   "cell_type": "markdown",
   "id": "encouraging-tension",
   "metadata": {},
   "source": [
    "#### Rest Type Column"
   ]
  },
  {
   "cell_type": "code",
   "execution_count": 59,
   "id": "alleged-daniel",
   "metadata": {},
   "outputs": [
    {
     "data": {
      "text/html": [
       "<div>\n",
       "<style scoped>\n",
       "    .dataframe tbody tr th:only-of-type {\n",
       "        vertical-align: middle;\n",
       "    }\n",
       "\n",
       "    .dataframe tbody tr th {\n",
       "        vertical-align: top;\n",
       "    }\n",
       "\n",
       "    .dataframe thead th {\n",
       "        text-align: right;\n",
       "    }\n",
       "</style>\n",
       "<table border=\"1\" class=\"dataframe\">\n",
       "  <thead>\n",
       "    <tr style=\"text-align: right;\">\n",
       "      <th></th>\n",
       "      <th>rest_type</th>\n",
       "      <th>Dhaba</th>\n",
       "      <th>Quick Bites</th>\n",
       "      <th>Food Truck</th>\n",
       "      <th>Meat Shop</th>\n",
       "      <th>Microbrewery</th>\n",
       "      <th>Beverage Shop</th>\n",
       "      <th>Confectionery</th>\n",
       "      <th>Bar</th>\n",
       "      <th>Casual Dining</th>\n",
       "      <th>...</th>\n",
       "      <th>Kiosk</th>\n",
       "      <th>Delivery</th>\n",
       "      <th>Irani Cafee</th>\n",
       "      <th>Dessert Parlor</th>\n",
       "      <th>Sweet Shop</th>\n",
       "      <th>Food Court</th>\n",
       "      <th>Pop Up</th>\n",
       "      <th>Mess</th>\n",
       "      <th>Pub</th>\n",
       "      <th>Club</th>\n",
       "    </tr>\n",
       "  </thead>\n",
       "  <tbody>\n",
       "    <tr>\n",
       "      <th>0</th>\n",
       "      <td>Casual Dining</td>\n",
       "      <td>0</td>\n",
       "      <td>0</td>\n",
       "      <td>0</td>\n",
       "      <td>0</td>\n",
       "      <td>0</td>\n",
       "      <td>0</td>\n",
       "      <td>0</td>\n",
       "      <td>0</td>\n",
       "      <td>0</td>\n",
       "      <td>...</td>\n",
       "      <td>0</td>\n",
       "      <td>0</td>\n",
       "      <td>0</td>\n",
       "      <td>0</td>\n",
       "      <td>0</td>\n",
       "      <td>0</td>\n",
       "      <td>0</td>\n",
       "      <td>0</td>\n",
       "      <td>0</td>\n",
       "      <td>0</td>\n",
       "    </tr>\n",
       "    <tr>\n",
       "      <th>1</th>\n",
       "      <td>Casual Dining</td>\n",
       "      <td>0</td>\n",
       "      <td>0</td>\n",
       "      <td>0</td>\n",
       "      <td>0</td>\n",
       "      <td>0</td>\n",
       "      <td>0</td>\n",
       "      <td>0</td>\n",
       "      <td>0</td>\n",
       "      <td>0</td>\n",
       "      <td>...</td>\n",
       "      <td>0</td>\n",
       "      <td>0</td>\n",
       "      <td>0</td>\n",
       "      <td>0</td>\n",
       "      <td>0</td>\n",
       "      <td>0</td>\n",
       "      <td>0</td>\n",
       "      <td>0</td>\n",
       "      <td>0</td>\n",
       "      <td>0</td>\n",
       "    </tr>\n",
       "    <tr>\n",
       "      <th>2</th>\n",
       "      <td>Cafe, Casual Dining</td>\n",
       "      <td>0</td>\n",
       "      <td>0</td>\n",
       "      <td>0</td>\n",
       "      <td>0</td>\n",
       "      <td>0</td>\n",
       "      <td>0</td>\n",
       "      <td>0</td>\n",
       "      <td>0</td>\n",
       "      <td>0</td>\n",
       "      <td>...</td>\n",
       "      <td>0</td>\n",
       "      <td>0</td>\n",
       "      <td>0</td>\n",
       "      <td>0</td>\n",
       "      <td>0</td>\n",
       "      <td>0</td>\n",
       "      <td>0</td>\n",
       "      <td>0</td>\n",
       "      <td>0</td>\n",
       "      <td>0</td>\n",
       "    </tr>\n",
       "    <tr>\n",
       "      <th>3</th>\n",
       "      <td>Quick Bites</td>\n",
       "      <td>0</td>\n",
       "      <td>0</td>\n",
       "      <td>0</td>\n",
       "      <td>0</td>\n",
       "      <td>0</td>\n",
       "      <td>0</td>\n",
       "      <td>0</td>\n",
       "      <td>0</td>\n",
       "      <td>0</td>\n",
       "      <td>...</td>\n",
       "      <td>0</td>\n",
       "      <td>0</td>\n",
       "      <td>0</td>\n",
       "      <td>0</td>\n",
       "      <td>0</td>\n",
       "      <td>0</td>\n",
       "      <td>0</td>\n",
       "      <td>0</td>\n",
       "      <td>0</td>\n",
       "      <td>0</td>\n",
       "    </tr>\n",
       "    <tr>\n",
       "      <th>4</th>\n",
       "      <td>Casual Dining</td>\n",
       "      <td>0</td>\n",
       "      <td>0</td>\n",
       "      <td>0</td>\n",
       "      <td>0</td>\n",
       "      <td>0</td>\n",
       "      <td>0</td>\n",
       "      <td>0</td>\n",
       "      <td>0</td>\n",
       "      <td>0</td>\n",
       "      <td>...</td>\n",
       "      <td>0</td>\n",
       "      <td>0</td>\n",
       "      <td>0</td>\n",
       "      <td>0</td>\n",
       "      <td>0</td>\n",
       "      <td>0</td>\n",
       "      <td>0</td>\n",
       "      <td>0</td>\n",
       "      <td>0</td>\n",
       "      <td>0</td>\n",
       "    </tr>\n",
       "  </tbody>\n",
       "</table>\n",
       "<p>5 rows × 26 columns</p>\n",
       "</div>"
      ],
      "text/plain": [
       "             rest_type  Dhaba  Quick Bites  Food Truck  Meat Shop  \\\n",
       "0        Casual Dining      0            0           0          0   \n",
       "1        Casual Dining      0            0           0          0   \n",
       "2  Cafe, Casual Dining      0            0           0          0   \n",
       "3          Quick Bites      0            0           0          0   \n",
       "4        Casual Dining      0            0           0          0   \n",
       "\n",
       "   Microbrewery  Beverage Shop  Confectionery  Bar  Casual Dining  ...  Kiosk  \\\n",
       "0             0              0              0    0              0  ...      0   \n",
       "1             0              0              0    0              0  ...      0   \n",
       "2             0              0              0    0              0  ...      0   \n",
       "3             0              0              0    0              0  ...      0   \n",
       "4             0              0              0    0              0  ...      0   \n",
       "\n",
       "   Delivery  Irani Cafee  Dessert Parlor  Sweet Shop  Food Court  Pop Up  \\\n",
       "0         0            0               0           0           0       0   \n",
       "1         0            0               0           0           0       0   \n",
       "2         0            0               0           0           0       0   \n",
       "3         0            0               0           0           0       0   \n",
       "4         0            0               0           0           0       0   \n",
       "\n",
       "   Mess  Pub  Club  \n",
       "0     0    0     0  \n",
       "1     0    0     0  \n",
       "2     0    0     0  \n",
       "3     0    0     0  \n",
       "4     0    0     0  \n",
       "\n",
       "[5 rows x 26 columns]"
      ]
     },
     "execution_count": 59,
     "metadata": {},
     "output_type": "execute_result"
    }
   ],
   "source": [
    "rest_df = pd.DataFrame(df['rest_type'])\n",
    "rts = list(rest_df.rest_type.str.split(\", \"))\n",
    "unique_rts = list(set([rt for sub_list in rts for rt in sub_list]))\n",
    "\n",
    "for rt in unique_rts:\n",
    "    rest_df[rt] = int(0)\n",
    "    \n",
    "rest_df.head()"
   ]
  },
  {
   "cell_type": "code",
   "execution_count": 60,
   "id": "norman-trail",
   "metadata": {
    "scrolled": true
   },
   "outputs": [],
   "source": [
    "count = 0\n",
    "for i in rts:\n",
    "    rest_df.loc[count, i] = int(1)       \n",
    "    count+=1"
   ]
  },
  {
   "cell_type": "code",
   "execution_count": 61,
   "id": "wicked-literature",
   "metadata": {},
   "outputs": [
    {
     "data": {
      "text/html": [
       "<div>\n",
       "<style scoped>\n",
       "    .dataframe tbody tr th:only-of-type {\n",
       "        vertical-align: middle;\n",
       "    }\n",
       "\n",
       "    .dataframe tbody tr th {\n",
       "        vertical-align: top;\n",
       "    }\n",
       "\n",
       "    .dataframe thead th {\n",
       "        text-align: right;\n",
       "    }\n",
       "</style>\n",
       "<table border=\"1\" class=\"dataframe\">\n",
       "  <thead>\n",
       "    <tr style=\"text-align: right;\">\n",
       "      <th></th>\n",
       "      <th>rest_type</th>\n",
       "      <th>Dhaba</th>\n",
       "      <th>Quick Bites</th>\n",
       "      <th>Food Truck</th>\n",
       "      <th>Meat Shop</th>\n",
       "      <th>Microbrewery</th>\n",
       "      <th>Beverage Shop</th>\n",
       "      <th>Confectionery</th>\n",
       "      <th>Bar</th>\n",
       "      <th>Casual Dining</th>\n",
       "      <th>...</th>\n",
       "      <th>Kiosk</th>\n",
       "      <th>Delivery</th>\n",
       "      <th>Irani Cafee</th>\n",
       "      <th>Dessert Parlor</th>\n",
       "      <th>Sweet Shop</th>\n",
       "      <th>Food Court</th>\n",
       "      <th>Pop Up</th>\n",
       "      <th>Mess</th>\n",
       "      <th>Pub</th>\n",
       "      <th>Club</th>\n",
       "    </tr>\n",
       "  </thead>\n",
       "  <tbody>\n",
       "    <tr>\n",
       "      <th>0</th>\n",
       "      <td>Casual Dining</td>\n",
       "      <td>0</td>\n",
       "      <td>0</td>\n",
       "      <td>0</td>\n",
       "      <td>0</td>\n",
       "      <td>0</td>\n",
       "      <td>0</td>\n",
       "      <td>0</td>\n",
       "      <td>0</td>\n",
       "      <td>1</td>\n",
       "      <td>...</td>\n",
       "      <td>0</td>\n",
       "      <td>0</td>\n",
       "      <td>0</td>\n",
       "      <td>0</td>\n",
       "      <td>0</td>\n",
       "      <td>0</td>\n",
       "      <td>0</td>\n",
       "      <td>0</td>\n",
       "      <td>0</td>\n",
       "      <td>0</td>\n",
       "    </tr>\n",
       "    <tr>\n",
       "      <th>1</th>\n",
       "      <td>Casual Dining</td>\n",
       "      <td>0</td>\n",
       "      <td>0</td>\n",
       "      <td>0</td>\n",
       "      <td>0</td>\n",
       "      <td>0</td>\n",
       "      <td>0</td>\n",
       "      <td>0</td>\n",
       "      <td>0</td>\n",
       "      <td>1</td>\n",
       "      <td>...</td>\n",
       "      <td>0</td>\n",
       "      <td>0</td>\n",
       "      <td>0</td>\n",
       "      <td>0</td>\n",
       "      <td>0</td>\n",
       "      <td>0</td>\n",
       "      <td>0</td>\n",
       "      <td>0</td>\n",
       "      <td>0</td>\n",
       "      <td>0</td>\n",
       "    </tr>\n",
       "    <tr>\n",
       "      <th>2</th>\n",
       "      <td>Cafe, Casual Dining</td>\n",
       "      <td>0</td>\n",
       "      <td>0</td>\n",
       "      <td>0</td>\n",
       "      <td>0</td>\n",
       "      <td>0</td>\n",
       "      <td>0</td>\n",
       "      <td>0</td>\n",
       "      <td>0</td>\n",
       "      <td>1</td>\n",
       "      <td>...</td>\n",
       "      <td>0</td>\n",
       "      <td>0</td>\n",
       "      <td>0</td>\n",
       "      <td>0</td>\n",
       "      <td>0</td>\n",
       "      <td>0</td>\n",
       "      <td>0</td>\n",
       "      <td>0</td>\n",
       "      <td>0</td>\n",
       "      <td>0</td>\n",
       "    </tr>\n",
       "    <tr>\n",
       "      <th>3</th>\n",
       "      <td>Quick Bites</td>\n",
       "      <td>0</td>\n",
       "      <td>1</td>\n",
       "      <td>0</td>\n",
       "      <td>0</td>\n",
       "      <td>0</td>\n",
       "      <td>0</td>\n",
       "      <td>0</td>\n",
       "      <td>0</td>\n",
       "      <td>0</td>\n",
       "      <td>...</td>\n",
       "      <td>0</td>\n",
       "      <td>0</td>\n",
       "      <td>0</td>\n",
       "      <td>0</td>\n",
       "      <td>0</td>\n",
       "      <td>0</td>\n",
       "      <td>0</td>\n",
       "      <td>0</td>\n",
       "      <td>0</td>\n",
       "      <td>0</td>\n",
       "    </tr>\n",
       "    <tr>\n",
       "      <th>4</th>\n",
       "      <td>Casual Dining</td>\n",
       "      <td>0</td>\n",
       "      <td>0</td>\n",
       "      <td>0</td>\n",
       "      <td>0</td>\n",
       "      <td>0</td>\n",
       "      <td>0</td>\n",
       "      <td>0</td>\n",
       "      <td>0</td>\n",
       "      <td>1</td>\n",
       "      <td>...</td>\n",
       "      <td>0</td>\n",
       "      <td>0</td>\n",
       "      <td>0</td>\n",
       "      <td>0</td>\n",
       "      <td>0</td>\n",
       "      <td>0</td>\n",
       "      <td>0</td>\n",
       "      <td>0</td>\n",
       "      <td>0</td>\n",
       "      <td>0</td>\n",
       "    </tr>\n",
       "  </tbody>\n",
       "</table>\n",
       "<p>5 rows × 26 columns</p>\n",
       "</div>"
      ],
      "text/plain": [
       "             rest_type  Dhaba  Quick Bites  Food Truck  Meat Shop  \\\n",
       "0        Casual Dining      0            0           0          0   \n",
       "1        Casual Dining      0            0           0          0   \n",
       "2  Cafe, Casual Dining      0            0           0          0   \n",
       "3          Quick Bites      0            1           0          0   \n",
       "4        Casual Dining      0            0           0          0   \n",
       "\n",
       "   Microbrewery  Beverage Shop  Confectionery  Bar  Casual Dining  ...  Kiosk  \\\n",
       "0             0              0              0    0              1  ...      0   \n",
       "1             0              0              0    0              1  ...      0   \n",
       "2             0              0              0    0              1  ...      0   \n",
       "3             0              0              0    0              0  ...      0   \n",
       "4             0              0              0    0              1  ...      0   \n",
       "\n",
       "   Delivery  Irani Cafee  Dessert Parlor  Sweet Shop  Food Court  Pop Up  \\\n",
       "0         0            0               0           0           0       0   \n",
       "1         0            0               0           0           0       0   \n",
       "2         0            0               0           0           0       0   \n",
       "3         0            0               0           0           0       0   \n",
       "4         0            0               0           0           0       0   \n",
       "\n",
       "   Mess  Pub  Club  \n",
       "0     0    0     0  \n",
       "1     0    0     0  \n",
       "2     0    0     0  \n",
       "3     0    0     0  \n",
       "4     0    0     0  \n",
       "\n",
       "[5 rows x 26 columns]"
      ]
     },
     "execution_count": 61,
     "metadata": {},
     "output_type": "execute_result"
    }
   ],
   "source": [
    "rest_df.head()"
   ]
  },
  {
   "cell_type": "code",
   "execution_count": 62,
   "id": "excess-medium",
   "metadata": {},
   "outputs": [
    {
     "data": {
      "text/html": [
       "<div>\n",
       "<style scoped>\n",
       "    .dataframe tbody tr th:only-of-type {\n",
       "        vertical-align: middle;\n",
       "    }\n",
       "\n",
       "    .dataframe tbody tr th {\n",
       "        vertical-align: top;\n",
       "    }\n",
       "\n",
       "    .dataframe thead th {\n",
       "        text-align: right;\n",
       "    }\n",
       "</style>\n",
       "<table border=\"1\" class=\"dataframe\">\n",
       "  <thead>\n",
       "    <tr style=\"text-align: right;\">\n",
       "      <th></th>\n",
       "      <th>Dhaba</th>\n",
       "      <th>Quick Bites</th>\n",
       "      <th>Food Truck</th>\n",
       "      <th>Meat Shop</th>\n",
       "      <th>Microbrewery</th>\n",
       "      <th>Beverage Shop</th>\n",
       "      <th>Confectionery</th>\n",
       "      <th>Bar</th>\n",
       "      <th>Casual Dining</th>\n",
       "      <th>Fine Dining</th>\n",
       "      <th>...</th>\n",
       "      <th>Kiosk</th>\n",
       "      <th>Delivery</th>\n",
       "      <th>Irani Cafee</th>\n",
       "      <th>Dessert Parlor</th>\n",
       "      <th>Sweet Shop</th>\n",
       "      <th>Food Court</th>\n",
       "      <th>Pop Up</th>\n",
       "      <th>Mess</th>\n",
       "      <th>Pub</th>\n",
       "      <th>Club</th>\n",
       "    </tr>\n",
       "  </thead>\n",
       "  <tbody>\n",
       "    <tr>\n",
       "      <th>0</th>\n",
       "      <td>0</td>\n",
       "      <td>0</td>\n",
       "      <td>0</td>\n",
       "      <td>0</td>\n",
       "      <td>0</td>\n",
       "      <td>0</td>\n",
       "      <td>0</td>\n",
       "      <td>0</td>\n",
       "      <td>1</td>\n",
       "      <td>0</td>\n",
       "      <td>...</td>\n",
       "      <td>0</td>\n",
       "      <td>0</td>\n",
       "      <td>0</td>\n",
       "      <td>0</td>\n",
       "      <td>0</td>\n",
       "      <td>0</td>\n",
       "      <td>0</td>\n",
       "      <td>0</td>\n",
       "      <td>0</td>\n",
       "      <td>0</td>\n",
       "    </tr>\n",
       "    <tr>\n",
       "      <th>1</th>\n",
       "      <td>0</td>\n",
       "      <td>0</td>\n",
       "      <td>0</td>\n",
       "      <td>0</td>\n",
       "      <td>0</td>\n",
       "      <td>0</td>\n",
       "      <td>0</td>\n",
       "      <td>0</td>\n",
       "      <td>1</td>\n",
       "      <td>0</td>\n",
       "      <td>...</td>\n",
       "      <td>0</td>\n",
       "      <td>0</td>\n",
       "      <td>0</td>\n",
       "      <td>0</td>\n",
       "      <td>0</td>\n",
       "      <td>0</td>\n",
       "      <td>0</td>\n",
       "      <td>0</td>\n",
       "      <td>0</td>\n",
       "      <td>0</td>\n",
       "    </tr>\n",
       "    <tr>\n",
       "      <th>2</th>\n",
       "      <td>0</td>\n",
       "      <td>0</td>\n",
       "      <td>0</td>\n",
       "      <td>0</td>\n",
       "      <td>0</td>\n",
       "      <td>0</td>\n",
       "      <td>0</td>\n",
       "      <td>0</td>\n",
       "      <td>1</td>\n",
       "      <td>0</td>\n",
       "      <td>...</td>\n",
       "      <td>0</td>\n",
       "      <td>0</td>\n",
       "      <td>0</td>\n",
       "      <td>0</td>\n",
       "      <td>0</td>\n",
       "      <td>0</td>\n",
       "      <td>0</td>\n",
       "      <td>0</td>\n",
       "      <td>0</td>\n",
       "      <td>0</td>\n",
       "    </tr>\n",
       "    <tr>\n",
       "      <th>3</th>\n",
       "      <td>0</td>\n",
       "      <td>1</td>\n",
       "      <td>0</td>\n",
       "      <td>0</td>\n",
       "      <td>0</td>\n",
       "      <td>0</td>\n",
       "      <td>0</td>\n",
       "      <td>0</td>\n",
       "      <td>0</td>\n",
       "      <td>0</td>\n",
       "      <td>...</td>\n",
       "      <td>0</td>\n",
       "      <td>0</td>\n",
       "      <td>0</td>\n",
       "      <td>0</td>\n",
       "      <td>0</td>\n",
       "      <td>0</td>\n",
       "      <td>0</td>\n",
       "      <td>0</td>\n",
       "      <td>0</td>\n",
       "      <td>0</td>\n",
       "    </tr>\n",
       "    <tr>\n",
       "      <th>4</th>\n",
       "      <td>0</td>\n",
       "      <td>0</td>\n",
       "      <td>0</td>\n",
       "      <td>0</td>\n",
       "      <td>0</td>\n",
       "      <td>0</td>\n",
       "      <td>0</td>\n",
       "      <td>0</td>\n",
       "      <td>1</td>\n",
       "      <td>0</td>\n",
       "      <td>...</td>\n",
       "      <td>0</td>\n",
       "      <td>0</td>\n",
       "      <td>0</td>\n",
       "      <td>0</td>\n",
       "      <td>0</td>\n",
       "      <td>0</td>\n",
       "      <td>0</td>\n",
       "      <td>0</td>\n",
       "      <td>0</td>\n",
       "      <td>0</td>\n",
       "    </tr>\n",
       "  </tbody>\n",
       "</table>\n",
       "<p>5 rows × 25 columns</p>\n",
       "</div>"
      ],
      "text/plain": [
       "   Dhaba  Quick Bites  Food Truck  Meat Shop  Microbrewery  Beverage Shop  \\\n",
       "0      0            0           0          0             0              0   \n",
       "1      0            0           0          0             0              0   \n",
       "2      0            0           0          0             0              0   \n",
       "3      0            1           0          0             0              0   \n",
       "4      0            0           0          0             0              0   \n",
       "\n",
       "   Confectionery  Bar  Casual Dining  Fine Dining  ...  Kiosk  Delivery  \\\n",
       "0              0    0              1            0  ...      0         0   \n",
       "1              0    0              1            0  ...      0         0   \n",
       "2              0    0              1            0  ...      0         0   \n",
       "3              0    0              0            0  ...      0         0   \n",
       "4              0    0              1            0  ...      0         0   \n",
       "\n",
       "   Irani Cafee  Dessert Parlor  Sweet Shop  Food Court  Pop Up  Mess  Pub  \\\n",
       "0            0               0           0           0       0     0    0   \n",
       "1            0               0           0           0       0     0    0   \n",
       "2            0               0           0           0       0     0    0   \n",
       "3            0               0           0           0       0     0    0   \n",
       "4            0               0           0           0       0     0    0   \n",
       "\n",
       "   Club  \n",
       "0     0  \n",
       "1     0  \n",
       "2     0  \n",
       "3     0  \n",
       "4     0  \n",
       "\n",
       "[5 rows x 25 columns]"
      ]
     },
     "execution_count": 62,
     "metadata": {},
     "output_type": "execute_result"
    }
   ],
   "source": [
    "rest_df.drop(['rest_type'], axis = 1, inplace=True)\n",
    "rest_df.head()"
   ]
  },
  {
   "cell_type": "markdown",
   "id": "aboriginal-symphony",
   "metadata": {},
   "source": [
    "### Cuisines Column"
   ]
  },
  {
   "cell_type": "code",
   "execution_count": 63,
   "id": "consistent-redhead",
   "metadata": {},
   "outputs": [
    {
     "data": {
      "text/html": [
       "<div>\n",
       "<style scoped>\n",
       "    .dataframe tbody tr th:only-of-type {\n",
       "        vertical-align: middle;\n",
       "    }\n",
       "\n",
       "    .dataframe tbody tr th {\n",
       "        vertical-align: top;\n",
       "    }\n",
       "\n",
       "    .dataframe thead th {\n",
       "        text-align: right;\n",
       "    }\n",
       "</style>\n",
       "<table border=\"1\" class=\"dataframe\">\n",
       "  <thead>\n",
       "    <tr style=\"text-align: right;\">\n",
       "      <th></th>\n",
       "      <th>cuisines</th>\n",
       "      <th>Tamil</th>\n",
       "      <th>Bar Food</th>\n",
       "      <th>Konkan</th>\n",
       "      <th>Indonesian</th>\n",
       "      <th>Turkish</th>\n",
       "      <th>Biryani</th>\n",
       "      <th>Tibetan</th>\n",
       "      <th>Salad</th>\n",
       "      <th>Mithai</th>\n",
       "      <th>...</th>\n",
       "      <th>Juices</th>\n",
       "      <th>Andhra</th>\n",
       "      <th>Kerala</th>\n",
       "      <th>Sandwich</th>\n",
       "      <th>Afghan</th>\n",
       "      <th>Lucknowi</th>\n",
       "      <th>Tex-Mex</th>\n",
       "      <th>Spanish</th>\n",
       "      <th>Russian</th>\n",
       "      <th>Healthy Food</th>\n",
       "    </tr>\n",
       "  </thead>\n",
       "  <tbody>\n",
       "    <tr>\n",
       "      <th>0</th>\n",
       "      <td>North Indian, Mughlai, Chinese</td>\n",
       "      <td>0</td>\n",
       "      <td>0</td>\n",
       "      <td>0</td>\n",
       "      <td>0</td>\n",
       "      <td>0</td>\n",
       "      <td>0</td>\n",
       "      <td>0</td>\n",
       "      <td>0</td>\n",
       "      <td>0</td>\n",
       "      <td>...</td>\n",
       "      <td>0</td>\n",
       "      <td>0</td>\n",
       "      <td>0</td>\n",
       "      <td>0</td>\n",
       "      <td>0</td>\n",
       "      <td>0</td>\n",
       "      <td>0</td>\n",
       "      <td>0</td>\n",
       "      <td>0</td>\n",
       "      <td>0</td>\n",
       "    </tr>\n",
       "    <tr>\n",
       "      <th>1</th>\n",
       "      <td>Chinese, North Indian, Thai</td>\n",
       "      <td>0</td>\n",
       "      <td>0</td>\n",
       "      <td>0</td>\n",
       "      <td>0</td>\n",
       "      <td>0</td>\n",
       "      <td>0</td>\n",
       "      <td>0</td>\n",
       "      <td>0</td>\n",
       "      <td>0</td>\n",
       "      <td>...</td>\n",
       "      <td>0</td>\n",
       "      <td>0</td>\n",
       "      <td>0</td>\n",
       "      <td>0</td>\n",
       "      <td>0</td>\n",
       "      <td>0</td>\n",
       "      <td>0</td>\n",
       "      <td>0</td>\n",
       "      <td>0</td>\n",
       "      <td>0</td>\n",
       "    </tr>\n",
       "    <tr>\n",
       "      <th>2</th>\n",
       "      <td>Cafe, Mexican, Italian</td>\n",
       "      <td>0</td>\n",
       "      <td>0</td>\n",
       "      <td>0</td>\n",
       "      <td>0</td>\n",
       "      <td>0</td>\n",
       "      <td>0</td>\n",
       "      <td>0</td>\n",
       "      <td>0</td>\n",
       "      <td>0</td>\n",
       "      <td>...</td>\n",
       "      <td>0</td>\n",
       "      <td>0</td>\n",
       "      <td>0</td>\n",
       "      <td>0</td>\n",
       "      <td>0</td>\n",
       "      <td>0</td>\n",
       "      <td>0</td>\n",
       "      <td>0</td>\n",
       "      <td>0</td>\n",
       "      <td>0</td>\n",
       "    </tr>\n",
       "    <tr>\n",
       "      <th>3</th>\n",
       "      <td>South Indian, North Indian</td>\n",
       "      <td>0</td>\n",
       "      <td>0</td>\n",
       "      <td>0</td>\n",
       "      <td>0</td>\n",
       "      <td>0</td>\n",
       "      <td>0</td>\n",
       "      <td>0</td>\n",
       "      <td>0</td>\n",
       "      <td>0</td>\n",
       "      <td>...</td>\n",
       "      <td>0</td>\n",
       "      <td>0</td>\n",
       "      <td>0</td>\n",
       "      <td>0</td>\n",
       "      <td>0</td>\n",
       "      <td>0</td>\n",
       "      <td>0</td>\n",
       "      <td>0</td>\n",
       "      <td>0</td>\n",
       "      <td>0</td>\n",
       "    </tr>\n",
       "    <tr>\n",
       "      <th>4</th>\n",
       "      <td>North Indian, Rajasthani</td>\n",
       "      <td>0</td>\n",
       "      <td>0</td>\n",
       "      <td>0</td>\n",
       "      <td>0</td>\n",
       "      <td>0</td>\n",
       "      <td>0</td>\n",
       "      <td>0</td>\n",
       "      <td>0</td>\n",
       "      <td>0</td>\n",
       "      <td>...</td>\n",
       "      <td>0</td>\n",
       "      <td>0</td>\n",
       "      <td>0</td>\n",
       "      <td>0</td>\n",
       "      <td>0</td>\n",
       "      <td>0</td>\n",
       "      <td>0</td>\n",
       "      <td>0</td>\n",
       "      <td>0</td>\n",
       "      <td>0</td>\n",
       "    </tr>\n",
       "  </tbody>\n",
       "</table>\n",
       "<p>5 rows × 106 columns</p>\n",
       "</div>"
      ],
      "text/plain": [
       "                         cuisines  Tamil  Bar Food  Konkan  Indonesian  \\\n",
       "0  North Indian, Mughlai, Chinese      0         0       0           0   \n",
       "1     Chinese, North Indian, Thai      0         0       0           0   \n",
       "2          Cafe, Mexican, Italian      0         0       0           0   \n",
       "3      South Indian, North Indian      0         0       0           0   \n",
       "4        North Indian, Rajasthani      0         0       0           0   \n",
       "\n",
       "   Turkish  Biryani  Tibetan  Salad  Mithai  ...  Juices  Andhra  Kerala  \\\n",
       "0        0        0        0      0       0  ...       0       0       0   \n",
       "1        0        0        0      0       0  ...       0       0       0   \n",
       "2        0        0        0      0       0  ...       0       0       0   \n",
       "3        0        0        0      0       0  ...       0       0       0   \n",
       "4        0        0        0      0       0  ...       0       0       0   \n",
       "\n",
       "   Sandwich  Afghan  Lucknowi  Tex-Mex  Spanish  Russian  Healthy Food  \n",
       "0         0       0         0        0        0        0             0  \n",
       "1         0       0         0        0        0        0             0  \n",
       "2         0       0         0        0        0        0             0  \n",
       "3         0       0         0        0        0        0             0  \n",
       "4         0       0         0        0        0        0             0  \n",
       "\n",
       "[5 rows x 106 columns]"
      ]
     },
     "execution_count": 63,
     "metadata": {},
     "output_type": "execute_result"
    }
   ],
   "source": [
    "cuisines_df = pd.DataFrame(df['cuisines'])\n",
    "cuisines = list(cuisines_df.cuisines.str.split(\", \"))\n",
    "unique_cuisines = list(set([cs for sub_list in cuisines for cs in sub_list]))\n",
    "unique_cuisines.remove(\"Cafe\") \n",
    "unique_cuisines.remove(\"Bakery\")\n",
    "\n",
    "for cn in unique_cuisines:\n",
    "    cuisines_df[cn] = 0   \n",
    "    \n",
    "cuisines_df.head()"
   ]
  },
  {
   "cell_type": "code",
   "execution_count": 64,
   "id": "intended-history",
   "metadata": {},
   "outputs": [],
   "source": [
    "correct_cn = []\n",
    "for i in cuisines:\n",
    "    if \"Cafe\" in i:\n",
    "        i.remove(\"Cafe\") \n",
    "    if \"Bakery\" in i:\n",
    "        i.remove(\"Bakery\")\n",
    "    correct_cn.append(list(set(i)))"
   ]
  },
  {
   "cell_type": "code",
   "execution_count": 65,
   "id": "knowing-stevens",
   "metadata": {},
   "outputs": [],
   "source": [
    "count = 0\n",
    "for i in correct_cn:\n",
    "    cuisines_df.loc[count, i] = int(1)\n",
    "    count+=1"
   ]
  },
  {
   "cell_type": "code",
   "execution_count": 66,
   "id": "substantial-entity",
   "metadata": {},
   "outputs": [
    {
     "data": {
      "text/html": [
       "<div>\n",
       "<style scoped>\n",
       "    .dataframe tbody tr th:only-of-type {\n",
       "        vertical-align: middle;\n",
       "    }\n",
       "\n",
       "    .dataframe tbody tr th {\n",
       "        vertical-align: top;\n",
       "    }\n",
       "\n",
       "    .dataframe thead th {\n",
       "        text-align: right;\n",
       "    }\n",
       "</style>\n",
       "<table border=\"1\" class=\"dataframe\">\n",
       "  <thead>\n",
       "    <tr style=\"text-align: right;\">\n",
       "      <th></th>\n",
       "      <th>cuisines</th>\n",
       "      <th>Tamil</th>\n",
       "      <th>Bar Food</th>\n",
       "      <th>Konkan</th>\n",
       "      <th>Indonesian</th>\n",
       "      <th>Turkish</th>\n",
       "      <th>Biryani</th>\n",
       "      <th>Tibetan</th>\n",
       "      <th>Salad</th>\n",
       "      <th>Mithai</th>\n",
       "      <th>...</th>\n",
       "      <th>Juices</th>\n",
       "      <th>Andhra</th>\n",
       "      <th>Kerala</th>\n",
       "      <th>Sandwich</th>\n",
       "      <th>Afghan</th>\n",
       "      <th>Lucknowi</th>\n",
       "      <th>Tex-Mex</th>\n",
       "      <th>Spanish</th>\n",
       "      <th>Russian</th>\n",
       "      <th>Healthy Food</th>\n",
       "    </tr>\n",
       "  </thead>\n",
       "  <tbody>\n",
       "    <tr>\n",
       "      <th>0</th>\n",
       "      <td>North Indian, Mughlai, Chinese</td>\n",
       "      <td>0</td>\n",
       "      <td>0</td>\n",
       "      <td>0</td>\n",
       "      <td>0</td>\n",
       "      <td>0</td>\n",
       "      <td>0</td>\n",
       "      <td>0</td>\n",
       "      <td>0</td>\n",
       "      <td>0</td>\n",
       "      <td>...</td>\n",
       "      <td>0</td>\n",
       "      <td>0</td>\n",
       "      <td>0</td>\n",
       "      <td>0</td>\n",
       "      <td>0</td>\n",
       "      <td>0</td>\n",
       "      <td>0</td>\n",
       "      <td>0</td>\n",
       "      <td>0</td>\n",
       "      <td>0</td>\n",
       "    </tr>\n",
       "    <tr>\n",
       "      <th>1</th>\n",
       "      <td>Chinese, North Indian, Thai</td>\n",
       "      <td>0</td>\n",
       "      <td>0</td>\n",
       "      <td>0</td>\n",
       "      <td>0</td>\n",
       "      <td>0</td>\n",
       "      <td>0</td>\n",
       "      <td>0</td>\n",
       "      <td>0</td>\n",
       "      <td>0</td>\n",
       "      <td>...</td>\n",
       "      <td>0</td>\n",
       "      <td>0</td>\n",
       "      <td>0</td>\n",
       "      <td>0</td>\n",
       "      <td>0</td>\n",
       "      <td>0</td>\n",
       "      <td>0</td>\n",
       "      <td>0</td>\n",
       "      <td>0</td>\n",
       "      <td>0</td>\n",
       "    </tr>\n",
       "    <tr>\n",
       "      <th>2</th>\n",
       "      <td>Cafe, Mexican, Italian</td>\n",
       "      <td>0</td>\n",
       "      <td>0</td>\n",
       "      <td>0</td>\n",
       "      <td>0</td>\n",
       "      <td>0</td>\n",
       "      <td>0</td>\n",
       "      <td>0</td>\n",
       "      <td>0</td>\n",
       "      <td>0</td>\n",
       "      <td>...</td>\n",
       "      <td>0</td>\n",
       "      <td>0</td>\n",
       "      <td>0</td>\n",
       "      <td>0</td>\n",
       "      <td>0</td>\n",
       "      <td>0</td>\n",
       "      <td>0</td>\n",
       "      <td>0</td>\n",
       "      <td>0</td>\n",
       "      <td>0</td>\n",
       "    </tr>\n",
       "    <tr>\n",
       "      <th>3</th>\n",
       "      <td>South Indian, North Indian</td>\n",
       "      <td>0</td>\n",
       "      <td>0</td>\n",
       "      <td>0</td>\n",
       "      <td>0</td>\n",
       "      <td>0</td>\n",
       "      <td>0</td>\n",
       "      <td>0</td>\n",
       "      <td>0</td>\n",
       "      <td>0</td>\n",
       "      <td>...</td>\n",
       "      <td>0</td>\n",
       "      <td>0</td>\n",
       "      <td>0</td>\n",
       "      <td>0</td>\n",
       "      <td>0</td>\n",
       "      <td>0</td>\n",
       "      <td>0</td>\n",
       "      <td>0</td>\n",
       "      <td>0</td>\n",
       "      <td>0</td>\n",
       "    </tr>\n",
       "    <tr>\n",
       "      <th>4</th>\n",
       "      <td>North Indian, Rajasthani</td>\n",
       "      <td>0</td>\n",
       "      <td>0</td>\n",
       "      <td>0</td>\n",
       "      <td>0</td>\n",
       "      <td>0</td>\n",
       "      <td>0</td>\n",
       "      <td>0</td>\n",
       "      <td>0</td>\n",
       "      <td>0</td>\n",
       "      <td>...</td>\n",
       "      <td>0</td>\n",
       "      <td>0</td>\n",
       "      <td>0</td>\n",
       "      <td>0</td>\n",
       "      <td>0</td>\n",
       "      <td>0</td>\n",
       "      <td>0</td>\n",
       "      <td>0</td>\n",
       "      <td>0</td>\n",
       "      <td>0</td>\n",
       "    </tr>\n",
       "  </tbody>\n",
       "</table>\n",
       "<p>5 rows × 106 columns</p>\n",
       "</div>"
      ],
      "text/plain": [
       "                         cuisines  Tamil  Bar Food  Konkan  Indonesian  \\\n",
       "0  North Indian, Mughlai, Chinese      0         0       0           0   \n",
       "1     Chinese, North Indian, Thai      0         0       0           0   \n",
       "2          Cafe, Mexican, Italian      0         0       0           0   \n",
       "3      South Indian, North Indian      0         0       0           0   \n",
       "4        North Indian, Rajasthani      0         0       0           0   \n",
       "\n",
       "   Turkish  Biryani  Tibetan  Salad  Mithai  ...  Juices  Andhra  Kerala  \\\n",
       "0        0        0        0      0       0  ...       0       0       0   \n",
       "1        0        0        0      0       0  ...       0       0       0   \n",
       "2        0        0        0      0       0  ...       0       0       0   \n",
       "3        0        0        0      0       0  ...       0       0       0   \n",
       "4        0        0        0      0       0  ...       0       0       0   \n",
       "\n",
       "   Sandwich  Afghan  Lucknowi  Tex-Mex  Spanish  Russian  Healthy Food  \n",
       "0         0       0         0        0        0        0             0  \n",
       "1         0       0         0        0        0        0             0  \n",
       "2         0       0         0        0        0        0             0  \n",
       "3         0       0         0        0        0        0             0  \n",
       "4         0       0         0        0        0        0             0  \n",
       "\n",
       "[5 rows x 106 columns]"
      ]
     },
     "execution_count": 66,
     "metadata": {},
     "output_type": "execute_result"
    }
   ],
   "source": [
    "cuisines_df.head()"
   ]
  },
  {
   "cell_type": "code",
   "execution_count": 67,
   "id": "peaceful-screw",
   "metadata": {},
   "outputs": [
    {
     "data": {
      "text/html": [
       "<div>\n",
       "<style scoped>\n",
       "    .dataframe tbody tr th:only-of-type {\n",
       "        vertical-align: middle;\n",
       "    }\n",
       "\n",
       "    .dataframe tbody tr th {\n",
       "        vertical-align: top;\n",
       "    }\n",
       "\n",
       "    .dataframe thead th {\n",
       "        text-align: right;\n",
       "    }\n",
       "</style>\n",
       "<table border=\"1\" class=\"dataframe\">\n",
       "  <thead>\n",
       "    <tr style=\"text-align: right;\">\n",
       "      <th></th>\n",
       "      <th>Tamil</th>\n",
       "      <th>Bar Food</th>\n",
       "      <th>Konkan</th>\n",
       "      <th>Indonesian</th>\n",
       "      <th>Turkish</th>\n",
       "      <th>Biryani</th>\n",
       "      <th>Tibetan</th>\n",
       "      <th>Salad</th>\n",
       "      <th>Mithai</th>\n",
       "      <th>Rolls</th>\n",
       "      <th>...</th>\n",
       "      <th>Juices</th>\n",
       "      <th>Andhra</th>\n",
       "      <th>Kerala</th>\n",
       "      <th>Sandwich</th>\n",
       "      <th>Afghan</th>\n",
       "      <th>Lucknowi</th>\n",
       "      <th>Tex-Mex</th>\n",
       "      <th>Spanish</th>\n",
       "      <th>Russian</th>\n",
       "      <th>Healthy Food</th>\n",
       "    </tr>\n",
       "  </thead>\n",
       "  <tbody>\n",
       "    <tr>\n",
       "      <th>0</th>\n",
       "      <td>0</td>\n",
       "      <td>0</td>\n",
       "      <td>0</td>\n",
       "      <td>0</td>\n",
       "      <td>0</td>\n",
       "      <td>0</td>\n",
       "      <td>0</td>\n",
       "      <td>0</td>\n",
       "      <td>0</td>\n",
       "      <td>0</td>\n",
       "      <td>...</td>\n",
       "      <td>0</td>\n",
       "      <td>0</td>\n",
       "      <td>0</td>\n",
       "      <td>0</td>\n",
       "      <td>0</td>\n",
       "      <td>0</td>\n",
       "      <td>0</td>\n",
       "      <td>0</td>\n",
       "      <td>0</td>\n",
       "      <td>0</td>\n",
       "    </tr>\n",
       "    <tr>\n",
       "      <th>1</th>\n",
       "      <td>0</td>\n",
       "      <td>0</td>\n",
       "      <td>0</td>\n",
       "      <td>0</td>\n",
       "      <td>0</td>\n",
       "      <td>0</td>\n",
       "      <td>0</td>\n",
       "      <td>0</td>\n",
       "      <td>0</td>\n",
       "      <td>0</td>\n",
       "      <td>...</td>\n",
       "      <td>0</td>\n",
       "      <td>0</td>\n",
       "      <td>0</td>\n",
       "      <td>0</td>\n",
       "      <td>0</td>\n",
       "      <td>0</td>\n",
       "      <td>0</td>\n",
       "      <td>0</td>\n",
       "      <td>0</td>\n",
       "      <td>0</td>\n",
       "    </tr>\n",
       "    <tr>\n",
       "      <th>2</th>\n",
       "      <td>0</td>\n",
       "      <td>0</td>\n",
       "      <td>0</td>\n",
       "      <td>0</td>\n",
       "      <td>0</td>\n",
       "      <td>0</td>\n",
       "      <td>0</td>\n",
       "      <td>0</td>\n",
       "      <td>0</td>\n",
       "      <td>0</td>\n",
       "      <td>...</td>\n",
       "      <td>0</td>\n",
       "      <td>0</td>\n",
       "      <td>0</td>\n",
       "      <td>0</td>\n",
       "      <td>0</td>\n",
       "      <td>0</td>\n",
       "      <td>0</td>\n",
       "      <td>0</td>\n",
       "      <td>0</td>\n",
       "      <td>0</td>\n",
       "    </tr>\n",
       "    <tr>\n",
       "      <th>3</th>\n",
       "      <td>0</td>\n",
       "      <td>0</td>\n",
       "      <td>0</td>\n",
       "      <td>0</td>\n",
       "      <td>0</td>\n",
       "      <td>0</td>\n",
       "      <td>0</td>\n",
       "      <td>0</td>\n",
       "      <td>0</td>\n",
       "      <td>0</td>\n",
       "      <td>...</td>\n",
       "      <td>0</td>\n",
       "      <td>0</td>\n",
       "      <td>0</td>\n",
       "      <td>0</td>\n",
       "      <td>0</td>\n",
       "      <td>0</td>\n",
       "      <td>0</td>\n",
       "      <td>0</td>\n",
       "      <td>0</td>\n",
       "      <td>0</td>\n",
       "    </tr>\n",
       "    <tr>\n",
       "      <th>4</th>\n",
       "      <td>0</td>\n",
       "      <td>0</td>\n",
       "      <td>0</td>\n",
       "      <td>0</td>\n",
       "      <td>0</td>\n",
       "      <td>0</td>\n",
       "      <td>0</td>\n",
       "      <td>0</td>\n",
       "      <td>0</td>\n",
       "      <td>0</td>\n",
       "      <td>...</td>\n",
       "      <td>0</td>\n",
       "      <td>0</td>\n",
       "      <td>0</td>\n",
       "      <td>0</td>\n",
       "      <td>0</td>\n",
       "      <td>0</td>\n",
       "      <td>0</td>\n",
       "      <td>0</td>\n",
       "      <td>0</td>\n",
       "      <td>0</td>\n",
       "    </tr>\n",
       "  </tbody>\n",
       "</table>\n",
       "<p>5 rows × 105 columns</p>\n",
       "</div>"
      ],
      "text/plain": [
       "   Tamil  Bar Food  Konkan  Indonesian  Turkish  Biryani  Tibetan  Salad  \\\n",
       "0      0         0       0           0        0        0        0      0   \n",
       "1      0         0       0           0        0        0        0      0   \n",
       "2      0         0       0           0        0        0        0      0   \n",
       "3      0         0       0           0        0        0        0      0   \n",
       "4      0         0       0           0        0        0        0      0   \n",
       "\n",
       "   Mithai  Rolls  ...  Juices  Andhra  Kerala  Sandwich  Afghan  Lucknowi  \\\n",
       "0       0      0  ...       0       0       0         0       0         0   \n",
       "1       0      0  ...       0       0       0         0       0         0   \n",
       "2       0      0  ...       0       0       0         0       0         0   \n",
       "3       0      0  ...       0       0       0         0       0         0   \n",
       "4       0      0  ...       0       0       0         0       0         0   \n",
       "\n",
       "   Tex-Mex  Spanish  Russian  Healthy Food  \n",
       "0        0        0        0             0  \n",
       "1        0        0        0             0  \n",
       "2        0        0        0             0  \n",
       "3        0        0        0             0  \n",
       "4        0        0        0             0  \n",
       "\n",
       "[5 rows x 105 columns]"
      ]
     },
     "execution_count": 67,
     "metadata": {},
     "output_type": "execute_result"
    }
   ],
   "source": [
    "cuisines_df.drop(['cuisines'], axis = 1, inplace=True)\n",
    "cuisines_df.head()"
   ]
  },
  {
   "cell_type": "markdown",
   "id": "prompt-joyce",
   "metadata": {},
   "source": [
    "#### Location Column"
   ]
  },
  {
   "cell_type": "code",
   "execution_count": 68,
   "id": "advised-hundred",
   "metadata": {},
   "outputs": [
    {
     "data": {
      "text/html": [
       "<div>\n",
       "<style scoped>\n",
       "    .dataframe tbody tr th:only-of-type {\n",
       "        vertical-align: middle;\n",
       "    }\n",
       "\n",
       "    .dataframe tbody tr th {\n",
       "        vertical-align: top;\n",
       "    }\n",
       "\n",
       "    .dataframe thead th {\n",
       "        text-align: right;\n",
       "    }\n",
       "</style>\n",
       "<table border=\"1\" class=\"dataframe\">\n",
       "  <thead>\n",
       "    <tr style=\"text-align: right;\">\n",
       "      <th></th>\n",
       "      <th>BTM</th>\n",
       "      <th>Banashankari</th>\n",
       "      <th>Banaswadi</th>\n",
       "      <th>Bannerghatta Road</th>\n",
       "      <th>Basavanagudi</th>\n",
       "      <th>Basaveshwara Nagar</th>\n",
       "      <th>Bellandur</th>\n",
       "      <th>Bommanahalli</th>\n",
       "      <th>Brigade Road</th>\n",
       "      <th>Brookefield</th>\n",
       "      <th>...</th>\n",
       "      <th>Ulsoor</th>\n",
       "      <th>Uttarahalli</th>\n",
       "      <th>Varthur Main Road, Whitefield</th>\n",
       "      <th>Vasanth Nagar</th>\n",
       "      <th>Vijay Nagar</th>\n",
       "      <th>West Bangalore</th>\n",
       "      <th>Whitefield</th>\n",
       "      <th>Wilson Garden</th>\n",
       "      <th>Yelahanka</th>\n",
       "      <th>Yeshwantpur</th>\n",
       "    </tr>\n",
       "  </thead>\n",
       "  <tbody>\n",
       "    <tr>\n",
       "      <th>0</th>\n",
       "      <td>0</td>\n",
       "      <td>1</td>\n",
       "      <td>0</td>\n",
       "      <td>0</td>\n",
       "      <td>0</td>\n",
       "      <td>0</td>\n",
       "      <td>0</td>\n",
       "      <td>0</td>\n",
       "      <td>0</td>\n",
       "      <td>0</td>\n",
       "      <td>...</td>\n",
       "      <td>0</td>\n",
       "      <td>0</td>\n",
       "      <td>0</td>\n",
       "      <td>0</td>\n",
       "      <td>0</td>\n",
       "      <td>0</td>\n",
       "      <td>0</td>\n",
       "      <td>0</td>\n",
       "      <td>0</td>\n",
       "      <td>0</td>\n",
       "    </tr>\n",
       "    <tr>\n",
       "      <th>1</th>\n",
       "      <td>0</td>\n",
       "      <td>1</td>\n",
       "      <td>0</td>\n",
       "      <td>0</td>\n",
       "      <td>0</td>\n",
       "      <td>0</td>\n",
       "      <td>0</td>\n",
       "      <td>0</td>\n",
       "      <td>0</td>\n",
       "      <td>0</td>\n",
       "      <td>...</td>\n",
       "      <td>0</td>\n",
       "      <td>0</td>\n",
       "      <td>0</td>\n",
       "      <td>0</td>\n",
       "      <td>0</td>\n",
       "      <td>0</td>\n",
       "      <td>0</td>\n",
       "      <td>0</td>\n",
       "      <td>0</td>\n",
       "      <td>0</td>\n",
       "    </tr>\n",
       "    <tr>\n",
       "      <th>2</th>\n",
       "      <td>0</td>\n",
       "      <td>1</td>\n",
       "      <td>0</td>\n",
       "      <td>0</td>\n",
       "      <td>0</td>\n",
       "      <td>0</td>\n",
       "      <td>0</td>\n",
       "      <td>0</td>\n",
       "      <td>0</td>\n",
       "      <td>0</td>\n",
       "      <td>...</td>\n",
       "      <td>0</td>\n",
       "      <td>0</td>\n",
       "      <td>0</td>\n",
       "      <td>0</td>\n",
       "      <td>0</td>\n",
       "      <td>0</td>\n",
       "      <td>0</td>\n",
       "      <td>0</td>\n",
       "      <td>0</td>\n",
       "      <td>0</td>\n",
       "    </tr>\n",
       "    <tr>\n",
       "      <th>3</th>\n",
       "      <td>0</td>\n",
       "      <td>1</td>\n",
       "      <td>0</td>\n",
       "      <td>0</td>\n",
       "      <td>0</td>\n",
       "      <td>0</td>\n",
       "      <td>0</td>\n",
       "      <td>0</td>\n",
       "      <td>0</td>\n",
       "      <td>0</td>\n",
       "      <td>...</td>\n",
       "      <td>0</td>\n",
       "      <td>0</td>\n",
       "      <td>0</td>\n",
       "      <td>0</td>\n",
       "      <td>0</td>\n",
       "      <td>0</td>\n",
       "      <td>0</td>\n",
       "      <td>0</td>\n",
       "      <td>0</td>\n",
       "      <td>0</td>\n",
       "    </tr>\n",
       "    <tr>\n",
       "      <th>4</th>\n",
       "      <td>0</td>\n",
       "      <td>0</td>\n",
       "      <td>0</td>\n",
       "      <td>0</td>\n",
       "      <td>1</td>\n",
       "      <td>0</td>\n",
       "      <td>0</td>\n",
       "      <td>0</td>\n",
       "      <td>0</td>\n",
       "      <td>0</td>\n",
       "      <td>...</td>\n",
       "      <td>0</td>\n",
       "      <td>0</td>\n",
       "      <td>0</td>\n",
       "      <td>0</td>\n",
       "      <td>0</td>\n",
       "      <td>0</td>\n",
       "      <td>0</td>\n",
       "      <td>0</td>\n",
       "      <td>0</td>\n",
       "      <td>0</td>\n",
       "    </tr>\n",
       "  </tbody>\n",
       "</table>\n",
       "<p>5 rows × 93 columns</p>\n",
       "</div>"
      ],
      "text/plain": [
       "   BTM  Banashankari  Banaswadi  Bannerghatta Road  Basavanagudi  \\\n",
       "0    0             1          0                  0             0   \n",
       "1    0             1          0                  0             0   \n",
       "2    0             1          0                  0             0   \n",
       "3    0             1          0                  0             0   \n",
       "4    0             0          0                  0             1   \n",
       "\n",
       "   Basaveshwara Nagar  Bellandur  Bommanahalli  Brigade Road  Brookefield  \\\n",
       "0                   0          0             0             0            0   \n",
       "1                   0          0             0             0            0   \n",
       "2                   0          0             0             0            0   \n",
       "3                   0          0             0             0            0   \n",
       "4                   0          0             0             0            0   \n",
       "\n",
       "   ...  Ulsoor  Uttarahalli  Varthur Main Road, Whitefield  Vasanth Nagar  \\\n",
       "0  ...       0            0                              0              0   \n",
       "1  ...       0            0                              0              0   \n",
       "2  ...       0            0                              0              0   \n",
       "3  ...       0            0                              0              0   \n",
       "4  ...       0            0                              0              0   \n",
       "\n",
       "   Vijay Nagar  West Bangalore  Whitefield  Wilson Garden  Yelahanka  \\\n",
       "0            0               0           0              0          0   \n",
       "1            0               0           0              0          0   \n",
       "2            0               0           0              0          0   \n",
       "3            0               0           0              0          0   \n",
       "4            0               0           0              0          0   \n",
       "\n",
       "   Yeshwantpur  \n",
       "0            0  \n",
       "1            0  \n",
       "2            0  \n",
       "3            0  \n",
       "4            0  \n",
       "\n",
       "[5 rows x 93 columns]"
      ]
     },
     "execution_count": 68,
     "metadata": {},
     "output_type": "execute_result"
    }
   ],
   "source": [
    "location_df = df['location']\n",
    "location_df = pd.get_dummies(location_df)\n",
    "location_df.head()"
   ]
  },
  {
   "cell_type": "markdown",
   "id": "hidden-rugby",
   "metadata": {},
   "source": [
    "#### Area Column"
   ]
  },
  {
   "cell_type": "code",
   "execution_count": 69,
   "id": "south-inspiration",
   "metadata": {},
   "outputs": [
    {
     "data": {
      "text/html": [
       "<div>\n",
       "<style scoped>\n",
       "    .dataframe tbody tr th:only-of-type {\n",
       "        vertical-align: middle;\n",
       "    }\n",
       "\n",
       "    .dataframe tbody tr th {\n",
       "        vertical-align: top;\n",
       "    }\n",
       "\n",
       "    .dataframe thead th {\n",
       "        text-align: right;\n",
       "    }\n",
       "</style>\n",
       "<table border=\"1\" class=\"dataframe\">\n",
       "  <thead>\n",
       "    <tr style=\"text-align: right;\">\n",
       "      <th></th>\n",
       "      <th>BTM</th>\n",
       "      <th>Banashankari</th>\n",
       "      <th>Bannerghatta Road</th>\n",
       "      <th>Basavanagudi</th>\n",
       "      <th>Bellandur</th>\n",
       "      <th>Brigade Road</th>\n",
       "      <th>Brookefield</th>\n",
       "      <th>Church Street</th>\n",
       "      <th>Electronic City</th>\n",
       "      <th>Frazer Town</th>\n",
       "      <th>...</th>\n",
       "      <th>Lavelle Road</th>\n",
       "      <th>MG Road</th>\n",
       "      <th>Malleshwaram</th>\n",
       "      <th>Marathahalli</th>\n",
       "      <th>New BEL Road</th>\n",
       "      <th>Old Airport Road</th>\n",
       "      <th>Rajajinagar</th>\n",
       "      <th>Residency Road</th>\n",
       "      <th>Sarjapur Road</th>\n",
       "      <th>Whitefield</th>\n",
       "    </tr>\n",
       "  </thead>\n",
       "  <tbody>\n",
       "    <tr>\n",
       "      <th>0</th>\n",
       "      <td>0</td>\n",
       "      <td>1</td>\n",
       "      <td>0</td>\n",
       "      <td>0</td>\n",
       "      <td>0</td>\n",
       "      <td>0</td>\n",
       "      <td>0</td>\n",
       "      <td>0</td>\n",
       "      <td>0</td>\n",
       "      <td>0</td>\n",
       "      <td>...</td>\n",
       "      <td>0</td>\n",
       "      <td>0</td>\n",
       "      <td>0</td>\n",
       "      <td>0</td>\n",
       "      <td>0</td>\n",
       "      <td>0</td>\n",
       "      <td>0</td>\n",
       "      <td>0</td>\n",
       "      <td>0</td>\n",
       "      <td>0</td>\n",
       "    </tr>\n",
       "    <tr>\n",
       "      <th>1</th>\n",
       "      <td>0</td>\n",
       "      <td>1</td>\n",
       "      <td>0</td>\n",
       "      <td>0</td>\n",
       "      <td>0</td>\n",
       "      <td>0</td>\n",
       "      <td>0</td>\n",
       "      <td>0</td>\n",
       "      <td>0</td>\n",
       "      <td>0</td>\n",
       "      <td>...</td>\n",
       "      <td>0</td>\n",
       "      <td>0</td>\n",
       "      <td>0</td>\n",
       "      <td>0</td>\n",
       "      <td>0</td>\n",
       "      <td>0</td>\n",
       "      <td>0</td>\n",
       "      <td>0</td>\n",
       "      <td>0</td>\n",
       "      <td>0</td>\n",
       "    </tr>\n",
       "    <tr>\n",
       "      <th>2</th>\n",
       "      <td>0</td>\n",
       "      <td>1</td>\n",
       "      <td>0</td>\n",
       "      <td>0</td>\n",
       "      <td>0</td>\n",
       "      <td>0</td>\n",
       "      <td>0</td>\n",
       "      <td>0</td>\n",
       "      <td>0</td>\n",
       "      <td>0</td>\n",
       "      <td>...</td>\n",
       "      <td>0</td>\n",
       "      <td>0</td>\n",
       "      <td>0</td>\n",
       "      <td>0</td>\n",
       "      <td>0</td>\n",
       "      <td>0</td>\n",
       "      <td>0</td>\n",
       "      <td>0</td>\n",
       "      <td>0</td>\n",
       "      <td>0</td>\n",
       "    </tr>\n",
       "    <tr>\n",
       "      <th>3</th>\n",
       "      <td>0</td>\n",
       "      <td>1</td>\n",
       "      <td>0</td>\n",
       "      <td>0</td>\n",
       "      <td>0</td>\n",
       "      <td>0</td>\n",
       "      <td>0</td>\n",
       "      <td>0</td>\n",
       "      <td>0</td>\n",
       "      <td>0</td>\n",
       "      <td>...</td>\n",
       "      <td>0</td>\n",
       "      <td>0</td>\n",
       "      <td>0</td>\n",
       "      <td>0</td>\n",
       "      <td>0</td>\n",
       "      <td>0</td>\n",
       "      <td>0</td>\n",
       "      <td>0</td>\n",
       "      <td>0</td>\n",
       "      <td>0</td>\n",
       "    </tr>\n",
       "    <tr>\n",
       "      <th>4</th>\n",
       "      <td>0</td>\n",
       "      <td>1</td>\n",
       "      <td>0</td>\n",
       "      <td>0</td>\n",
       "      <td>0</td>\n",
       "      <td>0</td>\n",
       "      <td>0</td>\n",
       "      <td>0</td>\n",
       "      <td>0</td>\n",
       "      <td>0</td>\n",
       "      <td>...</td>\n",
       "      <td>0</td>\n",
       "      <td>0</td>\n",
       "      <td>0</td>\n",
       "      <td>0</td>\n",
       "      <td>0</td>\n",
       "      <td>0</td>\n",
       "      <td>0</td>\n",
       "      <td>0</td>\n",
       "      <td>0</td>\n",
       "      <td>0</td>\n",
       "    </tr>\n",
       "  </tbody>\n",
       "</table>\n",
       "<p>5 rows × 30 columns</p>\n",
       "</div>"
      ],
      "text/plain": [
       "   BTM  Banashankari  Bannerghatta Road  Basavanagudi  Bellandur  \\\n",
       "0    0             1                  0             0          0   \n",
       "1    0             1                  0             0          0   \n",
       "2    0             1                  0             0          0   \n",
       "3    0             1                  0             0          0   \n",
       "4    0             1                  0             0          0   \n",
       "\n",
       "   Brigade Road  Brookefield  Church Street  Electronic City  Frazer Town  \\\n",
       "0             0            0              0                0            0   \n",
       "1             0            0              0                0            0   \n",
       "2             0            0              0                0            0   \n",
       "3             0            0              0                0            0   \n",
       "4             0            0              0                0            0   \n",
       "\n",
       "   ...  Lavelle Road  MG Road  Malleshwaram  Marathahalli  New BEL Road  \\\n",
       "0  ...             0        0             0             0             0   \n",
       "1  ...             0        0             0             0             0   \n",
       "2  ...             0        0             0             0             0   \n",
       "3  ...             0        0             0             0             0   \n",
       "4  ...             0        0             0             0             0   \n",
       "\n",
       "   Old Airport Road  Rajajinagar  Residency Road  Sarjapur Road  Whitefield  \n",
       "0                 0            0               0              0           0  \n",
       "1                 0            0               0              0           0  \n",
       "2                 0            0               0              0           0  \n",
       "3                 0            0               0              0           0  \n",
       "4                 0            0               0              0           0  \n",
       "\n",
       "[5 rows x 30 columns]"
      ]
     },
     "execution_count": 69,
     "metadata": {},
     "output_type": "execute_result"
    }
   ],
   "source": [
    "area_df = df['area']\n",
    "area_df = pd.get_dummies(area_df)\n",
    "area_df.head()"
   ]
  },
  {
   "cell_type": "code",
   "execution_count": 70,
   "id": "freelance-warrant",
   "metadata": {},
   "outputs": [
    {
     "data": {
      "text/html": [
       "<div>\n",
       "<style scoped>\n",
       "    .dataframe tbody tr th:only-of-type {\n",
       "        vertical-align: middle;\n",
       "    }\n",
       "\n",
       "    .dataframe tbody tr th {\n",
       "        vertical-align: top;\n",
       "    }\n",
       "\n",
       "    .dataframe thead th {\n",
       "        text-align: right;\n",
       "    }\n",
       "</style>\n",
       "<table border=\"1\" class=\"dataframe\">\n",
       "  <thead>\n",
       "    <tr style=\"text-align: right;\">\n",
       "      <th></th>\n",
       "      <th>name</th>\n",
       "      <th>online_order</th>\n",
       "      <th>book_table</th>\n",
       "      <th>rate</th>\n",
       "      <th>votes</th>\n",
       "      <th>location</th>\n",
       "      <th>rest_type</th>\n",
       "      <th>cuisines</th>\n",
       "      <th>approx_cost</th>\n",
       "      <th>area</th>\n",
       "      <th>...</th>\n",
       "      <th>Ulsoor</th>\n",
       "      <th>Uttarahalli</th>\n",
       "      <th>Varthur Main Road, Whitefield</th>\n",
       "      <th>Vasanth Nagar</th>\n",
       "      <th>Vijay Nagar</th>\n",
       "      <th>West Bangalore</th>\n",
       "      <th>Whitefield</th>\n",
       "      <th>Wilson Garden</th>\n",
       "      <th>Yelahanka</th>\n",
       "      <th>Yeshwantpur</th>\n",
       "    </tr>\n",
       "  </thead>\n",
       "  <tbody>\n",
       "    <tr>\n",
       "      <th>0</th>\n",
       "      <td>Jalsa</td>\n",
       "      <td>1</td>\n",
       "      <td>1</td>\n",
       "      <td>4.1</td>\n",
       "      <td>775</td>\n",
       "      <td>Banashankari</td>\n",
       "      <td>Casual Dining</td>\n",
       "      <td>North Indian, Mughlai, Chinese</td>\n",
       "      <td>800.0</td>\n",
       "      <td>Banashankari</td>\n",
       "      <td>...</td>\n",
       "      <td>0</td>\n",
       "      <td>0</td>\n",
       "      <td>0</td>\n",
       "      <td>0</td>\n",
       "      <td>0</td>\n",
       "      <td>0</td>\n",
       "      <td>0</td>\n",
       "      <td>0</td>\n",
       "      <td>0</td>\n",
       "      <td>0</td>\n",
       "    </tr>\n",
       "    <tr>\n",
       "      <th>1</th>\n",
       "      <td>Spice Elephant</td>\n",
       "      <td>1</td>\n",
       "      <td>0</td>\n",
       "      <td>4.1</td>\n",
       "      <td>787</td>\n",
       "      <td>Banashankari</td>\n",
       "      <td>Casual Dining</td>\n",
       "      <td>Chinese, North Indian, Thai</td>\n",
       "      <td>800.0</td>\n",
       "      <td>Banashankari</td>\n",
       "      <td>...</td>\n",
       "      <td>0</td>\n",
       "      <td>0</td>\n",
       "      <td>0</td>\n",
       "      <td>0</td>\n",
       "      <td>0</td>\n",
       "      <td>0</td>\n",
       "      <td>0</td>\n",
       "      <td>0</td>\n",
       "      <td>0</td>\n",
       "      <td>0</td>\n",
       "    </tr>\n",
       "    <tr>\n",
       "      <th>2</th>\n",
       "      <td>San Churro Cafe</td>\n",
       "      <td>1</td>\n",
       "      <td>0</td>\n",
       "      <td>3.8</td>\n",
       "      <td>918</td>\n",
       "      <td>Banashankari</td>\n",
       "      <td>Cafe, Casual Dining</td>\n",
       "      <td>Cafe, Mexican, Italian</td>\n",
       "      <td>800.0</td>\n",
       "      <td>Banashankari</td>\n",
       "      <td>...</td>\n",
       "      <td>0</td>\n",
       "      <td>0</td>\n",
       "      <td>0</td>\n",
       "      <td>0</td>\n",
       "      <td>0</td>\n",
       "      <td>0</td>\n",
       "      <td>0</td>\n",
       "      <td>0</td>\n",
       "      <td>0</td>\n",
       "      <td>0</td>\n",
       "    </tr>\n",
       "    <tr>\n",
       "      <th>3</th>\n",
       "      <td>Addhuri Udupi Bhojana</td>\n",
       "      <td>0</td>\n",
       "      <td>0</td>\n",
       "      <td>3.7</td>\n",
       "      <td>88</td>\n",
       "      <td>Banashankari</td>\n",
       "      <td>Quick Bites</td>\n",
       "      <td>South Indian, North Indian</td>\n",
       "      <td>300.0</td>\n",
       "      <td>Banashankari</td>\n",
       "      <td>...</td>\n",
       "      <td>0</td>\n",
       "      <td>0</td>\n",
       "      <td>0</td>\n",
       "      <td>0</td>\n",
       "      <td>0</td>\n",
       "      <td>0</td>\n",
       "      <td>0</td>\n",
       "      <td>0</td>\n",
       "      <td>0</td>\n",
       "      <td>0</td>\n",
       "    </tr>\n",
       "    <tr>\n",
       "      <th>4</th>\n",
       "      <td>Grand Village</td>\n",
       "      <td>0</td>\n",
       "      <td>0</td>\n",
       "      <td>3.8</td>\n",
       "      <td>166</td>\n",
       "      <td>Basavanagudi</td>\n",
       "      <td>Casual Dining</td>\n",
       "      <td>North Indian, Rajasthani</td>\n",
       "      <td>600.0</td>\n",
       "      <td>Banashankari</td>\n",
       "      <td>...</td>\n",
       "      <td>0</td>\n",
       "      <td>0</td>\n",
       "      <td>0</td>\n",
       "      <td>0</td>\n",
       "      <td>0</td>\n",
       "      <td>0</td>\n",
       "      <td>0</td>\n",
       "      <td>0</td>\n",
       "      <td>0</td>\n",
       "      <td>0</td>\n",
       "    </tr>\n",
       "  </tbody>\n",
       "</table>\n",
       "<p>5 rows × 233 columns</p>\n",
       "</div>"
      ],
      "text/plain": [
       "                    name  online_order  book_table  rate  votes      location  \\\n",
       "0                  Jalsa             1           1   4.1    775  Banashankari   \n",
       "1         Spice Elephant             1           0   4.1    787  Banashankari   \n",
       "2        San Churro Cafe             1           0   3.8    918  Banashankari   \n",
       "3  Addhuri Udupi Bhojana             0           0   3.7     88  Banashankari   \n",
       "4          Grand Village             0           0   3.8    166  Basavanagudi   \n",
       "\n",
       "             rest_type                        cuisines  approx_cost  \\\n",
       "0        Casual Dining  North Indian, Mughlai, Chinese        800.0   \n",
       "1        Casual Dining     Chinese, North Indian, Thai        800.0   \n",
       "2  Cafe, Casual Dining          Cafe, Mexican, Italian        800.0   \n",
       "3          Quick Bites      South Indian, North Indian        300.0   \n",
       "4        Casual Dining        North Indian, Rajasthani        600.0   \n",
       "\n",
       "           area  ...  Ulsoor  Uttarahalli  Varthur Main Road, Whitefield  \\\n",
       "0  Banashankari  ...       0            0                              0   \n",
       "1  Banashankari  ...       0            0                              0   \n",
       "2  Banashankari  ...       0            0                              0   \n",
       "3  Banashankari  ...       0            0                              0   \n",
       "4  Banashankari  ...       0            0                              0   \n",
       "\n",
       "   Vasanth Nagar  Vijay Nagar  West Bangalore  Whitefield  Wilson Garden  \\\n",
       "0              0            0               0           0              0   \n",
       "1              0            0               0           0              0   \n",
       "2              0            0               0           0              0   \n",
       "3              0            0               0           0              0   \n",
       "4              0            0               0           0              0   \n",
       "\n",
       "   Yelahanka  Yeshwantpur  \n",
       "0          0            0  \n",
       "1          0            0  \n",
       "2          0            0  \n",
       "3          0            0  \n",
       "4          0            0  \n",
       "\n",
       "[5 rows x 233 columns]"
      ]
     },
     "execution_count": 70,
     "metadata": {},
     "output_type": "execute_result"
    }
   ],
   "source": [
    "data_with_location = pd.concat([df, rest_df, cuisines_df, location_df], axis=1)\n",
    "data_with_location.head()"
   ]
  },
  {
   "cell_type": "code",
   "execution_count": 71,
   "id": "arabic-spring",
   "metadata": {},
   "outputs": [
    {
     "data": {
      "text/html": [
       "<div>\n",
       "<style scoped>\n",
       "    .dataframe tbody tr th:only-of-type {\n",
       "        vertical-align: middle;\n",
       "    }\n",
       "\n",
       "    .dataframe tbody tr th {\n",
       "        vertical-align: top;\n",
       "    }\n",
       "\n",
       "    .dataframe thead th {\n",
       "        text-align: right;\n",
       "    }\n",
       "</style>\n",
       "<table border=\"1\" class=\"dataframe\">\n",
       "  <thead>\n",
       "    <tr style=\"text-align: right;\">\n",
       "      <th></th>\n",
       "      <th>name</th>\n",
       "      <th>online_order</th>\n",
       "      <th>book_table</th>\n",
       "      <th>rate</th>\n",
       "      <th>votes</th>\n",
       "      <th>location</th>\n",
       "      <th>rest_type</th>\n",
       "      <th>cuisines</th>\n",
       "      <th>approx_cost</th>\n",
       "      <th>area</th>\n",
       "      <th>...</th>\n",
       "      <th>Lavelle Road</th>\n",
       "      <th>MG Road</th>\n",
       "      <th>Malleshwaram</th>\n",
       "      <th>Marathahalli</th>\n",
       "      <th>New BEL Road</th>\n",
       "      <th>Old Airport Road</th>\n",
       "      <th>Rajajinagar</th>\n",
       "      <th>Residency Road</th>\n",
       "      <th>Sarjapur Road</th>\n",
       "      <th>Whitefield</th>\n",
       "    </tr>\n",
       "  </thead>\n",
       "  <tbody>\n",
       "    <tr>\n",
       "      <th>0</th>\n",
       "      <td>Jalsa</td>\n",
       "      <td>1</td>\n",
       "      <td>1</td>\n",
       "      <td>4.1</td>\n",
       "      <td>775</td>\n",
       "      <td>Banashankari</td>\n",
       "      <td>Casual Dining</td>\n",
       "      <td>North Indian, Mughlai, Chinese</td>\n",
       "      <td>800.0</td>\n",
       "      <td>Banashankari</td>\n",
       "      <td>...</td>\n",
       "      <td>0</td>\n",
       "      <td>0</td>\n",
       "      <td>0</td>\n",
       "      <td>0</td>\n",
       "      <td>0</td>\n",
       "      <td>0</td>\n",
       "      <td>0</td>\n",
       "      <td>0</td>\n",
       "      <td>0</td>\n",
       "      <td>0</td>\n",
       "    </tr>\n",
       "    <tr>\n",
       "      <th>1</th>\n",
       "      <td>Spice Elephant</td>\n",
       "      <td>1</td>\n",
       "      <td>0</td>\n",
       "      <td>4.1</td>\n",
       "      <td>787</td>\n",
       "      <td>Banashankari</td>\n",
       "      <td>Casual Dining</td>\n",
       "      <td>Chinese, North Indian, Thai</td>\n",
       "      <td>800.0</td>\n",
       "      <td>Banashankari</td>\n",
       "      <td>...</td>\n",
       "      <td>0</td>\n",
       "      <td>0</td>\n",
       "      <td>0</td>\n",
       "      <td>0</td>\n",
       "      <td>0</td>\n",
       "      <td>0</td>\n",
       "      <td>0</td>\n",
       "      <td>0</td>\n",
       "      <td>0</td>\n",
       "      <td>0</td>\n",
       "    </tr>\n",
       "    <tr>\n",
       "      <th>2</th>\n",
       "      <td>San Churro Cafe</td>\n",
       "      <td>1</td>\n",
       "      <td>0</td>\n",
       "      <td>3.8</td>\n",
       "      <td>918</td>\n",
       "      <td>Banashankari</td>\n",
       "      <td>Cafe, Casual Dining</td>\n",
       "      <td>Cafe, Mexican, Italian</td>\n",
       "      <td>800.0</td>\n",
       "      <td>Banashankari</td>\n",
       "      <td>...</td>\n",
       "      <td>0</td>\n",
       "      <td>0</td>\n",
       "      <td>0</td>\n",
       "      <td>0</td>\n",
       "      <td>0</td>\n",
       "      <td>0</td>\n",
       "      <td>0</td>\n",
       "      <td>0</td>\n",
       "      <td>0</td>\n",
       "      <td>0</td>\n",
       "    </tr>\n",
       "    <tr>\n",
       "      <th>3</th>\n",
       "      <td>Addhuri Udupi Bhojana</td>\n",
       "      <td>0</td>\n",
       "      <td>0</td>\n",
       "      <td>3.7</td>\n",
       "      <td>88</td>\n",
       "      <td>Banashankari</td>\n",
       "      <td>Quick Bites</td>\n",
       "      <td>South Indian, North Indian</td>\n",
       "      <td>300.0</td>\n",
       "      <td>Banashankari</td>\n",
       "      <td>...</td>\n",
       "      <td>0</td>\n",
       "      <td>0</td>\n",
       "      <td>0</td>\n",
       "      <td>0</td>\n",
       "      <td>0</td>\n",
       "      <td>0</td>\n",
       "      <td>0</td>\n",
       "      <td>0</td>\n",
       "      <td>0</td>\n",
       "      <td>0</td>\n",
       "    </tr>\n",
       "    <tr>\n",
       "      <th>4</th>\n",
       "      <td>Grand Village</td>\n",
       "      <td>0</td>\n",
       "      <td>0</td>\n",
       "      <td>3.8</td>\n",
       "      <td>166</td>\n",
       "      <td>Basavanagudi</td>\n",
       "      <td>Casual Dining</td>\n",
       "      <td>North Indian, Rajasthani</td>\n",
       "      <td>600.0</td>\n",
       "      <td>Banashankari</td>\n",
       "      <td>...</td>\n",
       "      <td>0</td>\n",
       "      <td>0</td>\n",
       "      <td>0</td>\n",
       "      <td>0</td>\n",
       "      <td>0</td>\n",
       "      <td>0</td>\n",
       "      <td>0</td>\n",
       "      <td>0</td>\n",
       "      <td>0</td>\n",
       "      <td>0</td>\n",
       "    </tr>\n",
       "  </tbody>\n",
       "</table>\n",
       "<p>5 rows × 170 columns</p>\n",
       "</div>"
      ],
      "text/plain": [
       "                    name  online_order  book_table  rate  votes      location  \\\n",
       "0                  Jalsa             1           1   4.1    775  Banashankari   \n",
       "1         Spice Elephant             1           0   4.1    787  Banashankari   \n",
       "2        San Churro Cafe             1           0   3.8    918  Banashankari   \n",
       "3  Addhuri Udupi Bhojana             0           0   3.7     88  Banashankari   \n",
       "4          Grand Village             0           0   3.8    166  Basavanagudi   \n",
       "\n",
       "             rest_type                        cuisines  approx_cost  \\\n",
       "0        Casual Dining  North Indian, Mughlai, Chinese        800.0   \n",
       "1        Casual Dining     Chinese, North Indian, Thai        800.0   \n",
       "2  Cafe, Casual Dining          Cafe, Mexican, Italian        800.0   \n",
       "3          Quick Bites      South Indian, North Indian        300.0   \n",
       "4        Casual Dining        North Indian, Rajasthani        600.0   \n",
       "\n",
       "           area  ...  Lavelle Road  MG Road  Malleshwaram  Marathahalli  \\\n",
       "0  Banashankari  ...             0        0             0             0   \n",
       "1  Banashankari  ...             0        0             0             0   \n",
       "2  Banashankari  ...             0        0             0             0   \n",
       "3  Banashankari  ...             0        0             0             0   \n",
       "4  Banashankari  ...             0        0             0             0   \n",
       "\n",
       "   New BEL Road  Old Airport Road  Rajajinagar  Residency Road  Sarjapur Road  \\\n",
       "0             0                 0            0               0              0   \n",
       "1             0                 0            0               0              0   \n",
       "2             0                 0            0               0              0   \n",
       "3             0                 0            0               0              0   \n",
       "4             0                 0            0               0              0   \n",
       "\n",
       "   Whitefield  \n",
       "0           0  \n",
       "1           0  \n",
       "2           0  \n",
       "3           0  \n",
       "4           0  \n",
       "\n",
       "[5 rows x 170 columns]"
      ]
     },
     "execution_count": 71,
     "metadata": {},
     "output_type": "execute_result"
    }
   ],
   "source": [
    "data_with_area = pd.concat([df, rest_df, cuisines_df, area_df], axis = 1)\n",
    "data_with_area.head()"
   ]
  },
  {
   "cell_type": "code",
   "execution_count": 73,
   "id": "beneficial-trunk",
   "metadata": {},
   "outputs": [
    {
     "name": "stdout",
     "output_type": "stream",
     "text": [
      "Index(['RT Nagar', 'Race Course Road', 'Rajajinagar', 'Rajarajeshwari Nagar',\n",
      "       'Rammurthy Nagar', 'Residency Road', 'Richmond Road', 'Sadashiv Nagar',\n",
      "       'Sahakara Nagar', 'Sanjay Nagar', 'Sankey Road', 'Sarjapur Road',\n",
      "       'Seshadripuram', 'Shanti Nagar', 'Shivajinagar', 'South Bangalore',\n",
      "       'St. Marks Road', 'Thippasandra', 'Ulsoor', 'Uttarahalli',\n",
      "       'Varthur Main Road, Whitefield', 'Vasanth Nagar', 'Vijay Nagar',\n",
      "       'West Bangalore', 'Whitefield', 'Wilson Garden', 'Yelahanka',\n",
      "       'Yeshwantpur'],\n",
      "      dtype='object')\n"
     ]
    }
   ],
   "source": [
    "#data_with_location.drop(columns=['name', 'location', 'rest_type', 'cuisines', 'area'], axis = 1, inplace=True)\n",
    "#data_with_area.drop(columns=['name', 'location', 'rest_type', 'cuisines', 'area'], axis=1, inplace=True)\n",
    "print(data_with_location.columns[200:])"
   ]
  },
  {
   "cell_type": "markdown",
   "id": "7af55dff",
   "metadata": {},
   "source": [
    "## Feature Selection"
   ]
  },
  {
   "cell_type": "code",
   "execution_count": 74,
   "id": "dried-bicycle",
   "metadata": {},
   "outputs": [
    {
     "name": "stdout",
     "output_type": "stream",
     "text": [
      "X =  [[  1.   1. 775. ...   0.   0.   0.]\n",
      " [  1.   0. 787. ...   0.   0.   0.]\n",
      " [  1.   0. 918. ...   0.   0.   0.]\n",
      " ...\n",
      " [  0.   0.   0. ...   0.   0.   0.]\n",
      " [  0.   1. 236. ...   0.   0.   0.]\n",
      " [  0.   0.  13. ...   0.   0.   0.]]\n",
      "Y =  [4.1 4.1 3.8 ... 3.7 4.3 3.4]\n"
     ]
    }
   ],
   "source": [
    "x1 = data_with_location.drop(\"rate\", axis = 1).values\n",
    "y1 = data_with_location[\"rate\"].values\n",
    "\n",
    "print(\"X = \", x1)\n",
    "print(\"Y = \", y1)"
   ]
  },
  {
   "cell_type": "code",
   "execution_count": 75,
   "id": "directed-microwave",
   "metadata": {},
   "outputs": [
    {
     "name": "stdout",
     "output_type": "stream",
     "text": [
      "X =  [[  1.   1. 775. ...   0.   0.   0.]\n",
      " [  1.   0. 787. ...   0.   0.   0.]\n",
      " [  1.   0. 918. ...   0.   0.   0.]\n",
      " ...\n",
      " [  0.   0.   0. ...   0.   0.   1.]\n",
      " [  0.   1. 236. ...   0.   0.   1.]\n",
      " [  0.   0.  13. ...   0.   0.   1.]]\n",
      "\n",
      "Y =  [4.1 4.1 3.8 ... 3.7 4.3 3.4]\n"
     ]
    }
   ],
   "source": [
    "x2 = data_with_area.drop(\"rate\", axis = 1).values\n",
    "y2 = data_with_area[\"rate\"].values\n",
    "\n",
    "print(\"X = \", x2)\n",
    "print()\n",
    "print(\"Y = \", y2)"
   ]
  },
  {
   "cell_type": "code",
   "execution_count": 76,
   "id": "directed-nurse",
   "metadata": {},
   "outputs": [],
   "source": [
    "from sklearn.ensemble import ExtraTreesRegressor"
   ]
  },
  {
   "cell_type": "code",
   "execution_count": 77,
   "id": "thick-round",
   "metadata": {},
   "outputs": [
    {
     "name": "stdout",
     "output_type": "stream",
     "text": [
      "[1.71127154e-02 1.67131920e-01 2.87911453e-01 4.91515243e-02\n",
      " 1.93343219e-04 1.00931038e-02 9.43569220e-05 2.62486530e-06\n",
      " 9.58043369e-04 1.17795909e-03 1.06021063e-05 2.73094887e-03\n",
      " 1.04415861e-02 5.39262969e-04 2.88735721e-03 1.33832108e-02\n",
      " 3.34441113e-03 2.98630369e-03 6.34126410e-07 3.62744341e-04\n",
      " 5.45441019e-03 2.69593737e-07 3.61170081e-03 7.50277176e-04\n",
      " 3.41953118e-03 2.18662066e-18 9.40113535e-04 1.60765045e-03\n",
      " 6.50497847e-05 6.74248466e-05 1.21424878e-04 9.75367062e-05\n",
      " 9.25438633e-05 3.52019231e-04 1.04755949e-02 1.46135213e-03\n",
      " 2.98322399e-03 1.40323063e-03 3.85674407e-03 2.03336959e-04\n",
      " 2.94977032e-06 3.21534308e-05 4.71561348e-03 1.61509324e-06\n",
      " 2.64015714e-03 1.61708495e-05 6.30276837e-06 6.07056101e-04\n",
      " 2.55815255e-04 1.04255671e-03 7.61628180e-06 1.66751776e-04\n",
      " 3.19515856e-04 1.57876218e-03 2.55294894e-04 6.39242466e-05\n",
      " 3.44571824e-03 1.89832708e-05 3.76894369e-03 3.46477103e-05\n",
      " 4.37426652e-06 1.28901396e-05 1.28348831e-02 3.80322281e-04\n",
      " 1.48275352e-04 5.44642096e-07 4.03283350e-06 1.58170609e-03\n",
      " 4.50660999e-05 3.52987512e-04 6.02760646e-03 2.60204665e-04\n",
      " 4.67341476e-06 1.49753814e-03 6.06429659e-03 1.26544108e-06\n",
      " 9.15818567e-04 2.92310832e-04 1.22717000e-02 5.80573436e-04\n",
      " 1.01291430e-04 7.56165870e-17 2.06144420e-03 3.67267852e-03\n",
      " 5.83978132e-06 1.83196810e-03 8.57816451e-04 1.91141179e-04\n",
      " 6.55621724e-03 1.97164458e-03 6.62493394e-05 5.85694794e-03\n",
      " 1.99346364e-03 2.98964782e-05 2.14351623e-02 1.33110372e-03\n",
      " 9.43576437e-03 1.14061840e-04 7.10785857e-06 3.74661633e-04\n",
      " 7.83658535e-06 3.72401655e-04 4.65324911e-04 1.01004639e-03\n",
      " 1.34953422e-03 1.50186201e-02 4.32083222e-05 6.40467684e-04\n",
      " 2.50410582e-06 1.18007771e-06 1.76927701e-05 2.61497403e-06\n",
      " 2.15056917e-05 1.09527789e-05 6.24181652e-03 1.55512086e-06\n",
      " 2.43996171e-03 7.29281632e-06 2.34650987e-03 1.66156542e-03\n",
      " 3.28474911e-03 4.31130982e-03 0.00000000e+00 6.21064503e-03\n",
      " 2.00844977e-03 5.00420033e-03 4.00533711e-03 2.37011175e-03\n",
      " 7.77169126e-05 2.94179965e-04 7.70707776e-04 1.49242092e-05\n",
      " 1.27666890e-05 3.10502557e-03 1.05934517e-02 3.66262267e-03\n",
      " 2.67582783e-03 7.01889205e-03 2.36338348e-03 8.75156639e-04\n",
      " 6.00106119e-03 3.07281820e-03 6.33182347e-03 4.94292160e-03\n",
      " 2.89061935e-04 9.89522028e-06 3.38298178e-03 4.22013676e-04\n",
      " 2.81443436e-03 2.78766439e-03 3.40971370e-03 2.03924410e-04\n",
      " 1.12672933e-03 5.64910256e-03 3.28879945e-03 4.10001472e-04\n",
      " 7.56974890e-03 1.06933492e-04 1.17574036e-03 2.40920188e-04\n",
      " 9.99560468e-04 8.98559789e-03 8.62058503e-04 7.58322857e-03\n",
      " 1.12816925e-07 1.34151577e-04 5.70064227e-03 2.11053237e-03\n",
      " 2.69407976e-05 9.63358670e-04 3.51094835e-03 2.10637884e-03\n",
      " 8.38818021e-05 3.38238023e-06 2.59330039e-04 4.18052598e-03\n",
      " 2.19585911e-04 3.11000089e-04 4.00102998e-03 7.32118681e-03\n",
      " 5.63573044e-03 5.04900647e-03 9.96455706e-04 1.08196582e-03\n",
      " 3.07908716e-05 1.74861458e-03 7.76066139e-03 1.22072200e-04\n",
      " 3.35972608e-04 3.33232818e-03 8.62613331e-03 4.21058214e-05\n",
      " 2.01410685e-06 1.65157236e-03 2.92393885e-03 6.47466730e-05\n",
      " 2.29025328e-03 5.55931410e-04 7.68485734e-07 3.80843189e-04\n",
      " 2.86953698e-04 2.18281681e-03 4.22067618e-06 5.08401124e-04\n",
      " 2.65430466e-03 2.83924107e-03 5.28756687e-04 3.28018334e-04\n",
      " 3.52529660e-04 2.21464010e-05 5.21154070e-03 9.56188710e-04\n",
      " 2.86882472e-03 7.97536472e-04 2.77725904e-04 1.56954074e-03\n",
      " 5.59159373e-04 4.09496497e-03 5.58468959e-05 6.64538214e-04\n",
      " 1.03302622e-03 2.63150172e-04 2.42366211e-05 7.24987319e-03\n",
      " 6.17218464e-04 1.56050587e-06 8.60380653e-04]\n"
     ]
    }
   ],
   "source": [
    "imp_features1 = ExtraTreesRegressor()\n",
    "imp_features1.fit(x1, y1)\n",
    "print(imp_features1.feature_importances_)"
   ]
  },
  {
   "cell_type": "code",
   "execution_count": 80,
   "id": "located-guarantee",
   "metadata": {},
   "outputs": [
    {
     "data": {
      "text/plain": [
       "<AxesSubplot: >"
      ]
     },
     "execution_count": 80,
     "metadata": {},
     "output_type": "execute_result"
    },
    {
     "data": {
      "image/png": "[encoded data removed]",
      "text/plain": [
       "<Figure size 864x576 with 1 Axes>"
      ]
     },
     "metadata": {},
     "output_type": "display_data"
    }
   ],
   "source": [
    "plt.figure(figsize = (12, 8))\n",
    "columns = data_with_location.drop(\"rate\", axis = 1).columns\n",
    "fseries = pd.Series(imp_features1.feature_importances_, index = columns)\n",
    "fseries.nlargest(25).plot(kind = \"bar\")"
   ]
  },
  {
   "cell_type": "code",
   "execution_count": 79,
   "id": "specified-study",
   "metadata": {},
   "outputs": [
    {
     "name": "stdout",
     "output_type": "stream",
     "text": [
      "[ 2.14862974e-02  1.65855282e-01  3.20544223e-01  7.13708138e-02\n",
      "  2.10842769e-04  1.26266183e-02  2.11333048e-04  9.01201663e-06\n",
      "  1.04594266e-03  1.71605508e-03  1.84495115e-05  3.48269000e-03\n",
      "  1.17745166e-02  7.54304468e-04  4.04432324e-03  1.40996185e-02\n",
      "  4.00775705e-03  3.69491819e-03  6.42998196e-07  5.00591403e-04\n",
      "  6.33510001e-03  2.98980273e-06  3.90447682e-03  9.22259457e-04\n",
      "  3.94235474e-03  3.83310807e-16  1.31304858e-03  2.95644570e-03\n",
      "  9.42603054e-05  5.91177316e-05  2.92595112e-04  1.46531228e-04\n",
      "  1.37895266e-04  5.21060618e-04  1.25629771e-02  1.99419646e-03\n",
      "  3.39012852e-03  2.12413018e-03  5.39206748e-03  2.14047310e-04\n",
      "  6.44300046e-06  3.29923185e-05  6.69769751e-03  2.98070468e-07\n",
      "  3.45396680e-03  2.04365683e-05  1.15177081e-05  6.46193320e-04\n",
      "  3.14260063e-04  1.31888772e-03  6.38217262e-06  2.24687549e-04\n",
      "  3.80510866e-04  1.94989507e-03  2.60011376e-04  7.57295119e-05\n",
      "  3.49635527e-03  4.94938178e-05  5.41691829e-03  5.48918120e-05\n",
      "  2.63521122e-05  1.64526281e-05  1.61968693e-02  5.06951555e-04\n",
      "  1.88912941e-04  7.71143139e-07  1.36960644e-05  2.79518363e-03\n",
      "  1.31575188e-04  3.54210354e-04  6.33514343e-03  4.34265416e-04\n",
      "  1.73847543e-05  1.72953645e-03  9.20555912e-03  1.64774858e-06\n",
      "  1.01535651e-03  4.14822157e-04  1.50160125e-02  8.75488115e-04\n",
      "  1.45367964e-04  5.62723414e-18  2.75435037e-03  4.68015998e-03\n",
      "  2.72838555e-05  2.50359136e-03  1.10283553e-03  2.12080752e-04\n",
      "  9.37387200e-03  2.89751941e-03  6.91831456e-05  1.09204640e-02\n",
      "  2.67157607e-03  5.55555747e-05  2.11434118e-02  2.15749634e-03\n",
      "  1.28236723e-02  1.74105368e-04  1.02337808e-05  4.21212253e-04\n",
      "  1.38220591e-05  3.87071122e-04  6.94224412e-04  1.35114720e-03\n",
      "  1.53747676e-03  1.71915801e-02  9.83677865e-05  7.43126334e-04\n",
      "  3.46611021e-06  1.01861857e-05  4.56621206e-05  2.39638023e-06\n",
      "  4.19222793e-05  2.01264047e-05  8.24526263e-03  4.41094780e-06\n",
      "  3.24945594e-03  6.89325804e-06  3.01829249e-03  2.27493857e-03\n",
      "  3.72250331e-03  5.14581351e-03 -3.31668468e-19  7.95527071e-03\n",
      "  3.03236636e-03  6.55020878e-03  5.33283470e-03  3.09418719e-03\n",
      "  1.10892306e-04  2.83950963e-04  8.48531800e-04  2.67116798e-05\n",
      "  1.88673351e-05  3.43134515e-03  2.04877882e-03  1.99393135e-03\n",
      "  3.53914081e-03  2.02328261e-03  3.91317509e-03  9.80912506e-04\n",
      "  6.51225833e-03  7.07464002e-04  5.64915004e-03  1.62606480e-03\n",
      "  4.09506638e-03  4.32675741e-03  2.65398992e-03  2.26086640e-03\n",
      "  2.83597674e-03  3.22149699e-03  9.76933833e-04  7.32706182e-04\n",
      "  6.58846099e-04  8.59244327e-04  1.15842250e-03  1.20699127e-03\n",
      "  2.87363799e-03  6.62651994e-03  3.06067294e-03  3.67803011e-03\n",
      "  2.65841735e-03  1.10904811e-03  4.30731663e-03  5.61394096e-03]\n"
     ]
    }
   ],
   "source": [
    "imp_features2 = ExtraTreesRegressor()\n",
    "imp_features2.fit(x2, y2)\n",
    "print(imp_features2.feature_importances_)"
   ]
  },
  {
   "cell_type": "code",
   "execution_count": 81,
   "id": "compressed-andrew",
   "metadata": {},
   "outputs": [
    {
     "data": {
      "text/plain": [
       "<AxesSubplot: >"
      ]
     },
     "execution_count": 81,
     "metadata": {},
     "output_type": "execute_result"
    },
    {
     "data": {
      "image/png": "[encoded data removed]",
      "text/plain": [
       "<Figure size 864x576 with 1 Axes>"
      ]
     },
     "metadata": {},
     "output_type": "display_data"
    }
   ],
   "source": [
    "plt.figure(figsize = (12,8))\n",
    "columns = data_with_area.drop(\"rate\", axis = 1).columns\n",
    "fseries = pd.Series(imp_features2.feature_importances_, index = columns)\n",
    "fseries.nlargest(25).plot(kind = \"bar\")"
   ]
  },
  {
   "cell_type": "markdown",
   "id": "da6479d2",
   "metadata": {},
   "source": [
    "### Train Test Splitting of Data"
   ]
  },
  {
   "cell_type": "code",
   "execution_count": 82,
   "id": "47fc9ad5",
   "metadata": {},
   "outputs": [],
   "source": [
    "from sklearn.model_selection import train_test_split"
   ]
  },
  {
   "cell_type": "code",
   "execution_count": 83,
   "id": "5456fe82",
   "metadata": {},
   "outputs": [],
   "source": [
    "X1_train, X1_test, Y1_train, Y1_test = train_test_split(x1, y1, test_size=0.2, random_state=42)"
   ]
  },
  {
   "cell_type": "code",
   "execution_count": 84,
   "id": "7f26c569",
   "metadata": {},
   "outputs": [],
   "source": [
    "X2_train, X2_test, Y2_train, Y2_test = train_test_split(x2, y2, test_size=0.2, random_state=45)"
   ]
  },
  {
   "cell_type": "markdown",
   "id": "5bb1e7ae",
   "metadata": {},
   "source": [
    "### Importing ML Models"
   ]
  },
  {
   "cell_type": "code",
   "execution_count": 85,
   "id": "8618cb7a",
   "metadata": {},
   "outputs": [],
   "source": [
    "from sklearn.linear_model import LinearRegression\n",
    "from sklearn.ensemble import RandomForestRegressor\n",
    "from sklearn.tree import DecisionTreeRegressor"
   ]
  },
  {
   "cell_type": "markdown",
   "id": "c9c27379",
   "metadata": {},
   "source": [
    "#### Linear Regression"
   ]
  },
  {
   "cell_type": "markdown",
   "id": "c8adc4a1",
   "metadata": {},
   "source": [
    "#### For data_with_location"
   ]
  },
  {
   "cell_type": "code",
   "execution_count": 86,
   "id": "7e0cd15d",
   "metadata": {},
   "outputs": [
    {
     "data": {
      "text/html": [
       "<style>#sk-container-id-1 {color: black;background-color: white;}#sk-container-id-1 pre{padding: 0;}#sk-container-id-1 div.sk-toggleable {background-color: white;}#sk-container-id-1 label.sk-toggleable__label {cursor: pointer;display: block;width: 100%;margin-bottom: 0;padding: 0.3em;box-sizing: border-box;text-align: center;}#sk-container-id-1 label.sk-toggleable__label-arrow:before {content: \"▸\";float: left;margin-right: 0.25em;color: #696969;}#sk-container-id-1 label.sk-toggleable__label-arrow:hover:before {color: black;}#sk-container-id-1 div.sk-estimator:hover label.sk-toggleable__label-arrow:before {color: black;}#sk-container-id-1 div.sk-toggleable__content {max-height: 0;max-width: 0;overflow: hidden;text-align: left;background-color: #f0f8ff;}#sk-container-id-1 div.sk-toggleable__content pre {margin: 0.2em;color: black;border-radius: 0.25em;background-color: #f0f8ff;}#sk-container-id-1 input.sk-toggleable__control:checked~div.sk-toggleable__content {max-height: 200px;max-width: 100%;overflow: auto;}#sk-container-id-1 input.sk-toggleable__control:checked~label.sk-toggleable__label-arrow:before {content: \"▾\";}#sk-container-id-1 div.sk-estimator input.sk-toggleable__control:checked~label.sk-toggleable__label {background-color: #d4ebff;}#sk-container-id-1 div.sk-label input.sk-toggleable__control:checked~label.sk-toggleable__label {background-color: #d4ebff;}#sk-container-id-1 input.sk-hidden--visually {border: 0;clip: rect(1px 1px 1px 1px);clip: rect(1px, 1px, 1px, 1px);height: 1px;margin: -1px;overflow: hidden;padding: 0;position: absolute;width: 1px;}#sk-container-id-1 div.sk-estimator {font-family: monospace;background-color: #f0f8ff;border: 1px dotted black;border-radius: 0.25em;box-sizing: border-box;margin-bottom: 0.5em;}#sk-container-id-1 div.sk-estimator:hover {background-color: #d4ebff;}#sk-container-id-1 div.sk-parallel-item::after {content: \"\";width: 100%;border-bottom: 1px solid gray;flex-grow: 1;}#sk-container-id-1 div.sk-label:hover label.sk-toggleable__label {background-color: #d4ebff;}#sk-container-id-1 div.sk-serial::before {content: \"\";position: absolute;border-left: 1px solid gray;box-sizing: border-box;top: 0;bottom: 0;left: 50%;z-index: 0;}#sk-container-id-1 div.sk-serial {display: flex;flex-direction: column;align-items: center;background-color: white;padding-right: 0.2em;padding-left: 0.2em;position: relative;}#sk-container-id-1 div.sk-item {position: relative;z-index: 1;}#sk-container-id-1 div.sk-parallel {display: flex;align-items: stretch;justify-content: center;background-color: white;position: relative;}#sk-container-id-1 div.sk-item::before, #sk-container-id-1 div.sk-parallel-item::before {content: \"\";position: absolute;border-left: 1px solid gray;box-sizing: border-box;top: 0;bottom: 0;left: 50%;z-index: -1;}#sk-container-id-1 div.sk-parallel-item {display: flex;flex-direction: column;z-index: 1;position: relative;background-color: white;}#sk-container-id-1 div.sk-parallel-item:first-child::after {align-self: flex-end;width: 50%;}#sk-container-id-1 div.sk-parallel-item:last-child::after {align-self: flex-start;width: 50%;}#sk-container-id-1 div.sk-parallel-item:only-child::after {width: 0;}#sk-container-id-1 div.sk-dashed-wrapped {border: 1px dashed gray;margin: 0 0.4em 0.5em 0.4em;box-sizing: border-box;padding-bottom: 0.4em;background-color: white;}#sk-container-id-1 div.sk-label label {font-family: monospace;font-weight: bold;display: inline-block;line-height: 1.2em;}#sk-container-id-1 div.sk-label-container {text-align: center;}#sk-container-id-1 div.sk-container {/* jupyter's `normalize.less` sets `[hidden] { display: none; }` but bootstrap.min.css set `[hidden] { display: none !important; }` so we also need the `!important` here to be able to override the default hidden behavior on the sphinx rendered scikit-learn.org. See: https://github.com/scikit-learn/scikit-learn/issues/21755 */display: inline-block !important;position: relative;}#sk-container-id-1 div.sk-text-repr-fallback {display: none;}</style><div id=\"sk-container-id-1\" class=\"sk-top-container\"><div class=\"sk-text-repr-fallback\"><pre>LinearRegression()</pre><b>In a Jupyter environment, please rerun this cell to show the HTML representation or trust the notebook. <br />On GitHub, the HTML representation is unable to render, please try loading this page with nbviewer.org.</b></div><div class=\"sk-container\" hidden><div class=\"sk-item\"><div class=\"sk-estimator sk-toggleable\"><input class=\"sk-toggleable__control sk-hidden--visually\" id=\"sk-estimator-id-1\" type=\"checkbox\" checked><label for=\"sk-estimator-id-1\" class=\"sk-toggleable__label sk-toggleable__label-arrow\">LinearRegression</label><div class=\"sk-toggleable__content\"><pre>LinearRegression()</pre></div></div></div></div></div>"
      ],
      "text/plain": [
       "LinearRegression()"
      ]
     },
     "execution_count": 86,
     "metadata": {},
     "output_type": "execute_result"
    }
   ],
   "source": [
    "lr1 = LinearRegression()\n",
    "lr1.fit(X1_train, Y1_train)"
   ]
  },
  {
   "cell_type": "code",
   "execution_count": 87,
   "id": "293b1ddc",
   "metadata": {},
   "outputs": [
    {
     "data": {
      "text/plain": [
       "array([3.59842095, 3.79314729, 3.58246313, 3.48453781, 3.54911858,\n",
       "       3.86078185, 3.57360405, 3.49362775, 3.86837198, 3.53854682,\n",
       "       3.53894707, 3.66695723, 3.52999025, 3.61098495, 4.13777133,\n",
       "       3.38109923, 3.79516245, 4.33883224, 3.50354697, 3.429606  ,\n",
       "       3.45267673, 3.47351886, 3.84281261, 3.61792553, 3.51014983,\n",
       "       3.53499089, 3.84186274, 3.78805962, 3.64354086, 3.51003124,\n",
       "       3.63136543, 3.68449124, 3.94075469, 3.7367096 , 3.50586451,\n",
       "       3.46090123, 4.49197891, 3.5768909 , 3.44830891, 3.79047545,\n",
       "       3.61026277, 3.80753047, 3.55868624, 3.77055884, 3.4899659 ,\n",
       "       3.60305986, 3.62821693, 3.49645813, 4.43527374, 4.16001406,\n",
       "       3.51686224, 4.42523589, 3.63541475, 3.43397489, 3.61012108,\n",
       "       3.72063299, 3.59530734, 3.54345125, 3.62358271, 3.52398522,\n",
       "       3.76933367, 3.82226402, 3.48584428, 3.65376135, 4.02413128,\n",
       "       4.30118549, 3.48148102, 3.61607414, 3.76684806, 3.50513566,\n",
       "       3.66760143, 3.47916749, 3.60942462, 3.53674262, 3.44939577,\n",
       "       3.75321203, 3.78915287, 3.74620971, 3.52376231, 3.65923678,\n",
       "       3.71370498, 3.70409993, 3.47893004, 3.47917826, 3.66659107,\n",
       "       4.04456138, 3.64354086, 4.04826255, 3.64329237, 3.66570718,\n",
       "       3.61025638, 3.57945297, 3.95575952, 3.75626363, 3.77155212,\n",
       "       3.83458373, 3.83504789, 3.55339255, 3.71803242, 4.02444899])"
      ]
     },
     "execution_count": 87,
     "metadata": {},
     "output_type": "execute_result"
    }
   ],
   "source": [
    "Y_lr1= lr1.predict(X1_test)\n",
    "Y_lr1[:100]"
   ]
  },
  {
   "cell_type": "code",
   "execution_count": 91,
   "id": "98208edd",
   "metadata": {},
   "outputs": [
    {
     "data": {
      "image/png": "[encoded data removed]",
      "text/plain": [
       "<Figure size 864x504 with 1 Axes>"
      ]
     },
     "metadata": {},
     "output_type": "display_data"
    }
   ],
   "source": [
    "plt.figure(figsize=(12,7))\n",
    "sns.histplot(Y1_test - Y_lr1, kde=True)\n",
    "plt.show()"
   ]
  },
  {
   "cell_type": "markdown",
   "id": "b4d2e940",
   "metadata": {},
   "source": [
    "#### For data_with_area"
   ]
  },
  {
   "cell_type": "code",
   "execution_count": 92,
   "id": "165a4951",
   "metadata": {},
   "outputs": [
    {
     "data": {
      "text/html": [
       "<style>#sk-container-id-2 {color: black;background-color: white;}#sk-container-id-2 pre{padding: 0;}#sk-container-id-2 div.sk-toggleable {background-color: white;}#sk-container-id-2 label.sk-toggleable__label {cursor: pointer;display: block;width: 100%;margin-bottom: 0;padding: 0.3em;box-sizing: border-box;text-align: center;}#sk-container-id-2 label.sk-toggleable__label-arrow:before {content: \"▸\";float: left;margin-right: 0.25em;color: #696969;}#sk-container-id-2 label.sk-toggleable__label-arrow:hover:before {color: black;}#sk-container-id-2 div.sk-estimator:hover label.sk-toggleable__label-arrow:before {color: black;}#sk-container-id-2 div.sk-toggleable__content {max-height: 0;max-width: 0;overflow: hidden;text-align: left;background-color: #f0f8ff;}#sk-container-id-2 div.sk-toggleable__content pre {margin: 0.2em;color: black;border-radius: 0.25em;background-color: #f0f8ff;}#sk-container-id-2 input.sk-toggleable__control:checked~div.sk-toggleable__content {max-height: 200px;max-width: 100%;overflow: auto;}#sk-container-id-2 input.sk-toggleable__control:checked~label.sk-toggleable__label-arrow:before {content: \"▾\";}#sk-container-id-2 div.sk-estimator input.sk-toggleable__control:checked~label.sk-toggleable__label {background-color: #d4ebff;}#sk-container-id-2 div.sk-label input.sk-toggleable__control:checked~label.sk-toggleable__label {background-color: #d4ebff;}#sk-container-id-2 input.sk-hidden--visually {border: 0;clip: rect(1px 1px 1px 1px);clip: rect(1px, 1px, 1px, 1px);height: 1px;margin: -1px;overflow: hidden;padding: 0;position: absolute;width: 1px;}#sk-container-id-2 div.sk-estimator {font-family: monospace;background-color: #f0f8ff;border: 1px dotted black;border-radius: 0.25em;box-sizing: border-box;margin-bottom: 0.5em;}#sk-container-id-2 div.sk-estimator:hover {background-color: #d4ebff;}#sk-container-id-2 div.sk-parallel-item::after {content: \"\";width: 100%;border-bottom: 1px solid gray;flex-grow: 1;}#sk-container-id-2 div.sk-label:hover label.sk-toggleable__label {background-color: #d4ebff;}#sk-container-id-2 div.sk-serial::before {content: \"\";position: absolute;border-left: 1px solid gray;box-sizing: border-box;top: 0;bottom: 0;left: 50%;z-index: 0;}#sk-container-id-2 div.sk-serial {display: flex;flex-direction: column;align-items: center;background-color: white;padding-right: 0.2em;padding-left: 0.2em;position: relative;}#sk-container-id-2 div.sk-item {position: relative;z-index: 1;}#sk-container-id-2 div.sk-parallel {display: flex;align-items: stretch;justify-content: center;background-color: white;position: relative;}#sk-container-id-2 div.sk-item::before, #sk-container-id-2 div.sk-parallel-item::before {content: \"\";position: absolute;border-left: 1px solid gray;box-sizing: border-box;top: 0;bottom: 0;left: 50%;z-index: -1;}#sk-container-id-2 div.sk-parallel-item {display: flex;flex-direction: column;z-index: 1;position: relative;background-color: white;}#sk-container-id-2 div.sk-parallel-item:first-child::after {align-self: flex-end;width: 50%;}#sk-container-id-2 div.sk-parallel-item:last-child::after {align-self: flex-start;width: 50%;}#sk-container-id-2 div.sk-parallel-item:only-child::after {width: 0;}#sk-container-id-2 div.sk-dashed-wrapped {border: 1px dashed gray;margin: 0 0.4em 0.5em 0.4em;box-sizing: border-box;padding-bottom: 0.4em;background-color: white;}#sk-container-id-2 div.sk-label label {font-family: monospace;font-weight: bold;display: inline-block;line-height: 1.2em;}#sk-container-id-2 div.sk-label-container {text-align: center;}#sk-container-id-2 div.sk-container {/* jupyter's `normalize.less` sets `[hidden] { display: none; }` but bootstrap.min.css set `[hidden] { display: none !important; }` so we also need the `!important` here to be able to override the default hidden behavior on the sphinx rendered scikit-learn.org. See: https://github.com/scikit-learn/scikit-learn/issues/21755 */display: inline-block !important;position: relative;}#sk-container-id-2 div.sk-text-repr-fallback {display: none;}</style><div id=\"sk-container-id-2\" class=\"sk-top-container\"><div class=\"sk-text-repr-fallback\"><pre>LinearRegression()</pre><b>In a Jupyter environment, please rerun this cell to show the HTML representation or trust the notebook. <br />On GitHub, the HTML representation is unable to render, please try loading this page with nbviewer.org.</b></div><div class=\"sk-container\" hidden><div class=\"sk-item\"><div class=\"sk-estimator sk-toggleable\"><input class=\"sk-toggleable__control sk-hidden--visually\" id=\"sk-estimator-id-2\" type=\"checkbox\" checked><label for=\"sk-estimator-id-2\" class=\"sk-toggleable__label sk-toggleable__label-arrow\">LinearRegression</label><div class=\"sk-toggleable__content\"><pre>LinearRegression()</pre></div></div></div></div></div>"
      ],
      "text/plain": [
       "LinearRegression()"
      ]
     },
     "execution_count": 92,
     "metadata": {},
     "output_type": "execute_result"
    }
   ],
   "source": [
    "lr2 = LinearRegression()\n",
    "lr2.fit(X2_train, Y2_train)"
   ]
  },
  {
   "cell_type": "code",
   "execution_count": 93,
   "id": "a1d7e796",
   "metadata": {},
   "outputs": [
    {
     "data": {
      "text/plain": [
       "array([3.51048882, 3.64624727, 3.91010291, 3.5310687 , 3.63902146,\n",
       "       3.50307539, 4.12011187, 3.80908364, 3.67520392, 3.50085444,\n",
       "       3.60862335, 3.70999879, 3.67316422, 4.08726229, 3.65341947,\n",
       "       3.65980031, 4.04504739, 3.58494806, 4.14987018, 3.58862444,\n",
       "       3.64562671, 3.83260972, 3.50762822, 3.68342688, 3.70324063,\n",
       "       3.95263685, 4.13305177, 3.46835315, 3.47583025, 3.63654953,\n",
       "       3.72160944, 3.69534413, 3.8050545 , 3.77048172, 3.53513794,\n",
       "       3.48923858, 4.28697051, 3.50903821, 3.75349993, 3.69338207,\n",
       "       3.70443475, 3.60136421, 4.05891546, 3.61024504, 3.55934397,\n",
       "       3.81244436, 3.81456064, 3.50414448, 3.43098915, 3.51496927,\n",
       "       3.50303322, 3.82541065, 3.83833245, 3.52617849, 3.85815489,\n",
       "       3.84711823, 3.57644781, 3.67179775, 3.55948445, 3.57708213,\n",
       "       3.63459424, 4.12782089, 3.59805804, 3.48051497, 4.20969075,\n",
       "       3.78838586, 3.97159693, 3.64282754, 3.63616819, 3.78291687,\n",
       "       3.67089778, 3.88598112, 3.53337802, 3.78804375, 3.50613344,\n",
       "       4.34315201, 3.51727086, 3.80273326, 3.91025386, 3.52865766,\n",
       "       3.59452573, 4.02355483, 4.05226091, 3.74532676, 4.01648087,\n",
       "       3.75639088, 3.49604736, 4.05778422, 4.0555774 , 3.50822673,\n",
       "       3.52899145, 3.54964665, 4.00533319, 3.69243693, 3.49620613,\n",
       "       3.88080211, 3.50103641, 3.5804509 , 3.54935095, 3.58663405])"
      ]
     },
     "execution_count": 93,
     "metadata": {},
     "output_type": "execute_result"
    }
   ],
   "source": [
    "Y_lr2 = lr2.predict(X2_test)\n",
    "Y_lr2[:100]"
   ]
  },
  {
   "cell_type": "code",
   "execution_count": 96,
   "id": "e079e573",
   "metadata": {},
   "outputs": [
    {
     "data": {
      "image/png": "[encoded data removed]",
      "text/plain": [
       "<Figure size 864x504 with 1 Axes>"
      ]
     },
     "metadata": {},
     "output_type": "display_data"
    }
   ],
   "source": [
    "plt.figure(figsize=(12,7))\n",
    "sns.histplot(Y2_test-Y_lr2, kde=True)\n",
    "plt.show()"
   ]
  },
  {
   "cell_type": "markdown",
   "id": "aef389dc",
   "metadata": {},
   "source": [
    "### Random Forest Regression"
   ]
  },
  {
   "cell_type": "markdown",
   "id": "a1e6ca16",
   "metadata": {},
   "source": [
    "#### For data_with_location"
   ]
  },
  {
   "cell_type": "code",
   "execution_count": 97,
   "id": "dd648902",
   "metadata": {},
   "outputs": [
    {
     "data": {
      "text/html": [
       "<style>#sk-container-id-3 {color: black;background-color: white;}#sk-container-id-3 pre{padding: 0;}#sk-container-id-3 div.sk-toggleable {background-color: white;}#sk-container-id-3 label.sk-toggleable__label {cursor: pointer;display: block;width: 100%;margin-bottom: 0;padding: 0.3em;box-sizing: border-box;text-align: center;}#sk-container-id-3 label.sk-toggleable__label-arrow:before {content: \"▸\";float: left;margin-right: 0.25em;color: #696969;}#sk-container-id-3 label.sk-toggleable__label-arrow:hover:before {color: black;}#sk-container-id-3 div.sk-estimator:hover label.sk-toggleable__label-arrow:before {color: black;}#sk-container-id-3 div.sk-toggleable__content {max-height: 0;max-width: 0;overflow: hidden;text-align: left;background-color: #f0f8ff;}#sk-container-id-3 div.sk-toggleable__content pre {margin: 0.2em;color: black;border-radius: 0.25em;background-color: #f0f8ff;}#sk-container-id-3 input.sk-toggleable__control:checked~div.sk-toggleable__content {max-height: 200px;max-width: 100%;overflow: auto;}#sk-container-id-3 input.sk-toggleable__control:checked~label.sk-toggleable__label-arrow:before {content: \"▾\";}#sk-container-id-3 div.sk-estimator input.sk-toggleable__control:checked~label.sk-toggleable__label {background-color: #d4ebff;}#sk-container-id-3 div.sk-label input.sk-toggleable__control:checked~label.sk-toggleable__label {background-color: #d4ebff;}#sk-container-id-3 input.sk-hidden--visually {border: 0;clip: rect(1px 1px 1px 1px);clip: rect(1px, 1px, 1px, 1px);height: 1px;margin: -1px;overflow: hidden;padding: 0;position: absolute;width: 1px;}#sk-container-id-3 div.sk-estimator {font-family: monospace;background-color: #f0f8ff;border: 1px dotted black;border-radius: 0.25em;box-sizing: border-box;margin-bottom: 0.5em;}#sk-container-id-3 div.sk-estimator:hover {background-color: #d4ebff;}#sk-container-id-3 div.sk-parallel-item::after {content: \"\";width: 100%;border-bottom: 1px solid gray;flex-grow: 1;}#sk-container-id-3 div.sk-label:hover label.sk-toggleable__label {background-color: #d4ebff;}#sk-container-id-3 div.sk-serial::before {content: \"\";position: absolute;border-left: 1px solid gray;box-sizing: border-box;top: 0;bottom: 0;left: 50%;z-index: 0;}#sk-container-id-3 div.sk-serial {display: flex;flex-direction: column;align-items: center;background-color: white;padding-right: 0.2em;padding-left: 0.2em;position: relative;}#sk-container-id-3 div.sk-item {position: relative;z-index: 1;}#sk-container-id-3 div.sk-parallel {display: flex;align-items: stretch;justify-content: center;background-color: white;position: relative;}#sk-container-id-3 div.sk-item::before, #sk-container-id-3 div.sk-parallel-item::before {content: \"\";position: absolute;border-left: 1px solid gray;box-sizing: border-box;top: 0;bottom: 0;left: 50%;z-index: -1;}#sk-container-id-3 div.sk-parallel-item {display: flex;flex-direction: column;z-index: 1;position: relative;background-color: white;}#sk-container-id-3 div.sk-parallel-item:first-child::after {align-self: flex-end;width: 50%;}#sk-container-id-3 div.sk-parallel-item:last-child::after {align-self: flex-start;width: 50%;}#sk-container-id-3 div.sk-parallel-item:only-child::after {width: 0;}#sk-container-id-3 div.sk-dashed-wrapped {border: 1px dashed gray;margin: 0 0.4em 0.5em 0.4em;box-sizing: border-box;padding-bottom: 0.4em;background-color: white;}#sk-container-id-3 div.sk-label label {font-family: monospace;font-weight: bold;display: inline-block;line-height: 1.2em;}#sk-container-id-3 div.sk-label-container {text-align: center;}#sk-container-id-3 div.sk-container {/* jupyter's `normalize.less` sets `[hidden] { display: none; }` but bootstrap.min.css set `[hidden] { display: none !important; }` so we also need the `!important` here to be able to override the default hidden behavior on the sphinx rendered scikit-learn.org. See: https://github.com/scikit-learn/scikit-learn/issues/21755 */display: inline-block !important;position: relative;}#sk-container-id-3 div.sk-text-repr-fallback {display: none;}</style><div id=\"sk-container-id-3\" class=\"sk-top-container\"><div class=\"sk-text-repr-fallback\"><pre>RandomForestRegressor()</pre><b>In a Jupyter environment, please rerun this cell to show the HTML representation or trust the notebook. <br />On GitHub, the HTML representation is unable to render, please try loading this page with nbviewer.org.</b></div><div class=\"sk-container\" hidden><div class=\"sk-item\"><div class=\"sk-estimator sk-toggleable\"><input class=\"sk-toggleable__control sk-hidden--visually\" id=\"sk-estimator-id-3\" type=\"checkbox\" checked><label for=\"sk-estimator-id-3\" class=\"sk-toggleable__label sk-toggleable__label-arrow\">RandomForestRegressor</label><div class=\"sk-toggleable__content\"><pre>RandomForestRegressor()</pre></div></div></div></div></div>"
      ],
      "text/plain": [
       "RandomForestRegressor()"
      ]
     },
     "execution_count": 97,
     "metadata": {},
     "output_type": "execute_result"
    }
   ],
   "source": [
    "rf1 = RandomForestRegressor()\n",
    "rf1.fit(X1_train, Y1_train)"
   ]
  },
  {
   "cell_type": "code",
   "execution_count": 98,
   "id": "a4d318f1",
   "metadata": {},
   "outputs": [
    {
     "data": {
      "text/plain": [
       "array([3.2152    , 3.55744444, 3.7       , 3.18554545, 3.2563    ,\n",
       "       4.101     , 3.59333333, 3.7       , 4.2       , 3.7       ,\n",
       "       3.5       , 3.7       , 3.7       , 3.7       , 4.344     ,\n",
       "       3.309625  , 3.9565    , 4.2       , 3.7       , 3.2       ,\n",
       "       3.168     , 3.7       , 3.7       , 3.7481619 , 3.579     ,\n",
       "       3.84336667, 3.7       , 4.3       , 3.5       , 3.359     ,\n",
       "       3.506     , 3.34145238, 4.2       , 4.389     , 4.        ,\n",
       "       3.2172    , 4.432     , 3.474     , 3.7       , 4.132     ,\n",
       "       3.799     , 3.7       , 3.6125    , 4.146     , 3.415     ,\n",
       "       3.5875    , 4.008     , 3.271     , 4.4       , 4.199     ,\n",
       "       3.8       , 4.2       , 3.7       , 3.        , 3.7       ,\n",
       "       3.858     , 3.3       , 3.83071429, 3.7       , 3.7       ,\n",
       "       3.7       , 3.882     , 2.891     , 3.63      , 4.        ,\n",
       "       4.10858333, 3.288     , 3.104     , 3.972     , 3.305     ,\n",
       "       3.7       , 3.68      , 3.598     , 3.3527    , 3.527     ,\n",
       "       3.492     , 3.9       , 3.7       , 3.61471349, 3.7       ,\n",
       "       3.7       , 4.214     , 3.40446667, 3.44216667, 3.3       ,\n",
       "       3.9       , 3.5       , 4.38      , 3.47605952, 4.18      ,\n",
       "       3.7       , 3.        , 3.8       , 3.8       , 3.575     ,\n",
       "       4.102     , 4.        , 3.8       , 4.089     , 4.2       ])"
      ]
     },
     "execution_count": 98,
     "metadata": {},
     "output_type": "execute_result"
    }
   ],
   "source": [
    "Y_rf1 = rf1.predict(X1_test)\n",
    "Y_rf1[:100]"
   ]
  },
  {
   "cell_type": "code",
   "execution_count": 100,
   "id": "91dc8e48",
   "metadata": {},
   "outputs": [
    {
     "data": {
      "image/png": "[encoded data removed]",
      "text/plain": [
       "<Figure size 864x504 with 1 Axes>"
      ]
     },
     "metadata": {},
     "output_type": "display_data"
    }
   ],
   "source": [
    "plt.figure(figsize=(12,7))\n",
    "sns.histplot(Y1_test-Y_rf1, kde=True, bins=100)\n",
    "plt.show()"
   ]
  },
  {
   "cell_type": "markdown",
   "id": "c08b8b87",
   "metadata": {},
   "source": [
    "#### For data_with_area"
   ]
  },
  {
   "cell_type": "code",
   "execution_count": 101,
   "id": "3ca7b7b1",
   "metadata": {},
   "outputs": [
    {
     "data": {
      "text/html": [
       "<style>#sk-container-id-4 {color: black;background-color: white;}#sk-container-id-4 pre{padding: 0;}#sk-container-id-4 div.sk-toggleable {background-color: white;}#sk-container-id-4 label.sk-toggleable__label {cursor: pointer;display: block;width: 100%;margin-bottom: 0;padding: 0.3em;box-sizing: border-box;text-align: center;}#sk-container-id-4 label.sk-toggleable__label-arrow:before {content: \"▸\";float: left;margin-right: 0.25em;color: #696969;}#sk-container-id-4 label.sk-toggleable__label-arrow:hover:before {color: black;}#sk-container-id-4 div.sk-estimator:hover label.sk-toggleable__label-arrow:before {color: black;}#sk-container-id-4 div.sk-toggleable__content {max-height: 0;max-width: 0;overflow: hidden;text-align: left;background-color: #f0f8ff;}#sk-container-id-4 div.sk-toggleable__content pre {margin: 0.2em;color: black;border-radius: 0.25em;background-color: #f0f8ff;}#sk-container-id-4 input.sk-toggleable__control:checked~div.sk-toggleable__content {max-height: 200px;max-width: 100%;overflow: auto;}#sk-container-id-4 input.sk-toggleable__control:checked~label.sk-toggleable__label-arrow:before {content: \"▾\";}#sk-container-id-4 div.sk-estimator input.sk-toggleable__control:checked~label.sk-toggleable__label {background-color: #d4ebff;}#sk-container-id-4 div.sk-label input.sk-toggleable__control:checked~label.sk-toggleable__label {background-color: #d4ebff;}#sk-container-id-4 input.sk-hidden--visually {border: 0;clip: rect(1px 1px 1px 1px);clip: rect(1px, 1px, 1px, 1px);height: 1px;margin: -1px;overflow: hidden;padding: 0;position: absolute;width: 1px;}#sk-container-id-4 div.sk-estimator {font-family: monospace;background-color: #f0f8ff;border: 1px dotted black;border-radius: 0.25em;box-sizing: border-box;margin-bottom: 0.5em;}#sk-container-id-4 div.sk-estimator:hover {background-color: #d4ebff;}#sk-container-id-4 div.sk-parallel-item::after {content: \"\";width: 100%;border-bottom: 1px solid gray;flex-grow: 1;}#sk-container-id-4 div.sk-label:hover label.sk-toggleable__label {background-color: #d4ebff;}#sk-container-id-4 div.sk-serial::before {content: \"\";position: absolute;border-left: 1px solid gray;box-sizing: border-box;top: 0;bottom: 0;left: 50%;z-index: 0;}#sk-container-id-4 div.sk-serial {display: flex;flex-direction: column;align-items: center;background-color: white;padding-right: 0.2em;padding-left: 0.2em;position: relative;}#sk-container-id-4 div.sk-item {position: relative;z-index: 1;}#sk-container-id-4 div.sk-parallel {display: flex;align-items: stretch;justify-content: center;background-color: white;position: relative;}#sk-container-id-4 div.sk-item::before, #sk-container-id-4 div.sk-parallel-item::before {content: \"\";position: absolute;border-left: 1px solid gray;box-sizing: border-box;top: 0;bottom: 0;left: 50%;z-index: -1;}#sk-container-id-4 div.sk-parallel-item {display: flex;flex-direction: column;z-index: 1;position: relative;background-color: white;}#sk-container-id-4 div.sk-parallel-item:first-child::after {align-self: flex-end;width: 50%;}#sk-container-id-4 div.sk-parallel-item:last-child::after {align-self: flex-start;width: 50%;}#sk-container-id-4 div.sk-parallel-item:only-child::after {width: 0;}#sk-container-id-4 div.sk-dashed-wrapped {border: 1px dashed gray;margin: 0 0.4em 0.5em 0.4em;box-sizing: border-box;padding-bottom: 0.4em;background-color: white;}#sk-container-id-4 div.sk-label label {font-family: monospace;font-weight: bold;display: inline-block;line-height: 1.2em;}#sk-container-id-4 div.sk-label-container {text-align: center;}#sk-container-id-4 div.sk-container {/* jupyter's `normalize.less` sets `[hidden] { display: none; }` but bootstrap.min.css set `[hidden] { display: none !important; }` so we also need the `!important` here to be able to override the default hidden behavior on the sphinx rendered scikit-learn.org. See: https://github.com/scikit-learn/scikit-learn/issues/21755 */display: inline-block !important;position: relative;}#sk-container-id-4 div.sk-text-repr-fallback {display: none;}</style><div id=\"sk-container-id-4\" class=\"sk-top-container\"><div class=\"sk-text-repr-fallback\"><pre>RandomForestRegressor()</pre><b>In a Jupyter environment, please rerun this cell to show the HTML representation or trust the notebook. <br />On GitHub, the HTML representation is unable to render, please try loading this page with nbviewer.org.</b></div><div class=\"sk-container\" hidden><div class=\"sk-item\"><div class=\"sk-estimator sk-toggleable\"><input class=\"sk-toggleable__control sk-hidden--visually\" id=\"sk-estimator-id-4\" type=\"checkbox\" checked><label for=\"sk-estimator-id-4\" class=\"sk-toggleable__label sk-toggleable__label-arrow\">RandomForestRegressor</label><div class=\"sk-toggleable__content\"><pre>RandomForestRegressor()</pre></div></div></div></div></div>"
      ],
      "text/plain": [
       "RandomForestRegressor()"
      ]
     },
     "execution_count": 101,
     "metadata": {},
     "output_type": "execute_result"
    }
   ],
   "source": [
    "rf2 = RandomForestRegressor()\n",
    "rf2.fit(X2_train, Y2_train)"
   ]
  },
  {
   "cell_type": "code",
   "execution_count": 102,
   "id": "72c97918",
   "metadata": {},
   "outputs": [
    {
     "data": {
      "text/plain": [
       "array([3.7       , 4.093     , 4.3       , 3.189     , 3.365     ,\n",
       "       3.7       , 4.199     , 4.195     , 3.109     , 3.806     ,\n",
       "       3.474     , 3.7       , 3.7       , 4.188     , 3.676     ,\n",
       "       3.302     , 4.412     , 3.782     , 4.275     , 3.7       ,\n",
       "       4.185     , 3.997     , 3.314     , 3.901     , 3.7       ,\n",
       "       4.29      , 4.103     , 3.48033333, 3.7       , 3.7       ,\n",
       "       3.601     , 3.895     , 4.072     , 3.898     , 3.7       ,\n",
       "       3.212     , 4.503     , 3.146     , 3.059     , 3.5       ,\n",
       "       2.87      , 3.978     , 4.542     , 3.7       , 3.7       ,\n",
       "       4.099     , 3.917     , 2.875     , 3.613     , 3.553     ,\n",
       "       3.007     , 4.048     , 3.7       , 3.01      , 3.704     ,\n",
       "       3.9       , 3.588     , 3.818     , 3.7       , 3.393     ,\n",
       "       3.422     , 4.201     , 3.88475   , 3.7       , 4.4       ,\n",
       "       4.002     , 4.032     , 3.711     , 3.438     , 3.868     ,\n",
       "       3.18731429, 4.1       , 3.7       , 3.69632857, 3.73      ,\n",
       "       4.779     , 3.394     , 3.888     , 4.098     , 3.839     ,\n",
       "       3.599     , 3.7       , 4.464     , 3.7       , 3.821     ,\n",
       "       3.74      , 3.42733333, 4.301     , 4.468     , 3.147     ,\n",
       "       3.7       , 3.276     , 3.9035    , 3.89      , 3.213     ,\n",
       "       3.992     , 3.7       , 3.7       , 3.303     , 3.892     ])"
      ]
     },
     "execution_count": 102,
     "metadata": {},
     "output_type": "execute_result"
    }
   ],
   "source": [
    "Y_rf2 = rf2.predict(X2_test)\n",
    "Y_rf2[:100]"
   ]
  },
  {
   "cell_type": "code",
   "execution_count": 104,
   "id": "6b347313",
   "metadata": {},
   "outputs": [
    {
     "data": {
      "image/png": "[encoded data removed]",
      "text/plain": [
       "<Figure size 864x504 with 1 Axes>"
      ]
     },
     "metadata": {},
     "output_type": "display_data"
    }
   ],
   "source": [
    "plt.figure(figsize=(12,7))\n",
    "sns.histplot(Y2_test - Y_rf2, kde=True, bins=100)\n",
    "plt.show()"
   ]
  },
  {
   "cell_type": "markdown",
   "id": "4d35cfa2",
   "metadata": {},
   "source": [
    "### Decision Tree Regressor"
   ]
  },
  {
   "cell_type": "markdown",
   "id": "1f207bcc",
   "metadata": {},
   "source": [
    "#### For data_with_location"
   ]
  },
  {
   "cell_type": "code",
   "execution_count": 105,
   "id": "ab7e98c4",
   "metadata": {},
   "outputs": [
    {
     "data": {
      "text/html": [
       "<style>#sk-container-id-5 {color: black;background-color: white;}#sk-container-id-5 pre{padding: 0;}#sk-container-id-5 div.sk-toggleable {background-color: white;}#sk-container-id-5 label.sk-toggleable__label {cursor: pointer;display: block;width: 100%;margin-bottom: 0;padding: 0.3em;box-sizing: border-box;text-align: center;}#sk-container-id-5 label.sk-toggleable__label-arrow:before {content: \"▸\";float: left;margin-right: 0.25em;color: #696969;}#sk-container-id-5 label.sk-toggleable__label-arrow:hover:before {color: black;}#sk-container-id-5 div.sk-estimator:hover label.sk-toggleable__label-arrow:before {color: black;}#sk-container-id-5 div.sk-toggleable__content {max-height: 0;max-width: 0;overflow: hidden;text-align: left;background-color: #f0f8ff;}#sk-container-id-5 div.sk-toggleable__content pre {margin: 0.2em;color: black;border-radius: 0.25em;background-color: #f0f8ff;}#sk-container-id-5 input.sk-toggleable__control:checked~div.sk-toggleable__content {max-height: 200px;max-width: 100%;overflow: auto;}#sk-container-id-5 input.sk-toggleable__control:checked~label.sk-toggleable__label-arrow:before {content: \"▾\";}#sk-container-id-5 div.sk-estimator input.sk-toggleable__control:checked~label.sk-toggleable__label {background-color: #d4ebff;}#sk-container-id-5 div.sk-label input.sk-toggleable__control:checked~label.sk-toggleable__label {background-color: #d4ebff;}#sk-container-id-5 input.sk-hidden--visually {border: 0;clip: rect(1px 1px 1px 1px);clip: rect(1px, 1px, 1px, 1px);height: 1px;margin: -1px;overflow: hidden;padding: 0;position: absolute;width: 1px;}#sk-container-id-5 div.sk-estimator {font-family: monospace;background-color: #f0f8ff;border: 1px dotted black;border-radius: 0.25em;box-sizing: border-box;margin-bottom: 0.5em;}#sk-container-id-5 div.sk-estimator:hover {background-color: #d4ebff;}#sk-container-id-5 div.sk-parallel-item::after {content: \"\";width: 100%;border-bottom: 1px solid gray;flex-grow: 1;}#sk-container-id-5 div.sk-label:hover label.sk-toggleable__label {background-color: #d4ebff;}#sk-container-id-5 div.sk-serial::before {content: \"\";position: absolute;border-left: 1px solid gray;box-sizing: border-box;top: 0;bottom: 0;left: 50%;z-index: 0;}#sk-container-id-5 div.sk-serial {display: flex;flex-direction: column;align-items: center;background-color: white;padding-right: 0.2em;padding-left: 0.2em;position: relative;}#sk-container-id-5 div.sk-item {position: relative;z-index: 1;}#sk-container-id-5 div.sk-parallel {display: flex;align-items: stretch;justify-content: center;background-color: white;position: relative;}#sk-container-id-5 div.sk-item::before, #sk-container-id-5 div.sk-parallel-item::before {content: \"\";position: absolute;border-left: 1px solid gray;box-sizing: border-box;top: 0;bottom: 0;left: 50%;z-index: -1;}#sk-container-id-5 div.sk-parallel-item {display: flex;flex-direction: column;z-index: 1;position: relative;background-color: white;}#sk-container-id-5 div.sk-parallel-item:first-child::after {align-self: flex-end;width: 50%;}#sk-container-id-5 div.sk-parallel-item:last-child::after {align-self: flex-start;width: 50%;}#sk-container-id-5 div.sk-parallel-item:only-child::after {width: 0;}#sk-container-id-5 div.sk-dashed-wrapped {border: 1px dashed gray;margin: 0 0.4em 0.5em 0.4em;box-sizing: border-box;padding-bottom: 0.4em;background-color: white;}#sk-container-id-5 div.sk-label label {font-family: monospace;font-weight: bold;display: inline-block;line-height: 1.2em;}#sk-container-id-5 div.sk-label-container {text-align: center;}#sk-container-id-5 div.sk-container {/* jupyter's `normalize.less` sets `[hidden] { display: none; }` but bootstrap.min.css set `[hidden] { display: none !important; }` so we also need the `!important` here to be able to override the default hidden behavior on the sphinx rendered scikit-learn.org. See: https://github.com/scikit-learn/scikit-learn/issues/21755 */display: inline-block !important;position: relative;}#sk-container-id-5 div.sk-text-repr-fallback {display: none;}</style><div id=\"sk-container-id-5\" class=\"sk-top-container\"><div class=\"sk-text-repr-fallback\"><pre>DecisionTreeRegressor()</pre><b>In a Jupyter environment, please rerun this cell to show the HTML representation or trust the notebook. <br />On GitHub, the HTML representation is unable to render, please try loading this page with nbviewer.org.</b></div><div class=\"sk-container\" hidden><div class=\"sk-item\"><div class=\"sk-estimator sk-toggleable\"><input class=\"sk-toggleable__control sk-hidden--visually\" id=\"sk-estimator-id-5\" type=\"checkbox\" checked><label for=\"sk-estimator-id-5\" class=\"sk-toggleable__label sk-toggleable__label-arrow\">DecisionTreeRegressor</label><div class=\"sk-toggleable__content\"><pre>DecisionTreeRegressor()</pre></div></div></div></div></div>"
      ],
      "text/plain": [
       "DecisionTreeRegressor()"
      ]
     },
     "execution_count": 105,
     "metadata": {},
     "output_type": "execute_result"
    }
   ],
   "source": [
    "dt1 = DecisionTreeRegressor()\n",
    "dt1.fit(X1_train, Y1_train)"
   ]
  },
  {
   "cell_type": "code",
   "execution_count": 106,
   "id": "f4e04b86",
   "metadata": {},
   "outputs": [
    {
     "data": {
      "text/plain": [
       "array([3.2       , 2.9       , 3.7       , 3.2       , 3.2       ,\n",
       "       4.1       , 3.6       , 3.7       , 4.2       , 3.7       ,\n",
       "       3.5       , 3.7       , 3.7       , 3.7       , 4.4       ,\n",
       "       3.2       , 4.05      , 4.2       , 3.7       , 3.2       ,\n",
       "       3.1       , 3.7       , 3.7       , 3.75      , 3.6       ,\n",
       "       3.85      , 3.7       , 4.3       , 3.5       , 3.4       ,\n",
       "       3.5       , 3.43333333, 4.2       , 4.4       , 4.        ,\n",
       "       3.1       , 4.4       , 3.5       , 3.7       , 4.1       ,\n",
       "       3.8       , 3.7       , 3.5       , 3.9       , 3.7       ,\n",
       "       3.6       , 4.        , 3.3       , 4.4       , 4.2       ,\n",
       "       3.8       , 4.2       , 3.7       , 3.        , 3.7       ,\n",
       "       3.9       , 3.3       , 3.9       , 3.7       , 3.7       ,\n",
       "       3.7       , 3.9       , 2.9       , 3.7       , 4.        ,\n",
       "       4.1       , 3.3       , 3.1       , 4.        , 3.3       ,\n",
       "       3.7       , 3.7       , 3.6       , 3.5       , 3.6       ,\n",
       "       3.5       , 3.9       , 3.7       , 3.61428571, 3.7       ,\n",
       "       3.7       , 4.2       , 3.5       , 3.5       , 3.3       ,\n",
       "       3.9       , 3.5       , 4.4       , 3.475     , 4.2       ,\n",
       "       3.7       , 3.        , 3.8       , 3.8       , 3.6       ,\n",
       "       4.1       , 4.        , 3.8       , 4.1       , 4.2       ])"
      ]
     },
     "execution_count": 106,
     "metadata": {},
     "output_type": "execute_result"
    }
   ],
   "source": [
    "Y_dt1 = dt1.predict(X1_test)\n",
    "Y_dt1[:100]"
   ]
  },
  {
   "cell_type": "code",
   "execution_count": 113,
   "id": "a09b1f53",
   "metadata": {},
   "outputs": [
    {
     "data": {
      "image/png": "[encoded data removed]",
      "text/plain": [
       "<Figure size 864x576 with 1 Axes>"
      ]
     },
     "metadata": {},
     "output_type": "display_data"
    }
   ],
   "source": [
    "plt.figure(figsize=(12,8))\n",
    "plt.hist(Y1_test-Y_dt1, bins=100, alpha=0.6)\n",
    "plt.show()"
   ]
  },
  {
   "cell_type": "markdown",
   "id": "1b34ac75",
   "metadata": {},
   "source": [
    "#### For data_with_area"
   ]
  },
  {
   "cell_type": "code",
   "execution_count": 114,
   "id": "26a1b8d9",
   "metadata": {},
   "outputs": [
    {
     "data": {
      "text/html": [
       "<style>#sk-container-id-6 {color: black;background-color: white;}#sk-container-id-6 pre{padding: 0;}#sk-container-id-6 div.sk-toggleable {background-color: white;}#sk-container-id-6 label.sk-toggleable__label {cursor: pointer;display: block;width: 100%;margin-bottom: 0;padding: 0.3em;box-sizing: border-box;text-align: center;}#sk-container-id-6 label.sk-toggleable__label-arrow:before {content: \"▸\";float: left;margin-right: 0.25em;color: #696969;}#sk-container-id-6 label.sk-toggleable__label-arrow:hover:before {color: black;}#sk-container-id-6 div.sk-estimator:hover label.sk-toggleable__label-arrow:before {color: black;}#sk-container-id-6 div.sk-toggleable__content {max-height: 0;max-width: 0;overflow: hidden;text-align: left;background-color: #f0f8ff;}#sk-container-id-6 div.sk-toggleable__content pre {margin: 0.2em;color: black;border-radius: 0.25em;background-color: #f0f8ff;}#sk-container-id-6 input.sk-toggleable__control:checked~div.sk-toggleable__content {max-height: 200px;max-width: 100%;overflow: auto;}#sk-container-id-6 input.sk-toggleable__control:checked~label.sk-toggleable__label-arrow:before {content: \"▾\";}#sk-container-id-6 div.sk-estimator input.sk-toggleable__control:checked~label.sk-toggleable__label {background-color: #d4ebff;}#sk-container-id-6 div.sk-label input.sk-toggleable__control:checked~label.sk-toggleable__label {background-color: #d4ebff;}#sk-container-id-6 input.sk-hidden--visually {border: 0;clip: rect(1px 1px 1px 1px);clip: rect(1px, 1px, 1px, 1px);height: 1px;margin: -1px;overflow: hidden;padding: 0;position: absolute;width: 1px;}#sk-container-id-6 div.sk-estimator {font-family: monospace;background-color: #f0f8ff;border: 1px dotted black;border-radius: 0.25em;box-sizing: border-box;margin-bottom: 0.5em;}#sk-container-id-6 div.sk-estimator:hover {background-color: #d4ebff;}#sk-container-id-6 div.sk-parallel-item::after {content: \"\";width: 100%;border-bottom: 1px solid gray;flex-grow: 1;}#sk-container-id-6 div.sk-label:hover label.sk-toggleable__label {background-color: #d4ebff;}#sk-container-id-6 div.sk-serial::before {content: \"\";position: absolute;border-left: 1px solid gray;box-sizing: border-box;top: 0;bottom: 0;left: 50%;z-index: 0;}#sk-container-id-6 div.sk-serial {display: flex;flex-direction: column;align-items: center;background-color: white;padding-right: 0.2em;padding-left: 0.2em;position: relative;}#sk-container-id-6 div.sk-item {position: relative;z-index: 1;}#sk-container-id-6 div.sk-parallel {display: flex;align-items: stretch;justify-content: center;background-color: white;position: relative;}#sk-container-id-6 div.sk-item::before, #sk-container-id-6 div.sk-parallel-item::before {content: \"\";position: absolute;border-left: 1px solid gray;box-sizing: border-box;top: 0;bottom: 0;left: 50%;z-index: -1;}#sk-container-id-6 div.sk-parallel-item {display: flex;flex-direction: column;z-index: 1;position: relative;background-color: white;}#sk-container-id-6 div.sk-parallel-item:first-child::after {align-self: flex-end;width: 50%;}#sk-container-id-6 div.sk-parallel-item:last-child::after {align-self: flex-start;width: 50%;}#sk-container-id-6 div.sk-parallel-item:only-child::after {width: 0;}#sk-container-id-6 div.sk-dashed-wrapped {border: 1px dashed gray;margin: 0 0.4em 0.5em 0.4em;box-sizing: border-box;padding-bottom: 0.4em;background-color: white;}#sk-container-id-6 div.sk-label label {font-family: monospace;font-weight: bold;display: inline-block;line-height: 1.2em;}#sk-container-id-6 div.sk-label-container {text-align: center;}#sk-container-id-6 div.sk-container {/* jupyter's `normalize.less` sets `[hidden] { display: none; }` but bootstrap.min.css set `[hidden] { display: none !important; }` so we also need the `!important` here to be able to override the default hidden behavior on the sphinx rendered scikit-learn.org. See: https://github.com/scikit-learn/scikit-learn/issues/21755 */display: inline-block !important;position: relative;}#sk-container-id-6 div.sk-text-repr-fallback {display: none;}</style><div id=\"sk-container-id-6\" class=\"sk-top-container\"><div class=\"sk-text-repr-fallback\"><pre>DecisionTreeRegressor()</pre><b>In a Jupyter environment, please rerun this cell to show the HTML representation or trust the notebook. <br />On GitHub, the HTML representation is unable to render, please try loading this page with nbviewer.org.</b></div><div class=\"sk-container\" hidden><div class=\"sk-item\"><div class=\"sk-estimator sk-toggleable\"><input class=\"sk-toggleable__control sk-hidden--visually\" id=\"sk-estimator-id-6\" type=\"checkbox\" checked><label for=\"sk-estimator-id-6\" class=\"sk-toggleable__label sk-toggleable__label-arrow\">DecisionTreeRegressor</label><div class=\"sk-toggleable__content\"><pre>DecisionTreeRegressor()</pre></div></div></div></div></div>"
      ],
      "text/plain": [
       "DecisionTreeRegressor()"
      ]
     },
     "execution_count": 114,
     "metadata": {},
     "output_type": "execute_result"
    }
   ],
   "source": [
    "dt2 = DecisionTreeRegressor()\n",
    "dt2.fit(X2_train, Y2_train)"
   ]
  },
  {
   "cell_type": "code",
   "execution_count": 116,
   "id": "e469999b",
   "metadata": {},
   "outputs": [
    {
     "data": {
      "text/plain": [
       "array([3.7 , 4.1 , 4.3 , 3.  , 3.5 , 3.7 , 4.2 , 4.2 , 3.1 , 3.9 , 3.7 ,\n",
       "       3.7 , 3.7 , 4.2 , 3.7 , 3.3 , 4.4 , 2.8 , 4.3 , 3.7 , 4.2 , 4.  ,\n",
       "       3.2 , 3.9 , 3.7 , 4.3 , 4.1 , 3.5 , 3.7 , 3.7 , 3.6 , 3.9 , 4.1 ,\n",
       "       3.9 , 3.7 , 3.3 , 4.5 , 3.1 , 2.8 , 3.5 , 2.8 , 3.8 , 4.6 , 3.7 ,\n",
       "       3.7 , 4.6 , 3.9 , 2.7 , 3.7 , 3.5 , 3.1 , 4.1 , 3.7 , 3.  , 3.6 ,\n",
       "       3.9 , 3.6 , 3.9 , 3.7 , 3.4 , 3.4 , 4.2 , 4.  , 3.7 , 4.4 , 4.  ,\n",
       "       4.  , 3.7 , 3.4 , 4.1 , 3.1 , 4.1 , 3.7 , 3.7 , 3.9 , 4.8 , 3.4 ,\n",
       "       3.9 , 4.1 , 4.  , 3.6 , 3.7 , 4.5 , 3.7 , 3.8 , 3.8 , 3.5 , 4.3 ,\n",
       "       4.5 , 3.1 , 3.7 , 3.3 , 3.85, 3.9 , 3.2 , 4.  , 3.7 , 3.7 , 3.3 ,\n",
       "       3.9 ])"
      ]
     },
     "execution_count": 116,
     "metadata": {},
     "output_type": "execute_result"
    }
   ],
   "source": [
    "Y_dt2 = dt2.predict(X2_test)\n",
    "Y_dt2[:100]"
   ]
  },
  {
   "cell_type": "code",
   "execution_count": 117,
   "id": "cb00bf95",
   "metadata": {},
   "outputs": [
    {
     "data": {
      "image/png": "[encoded data removed]",
      "text/plain": [
       "<Figure size 864x576 with 1 Axes>"
      ]
     },
     "metadata": {},
     "output_type": "display_data"
    }
   ],
   "source": [
    "plt.figure(figsize=(12,8))\n",
    "plt.hist(Y2_test - Y_dt2, bins=100, alpha=0.7)\n",
    "plt.show()"
   ]
  },
  {
   "cell_type": "markdown",
   "id": "61b3b8e9",
   "metadata": {},
   "source": [
    "### Model Evaluation"
   ]
  },
  {
   "cell_type": "code",
   "execution_count": 118,
   "id": "74216879",
   "metadata": {},
   "outputs": [],
   "source": [
    "from sklearn.metrics import mean_absolute_error, mean_squared_error, r2_score"
   ]
  },
  {
   "cell_type": "markdown",
   "id": "e12e1c52",
   "metadata": {},
   "source": [
    "#### Linear Regression Model "
   ]
  },
  {
   "cell_type": "markdown",
   "id": "6a96a338",
   "metadata": {},
   "source": [
    "#### for data_with_location"
   ]
  },
  {
   "cell_type": "code",
   "execution_count": 119,
   "id": "66d02d34",
   "metadata": {},
   "outputs": [
    {
     "name": "stdout",
     "output_type": "stream",
     "text": [
      "Coefficient of Determination for train data :  0.35719946892107624\n",
      "Coefficient of Determination for test data :  0.35815519104485527\n",
      "Mean Absolute Error :  0.24026687273294506\n",
      "Mean Squared Error :  0.1012131484570795\n",
      "Root Mean Squared Error :  0.31814013965087695\n",
      "R2 Score :  0.35815519104485527\n"
     ]
    }
   ],
   "source": [
    "mae =  mean_absolute_error(Y1_test, Y_lr1)\n",
    "mse = mean_squared_error(Y1_test, Y_lr1)\n",
    "r2score = r2_score(Y1_test, Y_lr1)\n",
    "\n",
    "print(\"Coefficient of Determination for train data : \",lr1.score(X1_train, Y1_train))\n",
    "print(\"Coefficient of Determination for test data : \",lr1.score(X1_test, Y1_test))\n",
    "print(\"Mean Absolute Error : \", mae)\n",
    "print(\"Mean Squared Error : \", mse) \n",
    "print(\"Root Mean Squared Error : \", np.sqrt(mse))\n",
    "print(\"R2 Score : \", r2score) "
   ]
  },
  {
   "cell_type": "markdown",
   "id": "e347caad",
   "metadata": {},
   "source": [
    "#### for data_with_area"
   ]
  },
  {
   "cell_type": "code",
   "execution_count": 120,
   "id": "c8e0763b",
   "metadata": {},
   "outputs": [
    {
     "name": "stdout",
     "output_type": "stream",
     "text": [
      "Coefficient of Determination for train data :  0.34422351544164764\n",
      "Coefficient of Determination for test data :  0.3442017563355628\n",
      "Mean Absolute Error :  0.24307669761574902\n",
      "Mean Squared Error :  0.10278300226406169\n",
      "Root Mean Squared Error :  0.32059788250090127\n",
      "R2 Score :  0.3442017563355628\n"
     ]
    }
   ],
   "source": [
    "mae =  mean_absolute_error(Y2_test, Y_lr2)\n",
    "mse = mean_squared_error(Y2_test, Y_lr2)\n",
    "r2score = r2_score(Y2_test, Y_lr2)\n",
    "\n",
    "print(\"Coefficient of Determination for train data : \",lr2.score(X2_train, Y2_train))\n",
    "print(\"Coefficient of Determination for test data : \",lr2.score(X2_test, Y2_test))\n",
    "print(\"Mean Absolute Error : \", mae)\n",
    "print(\"Mean Squared Error : \", mse) \n",
    "print(\"Root Mean Squared Error : \", np.sqrt(mse))\n",
    "print(\"R2 Score : \", r2score) "
   ]
  },
  {
   "cell_type": "markdown",
   "id": "6b92db11",
   "metadata": {},
   "source": [
    "#### Random Forest Regression Model "
   ]
  },
  {
   "cell_type": "markdown",
   "id": "37fe18b6",
   "metadata": {},
   "source": [
    "#### for data_with_location"
   ]
  },
  {
   "cell_type": "code",
   "execution_count": 121,
   "id": "5e5d7eb1",
   "metadata": {},
   "outputs": [
    {
     "name": "stdout",
     "output_type": "stream",
     "text": [
      "Coefficient of Determination for train data :  0.9902010498153202\n",
      "Coefficient of Determination for test data :  0.9434738832626935\n",
      "Mean Absolute Error :  0.035915982015370544\n",
      "Mean Squared Error :  0.008913659758888902\n",
      "Root Mean Squared Error :  0.09441218014053537\n",
      "R2 Score :  0.9434738832626935\n"
     ]
    }
   ],
   "source": [
    "mae =  mean_absolute_error(Y1_test, Y_rf1)\n",
    "mse = mean_squared_error(Y1_test, Y_rf1)\n",
    "r2score = r2_score(Y1_test, Y_rf1)\n",
    "\n",
    "print(\"Coefficient of Determination for train data : \",rf1.score(X1_train, Y1_train))\n",
    "print(\"Coefficient of Determination for test data : \",rf1.score(X1_test, Y1_test))\n",
    "print(\"Mean Absolute Error : \", mae)\n",
    "print(\"Mean Squared Error : \", mse) \n",
    "print(\"Root Mean Squared Error : \", np.sqrt(mse))\n",
    "print(\"R2 Score : \", r2score) "
   ]
  },
  {
   "cell_type": "markdown",
   "id": "68525170",
   "metadata": {},
   "source": [
    "#### for data_with_area"
   ]
  },
  {
   "cell_type": "code",
   "execution_count": 122,
   "id": "fdc37bf9",
   "metadata": {},
   "outputs": [
    {
     "name": "stdout",
     "output_type": "stream",
     "text": [
      "Coefficient of Determination for train data :  0.9843278206019042\n",
      "Coefficient of Determination for test data :  0.8875174009553062\n",
      "Mean Absolute Error :  0.05874203321391742\n",
      "Mean Squared Error :  0.017629353759285243\n",
      "Root Mean Squared Error :  0.13277557666711617\n",
      "R2 Score :  0.8875174009553062\n"
     ]
    }
   ],
   "source": [
    "mae =  mean_absolute_error(Y2_test, Y_rf2)\n",
    "mse = mean_squared_error(Y2_test, Y_rf2)\n",
    "r2score = r2_score(Y2_test, Y_rf2)\n",
    "\n",
    "print(\"Coefficient of Determination for train data : \",rf2.score(X2_train, Y2_train))\n",
    "print(\"Coefficient of Determination for test data : \",rf2.score(X2_test, Y2_test))\n",
    "print(\"Mean Absolute Error : \", mae)\n",
    "print(\"Mean Squared Error : \", mse) \n",
    "print(\"Root Mean Squared Error : \", np.sqrt(mse))\n",
    "print(\"R2 Score : \", r2score) "
   ]
  },
  {
   "cell_type": "markdown",
   "id": "177a7ff6",
   "metadata": {},
   "source": [
    "### Decision Tree Regression Model"
   ]
  },
  {
   "cell_type": "markdown",
   "id": "2276f207",
   "metadata": {},
   "source": [
    "#### for data_with_location"
   ]
  },
  {
   "cell_type": "code",
   "execution_count": 123,
   "id": "14dd4770",
   "metadata": {},
   "outputs": [
    {
     "name": "stdout",
     "output_type": "stream",
     "text": [
      "Coefficient of Determination for train data :  0.998763195049567\n",
      "Coefficient of Determination for test data :  0.9160093419669953\n",
      "Mean Absolute Error :  0.025401794442194408\n",
      "Mean Squared Error :  0.01324457068421408\n",
      "Root Mean Squared Error :  0.1150850584750865\n",
      "R2 Score :  0.9160093419669953\n"
     ]
    }
   ],
   "source": [
    "mae =  mean_absolute_error(Y1_test, Y_dt1)\n",
    "mse = mean_squared_error(Y1_test, Y_dt1)\n",
    "r2score = r2_score(Y1_test, Y_dt1)\n",
    "\n",
    "print(\"Coefficient of Determination for train data : \",dt1.score(X1_train, Y1_train))\n",
    "print(\"Coefficient of Determination for test data : \",dt1.score(X1_test, Y1_test))\n",
    "print(\"Mean Absolute Error : \", mae)\n",
    "print(\"Mean Squared Error : \", mse) \n",
    "print(\"Root Mean Squared Error : \", np.sqrt(mse))\n",
    "print(\"R2 Score : \", r2score) "
   ]
  },
  {
   "cell_type": "markdown",
   "id": "d44f9b66",
   "metadata": {},
   "source": [
    "#### for data_with_area"
   ]
  },
  {
   "cell_type": "code",
   "execution_count": 124,
   "id": "0ae75b76",
   "metadata": {},
   "outputs": [
    {
     "name": "stdout",
     "output_type": "stream",
     "text": [
      "Coefficient of Determination for train data :  0.9992833408296304\n",
      "Coefficient of Determination for test data :  0.827926943996081\n",
      "Mean Absolute Error :  0.04488130149426587\n",
      "Mean Squared Error :  0.026968942774242315\n",
      "Root Mean Squared Error :  0.16422223593119878\n",
      "R2 Score :  0.827926943996081\n"
     ]
    }
   ],
   "source": [
    "mae =  mean_absolute_error(Y2_test, Y_dt2)\n",
    "mse = mean_squared_error(Y2_test, Y_dt2)\n",
    "r2score = r2_score(Y2_test, Y_dt2)\n",
    "\n",
    "\n",
    "print(\"Coefficient of Determination for train data : \",dt2.score(X2_train, Y2_train))\n",
    "print(\"Coefficient of Determination for test data : \",dt2.score(X2_test, Y2_test))\n",
    "print(\"Mean Absolute Error : \", mae)\n",
    "print(\"Mean Squared Error : \", mse) \n",
    "print(\"Root Mean Squared Error : \", np.sqrt(mse))\n",
    "print(\"R2 Score : \", r2score) "
   ]
  },
  {
   "cell_type": "markdown",
   "id": "f069d756",
   "metadata": {},
   "source": [
    "- There are three model has been tranied, Linear regression, Random forest regression and Decision tree regression. In this model best model for prediction is Random forest regression model.so we will be using Random forest regression model.                   \n",
    "- Selected model accuracy is 90% up."
   ]
  },
  {
   "cell_type": "markdown",
   "id": "b473dd07",
   "metadata": {},
   "source": [
    "### Save Model"
   ]
  },
  {
   "cell_type": "code",
   "execution_count": 113,
   "id": "b9fd31cc",
   "metadata": {},
   "outputs": [],
   "source": [
    "import pickle"
   ]
  },
  {
   "cell_type": "code",
   "execution_count": 114,
   "id": "87b0c40f",
   "metadata": {},
   "outputs": [],
   "source": [
    "with open('rate_pred.pkl', 'wb') as file:\n",
    "    pickle.dump(rf1, file)"
   ]
  },
  {
   "cell_type": "code",
   "execution_count": null,
   "id": "761e4043",
   "metadata": {},
   "outputs": [],
   "source": []
  }
 ],
 "metadata": {
  "kernelspec": {
   "display_name": "Python 3.10.1 64-bit",
   "language": "python",
   "name": "python3"
  },
  "language_info": {
   "codemirror_mode": {
    "name": "ipython",
    "version": 3
   },
   "file_extension": ".py",
   "mimetype": "text/x-python",
   "name": "python",
   "nbconvert_exporter": "python",
   "pygments_lexer": "ipython3",
   "version": "3.10.1"
  },
  "vscode": {
   "interpreter": {
    "hash": "8136f4aac9e7911b3675e6600decaf5eec66244d92909d2a4bfe671362b31c42"
   }
  }
 },
 "nbformat": 4,
 "nbformat_minor": 5
}
